{
 "cells": [
  {
   "cell_type": "markdown",
   "source": [
    "### Author: Ally Sprik\n",
    "### Last-updated: 25-02-2024\n",
    "\n",
    "Goal of this notebook is to compare the MAYO validation dataset with the different models that have been created.\n"
   ],
   "metadata": {
    "collapsed": false
   },
   "id": "ad08337a55496418"
  },
  {
   "cell_type": "code",
   "execution_count": null,
   "id": "initial_id",
   "metadata": {
    "collapsed": true
   },
   "outputs": [],
   "source": [
    "import pyAgrum as gum\n",
    "import pyAgrum.lib.notebook as gnb\n",
    "import pandas as pd\n",
    "import numpy as np\n",
    "import matplotlib.pyplot as plt\n",
    "import seaborn as sns\n",
    "\n",
    "origineel_net = gum.loadBN(\"../../0. Source_files/0.4. Original_Casper_files/Results/Casper_fitted_952.net\")\n",
    "Peter_net_woPlat = gum.loadBN(\"../1.3. Model/Fitted_Networks/R_WOP_original_952.net\")\n",
    "WOPlat_MRI = gum.loadBN(\"../1.3. Model/Fitted_Networks/R_WOP_AddMRIMI_fitted_952.net\")\n",
    "WOPlat_TCGA = gum.loadBN(\"../1.3. Model/Fitted_Networks/R_WOP_AddTCGA_1_fitted_952.net\")\n",
    "WOPlat_TCGA_MRI = gum.loadBN(\"../1.3. Model/Fitted_Networks/R_WOP_AddMRIMITCGA_fitted_952.net\")\n",
    "Peter_net_wPlat = gum.loadBN(\"../1.3. Model/Fitted_Networks/R_WP_952.net\")\n",
    "WPlat_all = gum.loadBN(\"../1.3. Model/Fitted_Networks/R_WP_all_952.net\")\n",
    "\n",
    "pd.options.mode.copy_on_write = True  # This will allow the code to run faster and keep Pandas happy. Technical detail: https://pandas.pydata.org/pandas-docs/stable/user_guide/copy_on_write.html#\n"
   ]
  },
  {
   "cell_type": "markdown",
   "source": [
    "Load the data and fix some labels"
   ],
   "metadata": {
    "collapsed": false
   },
   "id": "e2576958a04014"
  },
  {
   "cell_type": "code",
   "execution_count": null,
   "outputs": [],
   "source": [
    "data = pd.read_csv(\"../../0. Source_files/0.2. Cleaned_data/MAYO_cleaned_model.csv\", sep=\",\")\n",
    "data = data.replace({1:\"yes\", 0:\"no\", \"<50%\":\"lt_50\", \">50%\":\"ge_50\", \"No invasion\":\"lt_50\"})"
   ],
   "metadata": {
    "collapsed": false
   },
   "id": "80d7b2ba6676ad00"
  },
  {
   "cell_type": "markdown",
   "source": [
    "Define the evidence"
   ],
   "metadata": {
    "collapsed": false
   },
   "id": "f735bb6f9a9e41de"
  },
  {
   "cell_type": "code",
   "execution_count": null,
   "outputs": [],
   "source": [
    "evidence_columns =  ['CTMRI', 'Platelets', 'CA125', 'PreoperativeGrade',\n",
    "       'Cytology', 'p53', 'L1CAM', 'ER', 'PR', 'POLE', 'MSI', 'Platelets', 'MRI_MI']\n"
   ],
   "metadata": {
    "collapsed": false
   },
   "id": "b599bad150812123"
  },
  {
   "cell_type": "markdown",
   "source": [
    "Drop the rows that do not have target information"
   ],
   "metadata": {
    "collapsed": false
   },
   "id": "3fac1bd80d56e64a"
  },
  {
   "cell_type": "code",
   "execution_count": null,
   "outputs": [],
   "source": [
    "# Drop Na values in LNM and Survival5yr\n",
    "data.dropna(subset=[\"LNM\", \"Survival5yr\"], inplace=True)\n",
    "# reset index\n",
    "data.reset_index(drop=True, inplace=True)"
   ],
   "metadata": {
    "collapsed": false
   },
   "id": "ba5bc487cc5b3981"
  },
  {
   "cell_type": "markdown",
   "source": [
    "Define the targets, and replace the labels"
   ],
   "metadata": {
    "collapsed": false
   },
   "id": "489b163b87762bf9"
  },
  {
   "cell_type": "code",
   "execution_count": null,
   "outputs": [],
   "source": [
    "targets = data[[\"LNM\", \"Survival5yr\"]].copy()\n",
    "#targets = data[[\"LNM\", \"X5YR\"]].copy()\n",
    "targets.replace({\"yes\":1, \"no\":0}, inplace=True)\n",
    "targets.replace({'negative':0, 'positive':1}, inplace=True)\n"
   ],
   "metadata": {
    "collapsed": false
   },
   "id": "d2db12887f0dc8cf"
  },
  {
   "cell_type": "markdown",
   "source": [
    "Create therapy from combination of chemotherapy and radiotherapy\n",
    "\n",
    "Pseudocode:\n",
    "- Create a new column called \"Therapy\"\n",
    "- Change the column to object\n",
    "- Loop through the data\n",
    "    - If chemotherapy is yes and radiotherapy is yes, then therapy is chemoradiotherapy\n",
    "    - If chemotherapy is yes and radiotherapy is no, then therapy is chemotherapy\n",
    "    - If chemotherapy is no and radiotherapy is yes, then therapy is radiotherapy\n",
    "    - If chemotherapy is no and radiotherapy is no, then therapy is no"
   ],
   "metadata": {
    "collapsed": false
   },
   "id": "d714a95f9d2b5e5"
  },
  {
   "cell_type": "code",
   "execution_count": null,
   "outputs": [],
   "source": [
    "data[\"Therapy\"] = np.nan\n",
    "# Change therapy column to object\n",
    "data[\"Therapy\"] = data[\"Therapy\"].astype(\"object\")\n",
    "\n",
    "for i in range(len(data)):\n",
    "    if data[\"Chemotherapy\"][i] == \"yes\" and data[\"Radiotherapy\"][i] == \"yes\":\n",
    "        data.loc[i, \"Therapy\"] = \"chemoradiotherapy\"\n",
    "    elif data[\"Chemotherapy\"][i] == \"yes\" and data[\"Radiotherapy\"][i] == \"no\":\n",
    "        data.loc[i, \"Therapy\"] = \"chemotherapy\"\n",
    "    elif data[\"Chemotherapy\"][i] == \"no\" and data[\"Radiotherapy\"][i] == \"yes\":\n",
    "        data.loc[i, \"Therapy\"] = \"radiotherapy\"\n",
    "    else:\n",
    "        data.loc[i, \"Therapy\"] = \"no\""
   ],
   "metadata": {
    "collapsed": false
   },
   "id": "3070ab362c1c96d1"
  },
  {
   "cell_type": "markdown",
   "source": [
    "Create an evidence dataframe"
   ],
   "metadata": {
    "collapsed": false
   },
   "id": "61d8ae8f1b3eaa33"
  },
  {
   "cell_type": "code",
   "execution_count": null,
   "outputs": [],
   "source": [
    "evidence = data[evidence_columns].copy()"
   ],
   "metadata": {
    "collapsed": false
   },
   "id": "6adbb79d0b0e00ce"
  },
  {
   "cell_type": "markdown",
   "source": [
    "Replace the cytology label"
   ],
   "metadata": {
    "collapsed": false
   },
   "id": "d795225b91e14185"
  },
  {
   "cell_type": "code",
   "execution_count": null,
   "outputs": [],
   "source": [
    "evidence[\"Cytology\"] = evidence[\"Cytology\"].replace({\"yes\":\"malignant\", \"no\":\"benign\"})"
   ],
   "metadata": {
    "collapsed": false
   },
   "id": "25707dbd59fe0853"
  },
  {
   "cell_type": "markdown",
   "source": [
    "Create specific datasets based on the different models"
   ],
   "metadata": {
    "collapsed": false
   },
   "id": "e17b99035ecad170"
  },
  {
   "cell_type": "code",
   "execution_count": null,
   "outputs": [],
   "source": [
    "# Create specific datasets\n",
    "data_or = evidence.copy().drop(columns=['POLE', 'MSI', 'Platelets', 'MRI_MI'])\n",
    "data_noMRI_NoTCGA_noPlat = evidence.copy().drop(columns=['POLE', 'MSI', 'Platelets', 'MRI_MI'])\n",
    "data_noMRI_NoPlat = evidence.copy().drop(columns=['Platelets', 'MRI_MI'])\n",
    "data_NoPlat = evidence.copy().drop(columns=['Platelets'])\n",
    "data_noMRI = evidence.copy().drop(columns=['MRI_MI'])\n",
    "data_noMRI_NoTCGA = evidence.copy().drop(columns=['POLE', 'MSI', 'MRI_MI'])\n",
    "data_noTCGA_NoPlat = evidence.copy().drop(columns=['POLE', 'MSI', 'Platelets'])"
   ],
   "metadata": {
    "collapsed": false
   },
   "id": "7066922a5dfe2aa3"
  },
  {
   "cell_type": "markdown",
   "source": [
    "define a function to loop through the evidence and get the results\n",
    "\n",
    "Pseudocode:\n",
    "- Define getPribabilities function:\n",
    "    - Loop through the evidence\n",
    "        - Get the evidence row\n",
    "        - Get the result for LNM\n",
    "        - Get the result for Survival\n",
    "        - Append the results to a list\n",
    "    - Return the list"
   ],
   "metadata": {
    "collapsed": false
   },
   "id": "f96bff31f6c439bb"
  },
  {
   "cell_type": "code",
   "execution_count": null,
   "outputs": [],
   "source": [
    "# Function to loop through the evidence and get the results\n",
    "def getProbabilities(model,evidence, Surv = \"Survival5yr\"):\n",
    "    resultsLNM = []\n",
    "    resultsSurvival = []\n",
    "\n",
    "    for i in range(len(evidence)):\n",
    "        evidencerow = evidence.iloc[i]\n",
    "        evidencerow = evidencerow.dropna().to_dict()\n",
    "        \n",
    "        try:\n",
    "            result = gum.getPosterior(model, evs = evidencerow, target = \"LNM\")\n",
    "            resultsLNM.append(result)\n",
    "        except Exception as error:\n",
    "            print(\"Error at row, regarding LNM\", i)\n",
    "            print(error)\n",
    "        \n",
    "        try:\n",
    "            result = gum.getPosterior(model, evs = evidencerow, target = Surv)\n",
    "            resultsSurvival.append(result)\n",
    "        except Exception as error:\n",
    "            print(\"Error at row, regarding Survival\", i)\n",
    "            print(error)\n",
    "            \n",
    "    print(\"length of resultsLNM\", len(resultsLNM)), print(\"length of resultsSurvival\", len(resultsSurvival))        \n",
    "    return resultsLNM, resultsSurvival"
   ],
   "metadata": {
    "collapsed": false
   },
   "id": "3382f6861cfb3fb2"
  },
  {
   "cell_type": "markdown",
   "source": [
    "Get the results for the networks"
   ],
   "metadata": {
    "collapsed": false
   },
   "id": "920583c5cf8a14a7"
  },
  {
   "cell_type": "code",
   "execution_count": null,
   "outputs": [],
   "source": [
    "# Get the results for the original network\n",
    "print(\"Started 1\")\n",
    "\n",
    "org_LNM_res, org_Surv_res = getProbabilities(origineel_net, data_or)\n",
    "\n",
    "print(\"Started 2\")\n",
    "noPlat_noRest_LNM, noPlat_noRest_Surv = getProbabilities(Peter_net_woPlat, data_noMRI_NoTCGA_noPlat)\n",
    "\n",
    "print(\"Started 3\")\n",
    "noPlat_MRI_LNM, noPlat_MRI_Surv = getProbabilities(WOPlat_MRI, data_noTCGA_NoPlat)\n",
    "\n",
    "print(\"Started 4\")\n",
    "noPlat_TCGA_LNM, noPlat_TCGA_Surv = getProbabilities(WOPlat_TCGA, data_noMRI_NoPlat)\n",
    "\n",
    "print(\"Started 5\")\n",
    "noPlat_TCGA_MRI_LNM, noPlat_TCGA_MRI_Surv = getProbabilities(WOPlat_TCGA_MRI, data_NoPlat)\n",
    "\n",
    "print(\"Started 6\")\n",
    "Plat_noRest_LNM, Plat_noRest_Surv = getProbabilities(Peter_net_wPlat, data_noMRI_NoTCGA)\n",
    "\n",
    "print(\"Started 7\")\n",
    "Plat_all_LNM, Plat_all_Surv = getProbabilities(WPlat_all, evidence)\n"
   ],
   "metadata": {
    "collapsed": false
   },
   "id": "946cdb354ee337c7"
  },
  {
   "cell_type": "markdown",
   "source": [
    "Define functions to retrieve the results"
   ],
   "metadata": {
    "collapsed": false
   },
   "id": "4c4c55311382fc3f"
  },
  {
   "cell_type": "code",
   "execution_count": null,
   "outputs": [],
   "source": [
    "def getProbResults(results, target):\n",
    "    res = []\n",
    "    \n",
    "    for i in range(len(results)):\n",
    "        res.append(results[i][target])\n",
    "    return pd.DataFrame(res)"
   ],
   "metadata": {
    "collapsed": false
   },
   "id": "3e3ee9f89b4a2fe3"
  },
  {
   "cell_type": "markdown",
   "source": [
    "Get the probabilities"
   ],
   "metadata": {
    "collapsed": false
   },
   "id": "137940c086a0c44d"
  },
  {
   "cell_type": "code",
   "execution_count": null,
   "outputs": [],
   "source": [
    "org_LNM_res_prob = getProbResults(org_LNM_res, 1)\n",
    "org_Surv_res_prob = getProbResults(org_Surv_res, 1)\n",
    "\n",
    "noPlat_noRest_LNM_prob = getProbResults(noPlat_noRest_LNM, 1)\n",
    "noPlat_noRest_Surv_prob = getProbResults(noPlat_noRest_Surv, 1)\n",
    "\n",
    "noPlat_MRI_LNM_prob = getProbResults(noPlat_MRI_LNM, 1)\n",
    "noPlat_MRI_Surv_prob = getProbResults(noPlat_MRI_Surv, 1)\n",
    "\n",
    "noPlat_TCGA_LNM_prob = getProbResults(noPlat_TCGA_LNM, 1)\n",
    "noPlat_TCGA_Surv_prob = getProbResults(noPlat_TCGA_Surv, 1)\n",
    "\n",
    "noPlat_TCGA_MRI_LNM_prob = getProbResults(noPlat_TCGA_MRI_LNM, 1)\n",
    "noPlat_TCGA_MRI_Surv_prob = getProbResults(noPlat_TCGA_MRI_Surv, 1)\n",
    "\n",
    "Plat_noRest_LNM_prob = getProbResults(Plat_noRest_LNM, 1)\n",
    "Plat_noRest_Surv_prob = getProbResults(Plat_noRest_Surv, 1)\n",
    "\n",
    "Plat_all_LNM_prob = getProbResults(Plat_all_LNM, 1)\n",
    "Plat_all_Surv_prob = getProbResults(Plat_all_Surv, 1)\n"
   ],
   "metadata": {
    "collapsed": false
   },
   "id": "8e5a593aabb546ba"
  },
  {
   "cell_type": "markdown",
   "source": [
    "Define the metric functions\n",
    "\n",
    "Pseudocode:\n",
    "- Define getMetrics function:\n",
    "    - Get the confusion matrix\n",
    "    - Get the accuracy\n",
    "    - Get the ROC AUC\n",
    "    - Get the precision\n",
    "    - Get the recall\n",
    "    - Get the specificity\n",
    "    - Get the F1 score\n",
    "    - Get the Brier score\n",
    "    - Get the log loss\n",
    "    - Return the metrics\n",
    "- Define getSlimMetrics function:\n",
    "    - Get the ROC AUC\n",
    "    - Get the Log Loss\n",
    "    - Get the Brier score\n",
    "    - Get the N Predicted/N Observed\n",
    "    - Get the Ratio\n",
    "    - Return the metrics"
   ],
   "metadata": {
    "collapsed": false
   },
   "id": "bc423b7af7f1748b"
  },
  {
   "cell_type": "code",
   "execution_count": null,
   "outputs": [],
   "source": [
    "from sklearn.metrics import roc_curve\n",
    "# Find the accuracy, roc auc, precision and recall for the results and the targets data\n",
    "from sklearn.metrics import accuracy_score, roc_auc_score, precision_score, recall_score, confusion_matrix, log_loss, brier_score_loss\n",
    "\n",
    "def getMetrics(results, targets):\n",
    "    TP = confusion_matrix(targets, results)[1][1]\n",
    "    TN = confusion_matrix(targets, results)[0][0]\n",
    "    FP = confusion_matrix(targets, results)[0][1]\n",
    "    FN = confusion_matrix(targets, results)[1][0]\n",
    "    \n",
    "    accuracy = accuracy_score(targets, results)\n",
    "    roc_auc = roc_auc_score(targets, results)\n",
    "    precision = precision_score(targets, results)\n",
    "    TPR = recall_score(targets, results)\n",
    "    TNR = TN / (TN + FP)\n",
    "    \n",
    "    f1 = 2 * (precision * TPR) / (precision + TPR)\n",
    "    brier = brier_score_loss(targets, results)\n",
    "    loglike = log_loss(targets, results)\n",
    "    \n",
    "    x = pd.DataFrame([accuracy, roc_auc, precision, TPR,TNR, f1, brier, loglike], index=[\"Accuracy\", \"ROC AUC\", \"Precision (PPV)\", \"TPR (Recall/Sens)\",\"TNR (Spec)\", \"F1\", \"Brier\", \"Log Loss\"])\n",
    "    return x\n",
    "\n",
    "def getSlimMetrics(results, targets):\n",
    "    \n",
    "    if not len(results) == len(targets):\n",
    "        raise Exception('Results and targets are not the same length. Results:', len(results), ' Targets:', len(targets))\n",
    "    \n",
    "    # Get ROC AUC, Log Loss, Brier, and N Predicted/N Observed\n",
    "    curve = roc_curve(targets, results, pos_label=1)\n",
    "    ROC = round(roc_auc_score(targets, results), 4)\n",
    "    LL = round(log_loss(targets, results), 4)\n",
    "    Brier = round(brier_score_loss(targets, results), 4)\n",
    "    N_pred = results.sum()[0]\n",
    "    N_obs = int(targets.sum())\n",
    "    N_br = f\"{int(N_pred)}/{int(N_obs)}\"\n",
    "    Ratio = round(N_pred/N_obs, 4)\n",
    "    \n",
    "    x = pd.DataFrame([ROC, LL, Brier, N_br, Ratio], index=[\"ROC AUC\", \"Log Loss\", \"Brier\", \"N Predicted/N Observed\", \"Ratio\"])\n",
    "    return x\n"
   ],
   "metadata": {
    "collapsed": false
   },
   "id": "7d81f55d4a9a2001"
  },
  {
   "cell_type": "markdown",
   "source": [
    "Get the metrics for the networks"
   ],
   "metadata": {
    "collapsed": false
   },
   "id": "8d45965acea12b36"
  },
  {
   "cell_type": "code",
   "execution_count": null,
   "outputs": [],
   "source": [
    "# Get slim metrics\n",
    "# Get the metrics for the original network\n",
    "\n",
    "targetSurv = \"Survival5yr\"\n",
    "print(\"Started 1\")\n",
    "org_LNM_metrics = getSlimMetrics(org_LNM_res_prob, targets[\"LNM\"])\n",
    "org_Surv_metrics = getSlimMetrics(org_Surv_res_prob, targets[targetSurv])\n",
    "\n",
    "print(\"Started 2\")\n",
    "woPlat_noRest_LNM_metrics = getSlimMetrics(noPlat_noRest_LNM_prob, targets[\"LNM\"])\n",
    "woPlat_noRest_Surv_metrics = getSlimMetrics(noPlat_noRest_Surv_prob, targets[targetSurv])\n",
    "\n",
    "print(\"Started 3\")\n",
    "woPlat_MRI_LNM_metrics = getSlimMetrics(noPlat_MRI_LNM_prob, targets[\"LNM\"])\n",
    "woPlat_MRI_Surv_metrics = getSlimMetrics(noPlat_MRI_Surv_prob, targets[targetSurv])\n",
    "\n",
    "print(\"Started 4\")\n",
    "woPlat_TCGA_LNM_metrics = getSlimMetrics(noPlat_TCGA_LNM_prob, targets[\"LNM\"])\n",
    "woPlat_TCGA_Surv_metrics = getSlimMetrics(noPlat_TCGA_Surv_prob, targets[targetSurv])\n",
    "\n",
    "print(\"Started 5\")\n",
    "woPlat_TCGA_MRI_LNM_metrics = getSlimMetrics(noPlat_TCGA_MRI_LNM_prob, targets[\"LNM\"])\n",
    "woPlat_TCGA_MRI_Surv_metrics = getSlimMetrics(noPlat_TCGA_MRI_Surv_prob, targets[targetSurv])\n",
    "\n",
    "print(\"Started 6\")\n",
    "Plat_noRest_LNM_metrics = getSlimMetrics(Plat_noRest_LNM_prob, targets[\"LNM\"])\n",
    "Plat_noRest_Surv_metrics = getSlimMetrics(Plat_noRest_Surv_prob, targets[targetSurv])\n",
    "\n",
    "print(\"Started 7\")\n",
    "Plat_all_LNM_metrics = getSlimMetrics(Plat_all_LNM_prob, targets[\"LNM\"])\n",
    "Plat_all_Surv_metrics = getSlimMetrics(Plat_all_Surv_prob, targets[targetSurv])\n"
   ],
   "metadata": {
    "collapsed": false
   },
   "id": "fa10d0c08dfe33ef"
  },
  {
   "cell_type": "markdown",
   "source": [
    "Concatenate the metrics to compare between the models LNM"
   ],
   "metadata": {
    "collapsed": false
   },
   "id": "1b082447c9df5f19"
  },
  {
   "cell_type": "code",
   "execution_count": null,
   "outputs": [],
   "source": [
    "LNM_metrics = pd.concat([org_LNM_metrics,\n",
    "                         woPlat_noRest_LNM_metrics, woPlat_MRI_LNM_metrics, woPlat_TCGA_LNM_metrics, woPlat_TCGA_MRI_LNM_metrics, Plat_noRest_LNM_metrics, Plat_all_LNM_metrics], axis=1)\n",
    "\n",
    "LNM_metrics.columns = [\"Origineel Netwerk\",\n",
    "                       \"-Plat -TCGA -MRI\", \"-Plat -TCGA +MRI\", \"-Plat +TCGA -MRI\", \"-Plat +TCGA +MRI\", \"+Plat -TCGA -MRI\", \"+Plat +TCGA +MRI\"]\n",
    "LNM_metrics\n"
   ],
   "metadata": {
    "collapsed": false
   },
   "id": "e6fa07b5a6fbc5d5"
  },
  {
   "cell_type": "markdown",
   "source": [
    "Concatenate the metrics to between compare the models Survival"
   ],
   "metadata": {
    "collapsed": false
   },
   "id": "575085f878babec"
  },
  {
   "cell_type": "code",
   "execution_count": null,
   "outputs": [],
   "source": [
    "Surv_metrics = pd.concat([org_Surv_metrics, #inter_Surv_metrics, \n",
    "                          woPlat_noRest_Surv_metrics, woPlat_MRI_Surv_metrics, woPlat_TCGA_Surv_metrics, woPlat_TCGA_MRI_Surv_metrics, Plat_noRest_Surv_metrics, Plat_all_Surv_metrics], axis=1)\n",
    "Surv_metrics = Surv_metrics.round(3)\n",
    "Surv_metrics.columns = [\"Origineel Netwerk\", #\"Endomcancer3\", \n",
    "                        \"-Plat -TCGA -MRI\", \"-Plat -TCGA +MRI\", \"-Plat +TCGA -MRI\", \"-Plat +TCGA +MRI\", \"+Plat -TCGA -MRI\", \"+Plat +TCGA +MRI\"]\n",
    "Surv_metrics"
   ],
   "metadata": {
    "collapsed": false
   },
   "id": "e5c68f2a21592edc"
  },
  {
   "cell_type": "markdown",
   "source": [
    "Plot the ROC curves"
   ],
   "metadata": {
    "collapsed": false
   },
   "id": "c9e03dd005c4d114"
  },
  {
   "cell_type": "code",
   "execution_count": null,
   "outputs": [],
   "source": [
    "from matplotlib_inline.backend_inline import set_matplotlib_formats\n",
    "import matplotlib.pyplot as plt\n",
    "import seaborn as sns\n",
    "\n",
    "# Set the style\n",
    "sns.set_style(\"whitegrid\")\n",
    "# Set the output as png\n",
    "set_matplotlib_formats('png', 'pdf')\n",
    "plt.rcParams['figure.dpi'] = 150\n",
    "\n",
    "# plot all the ROC curves in one plot (LNM and Survival seperate)\n",
    "fig, ax = plt.subplots(1,2, figsize=(15,5))\n",
    "\n",
    "fig.suptitle(\"ROC Curves\", fontsize=16)\n",
    "\n",
    "# LNM\n",
    "ax[0].plot([0, 1], [0, 1], linestyle='--', lw=2, color='r', alpha=.8)\n",
    "\n",
    "fpr, tpr, _ = roc_curve(targets[\"LNM\"], org_LNM_res_prob, pos_label=1)\n",
    "ax[0].plot(fpr, tpr, label='Origineel Netwerk (area = %0.2f)' % roc_auc_score(targets[\"LNM\"], org_LNM_res_prob))\n",
    "\n",
    "fpr, tpr, _ = roc_curve(targets[\"LNM\"], noPlat_noRest_LNM_prob, pos_label=1)\n",
    "ax[0].plot(fpr, tpr, label='-Plat -TCGA -MRI (area = %0.2f)' % roc_auc_score(targets[\"LNM\"], noPlat_noRest_LNM_prob))\n",
    "\n",
    "fpr, tpr, _ = roc_curve(targets[\"LNM\"], noPlat_MRI_LNM_prob, pos_label=1)\n",
    "ax[0].plot(fpr, tpr, label='-Plat -TCGA +MRI (area = %0.2f)' % roc_auc_score(targets[\"LNM\"], noPlat_MRI_LNM_prob))\n",
    "\n",
    "fpr, tpr, _ = roc_curve(targets[\"LNM\"], noPlat_TCGA_LNM_prob, pos_label=1)\n",
    "ax[0].plot(fpr, tpr, label='-Plat +TCGA -MRI (area = %0.2f)' % roc_auc_score(targets[\"LNM\"], noPlat_TCGA_LNM_prob))\n",
    "\n",
    "fpr, tpr, _ = roc_curve(targets[\"LNM\"], noPlat_TCGA_MRI_LNM_prob, pos_label=1)\n",
    "ax[0].plot(fpr, tpr, label='-Plat +TCGA +MRI (area = %0.2f)' % roc_auc_score(targets[\"LNM\"], noPlat_TCGA_MRI_LNM_prob))\n",
    "\n",
    "fpr, tpr, _ = roc_curve(targets[\"LNM\"], Plat_noRest_LNM_prob, pos_label=1)\n",
    "ax[0].plot(fpr, tpr, label='+Plat -TCGA -MRI (area = %0.2f)' % roc_auc_score(targets[\"LNM\"], Plat_noRest_LNM_prob))\n",
    "\n",
    "fpr, tpr, _ = roc_curve(targets[\"LNM\"], Plat_all_LNM_prob, pos_label=1)\n",
    "ax[0].plot(fpr, tpr, label='+Plat +TCGA +MRI (area = %0.2f)' % roc_auc_score(targets[\"LNM\"], Plat_all_LNM_prob))\n",
    "\n",
    "ax[0].title.set_text(\"LNM\")\n",
    "ax[0].legend(loc=\"lower right\")\n",
    "# Print AUC in the plot\n",
    "    \n",
    "# Survival\n",
    "ax[1].plot([0, 1], [0, 1], linestyle='--', lw=2, color='r', alpha=.8)\n",
    "\n",
    "fpr, tpr, _ = roc_curve(targets[targetSurv], org_Surv_res_prob, pos_label=1)\n",
    "ax[1].plot(fpr, tpr, label='Origineel Netwerk (area = %0.2f)' % roc_auc_score(targets[targetSurv], org_Surv_res_prob))\n",
    "\n",
    "fpr, tpr, _ = roc_curve(targets[targetSurv], noPlat_noRest_Surv_prob, pos_label=1)\n",
    "ax[1].plot(fpr, tpr, label='-Plat -TCGA -MRI (area = %0.2f)' % roc_auc_score(targets[targetSurv], noPlat_noRest_Surv_prob))\n",
    "\n",
    "fpr, tpr, _ = roc_curve(targets[targetSurv], noPlat_MRI_Surv_prob, pos_label=1)\n",
    "ax[1].plot(fpr, tpr, label='-Plat -TCGA +MRI (area = %0.2f)' % roc_auc_score(targets[targetSurv], noPlat_MRI_Surv_prob))\n",
    "\n",
    "fpr, tpr, _ = roc_curve(targets[targetSurv], noPlat_TCGA_Surv_prob, pos_label=1)\n",
    "ax[1].plot(fpr, tpr, label='-Plat +TCGA -MRI (area = %0.2f)' % roc_auc_score(targets[targetSurv], noPlat_TCGA_Surv_prob))\n",
    "\n",
    "fpr, tpr, _ = roc_curve(targets[targetSurv], noPlat_TCGA_MRI_Surv_prob, pos_label=1)\n",
    "ax[1].plot(fpr, tpr, label='-Plat +TCGA +MRI (area = %0.2f)' % roc_auc_score(targets[targetSurv], noPlat_TCGA_MRI_Surv_prob))\n",
    "\n",
    "fpr, tpr, _ = roc_curve(targets[targetSurv], Plat_noRest_Surv_prob, pos_label=1)\n",
    "ax[1].plot(fpr, tpr, label='+Plat -TCGA -MRI (area = %0.2f)' % roc_auc_score(targets[targetSurv], Plat_noRest_Surv_prob))\n",
    "\n",
    "fpr, tpr, _ = roc_curve(targets[targetSurv], Plat_all_Surv_prob, pos_label=1)\n",
    "ax[1].plot(fpr, tpr, label='+Plat +TCGA +MRI (area = %0.2f)' % roc_auc_score(targets[targetSurv], Plat_all_Surv_prob))\n",
    "\n",
    "ax[1].title.set_text(\"Survival\")\n",
    "ax[1].legend(loc=\"lower right\")\n"
   ],
   "metadata": {
    "collapsed": false
   },
   "id": "d80470111b70d314"
  },
  {
   "cell_type": "markdown",
   "source": [
    "Define a function to get the results based on a range of thresholds for the probability"
   ],
   "metadata": {
    "collapsed": false
   },
   "id": "6510f10a6854c4f5"
  },
  {
   "cell_type": "code",
   "execution_count": null,
   "outputs": [],
   "source": [
    "def getRangeResults(probResults):\n",
    "    # Define thresholds\n",
    "    thresholds = [0.05, 0.10, 0.20, 0.30, 0.40, 0.50, 0.60 ,0.70, 0.80, 0.90]\n",
    "    # Create empty list\n",
    "    rows = len(probResults)\n",
    "\n",
    "    cols = len(thresholds)\n",
    "    \n",
    "    res = [[0 for i in range(cols)] for j in range(rows)]\n",
    "    \n",
    "    for i in range(len(probResults)):\n",
    "        for j in range(len(thresholds)):\n",
    "            if probResults[0][i] > thresholds[j]:\n",
    "                res[i][j] = 1\n",
    "            else:\n",
    "                res[i][j] = 0\n",
    "                \n",
    "    df = pd.DataFrame(res, columns=thresholds)\n",
    "    \n",
    "    return df\n"
   ],
   "metadata": {
    "collapsed": false
   },
   "id": "8cc997deffcefd6b"
  },
  {
   "cell_type": "markdown",
   "source": [
    "Get the threshold range results"
   ],
   "metadata": {
    "collapsed": false
   },
   "id": "85397406f37c95b8"
  },
  {
   "cell_type": "code",
   "execution_count": null,
   "outputs": [],
   "source": [
    "# Get the results for the original network\n",
    "org_LNM_res_range = getRangeResults(org_LNM_res_prob)\n",
    "org_Surv_res_range = getRangeResults(org_Surv_res_prob)\n",
    "\n",
    "noPlat_noRest_LNM_range = getRangeResults(noPlat_noRest_LNM_prob)\n",
    "noPlat_noRest_Surv_range = getRangeResults(noPlat_noRest_Surv_prob)\n",
    "\n",
    "noPlat_MRI_LNM_range = getRangeResults(noPlat_MRI_LNM_prob)\n",
    "noPlat_MRI_Surv_range = getRangeResults(noPlat_MRI_Surv_prob)\n",
    "\n",
    "noPlat_TCGA_LNM_range = getRangeResults(noPlat_TCGA_LNM_prob)\n",
    "noPlat_TCGA_Surv_range = getRangeResults(noPlat_TCGA_Surv_prob)\n",
    "\n",
    "noPlat_TCGA_MRI_LNM_range = getRangeResults(noPlat_TCGA_MRI_LNM_prob)\n",
    "noPlat_TCGA_MRI_Surv_range = getRangeResults(noPlat_TCGA_MRI_Surv_prob)\n",
    "\n",
    "Plat_noRest_LNM_range = getRangeResults(Plat_noRest_LNM_prob)\n",
    "Plat_noRest_Surv_range = getRangeResults(Plat_noRest_Surv_prob)\n",
    "\n",
    "Plat_all_LNM_range = getRangeResults(Plat_all_LNM_prob)\n",
    "Plat_all_Surv_range = getRangeResults(Plat_all_Surv_prob)"
   ],
   "metadata": {
    "collapsed": false
   },
   "id": "65568abcbfce06dc"
  },
  {
   "cell_type": "markdown",
   "source": [
    "Define a function to make a 3d matrix of metrics for each threshold"
   ],
   "metadata": {
    "collapsed": false
   },
   "id": "2c8875b6106f2585"
  },
  {
   "cell_type": "code",
   "execution_count": null,
   "outputs": [],
   "source": [
    "# Create a function to make a 3d matrix of metrics for each threshold\n",
    "def getMetricsRange(results, targets):\n",
    "    # Define thresholds\n",
    "    thresholds = [0.05, 0.10, 0.20, 0.30, 0.40, 0.50, 0.60 ,0.70, 0.80, 0.90]\n",
    "    # Create empty list\n",
    "    metrics = []\n",
    "    # Metricnames\n",
    "    metricnames = [\"Accuracy\", \"Precision (PPV)\", \"TPR (Recall/Sens)\",\"TNR (Spec)\", \"F1\", \"Brier\", \"Log Loss\"]\n",
    "    \n",
    "    for threshold in thresholds:\n",
    "        res = results[threshold].values\n",
    "        \n",
    "        metrics.append(round(getMetrics(res, targets).loc[metricnames],3))\n",
    "    \n",
    "    metrics = pd.concat(metrics, axis=1)\n",
    "    metrics.columns = thresholds\n",
    "    return metrics"
   ],
   "metadata": {
    "collapsed": false
   },
   "id": "c39cd1e582982926"
  },
  {
   "cell_type": "markdown",
   "source": [
    "Get the metrics for each of the cutoff points\n",
    "Note: it is possible that you will get an 'ill-defined' error, this is because at certain thresholds one label can be completely absent."
   ],
   "metadata": {
    "collapsed": false
   },
   "id": "75debe9168ffe804"
  },
  {
   "cell_type": "code",
   "execution_count": null,
   "outputs": [],
   "source": [
    "# Get the metrics for each of the cutoff points\n",
    "# Get the metrics for the original network\n",
    "org_LNM_metrics_range = getMetricsRange(org_LNM_res_range, targets[\"LNM\"])\n",
    "org_Surv_metrics_range = getMetricsRange(org_Surv_res_range, targets[targetSurv])\n",
    "\n",
    "noPlat_noRest_LNM_metrics_range = getMetricsRange(noPlat_noRest_LNM_range, targets[\"LNM\"])\n",
    "noPlat_noRest_Surv_metrics_range = getMetricsRange(noPlat_noRest_Surv_range, targets[targetSurv])\n",
    "\n",
    "noPlat_MRI_LNM_metrics_range = getMetricsRange(noPlat_MRI_LNM_range, targets[\"LNM\"])\n",
    "noPlat_MRI_Surv_metrics_range = getMetricsRange(noPlat_MRI_Surv_range, targets[targetSurv])\n",
    "\n",
    "noPlat_TCGA_LNM_metrics_range = getMetricsRange(noPlat_TCGA_LNM_range, targets[\"LNM\"])\n",
    "noPlat_TCGA_Surv_metrics_range = getMetricsRange(noPlat_TCGA_Surv_range, targets[targetSurv])\n",
    "\n",
    "noPlat_TCGA_MRI_LNM_metrics_range = getMetricsRange(noPlat_TCGA_MRI_LNM_range, targets[\"LNM\"])\n",
    "noPlat_TCGA_MRI_Surv_metrics_range = getMetricsRange(noPlat_TCGA_MRI_Surv_range, targets[targetSurv])\n",
    "\n",
    "Plat_noRest_LNM_metrics_range = getMetricsRange(Plat_noRest_LNM_range, targets[\"LNM\"])\n",
    "Plat_noRest_Surv_metrics_range = getMetricsRange(Plat_noRest_Surv_range, targets[targetSurv])\n",
    "\n",
    "Plat_all_LNM_metrics_range = getMetricsRange(Plat_all_LNM_range, targets[\"LNM\"])\n",
    "Plat_all_Surv_metrics_range = getMetricsRange(Plat_all_Surv_range, targets[targetSurv])"
   ],
   "metadata": {
    "collapsed": false
   },
   "id": "bb7f03dc7d8c6a0e"
  },
  {
   "cell_type": "markdown",
   "source": [
    "Plot the recall vs precision for each model"
   ],
   "metadata": {
    "collapsed": false
   },
   "id": "79050e45efdf4a82"
  },
  {
   "cell_type": "code",
   "execution_count": null,
   "outputs": [],
   "source": [
    "# Recall vs Precision\n",
    "# LNM\n",
    "fig, ax = plt.subplots(1,1, figsize=(15,5))\n",
    "\n",
    "fig.suptitle(\"LNM Recall vs Precision per Model\", fontsize=16)\n",
    "\n",
    "ax.plot(org_LNM_metrics_range.loc[\"TPR (Recall/Sens)\"], org_LNM_metrics_range.loc[\"Precision (PPV)\"], label=\"Origineel Netwerk\")\n",
    "#ax.plot(inter_LNM_metrics_range.loc[\"TPR (Recall/Sens)\"], inter_LNM_metrics_range.loc[\"Precision (PPV)\"], label=\"Endomcancer3\")\n",
    "ax.plot(noPlat_noRest_LNM_metrics_range.loc[\"TPR (Recall/Sens)\"], noPlat_noRest_LNM_metrics_range.loc[\"Precision (PPV)\"], label=\"-Plat -TCGA -MRI\")\n",
    "ax.plot(noPlat_MRI_LNM_metrics_range.loc[\"TPR (Recall/Sens)\"], noPlat_MRI_LNM_metrics_range.loc[\"Precision (PPV)\"], label=\"-Plat -TCGA +MRI\")\n",
    "ax.plot(noPlat_TCGA_LNM_metrics_range.loc[\"TPR (Recall/Sens)\"], noPlat_TCGA_LNM_metrics_range.loc[\"Precision (PPV)\"], label=\"-Plat +TCGA -MRI\")\n",
    "ax.plot(noPlat_TCGA_MRI_LNM_metrics_range.loc[\"TPR (Recall/Sens)\"], noPlat_TCGA_MRI_LNM_metrics_range.loc[\"Precision (PPV)\"], label=\"-Plat +TCGA +MRI\")\n",
    "ax.plot(Plat_noRest_LNM_metrics_range.loc[\"TPR (Recall/Sens)\"], Plat_noRest_LNM_metrics_range.loc[\"Precision (PPV)\"], label=\"+Plat -TCGA -MRI\")\n",
    "ax.plot(Plat_all_LNM_metrics_range.loc[\"TPR (Recall/Sens)\"], Plat_all_LNM_metrics_range.loc[\"Precision (PPV)\"], label=\"+Plat +TCGA +MRI\")\n",
    "\n",
    "ax.legend(loc=\"upper right\")\n",
    "ax.set_xlabel(\"Recall\")\n",
    "ax.set_ylabel(\"Precision\")\n",
    "\n",
    "# Survival\n",
    "fig, ax = plt.subplots(1,1, figsize=(15,5))\n",
    "\n",
    "fig.suptitle(\"Survival Recall vs Precision per Model\", fontsize=16)\n",
    "    \n",
    "ax.plot(org_Surv_metrics_range.loc[\"TPR (Recall/Sens)\"], org_Surv_metrics_range.loc[\"Precision (PPV)\"], label=\"Origineel Netwerk\")\n",
    "#ax.plot(inter_Surv_metrics_range.loc[\"TPR (Recall/Sens)\"], inter_Surv_metrics_range.loc[\"Precision (PPV)\"], label=\"Endomcancer3\")\n",
    "ax.plot(noPlat_noRest_Surv_metrics_range.loc[\"TPR (Recall/Sens)\"], noPlat_noRest_Surv_metrics_range.loc[\"Precision (PPV)\"], label=\"-Plat -TCGA -MRI\")\n",
    "ax.plot(noPlat_MRI_Surv_metrics_range.loc[\"TPR (Recall/Sens)\"], noPlat_MRI_Surv_metrics_range.loc[\"Precision (PPV)\"], label=\"-Plat -TCGA +MRI\")\n",
    "ax.plot(noPlat_TCGA_Surv_metrics_range.loc[\"TPR (Recall/Sens)\"], noPlat_TCGA_Surv_metrics_range.loc[\"Precision (PPV)\"], label=\"-Plat +TCGA -MRI\")\n",
    "ax.plot(noPlat_TCGA_MRI_Surv_metrics_range.loc[\"TPR (Recall/Sens)\"], noPlat_TCGA_MRI_Surv_metrics_range.loc[\"Precision (PPV)\"], label=\"-Plat +TCGA +MRI\")\n",
    "ax.plot(Plat_noRest_Surv_metrics_range.loc[\"TPR (Recall/Sens)\"], Plat_noRest_Surv_metrics_range.loc[\"Precision (PPV)\"], label=\"+Plat -TCGA -MRI\")\n",
    "ax.plot(Plat_all_Surv_metrics_range.loc[\"TPR (Recall/Sens)\"], Plat_all_Surv_metrics_range.loc[\"Precision (PPV)\"], label=\"+Plat +TCGA +MRI\")\n",
    "\n",
    "ax.legend(loc=\"upper right\")\n",
    "ax.set_xlabel(\"Recall\")\n",
    "ax.set_ylabel(\"Precision\")\n"
   ],
   "metadata": {
    "collapsed": false
   },
   "id": "c3c868f5aab9a1ad"
  },
  {
   "cell_type": "markdown",
   "source": [
    "Plot the recall vs threshold for each model"
   ],
   "metadata": {
    "collapsed": false
   },
   "id": "7babcb85de877716"
  },
  {
   "cell_type": "code",
   "execution_count": null,
   "outputs": [],
   "source": [
    "# Recall\n",
    "# LNM\n",
    "fig, ax = plt.subplots(1,1, figsize=(15,5))\n",
    "\n",
    "fig.suptitle(\"LNM Recall per Threshold per Model\", fontsize=16)\n",
    "\n",
    "ax.plot(org_LNM_metrics_range.loc[\"TPR (Recall/Sens)\"], label=\"Origineel Netwerk\")\n",
    "#ax.plot(inter_LNM_metrics_range.loc[\"TPR (Recall/Sens)\"], label=\"Endomcancer3\")\n",
    "ax.plot(noPlat_noRest_LNM_metrics_range.loc[\"TPR (Recall/Sens)\"], label=\"-Plat -TCGA -MRI\")\n",
    "ax.plot(noPlat_MRI_LNM_metrics_range.loc[\"TPR (Recall/Sens)\"], label=\"-Plat -TCGA +MRI\")\n",
    "ax.plot(noPlat_TCGA_LNM_metrics_range.loc[\"TPR (Recall/Sens)\"], label=\"-Plat +TCGA -MRI\")\n",
    "ax.plot(noPlat_TCGA_MRI_LNM_metrics_range.loc[\"TPR (Recall/Sens)\"], label=\"-Plat +TCGA +MRI\")\n",
    "ax.plot(Plat_noRest_LNM_metrics_range.loc[\"TPR (Recall/Sens)\"], label=\"+Plat -TCGA -MRI\")\n",
    "ax.plot(Plat_all_LNM_metrics_range.loc[\"TPR (Recall/Sens)\"], label=\"+Plat +TCGA +MRI\")\n",
    "\n",
    "ax.legend(loc=\"upper right\")\n",
    "ax.set_xlabel(\"Threshold\")\n",
    "ax.set_ylabel(\"Recall\")\n",
    "ax.set_xticks([0.05, 0.10, 0.20, 0.30, 0.40, 0.50, 0.60 ,0.70, 0.80, 0.90])\n",
    "ax.set_xticklabels([0.05, 0.10, 0.20, 0.30, 0.40, 0.50, 0.60 ,0.70, 0.80, 0.90])\n",
    "\n",
    "# Survival\n",
    "fig, ax = plt.subplots(1,1, figsize=(15,5))\n",
    "\n",
    "fig.suptitle(\"Survival Recall per Threshold per Model\", fontsize=16)\n",
    "\n",
    "ax.plot(org_Surv_metrics_range.loc[\"TPR (Recall/Sens)\"], label=\"Origineel Netwerk\")\n",
    "#ax.plot(inter_Surv_metrics_range.loc[\"TPR (Recall/Sens)\"], label=\"Endomcancer3\")\n",
    "ax.plot(noPlat_noRest_Surv_metrics_range.loc[\"TPR (Recall/Sens)\"], label=\"-Plat -TCGA -MRI\")\n",
    "ax.plot(noPlat_MRI_Surv_metrics_range.loc[\"TPR (Recall/Sens)\"], label=\"-Plat -TCGA +MRI\")\n",
    "ax.plot(noPlat_TCGA_Surv_metrics_range.loc[\"TPR (Recall/Sens)\"], label=\"-Plat +TCGA -MRI\")\n",
    "ax.plot(noPlat_TCGA_MRI_Surv_metrics_range.loc[\"TPR (Recall/Sens)\"], label=\"-Plat +TCGA +MRI\")\n",
    "ax.plot(Plat_noRest_Surv_metrics_range.loc[\"TPR (Recall/Sens)\"], label=\"+Plat -TCGA -MRI\")\n",
    "ax.plot(Plat_all_Surv_metrics_range.loc[\"TPR (Recall/Sens)\"], label=\"+Plat +TCGA +MRI\")\n",
    "\n",
    "ax.legend(loc=\"lower left\")\n",
    "ax.set_xlabel(\"Threshold\")\n",
    "ax.set_ylabel(\"Recall\")\n",
    "ax.set_xticks([0.05, 0.10, 0.20, 0.30, 0.40, 0.50, 0.60 ,0.70, 0.80, 0.90])\n",
    "ax.set_xticklabels([0.05, 0.10, 0.20, 0.30, 0.40, 0.50, 0.60 ,0.70, 0.80, 0.90])\n"
   ],
   "metadata": {
    "collapsed": false
   },
   "id": "13357637771012d8"
  },
  {
   "cell_type": "markdown",
   "source": [
    "Plot the precision vs threshold for each model"
   ],
   "metadata": {
    "collapsed": false
   },
   "id": "ea3aa5364c738c1"
  },
  {
   "cell_type": "code",
   "execution_count": null,
   "outputs": [],
   "source": [
    "# Precision\n",
    "# LNM\n",
    "fig, ax = plt.subplots(1,1, figsize=(15,5))\n",
    "\n",
    "fig.suptitle(\"LNM Precision per Threshold per Model\", fontsize=16)\n",
    "\n",
    "ax.plot(org_LNM_metrics_range.loc[\"Precision (PPV)\"], label=\"Origineel Netwerk\")\n",
    "#ax.plot(inter_LNM_metrics_range.loc[\"Precision (PPV)\"], label=\"Endomcancer3\")\n",
    "ax.plot(noPlat_noRest_LNM_metrics_range.loc[\"Precision (PPV)\"], label=\"-Plat -TCGA -MRI\")\n",
    "ax.plot(noPlat_MRI_LNM_metrics_range.loc[\"Precision (PPV)\"], label=\"-Plat -TCGA +MRI\")\n",
    "ax.plot(noPlat_TCGA_LNM_metrics_range.loc[\"Precision (PPV)\"], label=\"-Plat +TCGA -MRI\")\n",
    "ax.plot(noPlat_TCGA_MRI_LNM_metrics_range.loc[\"Precision (PPV)\"], label=\"-Plat +TCGA +MRI\")\n",
    "ax.plot(Plat_noRest_LNM_metrics_range.loc[\"Precision (PPV)\"], label=\"+Plat -TCGA -MRI\")\n",
    "\n",
    "ax.legend(loc=\"upper left\")\n",
    "ax.set_xlabel(\"Threshold\")\n",
    "ax.set_ylabel(\"Precision\")\n",
    "ax.set_xticks([0.05, 0.10, 0.20, 0.30, 0.40, 0.50, 0.60 ,0.70, 0.80, 0.90])\n",
    "ax.set_xticklabels([0.05, 0.10, 0.20, 0.30, 0.40, 0.50, 0.60 ,0.70, 0.80, 0.90])\n",
    "\n",
    "# Survival\n",
    "fig, ax = plt.subplots(1,1, figsize=(15,5))\n",
    "    \n",
    "fig.suptitle(\"Survival Precision per Threshold per Model\", fontsize=16)\n",
    "\n",
    "ax.plot(org_Surv_metrics_range.loc[\"Precision (PPV)\"], label=\"Origineel Netwerk\")\n",
    "#ax.plot(inter_Surv_metrics_range.loc[\"Precision (PPV)\"], label=\"Endomcancer3\")\n",
    "ax.plot(noPlat_noRest_Surv_metrics_range.loc[\"Precision (PPV)\"], label=\"-Plat -TCGA -MRI\")\n",
    "ax.plot(noPlat_MRI_Surv_metrics_range.loc[\"Precision (PPV)\"], label=\"-Plat -TCGA +MRI\")\n",
    "ax.plot(noPlat_TCGA_Surv_metrics_range.loc[\"Precision (PPV)\"], label=\"-Plat +TCGA -MRI\")\n",
    "ax.plot(noPlat_TCGA_MRI_Surv_metrics_range.loc[\"Precision (PPV)\"], label=\"-Plat +TCGA +MRI\")\n",
    "ax.plot(Plat_noRest_Surv_metrics_range.loc[\"Precision (PPV)\"], label=\"+Plat -TCGA -MRI\")\n",
    "    \n",
    "ax.legend(loc=\"upper left\")\n",
    "ax.set_xlabel(\"Threshold\")\n",
    "ax.set_ylabel(\"Precision\")\n",
    "ax.set_xticks([0.05, 0.10, 0.20, 0.30, 0.40, 0.50, 0.60 ,0.70, 0.80, 0.90])\n",
    "ax.set_xticklabels([0.05, 0.10, 0.20, 0.30, 0.40, 0.50, 0.60 ,0.70, 0.80, 0.90])\n",
    "\n"
   ],
   "metadata": {
    "collapsed": false
   },
   "id": "157f6b3ad9b1db6a"
  },
  {
   "cell_type": "markdown",
   "source": [
    "Plot the F1 vs threshold for each model"
   ],
   "metadata": {
    "collapsed": false
   },
   "id": "bec6c90b2ce5452e"
  },
  {
   "cell_type": "code",
   "execution_count": null,
   "outputs": [],
   "source": [
    "# F1\n",
    "# LNM\n",
    "fig, ax = plt.subplots(1,1, figsize=(15,5))\n",
    "\n",
    "fig.suptitle(\"LNM F1 per Threshold per Model\", fontsize=16)\n",
    "\n",
    "ax.plot(org_LNM_metrics_range.loc[\"F1\"], label=\"Origineel Netwerk\")\n",
    "#ax.plot(inter_LNM_metrics_range.loc[\"F1\"], label=\"Endomcancer3\")\n",
    "ax.plot(noPlat_noRest_LNM_metrics_range.loc[\"F1\"], label=\"-Plat -TCGA -MRI\")\n",
    "ax.plot(noPlat_MRI_LNM_metrics_range.loc[\"F1\"], label=\"-Plat -TCGA +MRI\")\n",
    "ax.plot(noPlat_TCGA_LNM_metrics_range.loc[\"F1\"], label=\"-Plat +TCGA -MRI\")\n",
    "ax.plot(noPlat_TCGA_MRI_LNM_metrics_range.loc[\"F1\"], label=\"-Plat +TCGA +MRI\")\n",
    "ax.plot(Plat_noRest_LNM_metrics_range.loc[\"F1\"], label=\"+Plat -TCGA -MRI\")\n",
    "ax.plot(Plat_all_LNM_metrics_range.loc[\"F1\"], label=\"+Plat +TCGA +MRI\")\n",
    "\n",
    "ax.legend(loc=\"upper right\")\n",
    "ax.set_xlabel(\"Threshold\")\n",
    "ax.set_ylabel(\"F1\")\n",
    "\n",
    "# Survival\n",
    "fig, ax = plt.subplots(1,1, figsize=(15,5))\n",
    "\n",
    "fig.suptitle(\"Survival F1 per Threshold per Model\", fontsize=16)\n",
    "\n",
    "ax.plot(org_Surv_metrics_range.loc[\"F1\"], label=\"Origineel Netwerk\")\n",
    "#ax.plot(inter_Surv_metrics_range.loc[\"F1\"], label=\"Endomcancer3\")\n",
    "ax.plot(noPlat_noRest_Surv_metrics_range.loc[\"F1\"], label=\"-Plat -TCGA -MRI\")\n",
    "ax.plot(noPlat_MRI_Surv_metrics_range.loc[\"F1\"], label=\"-Plat -TCGA +MRI\")\n",
    "ax.plot(noPlat_TCGA_Surv_metrics_range.loc[\"F1\"], label=\"-Plat +TCGA -MRI\")\n",
    "ax.plot(noPlat_TCGA_MRI_Surv_metrics_range.loc[\"F1\"], label=\"-Plat +TCGA +MRI\")\n",
    "ax.plot(Plat_noRest_Surv_metrics_range.loc[\"F1\"], label=\"+Plat -TCGA -MRI\")\n",
    "ax.plot(Plat_all_Surv_metrics_range.loc[\"F1\"], label=\"+Plat +TCGA +MRI\")\n",
    "\n",
    "ax.legend(loc=\"upper left\")\n",
    "ax.set_xlabel(\"Threshold\")\n",
    "ax.set_ylabel(\"F1\")\n"
   ],
   "metadata": {
    "collapsed": false
   },
   "id": "f1f8d181a17d44ec"
  },
  {
   "cell_type": "markdown",
   "source": [
    "Plot the Brier score vs threshold for each model"
   ],
   "metadata": {
    "collapsed": false
   },
   "id": "970546fe696f2322"
  },
  {
   "cell_type": "code",
   "execution_count": null,
   "outputs": [],
   "source": [
    "# Brier\n",
    "# LNM\n",
    "fig, ax = plt.subplots(1,1, figsize=(15,5))\n",
    "\n",
    "fig.suptitle(\"LNM Brier per Threshold per Model\", fontsize=16)\n",
    "\n",
    "ax.plot(org_LNM_metrics_range.loc[\"Brier\"], label=\"Origineel Netwerk\")\n",
    "#ax.plot(inter_LNM_metrics_range.loc[\"Brier\"], label=\"Endomcancer3\")\n",
    "ax.plot(noPlat_noRest_LNM_metrics_range.loc[\"Brier\"], label=\"-Plat -TCGA -MRI\")\n",
    "ax.plot(noPlat_MRI_LNM_metrics_range.loc[\"Brier\"], label=\"-Plat -TCGA +MRI\")\n",
    "ax.plot(noPlat_TCGA_LNM_metrics_range.loc[\"Brier\"], label=\"-Plat +TCGA -MRI\")\n",
    "ax.plot(noPlat_TCGA_MRI_LNM_metrics_range.loc[\"Brier\"], label=\"-Plat +TCGA +MRI\")\n",
    "ax.plot(Plat_noRest_LNM_metrics_range.loc[\"Brier\"], label=\"+Plat -TCGA -MRI\")\n",
    "ax.plot(Plat_all_LNM_metrics_range.loc[\"Brier\"], label=\"+Plat +TCGA +MRI\")\n",
    "\n",
    "ax.legend(loc=\"upper right\")\n",
    "ax.set_xlabel(\"Threshold\")\n",
    "ax.set_ylabel(\"Brier\")\n",
    "\n",
    "# Survival\n",
    "fig, ax = plt.subplots(1,1, figsize=(15,5))\n",
    "    \n",
    "fig.suptitle(\"Survival Brier per Threshold per Model\", fontsize=16)\n",
    "\n",
    "ax.plot(org_Surv_metrics_range.loc[\"Brier\"], label=\"Origineel Netwerk\")\n",
    "#ax.plot(inter_Surv_metrics_range.loc[\"Brier\"], label=\"Endomcancer3\")\n",
    "ax.plot(noPlat_noRest_Surv_metrics_range.loc[\"Brier\"], label=\"-Plat -TCGA -MRI\")\n",
    "ax.plot(noPlat_MRI_Surv_metrics_range.loc[\"Brier\"], label=\"-Plat -TCGA +MRI\")\n",
    "ax.plot(noPlat_TCGA_Surv_metrics_range.loc[\"Brier\"], label=\"-Plat +TCGA -MRI\")\n",
    "ax.plot(noPlat_TCGA_MRI_Surv_metrics_range.loc[\"Brier\"], label=\"-Plat +TCGA +MRI\")\n",
    "ax.plot(Plat_noRest_Surv_metrics_range.loc[\"Brier\"], label=\"+Plat -TCGA -MRI\")\n",
    "ax.plot(Plat_all_Surv_metrics_range.loc[\"Brier\"], label=\"+Plat +TCGA +MRI\")\n",
    "\n",
    "ax.legend(loc=\"lower left\")\n",
    "ax.set_xlabel(\"Threshold\")\n",
    "ax.set_ylabel(\"Brier\")\n",
    "\n"
   ],
   "metadata": {
    "collapsed": false
   },
   "id": "60a269fac4f3980e"
  },
  {
   "cell_type": "markdown",
   "source": [
    "Plot the log loss vs threshold for each model"
   ],
   "metadata": {
    "collapsed": false
   },
   "id": "c74566d788312200"
  },
  {
   "cell_type": "code",
   "execution_count": null,
   "outputs": [],
   "source": [
    "# Log Loss\n",
    "# LNM\n",
    "fig, ax = plt.subplots(1,1, figsize=(15,5))\n",
    "\n",
    "fig.suptitle(\"LNM Log Loss per Threshold per Model\", fontsize=16)\n",
    "    \n",
    "ax.plot(org_LNM_metrics_range.loc[\"Log Loss\"], label=\"Origineel Netwerk\")\n",
    "#ax.plot(inter_LNM_metrics_range.loc[\"Log Loss\"], label=\"Endomcancer3\")\n",
    "ax.plot(noPlat_noRest_LNM_metrics_range.loc[\"Log Loss\"], label=\"-Plat -TCGA -MRI\")\n",
    "ax.plot(noPlat_MRI_LNM_metrics_range.loc[\"Log Loss\"], label=\"-Plat -TCGA +MRI\")\n",
    "ax.plot(noPlat_TCGA_LNM_metrics_range.loc[\"Log Loss\"], label=\"-Plat +TCGA -MRI\")\n",
    "ax.plot(noPlat_TCGA_MRI_LNM_metrics_range.loc[\"Log Loss\"], label=\"-Plat +TCGA +MRI\")\n",
    "ax.plot(Plat_noRest_LNM_metrics_range.loc[\"Log Loss\"], label=\"+Plat -TCGA -MRI\")\n",
    "ax.plot(Plat_all_LNM_metrics_range.loc[\"Log Loss\"], label=\"+Plat +TCGA +MRI\")\n",
    "\n",
    "ax.legend(loc=\"upper right\")\n",
    "ax.set_xlabel(\"Threshold\")\n",
    "ax.set_ylabel(\"Log Loss\")\n",
    "\n",
    "# Survival\n",
    "fig, ax = plt.subplots(1,1, figsize=(15,5))\n",
    "\n",
    "fig.suptitle(\"Survival Log Loss per Threshold per Model\", fontsize=16)\n",
    "\n",
    "ax.plot(org_Surv_metrics_range.loc[\"Log Loss\"], label=\"Origineel Netwerk\")\n",
    "#ax.plot(inter_Surv_metrics_range.loc[\"Log Loss\"], label=\"Endomcancer3\")\n",
    "ax.plot(noPlat_noRest_Surv_metrics_range.loc[\"Log Loss\"], label=\"-Plat -TCGA -MRI\")\n",
    "ax.plot(noPlat_MRI_Surv_metrics_range.loc[\"Log Loss\"], label=\"-Plat -TCGA +MRI\")\n",
    "ax.plot(noPlat_TCGA_Surv_metrics_range.loc[\"Log Loss\"], label=\"-Plat +TCGA -MRI\")\n",
    "ax.plot(noPlat_TCGA_MRI_Surv_metrics_range.loc[\"Log Loss\"], label=\"-Plat +TCGA +MRI\")\n",
    "ax.plot(Plat_noRest_Surv_metrics_range.loc[\"Log Loss\"], label=\"+Plat -TCGA -MRI\")\n",
    "ax.plot(Plat_all_Surv_metrics_range.loc[\"Log Loss\"], label=\"+Plat +TCGA +MRI\")\n",
    "\n",
    "ax.legend(loc=\"lower left\")\n",
    "ax.set_xlabel(\"Threshold\")\n",
    "ax.set_ylabel(\"Log Loss\")\n"
   ],
   "metadata": {
    "collapsed": false
   },
   "id": "99dcf1f56cb2e66"
  }
 ],
 "metadata": {
  "kernelspec": {
   "display_name": "Python 3",
   "language": "python",
   "name": "python3"
  },
  "language_info": {
   "codemirror_mode": {
    "name": "ipython",
    "version": 2
   },
   "file_extension": ".py",
   "mimetype": "text/x-python",
   "name": "python",
   "nbconvert_exporter": "python",
   "pygments_lexer": "ipython2",
   "version": "2.7.6"
  }
 },
 "nbformat": 4,
 "nbformat_minor": 5
}
