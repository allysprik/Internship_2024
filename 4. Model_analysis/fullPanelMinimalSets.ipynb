{
 "cells": [
  {
   "cell_type": "markdown",
   "source": [
    "### Author: Ally Sprik\n",
    "### Last-updated: 25-02-2024\n",
    "\n",
    "Goal of this notebook is to generate a full panel of possible minimal sets and evaluate them using ROC analysis.\n",
    "NOTE: The code will be stopped before getting to teh full analysis, as it takes a long time to run.\n",
    "There should be a CSV file with the results, at least for what I tested, but if you want to run it again, run the code from that part on.\n",
    "\n"
   ],
   "metadata": {
    "collapsed": false
   },
   "id": "8b376f9f6d8e01d5"
  },
  {
   "cell_type": "code",
   "execution_count": null,
   "outputs": [],
   "source": [
    "import pandas as pd\n",
    "import numpy as np\n",
    "import pyAgrum as gum\n",
    "import pyAgrum.lib.notebook as gnb\n",
    "from collections import Counter\n",
    "import itertools\n",
    "\n",
    "net = gum.loadBN(\"../3. Model/Fitted_Networks/R_WP_all_952.net\")\n",
    "\n",
    "df_brno = pd.read_csv(\"../0.1. Cleaned_data/Cleaned_Brno_model_complete.csv\")\n",
    "\n",
    "df_brno_LNM = df_brno.dropna(subset=[\"LNM\"])\n",
    "df_brno_Survival = df_brno.dropna(subset=[\"Survival5yr\"])\n",
    "\n",
    "brno_LNM_true = df_brno_LNM[\"LNM\"]\n",
    "brno_Surv_true = df_brno_Survival[\"Survival5yr\"]\n"
   ],
   "metadata": {
    "collapsed": false
   },
   "id": "5407142dc588164e"
  },
  {
   "cell_type": "markdown",
   "source": [
    "The following code is to generate all possible minimal sets of variables"
   ],
   "metadata": {
    "collapsed": false
   },
   "id": "2f01207eb80c4708"
  },
  {
   "cell_type": "code",
   "execution_count": null,
   "id": "initial_id",
   "metadata": {
    "collapsed": true
   },
   "outputs": [],
   "source": [
    "evidence_columns = [\"ER\", \"PR\", \"p53\", \"L1CAM\", \"CA125\", \"Platelets\", \"Cytology\", \"MRI_MI\", \"MSI\", \"POLE\", \"PreoperativeGrade\"]\n",
    "\n",
    "sets = []\n",
    "for i in range(1, len(evidence_columns)+1):\n",
    "    els = [list(x) for x in itertools.combinations(evidence_columns, i)]\n",
    "    sets.extend(els)\n",
    "\n",
    "len(sets)"
   ]
  },
  {
   "cell_type": "markdown",
   "source": [
    "Defining the functions to get the probabilities"
   ],
   "metadata": {
    "collapsed": false
   },
   "id": "27fcdcd0b8238484"
  },
  {
   "cell_type": "code",
   "execution_count": null,
   "outputs": [],
   "source": [
    "def getProbabilities(model, evidence_LNM, evidence_Surv, Surv = \"Survival5yr\", samples = 100):\n",
    "    ls_result_LNM = []\n",
    "    ls_result_Surv = []\n",
    "    \n",
    "    #for i in range(1, samples):\n",
    "    resultsLNM = []\n",
    "    resultsSurvival = []\n",
    "    net = gum.LazyPropagation(model)\n",
    "    net.getNumberOfThreads()\n",
    "    net.setNumberOfThreads(10)\n",
    "    \n",
    "    for j in range(len(evidence_LNM)):\n",
    "        evidencerow = evidence_LNM.iloc[j]\n",
    "        evidencerow = evidencerow.dropna().to_dict()\n",
    "        \n",
    "        try:\n",
    "            net.setEvidence(evidencerow)\n",
    "            \n",
    "            net.makeInference()\n",
    "\n",
    "            resultLNM = net.posterior(\"LNM\")\n",
    "            \n",
    "            resultsLNM.append(resultLNM)\n",
    "        except Exception as error:\n",
    "            print(\"Error at row regarding LNM\", j)\n",
    "            print(error)\n",
    "            \n",
    "            resultsLNM.append(resultLNM)\n",
    "\n",
    "    \n",
    "    for j in range(len(evidence_Surv)):\n",
    "        evidencerow = evidence_Surv.iloc[j]\n",
    "        evidencerow = evidencerow.dropna().to_dict()\n",
    "        \n",
    "        try:\n",
    "            net.setEvidence(evidencerow)\n",
    "            \n",
    "            net.makeInference()\n",
    "\n",
    "            resultSurvival = net.posterior(\"Survival5yr\")\n",
    "            \n",
    "            resultsSurvival.append(resultSurvival)\n",
    "        except Exception as error:\n",
    "            print(\"Error at row regarding Survival\", j)\n",
    "            print(error)\n",
    "            \n",
    "            resultsSurvival.append(resultSurvival)\n",
    "\n",
    "        \n",
    "    return resultsLNM, resultsSurvival\n",
    "\n",
    "def getProbResults(results, target):\n",
    "    res = []\n",
    "    \n",
    "    for i in range(len(results)):\n",
    "        res.append(results[i][target])\n",
    "    return pd.DataFrame(res)"
   ],
   "metadata": {
    "collapsed": false
   },
   "id": "d59de027d5c3a1c"
  },
  {
   "cell_type": "markdown",
   "source": [
    "Defining the functions to calculate mean and confidence intervals"
   ],
   "metadata": {
    "collapsed": false
   },
   "id": "cac1ead0271f42b5"
  },
  {
   "cell_type": "code",
   "execution_count": null,
   "outputs": [],
   "source": [
    "from scipy.stats import sem, t\n",
    "\n",
    "def mean_confidence_interval(data, confidence=0.95):\n",
    "    a = 1.0 * np.array(data)\n",
    "    n = len(a)\n",
    "    \n",
    "    m, se = np.mean(a), sem(a)\n",
    "    h = se * t.ppf((1 + confidence) / 2., n-1)\n",
    "    \n",
    "    return m, m-h, m+h"
   ],
   "metadata": {
    "collapsed": false
   },
   "id": "eff160f381d590b9"
  },
  {
   "cell_type": "markdown",
   "source": [
    "The following code raise an error that not all the code will automatically run, as it takes a long time to run."
   ],
   "metadata": {
    "collapsed": false
   },
   "id": "f459ad94bc4c8207"
  },
  {
   "cell_type": "code",
   "execution_count": null,
   "outputs": [],
   "source": [
    "# Throw error to prevent running the following code, \n",
    "# Only run if you truly want to recalculate\n",
    "raise ValueError(\"This will take a long time to run, are you sure you want to run it? \\n Otherwise see below for loading in the results and continuing from there\")"
   ],
   "metadata": {
    "collapsed": false
   },
   "id": "a46587f964e693dd"
  },
  {
   "cell_type": "markdown",
   "source": [
    "The following code defines a function to take in a set and calculate the ROC for the LNM and Survival, using bootstrapping, finally returning the average ROC and the confidence intervals"
   ],
   "metadata": {
    "collapsed": false
   },
   "id": "eb44008b026a5d00"
  },
  {
   "cell_type": "code",
   "execution_count": null,
   "outputs": [],
   "source": [
    "from sklearn.metrics import roc_auc_score\n",
    "import multiprocessing\n",
    "\n",
    "ROC_results = pd.DataFrame(columns=[\"Set\", \"Full Net LNM\", \"Full Net Survival\"])\n",
    "\n",
    "\n",
    "def getSetROC(set, net = net, df_brno_LNM = df_brno_LNM, df_brno_Survival = df_brno_Survival, brno_LNM_true = brno_LNM_true, brno_Surv_true = brno_Surv_true):\n",
    "    \n",
    "    bootstrap_samples = 1000\n",
    "    samples = 100\n",
    "    \n",
    "    # Print what number of set is being processed\n",
    "    print(\"Set number: \", sets.index(set)+1, \" of \", len(sets))\n",
    "    results_LNM, results_Survival = getProbabilities(net, df_brno_LNM[list(set)], df_brno_Survival[list(set)])\n",
    "    \n",
    "    LNM_prob = getProbResults(results_LNM, 1)\n",
    "    Survival_prob = getProbResults(results_Survival, 1)\n",
    "        \n",
    "    LNM_ROC = []\n",
    "    Survival_ROC = []\n",
    "    \n",
    "    skipped_rows = []\n",
    "    \n",
    "    for i in range(bootstrap_samples):\n",
    "        LNM_prob_temp = LNM_prob.sample(n=samples, replace=True)\n",
    "        Survival_prob_temp = Survival_prob.sample(n=samples, replace=True)\n",
    "\n",
    "        LNM_res_temp = brno_LNM_true.iloc[LNM_prob_temp.index]\n",
    "        Survival_res_temp = brno_Surv_true.iloc[Survival_prob_temp.index]\n",
    "        try:\n",
    "            LNM_ROC.append(roc_auc_score(LNM_res_temp, LNM_prob_temp))\n",
    "            Survival_ROC.append(roc_auc_score(Survival_res_temp, Survival_prob_temp))\n",
    "        except:\n",
    "            #\"Error in a bootstrap, skipping\"\n",
    "            skipped_rows.append(i)\n",
    "            \n",
    "    LNM_ROC = [x for i, x in enumerate(LNM_ROC) if i not in skipped_rows]\n",
    "    Survival_ROC = [x for i, x in enumerate(Survival_ROC) if i not in skipped_rows]\n",
    "    \n",
    "    LNM_mean, LNM_lower, LNM_upper = mean_confidence_interval(LNM_ROC)\n",
    "    Survival_mean, Survival_lower, Survival_upper = mean_confidence_interval(Survival_ROC)\n",
    "        \n",
    "    LNM = str(round(LNM_mean, 3)) + \" [\" + str(round(LNM_lower, 3)) + \", \" + str(round(LNM_upper, 3)) + \"]\"\n",
    "    Survival = str(round(Survival_mean, 3)) + \" [\" + str(round(Survival_lower, 3)) + \", \" + str(round(Survival_upper, 3)) + \"]\"\n",
    "    \n",
    "    res = pd.DataFrame([[set, LNM, Survival]], columns=[\"Set\", \"Full Net LNM\", \"Full Net Survival\"])\n",
    "    \n",
    "    return res\n",
    "       "
   ],
   "metadata": {
    "collapsed": false
   },
   "id": "371edaa2e6f3da2c"
  },
  {
   "cell_type": "markdown",
   "source": [
    "The following code uses multiprocessing to run the function on all the sets"
   ],
   "metadata": {
    "collapsed": false
   },
   "id": "1f053a040b6eca2c"
  },
  {
   "cell_type": "code",
   "execution_count": null,
   "outputs": [],
   "source": [
    " Processes = (multiprocessing.cpu_count() - 2) # Set the number of cores on your system, use 1 if you don't want to use multiprocessing, (multiprocessing.cpu_count() - 1) to use maximum cores available (I would not recommend using without -1, as it will make your system unresponsive)\n",
    "with multiprocessing.Pool(Processes) as pool:\n",
    "    x =  pool.map(getSetROC, sets)\n",
    "    \n",
    "    for i in x:\n",
    "        ROC_results = pd.concat([ROC_results, i], ignore_index=True)\n",
    "    "
   ],
   "metadata": {
    "collapsed": false
   },
   "id": "5c851dc2a083e4fe"
  },
  {
   "cell_type": "markdown",
   "source": [
    "The following code saves the results to a CSV file"
   ],
   "metadata": {
    "collapsed": false
   },
   "id": "4d652b9620b31d76"
  },
  {
   "cell_type": "code",
   "execution_count": null,
   "outputs": [],
   "source": [
    "# Save this because you really don't want to run it again\n",
    "ROC_results.to_csv(\"fullPanelMinimalSets.csv\", index=False)"
   ],
   "metadata": {
    "collapsed": false
   },
   "id": "f07bf347e9691dc4"
  },
  {
   "cell_type": "markdown",
   "source": [
    "# If you only want to analyse use the following code\n",
    "continue from here on if you want to analyse the results"
   ],
   "metadata": {
    "collapsed": false
   },
   "id": "18a08e794dd2fe1"
  },
  {
   "cell_type": "code",
   "execution_count": null,
   "outputs": [],
   "source": [
    "ROC_results = pd.read_csv(\"fullPanelMinimalSets.csv\")"
   ],
   "metadata": {
    "collapsed": false
   },
   "id": "9b12e5a0935adb42"
  },
  {
   "cell_type": "markdown",
   "source": [
    "# Code to generate the average ROC for sets containing a certain variable\n",
    "Created to gain an idea of the variables, and which ones are part of the best sets\n"
   ],
   "metadata": {
    "collapsed": false
   },
   "id": "1ca84570d5a63ffa"
  },
  {
   "cell_type": "code",
   "execution_count": null,
   "outputs": [],
   "source": [
    "# LNM\n",
    "# What is the Average ROC for sets containing certain variables, with the range of ROC values \n",
    "print(\"LNM\")\n",
    "# For CA125\n",
    "ROC  = ROC_results[ROC_results[\"Set\"].apply(lambda x: \"CA125\" in x)][\"Full Net LNM\"].apply(lambda x: float(x.split(\" \")[0]))\n",
    "min = ROC_results[ROC_results[\"Set\"].apply(lambda x: \"CA125\" in x)][\"Full Net LNM\"].apply(lambda x: float(x.split(\" \")[1].split(\",\")[0][1:-1])).replace({0: np.nan}).min()\n",
    "max = ROC_results[ROC_results[\"Set\"].apply(lambda x: \"CA125\" in x)][\"Full Net LNM\"].apply(lambda x: float(x.split(\" \")[2].split(\",\")[0][0:-2])).max()\n",
    "\n",
    "print(\"Average ROC for sets containing CA125: \", round(ROC.mean(),2) , \" with range: \", min, \" - \", max)\n",
    "\n",
    "# For MRI_MI\n",
    "ROC  = ROC_results[ROC_results[\"Set\"].apply(lambda x: \"MRI_MI\" in x)][\"Full Net LNM\"].apply(lambda x: float(x.split(\" \")[0]))\n",
    "min = ROC_results[ROC_results[\"Set\"].apply(lambda x: \"MRI_MI\" in x)][\"Full Net LNM\"].apply(lambda x: float(x.split(\" \")[1].split(\",\")[0][1:-1])).replace({0: np.nan}).min()\n",
    "max = ROC_results[ROC_results[\"Set\"].apply(lambda x: \"MRI_MI\" in x)][\"Full Net LNM\"].apply(lambda x: float(x.split(\" \")[2].split(\",\")[0][0:-2])).max()\n",
    "\n",
    "print(\"Average ROC for sets containing MRI_MI: \", round(ROC.mean(),2) , \" with range: \", min, \" - \", max)\n",
    "\n",
    "# For MSI\n",
    "ROC  = ROC_results[ROC_results[\"Set\"].apply(lambda x: \"MSI\" in x)][\"Full Net LNM\"].apply(lambda x: float(x.split(\" \")[0]))\n",
    "min = ROC_results[ROC_results[\"Set\"].apply(lambda x: \"MSI\" in x)][\"Full Net LNM\"].apply(lambda x: float(x.split(\" \")[1].split(\",\")[0][1:-1])).replace({0: np.nan}).min()\n",
    "max = ROC_results[ROC_results[\"Set\"].apply(lambda x: \"MSI\" in x)][\"Full Net LNM\"].apply(lambda x: float(x.split(\" \")[2].split(\",\")[0][0:-2])).max()\n",
    "\n",
    "print(\"Average ROC for sets containing MSI: \", round(ROC.mean(),2) , \" with range: \", min, \" - \", max)\n",
    "\n",
    "# For POLE\n",
    "ROC  = ROC_results[ROC_results[\"Set\"].apply(lambda x: \"POLE\" in x)][\"Full Net LNM\"].apply(lambda x: float(x.split(\" \")[0]))\n",
    "min = ROC_results[ROC_results[\"Set\"].apply(lambda x: \"POLE\" in x)][\"Full Net LNM\"].apply(lambda x: float(x.split(\" \")[1].split(\",\")[0][1:-1])).replace({0: np.nan}).min()\n",
    "max = ROC_results[ROC_results[\"Set\"].apply(lambda x: \"POLE\" in x)][\"Full Net LNM\"].apply(lambda x: float(x.split(\" \")[2].split(\",\")[0][0:-2])).max()\n",
    "\n",
    "print(\"Average ROC for sets containing POLE: \", round(ROC.mean(),2) , \" with range: \", min, \" - \", max)\n",
    "\n",
    "# For PreoperativeGrade\n",
    "ROC  = ROC_results[ROC_results[\"Set\"].apply(lambda x: \"PreoperativeGrade\" in x)][\"Full Net LNM\"].apply(lambda x: float(x.split(\" \")[0]))\n",
    "min = ROC_results[ROC_results[\"Set\"].apply(lambda x: \"PreoperativeGrade\" in x)][\"Full Net LNM\"].apply(lambda x: float(x.split(\" \")[1].split(\",\")[0][1:-1])).replace({0: np.nan}).min()\n",
    "max = ROC_results[ROC_results[\"Set\"].apply(lambda x: \"PreoperativeGrade\" in x)][\"Full Net LNM\"].apply(lambda x: float(x.split(\" \")[2].split(\",\")[0][0:-2])).max()\n",
    "\n",
    "print(\"Average ROC for sets containing PreoperativeGrade: \", round(ROC.mean(),2) , \" with range: \", min, \" - \", max)\n",
    "\n",
    "# For ER\n",
    "ROC  = ROC_results[ROC_results[\"Set\"].apply(lambda x: \"ER\" in x)][\"Full Net LNM\"].apply(lambda x: float(x.split(\" \")[0]))\n",
    "min = ROC_results[ROC_results[\"Set\"].apply(lambda x: \"ER\" in x)][\"Full Net LNM\"].apply(lambda x: float(x.split(\" \")[1].split(\",\")[0][1:-1])).replace({0: np.nan}).min()\n",
    "max = ROC_results[ROC_results[\"Set\"].apply(lambda x: \"ER\" in x)][\"Full Net LNM\"].apply(lambda x: float(x.split(\" \")[2].split(\",\")[0][0:-2])).max()\n",
    "\n",
    "print(\"Average ROC for sets containing ER: \", round(ROC.mean(),2) , \" with range: \", min, \" - \", max)\n",
    "\n",
    "# For PR\n",
    "ROC  = ROC_results[ROC_results[\"Set\"].apply(lambda x: \"PR\" in x)][\"Full Net LNM\"].apply(lambda x: float(x.split(\" \")[0]))\n",
    "min = ROC_results[ROC_results[\"Set\"].apply(lambda x: \"PR\" in x)][\"Full Net LNM\"].apply(lambda x: float(x.split(\" \")[1].split(\",\")[0][1:-1])).replace({0: np.nan}).min()\n",
    "max = ROC_results[ROC_results[\"Set\"].apply(lambda x: \"PR\" in x)][\"Full Net LNM\"].apply(lambda x: float(x.split(\" \")[2].split(\",\")[0][0:-2])).max()\n",
    "\n",
    "print(\"Average ROC for sets containing PR: \", round(ROC.mean(),2) , \" with range: \", min, \" - \", max)\n",
    "\n",
    "# For p53\n",
    "ROC  = ROC_results[ROC_results[\"Set\"].apply(lambda x: \"p53\" in x)][\"Full Net LNM\"].apply(lambda x: float(x.split(\" \")[0]))\n",
    "min = ROC_results[ROC_results[\"Set\"].apply(lambda x: \"p53\" in x)][\"Full Net LNM\"].apply(lambda x: float(x.split(\" \")[1].split(\",\")[0][1:-1])).replace({0: np.nan}).min()\n",
    "max = ROC_results[ROC_results[\"Set\"].apply(lambda x: \"p53\" in x)][\"Full Net LNM\"].apply(lambda x: float(x.split(\" \")[2].split(\",\")[0][0:-2])).max()\n",
    "\n",
    "print(\"Average ROC for sets containing p53: \", round(ROC.mean(),2) , \" with range: \", min, \" - \", max)\n",
    "\n",
    "# For L1CAM\n",
    "ROC  = ROC_results[ROC_results[\"Set\"].apply(lambda x: \"L1CAM\" in x)][\"Full Net LNM\"].apply(lambda x: float(x.split(\" \")[0]))\n",
    "min = ROC_results[ROC_results[\"Set\"].apply(lambda x: \"L1CAM\" in x)][\"Full Net LNM\"].apply(lambda x: float(x.split(\" \")[1].split(\",\")[0][1:-1])).replace({0: np.nan}).min()\n",
    "max = ROC_results[ROC_results[\"Set\"].apply(lambda x: \"L1CAM\" in x)][\"Full Net LNM\"].apply(lambda x: float(x.split(\" \")[2].split(\",\")[0][0:-2])).max()\n",
    "\n",
    "print(\"Average ROC for sets containing L1CAM: \", round(ROC.mean(),2) , \" with range: \", min, \" - \", max)\n",
    "\n",
    "# For Platelets\n",
    "ROC  = ROC_results[ROC_results[\"Set\"].apply(lambda x: \"Platelets\" in x)][\"Full Net LNM\"].apply(lambda x: float(x.split(\" \")[0]))\n",
    "min = ROC_results[ROC_results[\"Set\"].apply(lambda x: \"Platelets\" in x)][\"Full Net LNM\"].apply(lambda x: float(x.split(\" \")[1].split(\",\")[0][1:-1])).replace({0: np.nan}).min()\n",
    "max = ROC_results[ROC_results[\"Set\"].apply(lambda x: \"Platelets\" in x)][\"Full Net LNM\"].apply(lambda x: float(x.split(\" \")[2].split(\",\")[0][0:-2])).max()\n",
    "\n",
    "print(\"Average ROC for sets containing Platelets: \", round(ROC.mean(),2) , \" with range: \", min, \" - \", max)\n",
    "\n",
    "# For Cytology\n",
    "ROC  = ROC_results[ROC_results[\"Set\"].apply(lambda x: \"Cytology\" in x)][\"Full Net LNM\"].apply(lambda x: float(x.split(\" \")[0]))\n",
    "min = ROC_results[ROC_results[\"Set\"].apply(lambda x: \"Cytology\" in x)][\"Full Net LNM\"].apply(lambda x: float(x.split(\" \")[1].split(\",\")[0][1:-1])).replace({0: np.nan}).min()\n",
    "max = ROC_results[ROC_results[\"Set\"].apply(lambda x: \"Cytology\" in x)][\"Full Net LNM\"].apply(lambda x: float(x.split(\" \")[2].split(\",\")[0][0:-2])).max()\n",
    "\n",
    "print(\"Average ROC for sets containing Cytology: \", round(ROC.mean(),2) , \" with range: \", min, \" - \", max)\n",
    "\n",
    "# Survival\n",
    "# What is the Average ROC for sets containing certain variables, with the range of ROC values\n",
    "print(\"\\n\\n\\n\")\n",
    "print(\"Survival\")\n",
    "# For CA125\n",
    "ROC  = ROC_results[ROC_results[\"Set\"].apply(lambda x: \"CA125\" in x)][\"Full Net Survival\"].apply(lambda x: float(x.split(\" \")[0]))\n",
    "min = ROC_results[ROC_results[\"Set\"].apply(lambda x: \"CA125\" in x)][\"Full Net Survival\"].apply(lambda x: float(x.split(\" \")[1].split(\",\")[0][1:-1])).replace({0: np.nan}).min()\n",
    "max = ROC_results[ROC_results[\"Set\"].apply(lambda x: \"CA125\" in x)][\"Full Net Survival\"].apply(lambda x: float(x.split(\" \")[2].split(\",\")[0][0:-2])).max()\n",
    "\n",
    "print(\"Average ROC for sets containing CA125: \", round(ROC.mean(),2) , \" with range: \", min, \" - \", max)\n",
    "\n",
    "# For MRI_MI\n",
    "ROC  = ROC_results[ROC_results[\"Set\"].apply(lambda x: \"MRI_MI\" in x)][\"Full Net Survival\"].apply(lambda x: float(x.split(\" \")[0]))\n",
    "min = ROC_results[ROC_results[\"Set\"].apply(lambda x: \"MRI_MI\" in x)][\"Full Net Survival\"].apply(lambda x: float(x.split(\" \")[1].split(\",\")[0][1:-1])).replace({0: np.nan}).min()\n",
    "max = ROC_results[ROC_results[\"Set\"].apply(lambda x: \"MRI_MI\" in x)][\"Full Net Survival\"].apply(lambda x: float(x.split(\" \")[2].split(\",\")[0][0:-2])).max()\n",
    "\n",
    "print(\"Average ROC for sets containing MRI_MI: \", round(ROC.mean(),2) , \" with range: \", min, \" - \", max)\n",
    "\n",
    "# For MSI\n",
    "ROC  = ROC_results[ROC_results[\"Set\"].apply(lambda x: \"MSI\" in x)][\"Full Net Survival\"].apply(lambda x: float(x.split(\" \")[0]))\n",
    "min = ROC_results[ROC_results[\"Set\"].apply(lambda x: \"MSI\" in x)][\"Full Net Survival\"].apply(lambda x: float(x.split(\" \")[1].split(\",\")[0][1:-1])).replace({0: np.nan}).min()\n",
    "max = ROC_results[ROC_results[\"Set\"].apply(lambda x: \"MSI\" in x)][\"Full Net Survival\"].apply(lambda x: float(x.split(\" \")[2].split(\",\")[0][0:-2])).max()\n",
    "\n",
    "print(\"Average ROC for sets containing MSI: \", round(ROC.mean(),2) , \" with range: \", min, \" - \", max)\n",
    "\n",
    "# For POLE\n",
    "ROC  = ROC_results[ROC_results[\"Set\"].apply(lambda x: \"POLE\" in x)][\"Full Net Survival\"].apply(lambda x: float(x.split(\" \")[0]))\n",
    "min = ROC_results[ROC_results[\"Set\"].apply(lambda x: \"POLE\" in x)][\"Full Net Survival\"].apply(lambda x: float(x.split(\" \")[1].split(\",\")[0][1:-1])).replace({0: np.nan}).min()\n",
    "max = ROC_results[ROC_results[\"Set\"].apply(lambda x: \"POLE\" in x)][\"Full Net Survival\"].apply(lambda x: float(x.split(\" \")[2].split(\",\")[0][0:-2])).max()\n",
    "\n",
    "print(\"Average ROC for sets containing POLE: \", round(ROC.mean(),2) , \" with range: \", min, \" - \", max)\n",
    "\n",
    "# For PreoperativeGrade\n",
    "ROC  = ROC_results[ROC_results[\"Set\"].apply(lambda x: \"PreoperativeGrade\" in x)][\"Full Net Survival\"].apply(lambda x: float(x.split(\" \")[0]))\n",
    "min = ROC_results[ROC_results[\"Set\"].apply(lambda x: \"PreoperativeGrade\" in x)][\"Full Net Survival\"].apply(lambda x: float(x.split(\" \")[1].split(\",\")[0][1:-1])).replace({0: np.nan}).min()\n",
    "max = ROC_results[ROC_results[\"Set\"].apply(lambda x: \"PreoperativeGrade\" in x)][\"Full Net Survival\"].apply(lambda x: float(x.split(\" \")[2].split(\",\")[0][0:-2])).max()\n",
    "\n",
    "print(\"Average ROC for sets containing PreoperativeGrade: \", round(ROC.mean(),2) , \" with range: \", min, \" - \", max)\n",
    "\n",
    "# For ER\n",
    "ROC  = ROC_results[ROC_results[\"Set\"].apply(lambda x: \"ER\" in x)][\"Full Net Survival\"].apply(lambda x: float(x.split(\" \")[0]))\n",
    "min = ROC_results[ROC_results[\"Set\"].apply(lambda x: \"ER\" in x)][\"Full Net Survival\"].apply(lambda x: float(x.split(\" \")[1].split(\",\")[0][1:-1])).replace({0: np.nan}).min()\n",
    "max = ROC_results[ROC_results[\"Set\"].apply(lambda x: \"ER\" in x)][\"Full Net Survival\"].apply(lambda x: float(x.split(\" \")[2].split(\",\")[0][0:-2])).max()\n",
    "\n",
    "print(\"Average ROC for sets containing ER: \", round(ROC.mean(),2) , \" with range: \", min, \" - \", max)\n",
    "\n",
    "# For PR\n",
    "ROC  = ROC_results[ROC_results[\"Set\"].apply(lambda x: \"PR\" in x)][\"Full Net Survival\"].apply(lambda x: float(x.split(\" \")[0]))\n",
    "min = ROC_results[ROC_results[\"Set\"].apply(lambda x: \"PR\" in x)][\"Full Net Survival\"].apply(lambda x: float(x.split(\" \")[1].split(\",\")[0][1:-1])).replace({0: np.nan}).min()\n",
    "max = ROC_results[ROC_results[\"Set\"].apply(lambda x: \"PR\" in x)][\"Full Net Survival\"].apply(lambda x: float(x.split(\" \")[2].split(\",\")[0][0:-2])).max()\n",
    "\n",
    "print(\"Average ROC for sets containing PR: \", round(ROC.mean(),2) , \" with range: \", min, \" - \", max)\n",
    "\n",
    "# For p53\n",
    "ROC  = ROC_results[ROC_results[\"Set\"].apply(lambda x: \"p53\" in x)][\"Full Net Survival\"].apply(lambda x: float(x.split(\" \")[0]))\n",
    "min = ROC_results[ROC_results[\"Set\"].apply(lambda x: \"p53\" in x)][\"Full Net Survival\"].apply(lambda x: float(x.split(\" \")[1].split(\",\")[0][1:-1])).replace({0: np.nan}).min()\n",
    "max = ROC_results[ROC_results[\"Set\"].apply(lambda x: \"p53\" in x)][\"Full Net Survival\"].apply(lambda x: float(x.split(\" \")[2].split(\",\")[0][0:-2])).max()\n",
    "\n",
    "print(\"Average ROC for sets containing p53: \", round(ROC.mean(),2) , \" with range: \", min, \" - \", max)\n",
    "\n",
    "# For L1CAM\n",
    "ROC  = ROC_results[ROC_results[\"Set\"].apply(lambda x: \"L1CAM\" in x)][\"Full Net Survival\"].apply(lambda x: float(x.split(\" \")[0]))\n",
    "min = ROC_results[ROC_results[\"Set\"].apply(lambda x: \"L1CAM\" in x)][\"Full Net Survival\"].apply(lambda x: float(x.split(\" \")[1].split(\",\")[0][1:-1])).replace({0: np.nan}).min()\n",
    "max = ROC_results[ROC_results[\"Set\"].apply(lambda x: \"L1CAM\" in x)][\"Full Net Survival\"].apply(lambda x: float(x.split(\" \")[2].split(\",\")[0][0:-2])).max()\n",
    "\n",
    "print(\"Average ROC for sets containing L1CAM: \", round(ROC.mean(),2) , \" with range: \", min, \" - \", max)\n",
    "\n",
    "# For Platelets\n",
    "ROC  = ROC_results[ROC_results[\"Set\"].apply(lambda x: \"Platelets\" in x)][\"Full Net Survival\"].apply(lambda x: float(x.split(\" \")[0]))\n",
    "min = ROC_results[ROC_results[\"Set\"].apply(lambda x: \"Platelets\" in x)][\"Full Net Survival\"].apply(lambda x: float(x.split(\" \")[1].split(\",\")[0][1:-1])).replace({0: np.nan}).min()\n",
    "max = ROC_results[ROC_results[\"Set\"].apply(lambda x: \"Platelets\" in x)][\"Full Net Survival\"].apply(lambda x: float(x.split(\" \")[2].split(\",\")[0][0:-2])).max()\n",
    "\n",
    "print(\"Average ROC for sets containing Platelets: \", round(ROC.mean(),2) , \" with range: \", min, \" - \", max)\n",
    "\n",
    "# For Cytology\n",
    "ROC  = ROC_results[ROC_results[\"Set\"].apply(lambda x: \"Cytology\" in x)][\"Full Net Survival\"].apply(lambda x: float(x.split(\" \")[0]))\n",
    "min = ROC_results[ROC_results[\"Set\"].apply(lambda x: \"Cytology\" in x)][\"Full Net Survival\"].apply(lambda x: float(x.split(\" \")[1].split(\",\")[0][1:-1])).replace({0: np.nan}).min()\n",
    "max = ROC_results[ROC_results[\"Set\"].apply(lambda x: \"Cytology\" in x)][\"Full Net Survival\"].apply(lambda x: float(x.split(\" \")[2].split(\",\")[0][0:-2])).max()\n",
    "\n",
    "print(\"Average ROC for sets containing Cytology: \", round(ROC.mean(),2) , \" with range: \", min, \" - \", max)\n",
    "\n",
    "\n",
    "\n"
   ],
   "metadata": {
    "collapsed": false
   },
   "id": "fa3b97277f92be15"
  }
 ],
 "metadata": {
  "kernelspec": {
   "display_name": "Python 3",
   "language": "python",
   "name": "python3"
  },
  "language_info": {
   "codemirror_mode": {
    "name": "ipython",
    "version": 2
   },
   "file_extension": ".py",
   "mimetype": "text/x-python",
   "name": "python",
   "nbconvert_exporter": "python",
   "pygments_lexer": "ipython2",
   "version": "2.7.6"
  }
 },
 "nbformat": 4,
 "nbformat_minor": 5
}
