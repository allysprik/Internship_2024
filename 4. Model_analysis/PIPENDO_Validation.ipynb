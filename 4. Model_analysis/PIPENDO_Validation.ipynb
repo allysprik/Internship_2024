{
 "cells": [
  {
   "cell_type": "markdown",
   "source": [
    "### Author: Ally Sprik\n",
    "### Last-updated: 25-02-2024\n",
    "\n",
    "Goal of this notebook is to validate the generated sets with the PIPENDO set\n",
    "\n"
   ],
   "metadata": {
    "collapsed": false
   },
   "id": "4510014d7869622b"
  },
  {
   "cell_type": "code",
   "execution_count": null,
   "id": "initial_id",
   "metadata": {
    "collapsed": true
   },
   "outputs": [],
   "source": [
    "import pandas as pd\n",
    "import numpy as np\n",
    "import pyAgrum as gum\n",
    "\n",
    "df = pd.read_csv(\"../../0. Source_files/0.2. Cleaned_data/Casper_PIPENDO_Cleaned.csv\")\n",
    "\n",
    "orNet = gum.loadBN(\"../../0. Source_files/0.4. Original_Casper_files/Results/Casper_fitted_952.net\")\n",
    "WOP_MRI = gum.loadBN(\"../1.3. Model/Fitted_Networks/R_WOP_AddMRIMI_fitted_952.net\")\n",
    "WOP_TCGA = gum.loadBN(\"../1.3. Model/Fitted_Networks/R_WOP_AddTCGA_1_fitted_952.net\")\n",
    "WOP_all = gum.loadBN(\"../1.3. Model/Fitted_Networks/R_WOP_original_952.net\")\n",
    "WP_none = gum.loadBN(\"../1.3. Model/Fitted_Networks/R_WP_952.net\")\n",
    "WP_all = gum.loadBN(\"../1.3. Model/Fitted_Networks/R_WP_all_952.net\")\n",
    "\n",
    "pd.options.mode.copy_on_write = True  # This will allow the code to run faster and keep Pandas happy. Technical detail: https://pandas.pydata.org/pandas-docs/stable/user_guide/copy_on_write.html#"
   ]
  },
  {
   "cell_type": "markdown",
   "source": [
    "Definet the targets"
   ],
   "metadata": {
    "collapsed": false
   },
   "id": "b51ed058fee3cebd"
  },
  {
   "cell_type": "code",
   "execution_count": null,
   "outputs": [],
   "source": [
    "target_Surv = df['Survival5yr'].replace({'no': 0, 'yes':1})\n",
    "target_LNM = df['LNM'].replace({'no':0, 'yes':1})\n",
    "\n",
    "df = df.drop(columns=['Survival5yr', 'LNM'])\n",
    "\n",
    "df.drop(columns=['Unnamed: 0'], inplace=True)\n"
   ],
   "metadata": {
    "collapsed": false
   },
   "id": "ebb4cbd328123747"
  },
  {
   "cell_type": "markdown",
   "source": [
    "define the function to get the probabilities from the model\n",
    "\n",
    "Pseudocode:\n",
    "- Create an empty list for the results\n",
    "- Loop over the evidence\n",
    "    - Get the evidence row\n",
    "    - Get the probabilities for the LNM and the Survival\n",
    "    - Append the results to the list\n",
    "- Return the list"
   ],
   "metadata": {
    "collapsed": false
   },
   "id": "40714ee0c6f39b2d"
  },
  {
   "cell_type": "code",
   "execution_count": null,
   "outputs": [],
   "source": [
    "def getProbabilities(model,evidence, Surv = \"Survival5yr\"):\n",
    "    resultsLNM = []\n",
    "    resultsSurvival = []\n",
    "    \n",
    "    for i in range(len(evidence)):\n",
    "        evidencerow = evidence.iloc[i]\n",
    "        evidencerow = evidencerow.dropna().to_dict()\n",
    "\n",
    "        result = gum.getPosterior(model, evs = evidencerow, target = \"LNM\")\n",
    "        resultsLNM.append(result)\n",
    "        \n",
    "        result = gum.getPosterior(model, evs = evidencerow, target = Surv)\n",
    "        resultsSurvival.append(result)\n",
    "        \n",
    "    return resultsLNM, resultsSurvival"
   ],
   "metadata": {
    "collapsed": false
   },
   "id": "765cef57dcfd9c7b"
  },
  {
   "cell_type": "markdown",
   "source": [
    "Define the function to unpack the results"
   ],
   "metadata": {
    "collapsed": false
   },
   "id": "a3f9ecb607f42de8"
  },
  {
   "cell_type": "code",
   "execution_count": null,
   "outputs": [],
   "source": [
    "def getProbResults(results, target):\n",
    "    res = []\n",
    "    \n",
    "    for i in range(len(results)):\n",
    "        res.append(results[i][target])\n",
    "    return pd.DataFrame(res)"
   ],
   "metadata": {
    "collapsed": false
   },
   "id": "1cfd8f7b7014496a"
  },
  {
   "cell_type": "markdown",
   "source": [
    "Define the functions to retrieve the metrics\n",
    "\n",
    "Pseudocode:\n",
    "- Define getMetrics function:\n",
    "    - Get the confusion matrix\n",
    "    - Get the accuracy\n",
    "    - Get the ROC AUC\n",
    "    - Get the precision\n",
    "    - Get the recall\n",
    "    - Get the specificity\n",
    "    - Get the F1 score\n",
    "    - Get the Brier score\n",
    "    - Get the log loss\n",
    "    - Return the metrics\n",
    "- Define getSlimMetrics function:\n",
    "    - Get the ROC AUC\n",
    "    - Get the Log Loss\n",
    "    - Get the Brier score\n",
    "    - Get the N Predicted/N Observed\n",
    "    - Get the Ratio\n",
    "    - Return the metrics"
   ],
   "metadata": {
    "collapsed": false
   },
   "id": "2e22bceca78aa72e"
  },
  {
   "cell_type": "code",
   "execution_count": null,
   "outputs": [],
   "source": [
    "from sklearn.metrics import roc_curve, auc\n",
    "# Find the accuracy, roc auc, precision and recall for the results and the targets data\n",
    "from sklearn.metrics import accuracy_score, roc_auc_score, precision_score, recall_score, confusion_matrix, log_loss, brier_score_loss\n",
    "\n",
    "def getMetrics(results, targets):\n",
    "    TP = confusion_matrix(targets, results)[1][1]\n",
    "    TN = confusion_matrix(targets, results)[0][0]\n",
    "    FP = confusion_matrix(targets, results)[0][1]\n",
    "    FN = confusion_matrix(targets, results)[1][0]\n",
    "    \n",
    "    accuracy = accuracy_score(targets, results)\n",
    "    roc_auc = roc_auc_score(targets, results)\n",
    "    precision = precision_score(targets, results)\n",
    "    TPR = recall_score(targets, results)\n",
    "    TNR = TN / (TN + FP)\n",
    "    \n",
    "    f1 = 2 * (precision * TPR) / (precision + TPR)\n",
    "    brier = brier_score_loss(targets, results)\n",
    "    loglike = log_loss(targets, results)\n",
    "    \n",
    "    x = pd.DataFrame([accuracy, roc_auc, precision, TPR,TNR, f1, brier, loglike], index=[\"Accuracy\", \"ROC AUC\", \"Precision (PPV)\", \"TPR (Recall/Sens)\",\"TNR (Spec)\", \"F1\", \"Brier\", \"Log Loss\"])\n",
    "    return x\n",
    "\n",
    "def getSlimMetrics(results, targets):\n",
    "    # Get ROC AUC, Log Loss, Brier, and N Predicted/N Observed\n",
    "    curve = roc_curve(targets, results, pos_label=1)\n",
    "    ROC = round(roc_auc_score(targets, results), 4)\n",
    "    LL = round(log_loss(targets, results), 4)\n",
    "    Brier = round(brier_score_loss(targets, results), 4)\n",
    "    N_pred = results.sum()[0]\n",
    "    N_obs = int(targets.sum())\n",
    "    N_br = f\"{int(N_pred)}/{int(N_obs)}\"\n",
    "    Ratio = round(N_pred/N_obs, 4)\n",
    "    \n",
    "    x = pd.DataFrame([ROC, LL, Brier, N_br, Ratio], index=[\"ROC AUC\", \"Log Loss\", \"Brier\", \"N Predicted/N Observed\", \"Ratio\"])\n",
    "    return x\n"
   ],
   "metadata": {
    "collapsed": false
   },
   "id": "502f89d3924ce80e"
  },
  {
   "cell_type": "markdown",
   "source": [
    "Get the results from the models"
   ],
   "metadata": {
    "collapsed": false
   },
   "id": "6c7090c9fc0bd66c"
  },
  {
   "cell_type": "code",
   "execution_count": null,
   "outputs": [],
   "source": [
    "evidence_columns = [\"ER\", \"PR\", \"p53\", \"L1CAM\", \"CA125\", \"CTMRI\", \"Platelets\", \"Cytology\", \"PreoperativeGrade\"] # Without MRI_MI, POLE, and MSI since they are not in the dataset"
   ],
   "metadata": {
    "collapsed": false
   },
   "id": "71f4cb6da53ddb37"
  },
  {
   "cell_type": "code",
   "execution_count": null,
   "outputs": [],
   "source": [
    "print(\"Started 1\")\n",
    "# Create a list that contains the overlap between evidence columns and the nodes in the network\n",
    "overlap = list(set(evidence_columns).intersection(orNet.names()))\n",
    "Or_Prob_LNM, Or_Prob_Survival = getProbabilities(orNet, df[overlap], \"Survival5yr\")\n",
    "print(\"Started 2\")\n",
    "overlap = list(set(evidence_columns).intersection(WOP_MRI.names()))\n",
    "WOP_MRI_Prob_LNM, WOP_MRI_Prob_Survival = getProbabilities(WOP_MRI, df[overlap], \"Survival5yr\")\n",
    "print(\"Started 3\")\n",
    "overlap = list(set(evidence_columns).intersection(WOP_TCGA.names()))\n",
    "WOP_TCGA_Prob_LNM, WOP_TCGA_Prob_Survival = getProbabilities(WOP_TCGA, df[overlap], \"Survival5yr\")\n",
    "print(\"Started 4\")\n",
    "overlap = list(set(evidence_columns).intersection(WOP_all.names()))\n",
    "WOP_all_Prob_LNM, WOP_all_Prob_Survival = getProbabilities(WOP_all, df[overlap], \"Survival5yr\")\n",
    "print(\"Started 5\")\n",
    "overlap = list(set(evidence_columns).intersection(WP_none.names()))\n",
    "WP_none_Prob_LNM, WP_none_Prob_Survival = getProbabilities(WP_none, df[overlap], \"Survival5yr\")\n",
    "print(\"Started 6\")\n",
    "overlap = list(set(evidence_columns).intersection(WP_all.names()))\n",
    "WP_all_Prob_LNM, WP_all_Prob_Survival = getProbabilities(WP_all, df[overlap], \"Survival5yr\")\n"
   ],
   "metadata": {
    "collapsed": false
   },
   "id": "316f93eec6e33083"
  },
  {
   "cell_type": "markdown",
   "source": [
    "Unpack the results"
   ],
   "metadata": {
    "collapsed": false
   },
   "id": "c207b65cf960da0"
  },
  {
   "cell_type": "code",
   "execution_count": null,
   "outputs": [],
   "source": [
    "# Get the results for the LNM\n",
    "#resultsLNM = getProbResults(prob_LNM, 1)\n",
    "OrResultsSurv = getProbResults(Or_Prob_Survival, 1)\n",
    "WOP_MRI_ResultsSurv = getProbResults(WOP_MRI_Prob_Survival, 1)\n",
    "WOP_TCGA_ResultsSurv = getProbResults(WOP_TCGA_Prob_Survival, 1)\n",
    "WOP_all_ResultsSurv = getProbResults(WOP_all_Prob_Survival, 1)\n",
    "WP_none_ResultsSurv = getProbResults(WP_none_Prob_Survival, 1)\n",
    "WP_all_ResultsSurv = getProbResults(WP_all_Prob_Survival, 1)\n"
   ],
   "metadata": {
    "collapsed": false
   },
   "id": "bcc6eaab514066f2"
  },
  {
   "cell_type": "markdown",
   "source": [
    "Retrieve the metrics for the model"
   ],
   "metadata": {
    "collapsed": false
   },
   "id": "b94a422d2af8da43"
  },
  {
   "cell_type": "code",
   "execution_count": null,
   "outputs": [],
   "source": [
    "# Get the metrics for the LNM\n",
    "#metricsLNM = getSlimMetrics(resultsLNM, target_LNM)\n",
    "OrMetricsSurv = getSlimMetrics(OrResultsSurv, target_Surv)\n",
    "WOP_MRI_MetricsSurv = getSlimMetrics(WOP_MRI_ResultsSurv, target_Surv)\n",
    "WOP_TCGA_MetricsSurv = getSlimMetrics(WOP_TCGA_ResultsSurv, target_Surv)\n",
    "WOP_all_MetricsSurv = getSlimMetrics(WOP_all_ResultsSurv, target_Surv)\n",
    "WP_none_MetricsSurv = getSlimMetrics(WP_none_ResultsSurv, target_Surv)\n",
    "WP_all_MetricsSurv = getSlimMetrics(WP_all_ResultsSurv, target_Surv)"
   ],
   "metadata": {
    "collapsed": false
   },
   "id": "60272db5aa1cbbc8"
  },
  {
   "cell_type": "markdown",
   "source": [
    "Create a dataframe of the metrics for comparison"
   ],
   "metadata": {
    "collapsed": false
   },
   "id": "3b0b376a5e20df1c"
  },
  {
   "cell_type": "code",
   "execution_count": null,
   "outputs": [],
   "source": [
    "metricsSurv = pd.concat([OrMetricsSurv, WOP_MRI_MetricsSurv, WOP_TCGA_MetricsSurv, WOP_all_MetricsSurv, WP_none_MetricsSurv, WP_all_MetricsSurv], axis=1)\n",
    "\n",
    "metricsSurv.columns = [\"Original\", \"-Plat +MRI\", \"-Plat +TCGA\", \"-Plat+MRI+TCGA\", \"+Plat -MRI -TCGA\", \"+Plat +TCGA +MRI\"]"
   ],
   "metadata": {
    "collapsed": false
   },
   "id": "32e1b1fe4ae63729"
  },
  {
   "cell_type": "code",
   "execution_count": null,
   "outputs": [],
   "source": [
    "metricsSurv"
   ],
   "metadata": {
    "collapsed": false
   },
   "id": "bb7c2d9dde7ae7eb"
  }
 ],
 "metadata": {
  "kernelspec": {
   "display_name": "Python 3",
   "language": "python",
   "name": "python3"
  },
  "language_info": {
   "codemirror_mode": {
    "name": "ipython",
    "version": 2
   },
   "file_extension": ".py",
   "mimetype": "text/x-python",
   "name": "python",
   "nbconvert_exporter": "python",
   "pygments_lexer": "ipython2",
   "version": "2.7.6"
  }
 },
 "nbformat": 4,
 "nbformat_minor": 5
}
