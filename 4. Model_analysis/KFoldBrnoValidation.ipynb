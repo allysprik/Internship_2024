{
 "cells": [
  {
   "cell_type": "markdown",
   "source": [
    "### Author: Ally Sprik\n",
    "### Last-updated: 25-02-2024\n",
    "\n",
    "Goal of this notebook is to load in the data from the KFold cross-validation in R and plot the mean ROC curves for the different models.\n",
    "\n"
   ],
   "metadata": {
    "collapsed": false
   },
   "id": "5a5913ad7b0def77"
  },
  {
   "cell_type": "code",
   "execution_count": null,
   "id": "initial_id",
   "metadata": {
    "collapsed": true
   },
   "outputs": [],
   "source": [
    "import numpy as np\n",
    "import pandas as pd\n",
    "import os\n",
    "\n",
    "filenameList = os.listdir('Transfer_results')\n",
    "filenameList = [x for x in filenameList if x.endswith('.csv')]"
   ]
  },
  {
   "cell_type": "markdown",
   "source": [
    "The following code loads in the fold validation and result data "
   ],
   "metadata": {
    "collapsed": false
   },
   "id": "134a8b3580d63fc2"
  },
  {
   "cell_type": "code",
   "execution_count": null,
   "outputs": [],
   "source": [
    "noPlat_MRI = pd.DataFrame()\n",
    "noPlat_noRest = pd.DataFrame()\n",
    "noPlat_TCGA = pd.DataFrame()\n",
    "noPlat_TCGA_MRI = pd.DataFrame()\n",
    "Or_nets = pd.DataFrame()\n",
    "Plat_NoRest = pd.DataFrame()\n",
    "Plat_all = pd.DataFrame()\n",
    "\n",
    "for i in range(len(filenameList)):\n",
    "    filename = filenameList[i]\n",
    "    \n",
    "    modelType = filename[8:-10] if filename.__contains__(\"_LNM\") else (filename[:-6] if filename.__contains__(\"Testset\") else filename[8:-11])\n",
    "    number = int(filename[-5])\n",
    "    node = 'LNM' if filename.__contains__(\"_LNM\") else ('surv' if filename.__contains__(\"_Surv\") else 'test')\n",
    "    \n",
    "    data = pd.read_csv('Transfer_results/' + filename, index_col=0).transpose().reset_index(drop=True)\n",
    "    if number == 1: # First is all NaN in LNM\n",
    "        continue\n",
    "    try:\n",
    "        if modelType == 'NoPlat_MRI':\n",
    "            if node == 'LNM':\n",
    "                col = 'LNM_' + str(number)\n",
    "                noPlat_MRI[col] = data\n",
    "            elif node == 'surv':\n",
    "                col = 'surv_' + str(number)\n",
    "                noPlat_MRI[col] = data\n",
    "        elif modelType == 'NoPlat_NoRest':\n",
    "            if node == 'LNM':\n",
    "                col = 'LNM_' + str(number)\n",
    "                noPlat_noRest[col] = data\n",
    "            elif node == 'surv':\n",
    "                col = 'surv_' + str(number)\n",
    "                noPlat_noRest[col] = data\n",
    "        elif modelType == 'NoPlat_TCGA':\n",
    "            if node == 'LNM':\n",
    "                col = 'LNM_' + str(number)\n",
    "                noPlat_TCGA[col] = data\n",
    "            elif node == 'surv':\n",
    "                col = 'surv_' + str(number)\n",
    "                noPlat_TCGA[col] = data\n",
    "        elif modelType == 'NoPlat_TCGA_MRI':\n",
    "            if node == 'LNM':\n",
    "                col = 'LNM_' + str(number)\n",
    "                noPlat_TCGA_MRI[col] = data\n",
    "            elif node == 'surv':\n",
    "                col = 'surv_' + str(number)\n",
    "                noPlat_TCGA_MRI[col] = data\n",
    "        elif modelType == 'Or':\n",
    "            if node == 'LNM':\n",
    "                col = 'LNM_' + str(number)\n",
    "                Or_nets[col] = data\n",
    "            elif node == 'surv':\n",
    "                col = 'surv_' + str(number)\n",
    "                Or_nets[col] = data\n",
    "        elif modelType == 'Plat_NoRest':\n",
    "            if node == 'LNM':\n",
    "                col = 'LNM_' + str(number)\n",
    "                Plat_NoRest[col] = data\n",
    "            elif node == 'surv':\n",
    "                col = 'surv_' + str(number)\n",
    "                Plat_NoRest[col] = data\n",
    "        elif modelType == 'Plat_TCGA_MRI':\n",
    "            if node == 'LNM':\n",
    "                col = 'LNM_' + str(number)\n",
    "                Plat_all[col] = data\n",
    "            elif node == 'surv':\n",
    "                col = 'surv_' + str(number)\n",
    "                Plat_all[col] = data\n",
    "        else:\n",
    "            print('Error: Non matching - ' + filename + \" - \" + modelType)\n",
    "    except Exception as e:\n",
    "        print(e)\n",
    "        print(filename)\n",
    "        \n",
    "            \n",
    "        \n",
    "Testset_2 = pd.read_csv('Transfer_results/Testset_2.csv', index_col=0)\n",
    "Testset_3 = pd.read_csv('Transfer_results/Testset_3.csv', index_col=0)\n",
    "Testset_4 = pd.read_csv('Transfer_results/Testset_4.csv', index_col=0)\n",
    "Testset_5 = pd.read_csv('Transfer_results/Testset_5.csv', index_col=0)\n",
    "Testset_6 = pd.read_csv('Transfer_results/Testset_6.csv', index_col=0)\n",
    "\n",
    "TestSets = pd.DataFrame({'idx':[2,3,4,5,6], 'sets':[Testset_2, Testset_3, Testset_4, Testset_5, Testset_6]})\n",
    "        "
   ],
   "metadata": {
    "collapsed": false
   },
   "id": "1fab752f3f0224c5"
  },
  {
   "cell_type": "markdown",
   "source": [
    "The following code defines two functions to get the mean ROC curve and plot the mean ROC curve for the different models."
   ],
   "metadata": {
    "collapsed": false
   },
   "id": "68fcccc7ef4ac87e"
  },
  {
   "cell_type": "code",
   "execution_count": null,
   "outputs": [],
   "source": [
    "from matplotlib_inline.backend_inline import set_matplotlib_formats\n",
    "import matplotlib.pyplot as plt\n",
    "import seaborn as sns\n",
    "from sklearn.metrics import roc_curve, auc\n",
    "from itertools import cycle\n",
    "\n",
    "def getmeanROC(modelData, TestSets, target):    \n",
    "    fpr = dict()\n",
    "    tpr = dict()\n",
    "    roc_auc = dict()\n",
    "    \n",
    "    for i in range(2,7):\n",
    "        testset = TestSets['sets'].iloc[i-2][target].replace({'yes':1, 'no':0})\n",
    "        targetx = 'surv' if target == 'Survival5yr' else 'LNM'\n",
    "        model = modelData[targetx+'_' + str(i)]\n",
    "            \n",
    "        fpr[i], tpr[i], _ = roc_curve(testset, model)\n",
    "        roc_auc[i] = auc(fpr[i], tpr[i])\n",
    "    \n",
    "    all_fpr = np.unique(np.concatenate([fpr[i] for i in range(2,7)]))\n",
    "    \n",
    "    mean_tpr = np.zeros_like(all_fpr)\n",
    "    for i in range(2,7):\n",
    "        mean_tpr += np.interp(all_fpr, fpr[i], tpr[i])\n",
    "    \n",
    "    mean_tpr /= len(TestSets)\n",
    "    \n",
    "    fpr[\"macro\"] = all_fpr\n",
    "    tpr[\"macro\"] = mean_tpr\n",
    "    \n",
    "    roc_auc[\"macro\"] = auc(fpr[\"macro\"], tpr[\"macro\"])\n",
    "    \n",
    "    tpr[\"macro\"][0] = 0.0\n",
    "\n",
    "    \n",
    "    return fpr, tpr, roc_auc\n",
    "\n",
    "def plotMeanROC(fpr, tpr, roc_auc, target, title):\n",
    "    plt.figure(figsize=(6,6))\n",
    "    plt.plot(fpr[\"macro\"], tpr[\"macro\"],\n",
    "             label='Mean ROC curve (AUC = {0:0.2f})'\n",
    "                   ''.format(roc_auc[\"macro\"]),\n",
    "             color='navy', linestyle='-', linewidth=2)\n",
    "    \n",
    "    colors = cycle(['aqua', 'darkorange', 'cornflowerblue', 'red', 'green', 'yellow'])\n",
    "    \n",
    "    for i, color in zip(range(2,7), colors):\n",
    "        plt.plot(fpr[i], tpr[i], color=color, linestyle=':', lw=2, alpha=0.5,\n",
    "                 label='Set {0} (AUC = {1:0.2f})'\n",
    "                 ''.format(i, roc_auc[i]))\n",
    "    \n",
    "    plt.plot([0, 1], [0, 1], 'k--', lw=2)\n",
    "    plt.xlim([-0.05, 1.0])\n",
    "    plt.ylim([-0.05, 1.05])\n",
    "    plt.xlabel('False Positive Rate')\n",
    "    plt.ylabel('True Positive Rate')\n",
    "    \n",
    "    plt.title(title)\n",
    "    plt.legend(loc=\"lower right\")\n",
    "    plt.show()\n",
    "    \n",
    "    \n",
    "    "
   ],
   "metadata": {
    "collapsed": false
   },
   "id": "4c67027234c099f9"
  },
  {
   "cell_type": "markdown",
   "source": [
    "Get the mean ROC curves for the different models on LNM"
   ],
   "metadata": {
    "collapsed": false
   },
   "id": "5f38f5f884a11837"
  },
  {
   "cell_type": "code",
   "execution_count": null,
   "outputs": [],
   "source": [
    "# LNM \n",
    "fpr_noPlat_norest, tpr_noPlat_norest, roc_auc_noPlat_norest = getmeanROC(noPlat_noRest, TestSets, 'LNM')\n",
    "plotMeanROC(fpr_noPlat_norest, tpr_noPlat_norest, roc_auc_noPlat_norest, 'LNM', 'NoPlat_NoRest')\n",
    "\n",
    "fpr_noPlat_MRI, tpr_noPlat_MRI, roc_auc_noPlat_MRI = getmeanROC(noPlat_MRI, TestSets, 'LNM')\n",
    "plotMeanROC(fpr_noPlat_MRI, tpr_noPlat_MRI, roc_auc_noPlat_MRI, 'LNM', 'NoPlat_MRI')\n",
    "\n",
    "fpr_noPlat_TCGA, tpr_noPlat_TCGA, roc_auc_noPlat_TCGA = getmeanROC(noPlat_TCGA, TestSets, 'LNM')\n",
    "plotMeanROC(fpr_noPlat_TCGA, tpr_noPlat_TCGA, roc_auc_noPlat_TCGA, 'LNM', 'NoPlat_TCGA')\n",
    "\n",
    "fpr_noPlat_TCGA_MRI, tpr_noPlat_TCGA_MRI, roc_auc_noPlat_TCGA_MRI = getmeanROC(noPlat_TCGA_MRI, TestSets, 'LNM')\n",
    "plotMeanROC(fpr_noPlat_TCGA_MRI, tpr_noPlat_TCGA_MRI, roc_auc_noPlat_TCGA_MRI, 'LNM', 'NoPlat_TCGA_MRI')\n",
    "\n",
    "fpr_Or_nets, tpr_Or_nets, roc_auc_Or_nets = getmeanROC(Or_nets, TestSets, 'LNM')\n",
    "plotMeanROC(fpr_Or_nets, tpr_Or_nets, roc_auc_Or_nets, 'LNM', 'Or')\n",
    "\n",
    "fpr_Plat_NoRest, tpr_Plat_NoRest, roc_auc_Plat_NoRest = getmeanROC(Plat_NoRest, TestSets, 'LNM')\n",
    "plotMeanROC(fpr_Plat_NoRest, tpr_Plat_NoRest, roc_auc_Plat_NoRest, 'LNM', 'Plat_NoRest')\n",
    "\n",
    "fpr_Plat_all, tpr_Plat_all, roc_auc_Plat_all = getmeanROC(Plat_all, TestSets, 'LNM')\n",
    "plotMeanROC(fpr_Plat_all, tpr_Plat_all, roc_auc_Plat_all, 'LNM', 'Brno cross-validation on LNM \\n New model with additions')\n",
    "\n",
    "\n",
    "\n",
    "\n"
   ],
   "metadata": {
    "collapsed": false
   },
   "id": "82fd50374766063c"
  },
  {
   "cell_type": "markdown",
   "source": [
    "Get the mean ROC curves for the all included model on Survival5yr"
   ],
   "metadata": {
    "collapsed": false
   },
   "id": "8d28b7f7426e64ca"
  },
  {
   "cell_type": "code",
   "execution_count": null,
   "outputs": [],
   "source": [
    "fpr_Plat_all, tpr_Plat_all, roc_auc_Plat_all = getmeanROC(Plat_all, TestSets, 'Survival5yr')\n",
    "plotMeanROC(fpr_Plat_all, tpr_Plat_all, roc_auc_Plat_all, 'Survival5yr', 'Brno cross-validation on five-year-survival \\n New model with additions')\n"
   ],
   "metadata": {
    "collapsed": false
   },
   "id": "5aad6b6165bc462c"
  },
  {
   "cell_type": "markdown",
   "source": [
    "Plot all the mean ROC curves in one plot"
   ],
   "metadata": {
    "collapsed": false
   },
   "id": "caf7b58bd354a1fa"
  },
  {
   "cell_type": "code",
   "execution_count": null,
   "outputs": [],
   "source": [
    "# Comparison of all the mean ROC curves in one plot\n",
    "plt.figure(figsize=(7,7))\n",
    "\n",
    "plt.plot(fpr_noPlat_norest[\"macro\"], tpr_noPlat_norest[\"macro\"],\n",
    "         label='NoPlat_NoRest (area = {0:0.2f})'\n",
    "               ''.format(roc_auc_noPlat_norest[\"macro\"]), linewidth=2)\n",
    "\n",
    "plt.plot(fpr_noPlat_MRI[\"macro\"], tpr_noPlat_MRI[\"macro\"],\n",
    "            label='NoPlat_MRI (area = {0:0.2f})'\n",
    "                ''.format(roc_auc_noPlat_MRI[\"macro\"]), linewidth=2)\n",
    "\n",
    "plt.plot(fpr_noPlat_TCGA[\"macro\"], tpr_noPlat_TCGA[\"macro\"],\n",
    "            label='NoPlat_TCGA (area = {0:0.2f})'\n",
    "                ''.format(roc_auc_noPlat_TCGA[\"macro\"]), linewidth=2)\n",
    "\n",
    "plt.plot(fpr_noPlat_TCGA_MRI[\"macro\"], tpr_noPlat_TCGA_MRI[\"macro\"],\n",
    "            label='NoPlat_TCGA_MRI (area = {0:0.2f})'\n",
    "                ''.format(roc_auc_noPlat_TCGA_MRI[\"macro\"]), linewidth=2)\n",
    "\n",
    "plt.plot(fpr_Or_nets[\"macro\"], tpr_Or_nets[\"macro\"],\n",
    "            label='Or_nets (area = {0:0.2f})'\n",
    "                ''.format(roc_auc_Or_nets[\"macro\"]),  linewidth=2)\n",
    "\n",
    "plt.plot(fpr_Plat_NoRest[\"macro\"], tpr_Plat_NoRest[\"macro\"],\n",
    "            label='Plat_NoRest (area = {0:0.2f})'\n",
    "                ''.format(roc_auc_Plat_NoRest[\"macro\"]),  linewidth=2)\n",
    "\n",
    "plt.plot(fpr_Plat_all[\"macro\"], tpr_Plat_all[\"macro\"],\n",
    "            label='Plat_all (area = {0:0.2f})'\n",
    "                ''.format(roc_auc_Plat_all[\"macro\"]),  linewidth=2)\n",
    "\n",
    "plt.plot([0, 1], [0, 1], 'k--', lw=2)\n",
    "plt.xlim([-0.05, 1.0])\n",
    "plt.ylim([-0.05, 1.05])\n",
    "plt.xlabel('False Positive Rate')\n",
    "plt.ylabel('True Positive Rate')\n",
    "\n",
    "plt.title('ROC curve for LNM prediction using all models')\n",
    "plt.legend(loc=\"lower right\")\n",
    "plt.show()\n",
    "\n"
   ],
   "metadata": {
    "collapsed": false
   },
   "id": "bf7ce81c2cd4c596"
  }
 ],
 "metadata": {
  "kernelspec": {
   "display_name": "Python 3",
   "language": "python",
   "name": "python3"
  },
  "language_info": {
   "codemirror_mode": {
    "name": "ipython",
    "version": 2
   },
   "file_extension": ".py",
   "mimetype": "text/x-python",
   "name": "python",
   "nbconvert_exporter": "python",
   "pygments_lexer": "ipython2",
   "version": "2.7.6"
  }
 },
 "nbformat": 4,
 "nbformat_minor": 5
}
