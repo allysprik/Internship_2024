{
 "cells": [
  {
   "cell_type": "markdown",
   "source": [
    "### Author: Ally Sprik\n",
    "### Last-updated: 25-02-2024\n",
    "\n",
    "Goal of this notebook is to get the ROC values with confidence intervals for both sets of data on the nodes 'LNM' and 'Survival5yr'\n",
    "Created for the purpose of an Abstract for a conference"
   ],
   "metadata": {
    "collapsed": false
   },
   "id": "27a02c3788473a9b"
  },
  {
   "cell_type": "code",
   "execution_count": null,
   "id": "initial_id",
   "metadata": {
    "collapsed": true
   },
   "outputs": [],
   "source": [
    "import pandas as pd\n",
    "import numpy as np\n",
    "import pyAgrum as gum\n",
    "import pyAgrum.lib.notebook as gnb\n",
    "from collections import Counter\n",
    "\n",
    "casper_model = gum.loadBN(\"../../0. Source_files/0.4. Original_Casper_files/Results/Casper_fitted_952.net\")\n",
    "WPlat_all = gum.loadBN(\"../1.3. Model/Fitted_Networks/R_WP_all_952.net\")\n",
    "\n",
    "df_brno = pd.read_csv(\"../../0. Source_files/0.2. Cleaned_data/Cleaned_Brno_model_complete.csv\")\n",
    "df_mayo = pd.read_csv(\"../../0. Source_files/0.2. Cleaned_data/MAYO_cleaned_model.csv\")\n",
    "\n",
    "pd.options.mode.copy_on_write = True  # This will allow the code to run faster and keep Pandas happy. Technical detail: https://pandas.pydata.org/pandas-docs/stable/user_guide/copy_on_write.html#\n",
    "\n",
    "# Fix labels in MAYO\n",
    "df_mayo = df_mayo.replace({1:\"yes\", 0:\"no\", \"<50%\":\"lt_50\", \">50%\":\"ge_50\", \"No invasion\":\"lt_50\"})\n",
    "df_mayo[\"Cytology\"] = df_mayo[\"Cytology\"].replace({\"no\":\"benign\", \"yes\":\"malignant\"})\n",
    "\n",
    "# Define evidence columns\n",
    "evidence_columns = [\"ER\", \"PR\", \"p53\", \"L1CAM\", \"Platelets\", \"Cytology\", \"MRI_MI\", \"MSI\", \"POLE\", \"PreoperativeGrade\", \"CA125\"]\n",
    "\n",
    "# Create subsets on which validation can be performed\n",
    "df_brno_LNM = df_brno.dropna(subset=[\"LNM\"])\n",
    "df_brno_Survival = df_brno.dropna(subset=[\"Survival5yr\"])\n",
    "\n",
    "df_mayo_LNM = df_mayo.dropna(subset=[\"LNM\"])\n",
    "df_mayo_Survival = df_mayo.dropna(subset=[\"Survival5yr\"])\n",
    "\n"
   ]
  },
  {
   "cell_type": "markdown",
   "source": [
    "Define the function to go through the data and generate results\n",
    "\n",
    "Pseudocode:\n",
    "- Create a function to get the probabilities\n",
    "    - Create a list to store the results\n",
    "    - For each row in the evidence set\n",
    "        - Set the evidence\n",
    "        - Make inference\n",
    "        - Get the posterior\n",
    "        - Append the result to the list\n",
    "    - Return the list"
   ],
   "metadata": {
    "collapsed": false
   },
   "id": "f652c0cf716c16e4"
  },
  {
   "cell_type": "code",
   "execution_count": null,
   "outputs": [],
   "source": [
    "def getProbabilities(model, evidence_LNM, evidence_Surv, Surv = \"Survival5yr\", samples = 100):\n",
    "    ls_result_LNM = []\n",
    "    ls_result_Surv = []\n",
    "    \n",
    "    #for i in range(1, samples):\n",
    "    resultsLNM = []\n",
    "    resultsSurvival = []\n",
    "    net = gum.LazyPropagation(model)\n",
    "    net.getNumberOfThreads()\n",
    "    net.setNumberOfThreads(10)\n",
    "    \n",
    "    for j in range(len(evidence_LNM)):\n",
    "        evidencerow = evidence_LNM.iloc[j]\n",
    "        evidencerow = evidencerow.dropna().to_dict()\n",
    "        \n",
    "        try:\n",
    "            net.setEvidence(evidencerow)\n",
    "            \n",
    "            net.makeInference()\n",
    "\n",
    "            resultLNM = net.posterior(\"LNM\")\n",
    "            \n",
    "            resultsLNM.append(resultLNM)\n",
    "        except Exception as error:\n",
    "            print(\"Error at row regarding LNM\", j)\n",
    "            print(error)\n",
    "            \n",
    "            resultsLNM.append(resultLNM)\n",
    "\n",
    "    \n",
    "    for j in range(len(evidence_Surv)):\n",
    "        evidencerow = evidence_Surv.iloc[j]\n",
    "        evidencerow = evidencerow.dropna().to_dict()\n",
    "        \n",
    "        try:\n",
    "            net.setEvidence(evidencerow)\n",
    "            \n",
    "            net.makeInference()\n",
    "\n",
    "            resultSurvival = net.posterior(\"Survival5yr\")\n",
    "            \n",
    "            resultsSurvival.append(resultSurvival)\n",
    "        except Exception as error:\n",
    "            print(\"Error at row regarding Survival\", j)\n",
    "            print(error)\n",
    "            \n",
    "            resultsSurvival.append(resultSurvival)\n",
    "\n",
    "        \n",
    "    return resultsLNM, resultsSurvival"
   ],
   "metadata": {
    "collapsed": false
   },
   "id": "1ba4881b2498b767"
  },
  {
   "cell_type": "markdown",
   "source": [
    "Define function to unpack the results"
   ],
   "metadata": {
    "collapsed": false
   },
   "id": "4c2b47a3d4b779b8"
  },
  {
   "cell_type": "code",
   "execution_count": null,
   "outputs": [],
   "source": [
    "def getProbResults(results, target):\n",
    "    res = []\n",
    "    \n",
    "    for i in range(len(results)):\n",
    "        res.append(results[i][target])\n",
    "    return pd.DataFrame(res)"
   ],
   "metadata": {
    "collapsed": false
   },
   "id": "42d82c2cd31e4e11"
  },
  {
   "cell_type": "markdown",
   "source": [
    "Create evidence sets\n",
    "\n",
    "Pseudocode:\n",
    "- Copy the LNM and Survival columns\n",
    "- Replace the values with 1 and 0\n",
    "- Create a new dataframe with only the evidence columns\n",
    "- Repeat for both datasets"
   ],
   "metadata": {
    "collapsed": false
   },
   "id": "9ea0989c57290bf0"
  },
  {
   "cell_type": "code",
   "execution_count": null,
   "outputs": [],
   "source": [
    "brno_LNM_true = df_brno_LNM['LNM'].replace({\"yes\":1, \"no\":0})\n",
    "df_brno_LNM = df_brno_LNM[evidence_columns]\n",
    "\n",
    "brno_Surv_true = df_brno_Survival['Survival5yr'].replace({\"yes\":1, \"no\":0})\n",
    "df_brno_Survival = df_brno_Survival[evidence_columns]\n",
    "\n",
    "mayo_LNM_true = df_mayo_LNM['LNM_micromacro'].replace({\"yes\":1, \"no\":0})\n",
    "df_mayo_LNM = df_mayo_LNM[evidence_columns]\n",
    "\n",
    "mayo_Surv_true = df_mayo_Survival['Survival5yr'].replace({\"yes\":1, \"no\":0})\n",
    "df_mayo_Survival = df_mayo_Survival[evidence_columns]"
   ],
   "metadata": {
    "collapsed": false
   },
   "id": "65cff4cea1fdcb88"
  },
  {
   "cell_type": "markdown",
   "source": [
    "Get the results for the networks and both datasets"
   ],
   "metadata": {
    "collapsed": false
   },
   "id": "4100004082375ff"
  },
  {
   "cell_type": "code",
   "execution_count": null,
   "outputs": [],
   "source": [
    "print(\"Brno LNM\")\n",
    "brno_results_LNM, brno_results_Survival = getProbabilities(WPlat_all, df_brno_LNM, df_brno_Survival)\n",
    "\n",
    "print(\"Mayo LNM\")\n",
    "mayo_results_LNM, mayo_results_Survival = getProbabilities(WPlat_all, df_mayo_LNM, df_mayo_Survival)\n",
    "\n",
    "\n",
    "Casper_df_brno_LNM = df_brno_LNM.copy().drop(columns=[\"MRI_MI\", \"MSI\", \"POLE\"])\n",
    "Casper_df_brno_Survival = df_brno_Survival.copy().drop(columns=[\"MRI_MI\", \"MSI\", \"POLE\"])\n",
    "\n",
    "Casper_df_mayo_LNM = df_mayo_LNM.copy().drop(columns=[\"MRI_MI\", \"MSI\", \"POLE\"])\n",
    "Casper_df_mayo_Survival = df_mayo_Survival.copy().drop(columns=[\"MRI_MI\", \"MSI\", \"POLE\"])\n",
    "\n",
    "print(\"Brno LNM, Casper\")\n",
    "brno_results_LNM_casper, brno_results_Survival_casper = getProbabilities(casper_model, Casper_df_brno_LNM, Casper_df_brno_Survival)\n",
    "\n",
    "print(\"Mayo LNM, Casper\")\n",
    "mayo_results_LNM_casper, mayo_results_Survival_casper = getProbabilities(casper_model, Casper_df_mayo_LNM, Casper_df_mayo_Survival)\n",
    "    "
   ],
   "metadata": {
    "collapsed": false
   },
   "id": "1b1d0f756d6d699a"
  },
  {
   "cell_type": "markdown",
   "source": [
    "Unpack the results"
   ],
   "metadata": {
    "collapsed": false
   },
   "id": "7f1728053f18ec4"
  },
  {
   "cell_type": "code",
   "execution_count": null,
   "outputs": [],
   "source": [
    "brno_LNM_prob = getProbResults(brno_results_LNM, 1)\n",
    "brno_Survival_prob = getProbResults(brno_results_Survival, 1)\n",
    "\n",
    "mayo_LNM_prob = getProbResults(mayo_results_LNM, 1)\n",
    "mayo_Survival_prob = getProbResults(mayo_results_Survival, 1)\n",
    "\n",
    "brno_LNM_prob_casper = getProbResults(brno_results_LNM_casper, 1)\n",
    "brno_Survival_prob_casper = getProbResults(brno_results_Survival_casper, 1)\n",
    "\n",
    "mayo_LNM_prob_casper = getProbResults(mayo_results_LNM_casper, 1)\n",
    "mayo_Survival_prob_casper = getProbResults(mayo_results_Survival_casper, 1)"
   ],
   "metadata": {
    "collapsed": false
   },
   "id": "5a08bc4d4348ffa8"
  },
  {
   "cell_type": "markdown",
   "source": [
    "Bootstrap the results to determine a confidence interval\n",
    "\n",
    "Pseudocode, line by line:\n",
    "- Create a list to store the results\n",
    "- For each bootstrap sample\n",
    "    - Sample the data\n",
    "    - Get the true values\n",
    "    - Get the AUC\n",
    "    - Append the AUC to the list\n",
    "- Return the list"
   ],
   "metadata": {
    "collapsed": false
   },
   "id": "237bd63ad7a5d8d"
  },
  {
   "cell_type": "code",
   "execution_count": null,
   "outputs": [],
   "source": [
    "import matplotlib.pyplot as plt\n",
    "from sklearn.metrics import roc_auc_score\n",
    "\n",
    "# Generate new bootstrap samples, then \n",
    "samples = 200 \n",
    "bootstrap_samples = 1000\n",
    "alpha = 0.05\n",
    "\n",
    "brno_LNM_ROC = []\n",
    "brno_Survival_ROC = []\n",
    "\n",
    "mayo_LNM_ROC = []\n",
    "mayo_Survival_ROC = []\n",
    "\n",
    "brno_LNM_ROC_casper = []\n",
    "brno_Survival_ROC_casper = []\n",
    "\n",
    "mayo_LNM_ROC_casper = []\n",
    "mayo_Survival_ROC_casper = []\n",
    "\n",
    "for i in range(bootstrap_samples):\n",
    "    brno_LNM_prob_temp = brno_LNM_prob.sample(n=samples, replace=True)\n",
    "    brno_Survival_prob_temp = brno_Survival_prob.sample(n=samples, replace=True)\n",
    "    \n",
    "    brno_LNM_res_temp = brno_LNM_true.iloc[brno_LNM_prob_temp.index]\n",
    "    brno_Survival_res_temp = brno_Surv_true.iloc[brno_Survival_prob_temp.index]\n",
    "    \n",
    "    mayo_LNM_prob_temp = mayo_LNM_prob.sample(n=samples, replace=True)\n",
    "    mayo_Survival_prob_temp = mayo_Survival_prob.sample(n=samples, replace=True)\n",
    "    \n",
    "    mayo_LNM_res_temp = mayo_LNM_true.iloc[mayo_LNM_prob_temp.index]\n",
    "    mayo_Survival_res_temp = mayo_Surv_true.iloc[mayo_Survival_prob_temp.index]\n",
    "    \n",
    "    brno_LNM_ROC.append(roc_auc_score(brno_LNM_res_temp, brno_LNM_prob_temp))\n",
    "    brno_Survival_ROC.append(roc_auc_score(brno_Survival_res_temp, brno_Survival_prob_temp))\n",
    "    \n",
    "    mayo_LNM_ROC.append(roc_auc_score(mayo_LNM_res_temp, mayo_LNM_prob_temp))\n",
    "    mayo_Survival_ROC.append(roc_auc_score(mayo_Survival_res_temp, mayo_Survival_prob_temp))\n",
    "    \n",
    "    # Casper model\n",
    "    \n",
    "    brno_LNM_prob_temp_casper = brno_LNM_prob_casper.sample(n=samples, replace=True)\n",
    "    brno_Survival_prob_temp_casper = brno_Survival_prob_casper.sample(n=samples, replace=True)\n",
    "    \n",
    "    brno_LNM_res_temp_casper = brno_LNM_true.iloc[brno_LNM_prob_temp_casper.index]\n",
    "    brno_Survival_res_temp_casper = brno_Surv_true.iloc[brno_Survival_prob_temp_casper.index]\n",
    "    \n",
    "    mayo_LNM_prob_temp_casper = mayo_LNM_prob_casper.sample(n=samples, replace=True)\n",
    "    mayo_Survival_prob_temp_casper = mayo_Survival_prob_casper.sample(n=samples, replace=True)\n",
    "    \n",
    "    mayo_LNM_res_temp_casper = mayo_LNM_true.iloc[mayo_LNM_prob_temp_casper.index]\n",
    "    mayo_Survival_res_temp_casper = mayo_Surv_true.iloc[mayo_Survival_prob_temp_casper.index]\n",
    "    \n",
    "    brno_LNM_ROC_casper.append(roc_auc_score(brno_LNM_res_temp_casper, brno_LNM_prob_temp_casper))\n",
    "    brno_Survival_ROC_casper.append(roc_auc_score(brno_Survival_res_temp_casper, brno_Survival_prob_temp_casper))\n",
    "    \n",
    "    mayo_LNM_ROC_casper.append(roc_auc_score(mayo_LNM_res_temp_casper, mayo_LNM_prob_temp_casper))\n",
    "    mayo_Survival_ROC_casper.append(roc_auc_score(mayo_Survival_res_temp_casper, mayo_Survival_prob_temp_casper))\n",
    "    "
   ],
   "metadata": {
    "collapsed": false
   },
   "id": "7cfacc3ee01bc8bf"
  },
  {
   "cell_type": "markdown",
   "source": [
    "Create a function to define the confidence interval and print it\n",
    "\n",
    "Pseudocode:\n",
    "- Define a function to calculate the mean and confidence interval\n",
    "    - Calculate the mean\n",
    "    - Calculate the standard error\n",
    "    - Calculate the confidence interval\n",
    "    - Return the mean and confidence interval"
   ],
   "metadata": {
    "collapsed": false
   },
   "id": "6ea0e7fec120038c"
  },
  {
   "cell_type": "code",
   "execution_count": null,
   "outputs": [],
   "source": [
    "# Calculate average AUC and 95% confidence interval\n",
    "from scipy.stats import sem, t\n",
    "\n",
    "def mean_confidence_interval(data, confidence=0.95):\n",
    "    a = 1.0 * np.array(data)\n",
    "    n = len(a)\n",
    "    \n",
    "    m, se = np.mean(a), sem(a)\n",
    "    h = se * t.ppf((1 + confidence) / 2., n-1)\n",
    "    \n",
    "    return m, m-h, m+h"
   ],
   "metadata": {
    "collapsed": false
   },
   "id": "ec615941dc03a7a6"
  },
  {
   "cell_type": "markdown",
   "source": [
    "Print the results\n",
    "\n",
    "Pseudocode:\n",
    "- For each dataset and each network\n",
    "    - Calculate the mean and confidence interval through the function\n",
    "    - Print the result"
   ],
   "metadata": {
    "collapsed": false
   },
   "id": "a1e7f8d4ea3f9ea0"
  },
  {
   "cell_type": "code",
   "execution_count": null,
   "outputs": [],
   "source": [
    "brno_LNM_mean, brno_LNM_lower, brno_LNM_upper = mean_confidence_interval(brno_LNM_ROC)\n",
    "brno_Survival_mean, brno_Survival_lower, brno_Survival_upper = mean_confidence_interval(brno_Survival_ROC)\n",
    "\n",
    "mayo_LNM_mean, mayo_LNM_lower, mayo_LNM_upper = mean_confidence_interval(mayo_LNM_ROC)\n",
    "mayo_Survival_mean, mayo_Survival_lower, mayo_Survival_upper = mean_confidence_interval(mayo_Survival_ROC)\n",
    "\n",
    "brno_LNM_mean_casper, brno_LNM_lower_casper, brno_LNM_upper_casper = mean_confidence_interval(brno_LNM_ROC_casper)\n",
    "brno_Survival_mean_casper, brno_Survival_lower_casper, brno_Survival_upper_casper = mean_confidence_interval(brno_Survival_ROC_casper)\n",
    "\n",
    "mayo_LNM_mean_casper, mayo_LNM_lower_casper, mayo_LNM_upper_casper = mean_confidence_interval(mayo_LNM_ROC_casper)\n",
    "mayo_Survival_mean_casper, mayo_Survival_lower_casper, mayo_Survival_upper_casper = mean_confidence_interval(mayo_Survival_ROC_casper)\n",
    "\n",
    "# print the result which is in the form of mean [lower, upper] (95% CI) and rounded \n",
    "print(\"Brno LNM: \", round(brno_LNM_mean, 3), \" [\",round(brno_LNM_lower, 3),\",\", round(brno_LNM_upper, 3),\"]\")\n",
    "print(\"Brno Survival: \", round(brno_Survival_mean, 3), \" [\",round(brno_Survival_lower, 3),\",\", round(brno_Survival_upper, 3),\"]\\n\")\n",
    "\n",
    "print(\"Mayo LNM: \", round(mayo_LNM_mean, 3), \" [\",round(mayo_LNM_lower, 3),\",\", round(mayo_LNM_upper, 3),\"]\")\n",
    "print(\"Mayo Survival: \", round(mayo_Survival_mean, 3), \" [\",round(mayo_Survival_lower, 3),\",\", round(mayo_Survival_upper, 3),\"]\\n\")\n",
    "\n",
    "print(\"Brno LNM, Casper: \", round(brno_LNM_mean_casper, 3), \" [\",round(brno_LNM_lower_casper, 3),\",\", round(brno_LNM_upper_casper, 3),\"]\")\n",
    "print(\"Brno Survival, Casper: \", round(brno_Survival_mean_casper, 3), \" [\",round(brno_Survival_lower_casper, 3),\",\", round(brno_Survival_upper_casper, 3),\"]\\n\")\n",
    "\n",
    "print(\"Mayo LNM, Casper: \", round(mayo_LNM_mean_casper, 3), \" [\",round(mayo_LNM_lower_casper, 3),\",\", round(mayo_LNM_upper_casper, 3),\"]\")\n",
    "print(\"Mayo Survival, Casper: \", round(mayo_Survival_mean_casper, 3), \" [\",round(mayo_Survival_lower_casper, 3),\",\", round(mayo_Survival_upper_casper, 3),\"]\\n\")"
   ],
   "metadata": {
    "collapsed": false
   },
   "id": "4d1a0c80fccba47f"
  },
  {
   "cell_type": "markdown",
   "source": [
    "Create a function to retrieve the FNR at a certain threshold and print them at 0.1\n",
    "You might get an ill-defined error if the sample does not contain both classes\n",
    "\n",
    "Pseudocode:\n",
    "- Create a function to get the FNR\n",
    "    - Create a list to store the results\n",
    "    - For each bootstrap sample\n",
    "        - Sample the data\n",
    "        - Get the true values\n",
    "        - Get the FNR\n",
    "        - Append the FNR to the list\n",
    "    - Return the mean and confidence interval"
   ],
   "metadata": {
    "collapsed": false
   },
   "id": "84f7b8e6f3d88eb1"
  },
  {
   "cell_type": "code",
   "execution_count": null,
   "outputs": [],
   "source": [
    "# Import fnr\n",
    "from sklearn.metrics import confusion_matrix\n",
    "from sklearn.metrics import recall_score\n",
    "# import fnr at 10% theshold to diagnose LNM, also bootstrap this\n",
    "samples = 1000 \n",
    "sample_size = 50\n",
    "def getFNR(true, pred, threshold):\n",
    "    fnrs = []\n",
    "    for i in range(bootstrap_samples):\n",
    "        pred_temp = pred.sample(n=sample_size, replace=True, random_state=i)\n",
    "        true_temp = true.iloc[pred_temp.index]\n",
    "        \n",
    "        for i in range(len(pred_temp)):\n",
    "            try:\n",
    "                if pred_temp.iloc[i][0] >= threshold:\n",
    "                    pred_temp.iloc[i] = 1\n",
    "                else:\n",
    "                    pred_temp.iloc[i] = 0\n",
    "            except Exception as error:\n",
    "                print(error)\n",
    "                print(i)\n",
    "                print(pred_temp.iloc[i])\n",
    "                print(pred_temp.iloc[i])\n",
    "                print(\"-----\")\n",
    "                \n",
    "        fnr = 1 - recall_score(y_true=true_temp, y_pred=pred_temp)\n",
    "        fnrs.append(fnr)\n",
    "    \n",
    "    fnr, lower, upper = mean_confidence_interval(fnrs)\n",
    "    \n",
    "    fnr_string = str(round(fnr, 3)) + \" [\" + str(round(lower, 3)) + \", \" + str(round(upper, 3)) + \"]\"\n",
    "    \n",
    "    return fnr_string\n",
    "    \n",
    "brno_LNM_FNR = getFNR(brno_LNM_true, brno_LNM_prob, 0.1)\n",
    "brno_Survival_FNR = getFNR(brno_Surv_true, brno_Survival_prob, 0.1)\n",
    "\n",
    "mayo_LNM_FNR = getFNR(mayo_LNM_true, mayo_LNM_prob,0.1)\n",
    "mayo_Survival_FNR = getFNR(mayo_Surv_true, mayo_Survival_prob, 0.1)\n",
    "\n",
    "brno_LNM_FNR_Casper = getFNR(brno_LNM_true, brno_LNM_prob_casper, 0.1)\n",
    "brno_Survival_FNR_Casper = getFNR(brno_Surv_true, brno_Survival_prob_casper, 0.1)\n",
    "\n",
    "mayo_LNM_FNR_Casper = getFNR(mayo_LNM_true, mayo_LNM_prob_casper, 0.1)\n",
    "mayo_Survival_FNR_Casper = getFNR(mayo_Surv_true, mayo_Survival_prob_casper, 0.1)\n",
    "print(\"\\n\")\n",
    "\n",
    "print(\"Brno LNM: \", brno_LNM_FNR)\n",
    "print(\"Brno Survival: \", brno_Survival_FNR)\n",
    "print(\"\\n\")\n",
    "\n",
    "print(\"Mayo LNM: \", mayo_LNM_FNR)\n",
    "print(\"Mayo Survival: \", mayo_Survival_FNR)\n",
    "print(\"\\n\")\n",
    "\n",
    "print(\"Brno LNM, Casper: \", brno_LNM_FNR_Casper)    \n",
    "print(\"Brno Survival, Casper: \", brno_Survival_FNR_Casper)\n",
    "print(\"\\n\")\n",
    "\n",
    "print(\"Mayo LNM, Casper: \", mayo_LNM_FNR_Casper)\n",
    "print(\"Mayo Survival, Casper: \", mayo_Survival_FNR_Casper)\n"
   ],
   "metadata": {
    "collapsed": false
   },
   "id": "f37481709f33d399"
  },
  {
   "cell_type": "markdown",
   "source": [
    "Create a function to generate the FPR at a threshold and generate and print it at 0.1\n",
    "\n",
    "Pseudocode:\n",
    "- Create a function to get the FPR\n",
    "      - loop through the data\n",
    "      - threshold the data\n",
    "      - get the confusion matrix\n",
    "      - calculate the FPR\n",
    "      - return the FPR\n",
    "- Print the result"
   ],
   "metadata": {
    "collapsed": false
   },
   "id": "99d82c9281b30cc1"
  },
  {
   "cell_type": "code",
   "execution_count": null,
   "outputs": [],
   "source": [
    "# Import fpr\n",
    "from sklearn.metrics import precision_score\n",
    "# import fpr at 10% theshold to diagnose LNM\n",
    "def getFPR(true, pred, threshold):\n",
    "    for i in range(len(pred)):\n",
    "        try:\n",
    "            if pred.iloc[i][0] >= threshold:\n",
    "                pred.iloc[i] = 1\n",
    "            else:\n",
    "                pred.iloc[i] = 0\n",
    "        except Exception as error:\n",
    "            print(error)\n",
    "            print(i)\n",
    "            print(pred.iloc[i])\n",
    "            print(pred.iloc[i])\n",
    "            print(\"-----\")\n",
    "    \n",
    "    tn, fp, fn, tp = confusion_matrix(y_true=true, y_pred=pred).ravel()\n",
    "    \n",
    "    precision = precision_score(y_true=true, y_pred=pred)\n",
    "    fpr = 1 - precision\n",
    "    \n",
    "    return fpr\n",
    "\n",
    "brno_LNM_FPR = getFPR(brno_LNM_true, brno_LNM_prob, 0.1)\n",
    "brno_Survival_FPR = getFPR(brno_Surv_true, brno_Survival_prob, 0.1)\n",
    "\n",
    "mayo_LNM_FPR = getFPR(mayo_LNM_true, mayo_LNM_prob,0.1)\n",
    "mayo_Survival_FPR = getFPR(mayo_Surv_true, mayo_Survival_prob, 0.1)\n",
    "\n",
    "brno_LNM_FPR_Casper = getFPR(brno_LNM_true, brno_LNM_prob_casper, 0.1)\n",
    "brno_Survival_FPR_Casper = getFPR(brno_Surv_true, brno_Survival_prob_casper, 0.1)\n",
    "\n",
    "mayo_LNM_FPR_Casper = getFPR(mayo_LNM_true, mayo_LNM_prob_casper, 0.1)\n",
    "mayo_Survival_FPR_Casper = getFPR(mayo_Surv_true, mayo_Survival_prob_casper, 0.1)\n",
    "\n",
    "print(\"Brno LNM: \", round(brno_LNM_FPR, 3))\n",
    "print(\"Brno Survival: \", round(brno_Survival_FPR, 3))\n",
    "\n",
    "print(\"Mayo LNM: \", round(mayo_LNM_FPR, 3))\n",
    "print(\"Mayo Survival: \", round(mayo_Survival_FPR, 3))\n",
    "print(\"\\n\")\n",
    "print(\"Brno LNM, Casper: \", round(brno_LNM_FPR_Casper, 3))\n",
    "print(\"Brno Survival, Casper: \", round(brno_Survival_FPR_Casper, 3))\n",
    "print(\"\\n\")\n",
    "\n",
    "print(\"Mayo LNM, Casper: \", round(mayo_LNM_FPR_Casper, 3))\n",
    "print(\"Mayo Survival, Casper: \", round(mayo_Survival_FPR_Casper, 3))"
   ],
   "metadata": {
    "collapsed": false
   },
   "id": "269045805277f175"
  },
  {
   "cell_type": "markdown",
   "source": [
    "Create a function to generate the PPV at a threshold and generate and print it at 0.1\n",
    "\n",
    "Pseudocode:\n",
    "- Create a function to get the PPV\n",
    "    - Threshold the data\n",
    "    - Get the confusion matrix\n",
    "    - Calculate the PPV\n",
    "    - Return the PPV\n",
    "- Print the result"
   ],
   "metadata": {
    "collapsed": false
   },
   "id": "d1edf9ff3f6ae1ae"
  },
  {
   "cell_type": "code",
   "execution_count": null,
   "outputs": [],
   "source": [
    "# Get PPV\n",
    "def getPPV(data, result, threshold = 0.1):\n",
    "    for i in range(len(data)):\n",
    "        try:\n",
    "            if data.iloc[i][0] > threshold:\n",
    "                data.iloc[i] = 1\n",
    "            else:\n",
    "                data.iloc[i] = 0\n",
    "        except Exception as error:\n",
    "            print(error)\n",
    "            print(i)\n",
    "            print(data.iloc[i])\n",
    "            print(result.iloc[i])\n",
    "            print(\"-----\")\n",
    "    tn, fp, fn, tp = confusion_matrix(result, data).ravel()\n",
    "    \n",
    "    return tp/(tp+fp)\n",
    "\n",
    "brno_LNM_PPV = getPPV(brno_LNM_prob, brno_LNM_true, 0.1)\n",
    "brno_Survival_PPV = getPPV(brno_Survival_prob, brno_Surv_true, 0.1)\n",
    "\n",
    "mayo_LNM_PPV = getPPV(mayo_LNM_prob, mayo_LNM_true, 0.1)\n",
    "mayo_Survival_PPV = getPPV(mayo_Survival_prob, mayo_Surv_true, 0.1)\n",
    "\n",
    "brno_LNM_PPV_Casper = getPPV(brno_LNM_prob_casper, brno_LNM_true, 0.1)\n",
    "brno_Survival_PPV_Casper = getPPV(brno_Survival_prob_casper, brno_Surv_true, 0.1)\n",
    "\n",
    "mayo_LNM_PPV_Casper = getPPV(mayo_LNM_prob_casper, mayo_LNM_true, 0.1)\n",
    "mayo_Survival_PPV_Casper = getPPV(mayo_Survival_prob_casper, mayo_Surv_true, 0.1)\n",
    "\n",
    "print(\"Brno LNM: \", round(brno_LNM_PPV, 3))\n",
    "print(\"Brno Survival: \", round(brno_Survival_PPV, 3))\n",
    "print(\"\\n\")\n",
    "\n",
    "print(\"Mayo LNM: \", round(mayo_LNM_PPV, 3))\n",
    "print(\"Mayo Survival: \", round(mayo_Survival_PPV, 3))\n",
    "print(\"\\n\")\n",
    "\n",
    "print(\"Brno LNM, Casper: \", round(brno_LNM_PPV_Casper, 3))\n",
    "print(\"Brno Survival, Casper: \", round(brno_Survival_PPV_Casper, 3))\n",
    "print(\"\\n\")\n",
    "\n",
    "print(\"Mayo LNM, Casper: \", round(mayo_LNM_PPV_Casper, 3))\n",
    "print(\"Mayo Survival, Casper: \", round(mayo_Survival_PPV_Casper, 3))\n",
    "print(\"\\n\")\n"
   ],
   "metadata": {
    "collapsed": false
   },
   "id": "dd36d52ba6f720f6"
  }
 ],
 "metadata": {
  "kernelspec": {
   "display_name": "Python 3",
   "language": "python",
   "name": "python3"
  },
  "language_info": {
   "codemirror_mode": {
    "name": "ipython",
    "version": 2
   },
   "file_extension": ".py",
   "mimetype": "text/x-python",
   "name": "python",
   "nbconvert_exporter": "python",
   "pygments_lexer": "ipython2",
   "version": "2.7.6"
  }
 },
 "nbformat": 4,
 "nbformat_minor": 5
}
