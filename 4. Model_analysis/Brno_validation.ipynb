{
 "cells": [
  {
   "cell_type": "markdown",
   "source": [
    "### Author: Ally Sprik\n",
    "### Last-updated: 25-02-2024\n",
    "\n",
    "Goal of this notebook is to validate different networks with the Brno validation set\n",
    "\n"
   ],
   "metadata": {
    "collapsed": false
   },
   "id": "ae85acb9d788a6b6"
  },
  {
   "cell_type": "code",
   "execution_count": null,
   "id": "initial_id",
   "metadata": {
    "collapsed": true
   },
   "outputs": [],
   "source": [
    "import pandas as pd\n",
    "import numpy as np\n",
    "import pyAgrum as gum\n",
    "import pyAgrum.lib.notebook as gnb\n",
    "from collections import Counter\n",
    "\n",
    "pd.options.mode.copy_on_write = True  # This will allow the code to run faster and keep Pandas happy. Technical detail: https://pandas.pydata.org/pandas-docs/stable/user_guide/copy_on_write.html#\n",
    "\n",
    "# Loading in networks\n",
    "origineel_net = gum.loadBN(\"../../0. Source_files/0.4. Original_Casper_files/Results/Casper_fitted_952.net\")\n",
    "WOPlat = gum.loadBN(\"../1.3. Model/Fitted_Networks/R_WOP_original_952.net\")\n",
    "WOPlat_MRI = gum.loadBN(\"../1.3. Model/Fitted_Networks/R_WOP_AddMRIMI_fitted_952.net\")\n",
    "WOPlat_TCGA = gum.loadBN(\"../1.3. Model/Fitted_Networks/R_WOP_AddTCGA_1_fitted_952.net\")\n",
    "WOPlat_TCGA_MRI = gum.loadBN(\"../1.3. Model/Fitted_Networks/R_WOP_AddMRIMITCGA_fitted_952.net\")\n",
    "WPlat = gum.loadBN(\"../1.3. Model/Fitted_Networks/R_WP_952.net\")\n",
    "WPlat_all = gum.loadBN(\"../1.3. Model/Fitted_Networks/R_WP_all_952.net\")\n",
    "\n",
    "\n",
    "# Loading in data\n",
    "df = pd.read_csv(\"../../0. Source_files/0.2. Cleaned_data/Cleaned_Brno_model_complete.csv\")\n",
    "df"
   ]
  },
  {
   "cell_type": "markdown",
   "source": [
    "Select the rows that can be used for validation, subset for the LNM and the Survival5yr"
   ],
   "metadata": {
    "collapsed": false
   },
   "id": "1a07e9afd95cf904"
  },
  {
   "cell_type": "code",
   "execution_count": null,
   "outputs": [],
   "source": [
    "# Select where ENDORISK_LNM and FU is yes\n",
    "df_LNM = df.copy().dropna(subset=[\"LNM\"])\n",
    "df_Surv = df.copy().dropna(subset=[\"Survival5yr\"])\n",
    "df_LNM.reset_index(drop=True, inplace=True)\n",
    "df_Surv.reset_index(drop=True, inplace=True)"
   ],
   "metadata": {
    "collapsed": false
   },
   "id": "839501091ef0ec96"
  },
  {
   "cell_type": "markdown",
   "source": [
    "Replace the labels for the targets with 1 and 0"
   ],
   "metadata": {
    "collapsed": false
   },
   "id": "5da1997709aaf373"
  },
  {
   "cell_type": "code",
   "execution_count": null,
   "outputs": [],
   "source": [
    "target_LNM = df_LNM[\"LNM\"].replace({\"yes\":1, \"no\":0})\n",
    "target_Surv = df_Surv[\"Survival5yr\"].replace({\"yes\":1, \"no\":0})"
   ],
   "metadata": {
    "collapsed": false
   },
   "id": "be73abd0efcfc0a8"
  },
  {
   "cell_type": "markdown",
   "source": [
    "Define the overall evidence columns"
   ],
   "metadata": {
    "collapsed": false
   },
   "id": "f5b3a50f7854d503"
  },
  {
   "cell_type": "code",
   "execution_count": null,
   "outputs": [],
   "source": [
    "evidence_columns = [\"ER\", \"PR\", \"p53\", \"L1CAM\", \"CA125\", \"CTMRI\", \"Platelets\", \"Cytology\", \"MRI_MI\", \"MSI\", \"POLE\", \"PreoperativeGrade\"]\n",
    "# Define the evidence columns for this dataset\n",
    "evidence_columns = [x for x in evidence_columns if x in df.columns]"
   ],
   "metadata": {
    "collapsed": false
   },
   "id": "94bfb6a913093cea"
  },
  {
   "cell_type": "markdown",
   "source": [
    "Create datasets for the different networks, based on the evidence columns and the nodes that are present in the network"
   ],
   "metadata": {
    "collapsed": false
   },
   "id": "fde28ba955369b86"
  },
  {
   "cell_type": "code",
   "execution_count": null,
   "outputs": [],
   "source": [
    "# Create different datasets based on the nodes that are present in the network\n",
    "df_origineel_LNM = df_LNM[list(Counter(evidence_columns) & Counter(list(origineel_net.names())))].copy()\n",
    "df_origineel_Surv = df_Surv[list(Counter(evidence_columns) & Counter(list(origineel_net.names())))].copy()\n",
    "\n",
    "df_WOPlat_LNM = df_LNM[list(Counter(evidence_columns) & Counter(list(WOPlat.names())))].copy()\n",
    "df_WOPlat_Surv = df_Surv[list(Counter(evidence_columns) & Counter(list(WOPlat.names())))].copy()\n",
    "\n",
    "df_WOPlat_MRI_LNM = df_LNM[list(Counter(evidence_columns) & Counter(list(WOPlat_MRI.names())))].copy()\n",
    "df_WOPlat_MRI_Surv = df_Surv[list(Counter(evidence_columns) & Counter(list(WOPlat_MRI.names())))].copy()\n",
    "\n",
    "df_WOPlat_TCGA_LNM = df_LNM[list(Counter(evidence_columns) & Counter(list(WOPlat_TCGA.names())))].copy()\n",
    "df_WOPlat_TCGA_Surv = df_Surv[list(Counter(evidence_columns) & Counter(list(WOPlat_TCGA.names())))].copy()\n",
    "\n",
    "df_WOPlat_TCGA_MRI_LNM = df_LNM[list(Counter(evidence_columns) & Counter(list(WOPlat_TCGA_MRI.names())))].copy()\n",
    "df_WOPlat_TCGA_MRI_Surv = df_Surv[list(Counter(evidence_columns) & Counter(list(WOPlat_TCGA_MRI.names())))].copy()\n",
    "\n",
    "df_WPlat_LNM = df_LNM[list(Counter(evidence_columns) & Counter(list(WPlat.names())))].copy()\n",
    "df_WPlat_Surv = df_Surv[list(Counter(evidence_columns) & Counter(list(WPlat.names())))].copy()\n",
    "\n",
    "df_WPlat_all_LNM = df_LNM[list(Counter(evidence_columns) & Counter(list(WPlat_all.names())))].copy()\n",
    "df_WPlat_all_Surv = df_Surv[list(Counter(evidence_columns) & Counter(list(WPlat_all.names())))].copy()"
   ],
   "metadata": {
    "collapsed": false
   },
   "id": "14b5666386091992"
  },
  {
   "cell_type": "markdown",
   "source": [
    "Create a function to get the probabilities for the different networks"
   ],
   "metadata": {
    "collapsed": false
   },
   "id": "cbfcc547c33dbc81"
  },
  {
   "cell_type": "code",
   "execution_count": null,
   "outputs": [],
   "source": [
    "def getProbabilities(model, evidence_LNM, evidence_Surv, Surv = \"Survival5yr\", samples = 100):\n",
    "    ls_result_LNM = []\n",
    "    ls_result_Surv = []\n",
    "    \n",
    "    #for i in range(1, samples):\n",
    "    resultsLNM = []\n",
    "    resultsSurvival = []\n",
    "    net = gum.LazyPropagation(model)\n",
    "    net.getNumberOfThreads()\n",
    "    net.setNumberOfThreads(10)\n",
    "    \n",
    "    for j in range(len(evidence_LNM)):\n",
    "        evidencerow = evidence_LNM.iloc[j]\n",
    "        evidencerow = evidencerow.dropna().to_dict()\n",
    "        \n",
    "        try:\n",
    "            net.setEvidence(evidencerow)\n",
    "            \n",
    "            net.makeInference()\n",
    "\n",
    "            resultLNM = net.posterior(\"LNM\")\n",
    "            \n",
    "            resultsLNM.append(resultLNM)\n",
    "        except Exception as error:\n",
    "            print(\"Error at row regarding LNM\", j)\n",
    "            print(error)\n",
    "            \n",
    "            resultsLNM.append(resultLNM)\n",
    "\n",
    "    \n",
    "    for j in range(len(evidence_Surv)):\n",
    "        evidencerow = evidence_Surv.iloc[j]\n",
    "        evidencerow = evidencerow.dropna().to_dict()\n",
    "        \n",
    "        try:\n",
    "            net.setEvidence(evidencerow)\n",
    "            \n",
    "            net.makeInference()\n",
    "\n",
    "            resultSurvival = net.posterior(\"Survival5yr\")\n",
    "            \n",
    "            resultsSurvival.append(resultSurvival)\n",
    "        except Exception as error:\n",
    "            print(\"Error at row regarding Survival\", j)\n",
    "            print(error)\n",
    "            \n",
    "            resultsSurvival.append(resultSurvival)\n",
    "\n",
    "        \n",
    "    return resultsLNM, resultsSurvival\n"
   ],
   "metadata": {
    "collapsed": false
   },
   "id": "ad2f7ca645de87c9"
  },
  {
   "cell_type": "markdown",
   "source": [
    "Get the probabilities for the different networks"
   ],
   "metadata": {
    "collapsed": false
   },
   "id": "7fe8a6b1c45615a5"
  },
  {
   "cell_type": "code",
   "execution_count": null,
   "outputs": [],
   "source": [
    "print(\"Started 1\")\n",
    "results_origineel_LNM, results_origineel_Surv = getProbabilities(origineel_net, df_origineel_LNM, df_origineel_Surv)\n",
    "\n",
    "print(\"Started 2\")\n",
    "results_WOPlat_LNM, results_WOPlat_Surv = getProbabilities(WOPlat, df_WOPlat_LNM, df_WOPlat_Surv)\n",
    "\n",
    "print(\"Started 3\")\n",
    "results_WOPlat_MRI_LNM, results_WOPlat_MRI_Surv = getProbabilities(WOPlat_MRI, df_WOPlat_MRI_LNM, df_WOPlat_MRI_Surv)\n",
    "\n",
    "print(\"Started 4\")\n",
    "results_WOPlat_TCGA_LNM, results_WOPlat_TCGA_Surv = getProbabilities(WOPlat_TCGA, df_WOPlat_TCGA_LNM, df_WOPlat_TCGA_Surv)\n",
    "\n",
    "print(\"Started 5\")\n",
    "results_WOPlat_TCGA_MRI_LNM, results_WOPlat_TCGA_MRI_Surv = getProbabilities(WOPlat_TCGA_MRI, df_WOPlat_TCGA_MRI_LNM, df_WOPlat_TCGA_MRI_Surv)\n",
    "\n",
    "print(\"Started 6\")\n",
    "results_WPlat_LNM, results_WPlat_Surv = getProbabilities(WPlat, df_WPlat_LNM, df_WPlat_Surv)\n",
    "\n",
    "print(\"Started 7\")\n",
    "results_WPlat_all_LNM, results_WPlat_all_Surv = getProbabilities(WPlat_all, df_WPlat_all_LNM, df_WPlat_all_Surv)\n",
    "\n"
   ],
   "metadata": {
    "collapsed": false
   },
   "id": "9e2f3fdedee96a3d"
  },
  {
   "cell_type": "markdown",
   "source": [
    "Create a function to extract the probability values from the results"
   ],
   "metadata": {
    "collapsed": false
   },
   "id": "94df050af8c4a6c9"
  },
  {
   "cell_type": "code",
   "execution_count": null,
   "outputs": [],
   "source": [
    "def getProbResults(results, target):\n",
    "    res = []\n",
    "    \n",
    "    for i in range(len(results)):\n",
    "        res.append(results[i][target])\n",
    "    return pd.DataFrame(res)"
   ],
   "metadata": {
    "collapsed": false
   },
   "id": "d8d56d85d130de30"
  },
  {
   "cell_type": "markdown",
   "source": [
    "Get the probabilities for the targets, LNM and surival yes"
   ],
   "metadata": {
    "collapsed": false
   },
   "id": "9725916b3924696f"
  },
  {
   "cell_type": "code",
   "execution_count": null,
   "outputs": [],
   "source": [
    "org_LNM = getProbResults(results_origineel_LNM, 1)\n",
    "org_Surv = getProbResults(results_origineel_Surv, 1)\n",
    "\n",
    "WOPlat_LNM = getProbResults(results_WOPlat_LNM, 1)\n",
    "WOPlat_Surv = getProbResults(results_WOPlat_Surv, 1)\n",
    "\n",
    "WOPlat_MRI_LNM = getProbResults(results_WOPlat_MRI_LNM, 1)\n",
    "WOPlat_MRI_Surv = getProbResults(results_WOPlat_MRI_Surv, 1)\n",
    "\n",
    "WOPlat_TCGA_LNM = getProbResults(results_WOPlat_TCGA_LNM, 1)\n",
    "WOPlat_TCGA_Surv = getProbResults(results_WOPlat_TCGA_Surv, 1)\n",
    "\n",
    "WOPlat_TCGA_MRI_LNM = getProbResults(results_WOPlat_TCGA_MRI_LNM, 1)\n",
    "WOPlat_TCGA_MRI_Surv = getProbResults(results_WOPlat_TCGA_MRI_Surv, 1)\n",
    "\n",
    "WPlat_LNM = getProbResults(results_WPlat_LNM, 1)\n",
    "WPlat_Surv = getProbResults(results_WPlat_Surv, 1)\n",
    "\n",
    "WPlat_all_LNM = getProbResults(results_WPlat_all_LNM, 1)\n",
    "WPlat_all_Surv = getProbResults(results_WPlat_all_Surv, 1)\n"
   ],
   "metadata": {
    "collapsed": false
   },
   "id": "a74999bf921ccb48"
  },
  {
   "cell_type": "markdown",
   "source": [
    "Define functions to retrieve the metrics\n",
    "\n",
    "Pseudocode:\n",
    "- Define getMetrics:\n",
    "    - Get the confusion matrix\n",
    "    - Use it to generate TP, TN, FP, FN\n",
    "    - Calculate the accuracy, ROC AUC, Precision, TPR, TNR, F1, Brier, Log Loss\n",
    "    - Return the results in a dataframe\n",
    "- Define getSlimMetrics:\n",
    "    - Check if the results and targets are the same length\n",
    "    - Get the ROC AUC, Log Loss, Brier, and N Predicted/N Observed\n",
    "    - Return the results in a dataframe"
   ],
   "metadata": {
    "collapsed": false
   },
   "id": "fd0846286d3f4854"
  },
  {
   "cell_type": "code",
   "execution_count": null,
   "outputs": [],
   "source": [
    "from sklearn.metrics import roc_curve, f1_score\n",
    "# Find the accuracy, roc auc, precision and recall for the results and the targets data\n",
    "from sklearn.metrics import accuracy_score, roc_auc_score, precision_score, recall_score, confusion_matrix, log_loss, brier_score_loss\n",
    "\n",
    "def getMetrics(results, targets, threshold = 0.5):\n",
    "    TP = confusion_matrix(targets, results)[1][1]\n",
    "    TN = confusion_matrix(targets, results)[0][0]\n",
    "    FP = confusion_matrix(targets, results)[0][1]\n",
    "    FN = confusion_matrix(targets, results)[1][0]\n",
    "    \n",
    "    accuracy = accuracy_score(targets, results)\n",
    "    roc_auc = roc_auc_score(targets, results)\n",
    "    precision = precision_score(targets, results)\n",
    "    TPR = recall_score(targets, results)\n",
    "    TNR = TN / (TN + FP)\n",
    "    \n",
    "    f1 = f1_score(targets, results)\n",
    "    brier = brier_score_loss(targets, results)\n",
    "    loglike = log_loss(targets, results)\n",
    "    \n",
    "    x = pd.DataFrame([accuracy, roc_auc, precision, TPR,TNR, f1, brier, loglike], index=[\"Accuracy\", \"ROC AUC\", \"Precision (PPV)\", \"TPR (Recall/Sens)\",\"TNR (Spec)\", \"F1\", \"Brier\", \"Log Loss\"])\n",
    "    return x\n",
    "\n",
    "def getSlimMetrics(results, targets):\n",
    "    \n",
    "    if not len(results) == len(targets):\n",
    "        raise Exception('Results and targets are not the same length. Results:', len(results), ' Targets:', len(targets))\n",
    "    \n",
    "    # Get ROC AUC, Log Loss, Brier, and N Predicted/N Observed\n",
    "    curve = roc_curve(targets, results, pos_label=1)\n",
    "    ROC = round(roc_auc_score(targets, results), 4)\n",
    "    LL = round(log_loss(targets, results), 4)\n",
    "    Brier = round(brier_score_loss(targets, results), 4)\n",
    "    N_pred = results.sum()[0]\n",
    "    N_obs = int(targets.sum())\n",
    "    N_br = f\"{int(N_pred)}/{int(N_obs)}\"\n",
    "    Ratio = round(N_pred/N_obs, 4)\n",
    "    \n",
    "    x = pd.DataFrame([ROC, LL, Brier, N_br, Ratio], index=[\"ROC AUC\", \"Log Loss\", \"Brier\", \"N Predicted/N Observed\", \"Ratio\"])\n",
    "    return x\n"
   ],
   "metadata": {
    "collapsed": false
   },
   "id": "9f97f8928848c0fd"
  },
  {
   "cell_type": "markdown",
   "source": [
    "Get the slim (non thresholded) metrics for the different models"
   ],
   "metadata": {
    "collapsed": false
   },
   "id": "444e7525b577fd5"
  },
  {
   "cell_type": "code",
   "execution_count": null,
   "outputs": [],
   "source": [
    "# Get the Slim metrics for the different models\n",
    "print(\"Started 1\")\n",
    "org_LNM_metrics = getSlimMetrics(org_LNM, target_LNM)\n",
    "org_Surv_metrics = getSlimMetrics(org_Surv, target_Surv)\n",
    "\n",
    "print(\"Started 2\")\n",
    "WOPlat_LNM_metrics = getSlimMetrics(WOPlat_LNM, target_LNM)\n",
    "WOPlat_Surv_metrics = getSlimMetrics(WOPlat_Surv, target_Surv)\n",
    "\n",
    "print(\"Started 3\")\n",
    "WOPlat_MRI_LNM_metrics = getSlimMetrics(WOPlat_MRI_LNM, target_LNM)\n",
    "WOPlat_MRI_Surv_metrics = getSlimMetrics(WOPlat_MRI_Surv, target_Surv)\n",
    "\n",
    "print(\"Started 4\")\n",
    "WOPlat_TCGA_LNM_metrics = getSlimMetrics(WOPlat_TCGA_LNM, target_LNM)\n",
    "WOPlat_TCGA_Surv_metrics = getSlimMetrics(WOPlat_TCGA_Surv, target_Surv)\n",
    "\n",
    "print(\"Started 5\")\n",
    "WOPlat_TCGA_MRI_LNM_metrics = getSlimMetrics(WOPlat_TCGA_MRI_LNM, target_LNM)\n",
    "WOPlat_TCGA_MRI_Surv_metrics = getSlimMetrics(WOPlat_TCGA_MRI_Surv, target_Surv)\n",
    "\n",
    "print(\"Started 6\")\n",
    "WPlat_LNM_metrics = getSlimMetrics(WPlat_LNM, target_LNM)\n",
    "WPlat_Surv_metrics = getSlimMetrics(WPlat_Surv, target_Surv)\n",
    "\n",
    "print(\"Started 7\")\n",
    "WPlat_all_LNM_metrics = getSlimMetrics(WPlat_all_LNM, target_LNM)\n",
    "WPlat_all_Surv_metrics = getSlimMetrics(WPlat_all_Surv, target_Surv)\n"
   ],
   "metadata": {
    "collapsed": false
   },
   "id": "7b6b1291195b5fe1"
  },
  {
   "cell_type": "markdown",
   "source": [
    "Concate the metrics to display a table comparing the different models LNM"
   ],
   "metadata": {
    "collapsed": false
   },
   "id": "bc5b15886d37c1e1"
  },
  {
   "cell_type": "code",
   "execution_count": null,
   "outputs": [],
   "source": [
    "# Concatenate the metrics to between the models LNM\n",
    "LNM_metrics = pd.concat([org_LNM_metrics,  \n",
    "                         WOPlat_LNM_metrics, WOPlat_MRI_LNM_metrics, WOPlat_TCGA_LNM_metrics, WOPlat_TCGA_MRI_LNM_metrics, WPlat_LNM_metrics, WPlat_all_LNM_metrics], axis=1)\n",
    "\n",
    "LNM_metrics.columns = [\"+Plat -TCGA - MRI\", \"-Plat -TCGA -MRI\", \"-Plat -TCGA +MRI\", \"-Plat +TCGA -MRI\", \"-Plat +TCGA +MRI\", \"+Plat -TCGA -MRI\", \"+Plat +TCGA +MRI\"]\n",
    "LNM_metrics\n"
   ],
   "metadata": {
    "collapsed": false
   },
   "id": "9f6ef66b545b9f5f"
  },
  {
   "cell_type": "markdown",
   "source": [
    "Concate the metrics to display a table comparing the different models Survival"
   ],
   "metadata": {
    "collapsed": false
   },
   "id": "fd9eb81e5ed7680f"
  },
  {
   "cell_type": "code",
   "execution_count": null,
   "outputs": [],
   "source": [
    "# Concatenate the metrics to between the models Survival\n",
    "Surv_metrics = pd.concat([org_Surv_metrics, \n",
    "                          WOPlat_Surv_metrics, WOPlat_MRI_Surv_metrics, WOPlat_TCGA_Surv_metrics, WOPlat_TCGA_MRI_Surv_metrics, WPlat_Surv_metrics, WPlat_all_Surv_metrics], axis=1)\n",
    "Surv_metrics = Surv_metrics.round(3)\n",
    "Surv_metrics.columns = [\"+Plat -TCGA - MRI\", \"-Plat -TCGA -MRI\", \"-Plat -TCGA +MRI\", \"-Plat +TCGA -MRI\", \"-Plat +TCGA +MRI\", \"+Plat -TCGA -MRI\", \"+Plat +TCGA +MRI\"]\n",
    "Surv_metrics"
   ],
   "metadata": {
    "collapsed": false
   },
   "id": "3d0569c8f5bed95b"
  },
  {
   "cell_type": "markdown",
   "source": [
    "Plot the ROC curves for the different models"
   ],
   "metadata": {
    "collapsed": false
   },
   "id": "96c2ab3a9dca10a"
  },
  {
   "cell_type": "code",
   "execution_count": null,
   "outputs": [],
   "source": [
    "from matplotlib_inline.backend_inline import set_matplotlib_formats\n",
    "import matplotlib.pyplot as plt\n",
    "import seaborn as sns\n",
    "\n",
    "# Set the style\n",
    "sns.set_style(\"whitegrid\")\n",
    "# Set the output as png\n",
    "set_matplotlib_formats('png', 'pdf')\n",
    "plt.rcParams['figure.dpi'] = 150\n",
    "\n",
    "# plot all the ROC curves in one plot (LNM and Survival seperate)\n",
    "fig, ax = plt.subplots(1,2, figsize=(15,5))\n",
    "\n",
    "fig.suptitle(\"ROC Curves\", fontsize=16)\n",
    "\n",
    "# LNM\n",
    "ax[0].plot([0, 1], [0, 1], linestyle='--', lw=2, color='r', alpha=.8)\n",
    "\n",
    "fpr, tpr, _ = roc_curve(target_LNM, org_LNM, pos_label=1)\n",
    "ax[0].plot(fpr, tpr, label='Origineel Netwerk (area = %0.2f)' % roc_auc_score(target_LNM, org_LNM))\n",
    "\n",
    "fpr, tpr, _ = roc_curve(target_LNM, org_LNM, pos_label=1)\n",
    "ax[0].plot(fpr, tpr, label='-Plat -TCGA -MRI (area = %0.2f)' % roc_auc_score(target_LNM, WOPlat_LNM))\n",
    "\n",
    "fpr, tpr, _ = roc_curve(target_LNM, WOPlat_MRI_LNM, pos_label=1)\n",
    "ax[0].plot(fpr, tpr, label='-Plat -TCGA +MRI (area = %0.2f)' % roc_auc_score(target_LNM, WOPlat_MRI_LNM))\n",
    "\n",
    "fpr, tpr, _ = roc_curve(target_LNM, WOPlat_TCGA_LNM, pos_label=1)\n",
    "ax[0].plot(fpr, tpr, label='-Plat +TCGA -MRI (area = %0.2f)' % roc_auc_score(target_LNM, WOPlat_TCGA_LNM))\n",
    "\n",
    "fpr, tpr, _ = roc_curve(target_LNM, WOPlat_TCGA_MRI_LNM, pos_label=1)\n",
    "ax[0].plot(fpr, tpr, label='-Plat +TCGA +MRI (area = %0.2f)' % roc_auc_score(target_LNM, WOPlat_TCGA_MRI_LNM))\n",
    "\n",
    "fpr, tpr, _ = roc_curve(target_LNM, WPlat_LNM, pos_label=1)\n",
    "ax[0].plot(fpr, tpr, label='+Plat -TCGA -MRI (area = %0.2f)' % roc_auc_score(target_LNM, WPlat_LNM))\n",
    "\n",
    "fpr, tpr, _ = roc_curve(target_LNM, WPlat_all_LNM, pos_label=1)\n",
    "ax[0].plot(fpr, tpr, label='+Plat +TCGA +MRI (area = %0.2f)' % roc_auc_score(target_LNM, WPlat_all_LNM))\n",
    "\n",
    "ax[0].title.set_text(\"LNM\")\n",
    "ax[0].legend(loc=\"lower right\")\n",
    "# Print AUC in the plot\n",
    "    \n",
    "# Survival\n",
    "ax[1].plot([0, 1], [0, 1], linestyle='--', lw=2, color='r', alpha=.8)\n",
    "\n",
    "fpr, tpr, _ = roc_curve(target_Surv, org_Surv, pos_label=1)\n",
    "ax[1].plot(fpr, tpr, label='Origineel Netwerk (area = %0.2f)' % roc_auc_score(target_Surv, org_Surv))\n",
    "\n",
    "fpr, tpr, _ = roc_curve(target_Surv, WOPlat_Surv, pos_label=1)\n",
    "ax[1].plot(fpr, tpr, label='-Plat -TCGA -MRI (area = %0.2f)' % roc_auc_score(target_Surv, WOPlat_Surv))\n",
    "\n",
    "fpr, tpr, _ = roc_curve(target_Surv, WOPlat_MRI_Surv, pos_label=1)\n",
    "ax[1].plot(fpr, tpr, label='-Plat -TCGA +MRI (area = %0.2f)' % roc_auc_score(target_Surv, WOPlat_MRI_Surv))\n",
    "\n",
    "fpr, tpr, _ = roc_curve(target_Surv, WOPlat_TCGA_Surv, pos_label=1)\n",
    "ax[1].plot(fpr, tpr, label='-Plat +TCGA -MRI (area = %0.2f)' % roc_auc_score(target_Surv, WOPlat_TCGA_Surv))\n",
    "\n",
    "fpr, tpr, _ = roc_curve(target_Surv, WOPlat_TCGA_MRI_Surv, pos_label=1)\n",
    "ax[1].plot(fpr, tpr, label='-Plat +TCGA +MRI (area = %0.2f)' % roc_auc_score(target_Surv, WOPlat_TCGA_MRI_Surv))\n",
    "\n",
    "fpr, tpr, _ = roc_curve(target_Surv, WPlat_Surv, pos_label=1)\n",
    "ax[1].plot(fpr, tpr, label='+Plat -TCGA -MRI (area = %0.2f)' % roc_auc_score(target_Surv, WPlat_Surv))\n",
    "\n",
    "fpr, tpr, _ = roc_curve(target_Surv, WPlat_all_Surv, pos_label=1)\n",
    "ax[1].plot(fpr, tpr, label='+Plat +TCGA +MRI (area = %0.2f)' % roc_auc_score(target_Surv, WPlat_all_Surv))\n",
    "\n",
    "ax[1].title.set_text(\"Survival\")\n",
    "ax[1].legend(loc=\"lower right\")"
   ],
   "metadata": {
    "collapsed": false
   },
   "id": "caef43c287899976"
  },
  {
   "cell_type": "markdown",
   "source": [
    "Define a function to get the diagnoses on a range of thresholds\n",
    "\n",
    "Pseudocode:\n",
    "- Define a function to get the results based on a range of thresholds for the probability\n",
    "    - Define thresholds\n",
    "    - Create empty list\n",
    "    - Loop through the probabilities\n",
    "        - Loop through the thresholds\n",
    "            - If the probability is higher than the threshold, append 1 to the list\n",
    "            - Else append 0\n",
    "    - Return the list as a dataframe\n"
   ],
   "metadata": {
    "collapsed": false
   },
   "id": "9de527bf6ccfc424"
  },
  {
   "cell_type": "code",
   "execution_count": null,
   "outputs": [],
   "source": [
    "# Define a function to get the results based on a threshold for the probability\n",
    "def getRangeResults(probResults):\n",
    "    # Define thresholds\n",
    "    thresholds = [0.05, 0.10, 0.20, 0.30, 0.40, 0.50, 0.60 ,0.70, 0.80, 0.90]\n",
    "    # Create empty list\n",
    "    rows = len(probResults)\n",
    "\n",
    "    cols = len(thresholds)\n",
    "    \n",
    "    res = [[0 for i in range(cols)] for j in range(rows)]\n",
    "    \n",
    "    for i in range(len(probResults)):\n",
    "        targetcol = 0\n",
    "        \n",
    "        for col in probResults.columns:\n",
    "            if isinstance(col, str) and col.__contains__(\"ESGO\"):\n",
    "                targetcol = col\n",
    "            \n",
    "        for j in range(len(thresholds)):\n",
    "            if probResults[targetcol][i] >= thresholds[j]:\n",
    "                res[i][j] = 1\n",
    "            else:\n",
    "                res[i][j] = 0\n",
    "                \n",
    "    df = pd.DataFrame(res, columns=thresholds)\n",
    "    \n",
    "    return df\n",
    "\n"
   ],
   "metadata": {
    "collapsed": false
   },
   "id": "b1c6c62aa072abda"
  },
  {
   "cell_type": "markdown",
   "source": [
    "Get the ranges for the different models\n",
    "\n"
   ],
   "metadata": {
    "collapsed": false
   },
   "id": "366b28b5bc15909b"
  },
  {
   "cell_type": "code",
   "execution_count": null,
   "outputs": [],
   "source": [
    "org_LNM_range = getRangeResults(org_LNM)\n",
    "org_Surv_range = getRangeResults(org_Surv)\n",
    "\n",
    "WOPlat_LNM_range = getRangeResults(WOPlat_LNM)\n",
    "WOPlat_Surv_range = getRangeResults(WOPlat_Surv)\n",
    "\n",
    "WOPlat_MRI_LNM_range = getRangeResults(WOPlat_MRI_LNM)\n",
    "WOPlat_MRI_Surv_range = getRangeResults(WOPlat_MRI_Surv)\n",
    "\n",
    "WOPlat_TCGA_LNM_range = getRangeResults(WOPlat_TCGA_LNM)\n",
    "WOPlat_TCGA_Surv_range = getRangeResults(WOPlat_TCGA_Surv)\n",
    "\n",
    "WOPlat_TCGA_MRI_LNM_range = getRangeResults(WOPlat_TCGA_MRI_LNM)\n",
    "WOPlat_TCGA_MRI_Surv_range = getRangeResults(WOPlat_TCGA_MRI_Surv)\n",
    "\n",
    "WPlat_LNM_range = getRangeResults(WPlat_LNM)\n",
    "WPlat_Surv_range = getRangeResults(WPlat_Surv)\n",
    "\n",
    "WPlat_all_LNM_range = getRangeResults(WPlat_all_LNM)\n",
    "WPlat_all_Surv_range = getRangeResults(WPlat_all_Surv)\n"
   ],
   "metadata": {
    "collapsed": false
   },
   "id": "3de82f4127f6690"
  },
  {
   "cell_type": "markdown",
   "source": [
    "Create a function to make a 3d matrix of metrics for each threshold\n",
    "\n",
    "Pseudocode:\n",
    "- Define a function to make a 3d matrix of metrics for each threshold\n",
    "    - Define thresholds\n",
    "    - Create empty list\n",
    "    - Define metricnames\n",
    "    - Loop through the thresholds\n",
    "        - Get the metrics for the results of each threshold\n",
    "        - Append the metrics to the list\n",
    "    - Concatenate the list\n",
    "    - Return the list"
   ],
   "metadata": {
    "collapsed": false
   },
   "id": "30a7d4befdd1cbbc"
  },
  {
   "cell_type": "code",
   "execution_count": null,
   "outputs": [],
   "source": [
    "# Create a function to make a 3d matrix of metrics for each threshold\n",
    "def getMetricsRange(results, targets):\n",
    "    # Define thresholds\n",
    "    thresholds = [0.05, 0.10, 0.20, 0.30, 0.40, 0.50, 0.60 ,0.70, 0.80, 0.90]\n",
    "    # Create empty list\n",
    "    metrics = []\n",
    "    # Metricnames\n",
    "    metricnames = [\"Accuracy\", \"Precision (PPV)\", \"TPR (Recall/Sens)\",\"TNR (Spec)\", \"F1\", \"Brier\", \"Log Loss\"]\n",
    "    \n",
    "    for threshold in thresholds:\n",
    "        res = results[threshold].values\n",
    "        \n",
    "        metrics.append(round(getMetrics(res, targets).loc[metricnames],3))\n",
    "    \n",
    "    metrics = pd.concat(metrics, axis=1)\n",
    "    metrics.columns = thresholds\n",
    "    return metrics"
   ],
   "metadata": {
    "collapsed": false
   },
   "id": "456cd0f409fadf15"
  },
  {
   "cell_type": "markdown",
   "source": [
    "Get the metric ranges for the different models\n",
    "Due to the nature of ranges you can get a 'is ill-defined' warning, since it is possible no cases are predicted after a certain threshold."
   ],
   "metadata": {
    "collapsed": false
   },
   "id": "e3abf96573c4ad2e"
  },
  {
   "cell_type": "code",
   "execution_count": null,
   "outputs": [],
   "source": [
    "print(\"Started 1\")\n",
    "org_LNM_metrics_range = getMetricsRange(org_LNM_range, target_LNM)\n",
    "org_Surv_metrics_range = getMetricsRange(org_Surv_range, target_Surv)\n",
    "\n",
    "print(\"Started 2\")\n",
    "WOPlat_LNM_metrics_range = getMetricsRange(WOPlat_LNM_range, target_LNM)\n",
    "WOPlat_Surv_metrics_range = getMetricsRange(WOPlat_Surv_range, target_Surv)\n",
    "\n",
    "print(\"Started 3\")  \n",
    "WOPlat_MRI_LNM_metrics_range = getMetricsRange(WOPlat_MRI_LNM_range, target_LNM)\n",
    "WOPlat_MRI_Surv_metrics_range = getMetricsRange(WOPlat_MRI_Surv_range, target_Surv)\n",
    "\n",
    "print(\"Started 4\")\n",
    "WOPlat_TCGA_LNM_metrics_range = getMetricsRange(WOPlat_TCGA_LNM_range, target_LNM)\n",
    "WOPlat_TCGA_Surv_metrics_range = getMetricsRange(WOPlat_TCGA_Surv_range, target_Surv)\n",
    "\n",
    "print(\"Started 5\")\n",
    "WOPlat_TCGA_MRI_LNM_metrics_range = getMetricsRange(WOPlat_TCGA_MRI_LNM_range, target_LNM)\n",
    "WOPlat_TCGA_MRI_Surv_metrics_range = getMetricsRange(WOPlat_TCGA_MRI_Surv_range, target_Surv)\n",
    "\n",
    "print(\"Started 6\")\n",
    "WPlat_LNM_metrics_range = getMetricsRange(WPlat_LNM_range, target_LNM)\n",
    "WPlat_Surv_metrics_range = getMetricsRange(WPlat_Surv_range, target_Surv)\n",
    "\n",
    "print(\"Started 7\")\n",
    "WPlat_all_LNM_metrics_range = getMetricsRange(WPlat_all_LNM_range, target_LNM)\n",
    "WPlat_all_Surv_metrics_range = getMetricsRange(WPlat_all_Surv_range, target_Surv)"
   ],
   "metadata": {
    "collapsed": false
   },
   "id": "cae601fc25d6761a"
  },
  {
   "cell_type": "markdown",
   "source": [
    "Plot the recall vs precision for the different models"
   ],
   "metadata": {
    "collapsed": false
   },
   "id": "7b2a7160a52f49aa"
  },
  {
   "cell_type": "code",
   "execution_count": null,
   "outputs": [],
   "source": [
    "from matplotlib_inline.backend_inline import set_matplotlib_formats\n",
    "import matplotlib.pyplot as plt\n",
    "import seaborn as sns\n",
    "\n",
    "# Set the style\n",
    "sns.set_style(\"whitegrid\")\n",
    "# Set the output as png\n",
    "set_matplotlib_formats('png', 'pdf')\n",
    "plt.rcParams['figure.dpi'] = 150\n",
    "\n",
    "# Recall vs Precision\n",
    "# LNM\n",
    "fig, ax = plt.subplots(1,1, figsize=(15,5))\n",
    "\n",
    "fig.suptitle(\"LNM Recall vs Precision per Model\", fontsize=16)\n",
    "\n",
    "ax.plot(org_LNM_metrics_range.loc[\"TPR (Recall/Sens)\"], org_LNM_metrics_range.loc[\"Precision (PPV)\"], label=\"Origineel Netwerk\")\n",
    "ax.plot(WOPlat_LNM_metrics_range.loc[\"TPR (Recall/Sens)\"], WOPlat_LNM_metrics_range.loc[\"Precision (PPV)\"], label=\"-Plat -TCGA -MRI\")\n",
    "ax.plot(WOPlat_MRI_LNM_metrics_range.loc[\"TPR (Recall/Sens)\"], WOPlat_MRI_LNM_metrics_range.loc[\"Precision (PPV)\"], label=\"-Plat -TCGA +MRI\")\n",
    "ax.plot(WOPlat_TCGA_LNM_metrics_range.loc[\"TPR (Recall/Sens)\"], WOPlat_TCGA_LNM_metrics_range.loc[\"Precision (PPV)\"], label=\"-Plat +TCGA -MRI\")\n",
    "ax.plot(WOPlat_TCGA_MRI_LNM_metrics_range.loc[\"TPR (Recall/Sens)\"], WOPlat_TCGA_MRI_LNM_metrics_range.loc[\"Precision (PPV)\"], label=\"-Plat +TCGA +MRI\")\n",
    "ax.plot(WPlat_LNM_metrics_range.loc[\"TPR (Recall/Sens)\"], WPlat_LNM_metrics_range.loc[\"Precision (PPV)\"], label=\"+Plat -TCGA -MRI\")\n",
    "ax.plot(WPlat_all_LNM_metrics_range.loc[\"TPR (Recall/Sens)\"], WPlat_all_LNM_metrics_range.loc[\"Precision (PPV)\"], label=\"+Plat +TCGA +MRI\")\n",
    "\n",
    "ax.legend(loc=\"upper right\")\n",
    "ax.set_xlabel(\"Recall\")\n",
    "ax.set_ylabel(\"Precision\")\n",
    "\n",
    "# Survival\n",
    "fig, ax = plt.subplots(1,1, figsize=(15,5))\n",
    "\n",
    "fig.suptitle(\"Survival Recall vs Precision per Model\", fontsize=16)\n",
    "    \n",
    "ax.plot(org_Surv_metrics_range.loc[\"TPR (Recall/Sens)\"], org_Surv_metrics_range.loc[\"Precision (PPV)\"], label=\"Origineel Netwerk\")\n",
    "ax.plot(WOPlat_Surv_metrics_range.loc[\"TPR (Recall/Sens)\"], WOPlat_Surv_metrics_range.loc[\"Precision (PPV)\"], label=\"-Plat -TCGA -MRI\")\n",
    "ax.plot(WOPlat_MRI_Surv_metrics_range.loc[\"TPR (Recall/Sens)\"], WOPlat_MRI_Surv_metrics_range.loc[\"Precision (PPV)\"], label=\"-Plat -TCGA +MRI\")\n",
    "ax.plot(WOPlat_TCGA_Surv_metrics_range.loc[\"TPR (Recall/Sens)\"], WOPlat_TCGA_Surv_metrics_range.loc[\"Precision (PPV)\"], label=\"-Plat +TCGA -MRI\")\n",
    "ax.plot(WOPlat_TCGA_MRI_Surv_metrics_range.loc[\"TPR (Recall/Sens)\"], WOPlat_TCGA_MRI_Surv_metrics_range.loc[\"Precision (PPV)\"], label=\"-Plat +TCGA +MRI\")\n",
    "ax.plot(WPlat_Surv_metrics_range.loc[\"TPR (Recall/Sens)\"], WPlat_Surv_metrics_range.loc[\"Precision (PPV)\"], label=\"+Plat -TCGA -MRI\")\n",
    "ax.plot(WPlat_all_Surv_metrics_range.loc[\"TPR (Recall/Sens)\"], WPlat_all_Surv_metrics_range.loc[\"Precision (PPV)\"], label=\"+Plat +TCGA +MRI\")\n",
    "\n",
    "ax.legend(loc=\"upper right\")\n",
    "ax.set_xlabel(\"Recall\")\n",
    "ax.set_ylabel(\"Precision\")\n",
    "\n"
   ],
   "metadata": {
    "collapsed": false
   },
   "id": "3097f2aa02790d9f"
  },
  {
   "cell_type": "markdown",
   "source": [
    "Plot the recall vs threshold for the different models"
   ],
   "metadata": {
    "collapsed": false
   },
   "id": "3442b38f5fbbf0a0"
  },
  {
   "cell_type": "code",
   "execution_count": null,
   "outputs": [],
   "source": [
    "# Recall vs threshold\n",
    "# LNM\n",
    "fig, ax = plt.subplots(1,1, figsize=(15,5))\n",
    "\n",
    "fig.suptitle(\"LNM Recall vs Threshold per Model\", fontsize=16)\n",
    "\n",
    "# Recall on the x-axis\n",
    "ax.plot(org_LNM_metrics_range.loc[\"TPR (Recall/Sens)\"], label=\"Origineel Netwerk\")\n",
    "ax.plot(WOPlat_LNM_metrics_range.loc[\"TPR (Recall/Sens)\"], label=\"-Plat -TCGA -MRI\")\n",
    "ax.plot(WOPlat_MRI_LNM_metrics_range.loc[\"TPR (Recall/Sens)\"], label=\"-Plat -TCGA +MRI\")\n",
    "ax.plot(WOPlat_TCGA_LNM_metrics_range.loc[\"TPR (Recall/Sens)\"], label=\"-Plat +TCGA -MRI\")\n",
    "ax.plot(WOPlat_TCGA_MRI_LNM_metrics_range.loc[\"TPR (Recall/Sens)\"], label=\"-Plat +TCGA +MRI\")\n",
    "ax.plot(WPlat_LNM_metrics_range.loc[\"TPR (Recall/Sens)\"], label=\"+Plat -TCGA -MRI\")\n",
    "ax.plot(WPlat_all_LNM_metrics_range.loc[\"TPR (Recall/Sens)\"], label=\"+Plat +TCGA +MRI\")\n",
    "\n",
    "ax.legend(loc=\"upper right\")\n",
    "ax.set_xlabel(\"Threshold\")\n",
    "ax.set_ylabel(\"Recall\")\n",
    "ax.set_xticks([0.05, 0.10, 0.20, 0.30, 0.40, 0.50, 0.60 ,0.70, 0.80, 0.90])\n",
    "ax.set_xticklabels([0.05, 0.10, 0.20, 0.30, 0.40, 0.50, 0.60 ,0.70, 0.80, 0.90])\n",
    "\n",
    "# Survival\n",
    "fig, ax = plt.subplots(1,1, figsize=(15,5))\n",
    "    \n",
    "fig.suptitle(\"Survival Recall per Threshold per Model\", fontsize=16)\n",
    "\n",
    "ax.plot(org_Surv_metrics_range.loc[\"TPR (Recall/Sens)\"], label=\"Origineel Netwerk\")\n",
    "ax.plot(WOPlat_Surv_metrics_range.loc[\"TPR (Recall/Sens)\"], label=\"-Plat -TCGA -MRI\")\n",
    "ax.plot(WOPlat_MRI_Surv_metrics_range.loc[\"TPR (Recall/Sens)\"], label=\"-Plat -TCGA +MRI\")\n",
    "ax.plot(WOPlat_TCGA_Surv_metrics_range.loc[\"TPR (Recall/Sens)\"], label=\"-Plat +TCGA -MRI\")\n",
    "ax.plot(WOPlat_TCGA_MRI_Surv_metrics_range.loc[\"TPR (Recall/Sens)\"], label=\"-Plat +TCGA +MRI\")\n",
    "ax.plot(WPlat_Surv_metrics_range.loc[\"TPR (Recall/Sens)\"], label=\"+Plat -TCGA -MRI\")\n",
    "ax.plot(WPlat_all_Surv_metrics_range.loc[\"TPR (Recall/Sens)\"], label=\"+Plat +TCGA +MRI\")\n",
    "    \n",
    "ax.legend(loc=\"lower left\")\n",
    "ax.set_xlabel(\"Threshold\")\n",
    "ax.set_ylabel(\"Recall\")\n",
    "ax.set_xticks([0.05, 0.10, 0.20, 0.30, 0.40, 0.50, 0.60 ,0.70, 0.80, 0.90])\n",
    "ax.set_xticklabels([0.05, 0.10, 0.20, 0.30, 0.40, 0.50, 0.60 ,0.70, 0.80, 0.90])\n",
    "\n"
   ],
   "metadata": {
    "collapsed": false
   },
   "id": "ae47d9cc470cbedf"
  },
  {
   "cell_type": "markdown",
   "source": [
    "Plot the precision vs threshold for the different models"
   ],
   "metadata": {
    "collapsed": false
   },
   "id": "74b4505c72be5048"
  },
  {
   "cell_type": "code",
   "execution_count": null,
   "outputs": [],
   "source": [
    "# Precision vs threshold\n",
    "# LNM\n",
    "fig, ax = plt.subplots(1,1, figsize=(15,5))\n",
    "\n",
    "fig.suptitle(\"LNM Precision vs Threshold per Model\", fontsize=16)\n",
    "\n",
    "ax.plot(org_LNM_metrics_range.loc[\"Precision (PPV)\"], label=\"Origineel Netwerk\")\n",
    "ax.plot(WOPlat_LNM_metrics_range.loc[\"Precision (PPV)\"], label=\"-Plat -TCGA -MRI\")\n",
    "ax.plot(WOPlat_MRI_LNM_metrics_range.loc[\"Precision (PPV)\"], label=\"-Plat -TCGA +MRI\")\n",
    "ax.plot(WOPlat_TCGA_LNM_metrics_range.loc[\"Precision (PPV)\"], label=\"-Plat +TCGA -MRI\")\n",
    "ax.plot(WOPlat_TCGA_MRI_LNM_metrics_range.loc[\"Precision (PPV)\"], label=\"-Plat +TCGA +MRI\")\n",
    "ax.plot(WPlat_LNM_metrics_range.loc[\"Precision (PPV)\"], label=\"+Plat -TCGA -MRI\")\n",
    "ax.plot(WPlat_all_LNM_metrics_range.loc[\"Precision (PPV)\"], label=\"+Plat +TCGA +MRI\")\n",
    "\n",
    "ax.legend(loc=\"upper left\")\n",
    "ax.set_xlabel(\"Threshold\")\n",
    "ax.set_ylabel(\"Precision\")\n",
    "ax.set_xticks([0.05, 0.10, 0.20, 0.30, 0.40, 0.50, 0.60 ,0.70, 0.80, 0.90])\n",
    "ax.set_xticklabels([0.05, 0.10, 0.20, 0.30, 0.40, 0.50, 0.60 ,0.70, 0.80, 0.90])\n",
    "\n",
    "# Survival\n",
    "fig, ax = plt.subplots(1,1, figsize=(15,5))\n",
    "\n",
    "fig.suptitle(\"Survival Precision vs Threshold per Model\", fontsize=16)\n",
    "\n",
    "ax.plot(org_Surv_metrics_range.loc[\"Precision (PPV)\"], label=\"Origineel Netwerk\")\n",
    "ax.plot(WOPlat_Surv_metrics_range.loc[\"Precision (PPV)\"], label=\"-Plat -TCGA -MRI\")\n",
    "ax.plot(WOPlat_MRI_Surv_metrics_range.loc[\"Precision (PPV)\"], label=\"-Plat -TCGA +MRI\")\n",
    "ax.plot(WOPlat_TCGA_Surv_metrics_range.loc[\"Precision (PPV)\"], label=\"-Plat +TCGA -MRI\")\n",
    "ax.plot(WOPlat_TCGA_MRI_Surv_metrics_range.loc[\"Precision (PPV)\"], label=\"-Plat +TCGA +MRI\")\n",
    "ax.plot(WPlat_Surv_metrics_range.loc[\"Precision (PPV)\"], label=\"+Plat -TCGA -MRI\")\n",
    "ax.plot(WPlat_all_Surv_metrics_range.loc[\"Precision (PPV)\"], label=\"+Plat +TCGA +MRI\")\n",
    "\n",
    "ax.legend(loc=\"upper left\")\n",
    "ax.set_xlabel(\"Threshold\")\n",
    "ax.set_ylabel(\"Precision\")\n",
    "ax.set_xticks([0.05, 0.10, 0.20, 0.30, 0.40, 0.50, 0.60 ,0.70, 0.80, 0.90])\n",
    "ax.set_xticklabels([0.05, 0.10, 0.20, 0.30, 0.40, 0.50, 0.60 ,0.70, 0.80, 0.90])\n"
   ],
   "metadata": {
    "collapsed": false
   },
   "id": "c6b641b2c80f6ec3"
  }
 ],
 "metadata": {
  "kernelspec": {
   "display_name": "Python 3",
   "language": "python",
   "name": "python3"
  },
  "language_info": {
   "codemirror_mode": {
    "name": "ipython",
    "version": 2
   },
   "file_extension": ".py",
   "mimetype": "text/x-python",
   "name": "python",
   "nbconvert_exporter": "python",
   "pygments_lexer": "ipython2",
   "version": "2.7.6"
  }
 },
 "nbformat": 4,
 "nbformat_minor": 5
}
