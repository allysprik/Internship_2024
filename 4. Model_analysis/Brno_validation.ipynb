{
 "cells": [
  {
   "cell_type": "markdown",
   "source": [
    "### Author: Ally Sprik\n",
    "### Last-updated: 25-02-2024\n",
    "\n",
    "Goal of this notebook is to validate different networks with the Brno validation set\n",
    "\n"
   ],
   "metadata": {
    "collapsed": false
   },
   "id": "ae85acb9d788a6b6"
  },
  {
   "cell_type": "code",
   "execution_count": null,
   "id": "initial_id",
   "metadata": {
    "collapsed": true
   },
   "outputs": [],
   "source": [
    "import pandas as pd\n",
    "import numpy as np\n",
    "import pyAgrum as gum\n",
    "import pyAgrum.lib.notebook as gnb\n",
    "from collections import Counter\n",
    "\n",
    "# Loading in networks\n",
    "origineel_net = gum.loadBN(\"../0.3. Original_Casper_files/Results/Casper_fitted_952.net\")\n",
    "WOPlat = gum.loadBN(\"../3. Model/Fitted_Networks/R_WOP_original_952.net\")\n",
    "WOPlat_MRI = gum.loadBN(\"../3. Model/Fitted_Networks/R_WOP_AddMRIMI_fitted_952.net\")\n",
    "WOPlat_TCGA = gum.loadBN(\"../3. Model/Fitted_Networks/R_WOP_AddTCGA_1_fitted_952.net\")\n",
    "WOPlat_TCGA_MRI = gum.loadBN(\"../3. Model/Fitted_Networks/R_WOP_AddMRIMITCGA_fitted_952.net\")\n",
    "WPlat = gum.loadBN(\"../3. Model/Fitted_Networks/R_WP_Original_952.net\")\n",
    "WPlat_all = gum.loadBN(\"../3. Model/Fitted_Networks/R_WP_all_train_952.net\")\n",
    "\n",
    "\n",
    "# Loading in data\n",
    "df = pd.read_csv(\"../0.1. Cleaned_data/Cleaned_Brno_model_complete.csv\")\n",
    "df"
   ]
  },
  {
   "cell_type": "code",
   "execution_count": null,
   "outputs": [],
   "source": [
    "df[\"LVSI\"].replace({np.nan:\"no\"}, inplace=True) # Replace nan values with no for LVSI, according to Hanny if it is not said it is practically always no"
   ],
   "metadata": {
    "collapsed": false
   },
   "id": "8f3dc8dd2fa214da"
  },
  {
   "cell_type": "markdown",
   "source": [
    "Select the rows that can be used for validation, subset for the LNM and the Survival5yr"
   ],
   "metadata": {
    "collapsed": false
   },
   "id": "1a07e9afd95cf904"
  },
  {
   "cell_type": "code",
   "execution_count": null,
   "outputs": [],
   "source": [
    "# Select where ENDORISK_LNM and FU is yes\n",
    "df_LNM = df[(df[\"ENDORISK_LNM\"] == \"yes\")].copy().dropna(subset=[\"LNM\"])\n",
    "df_Surv = df[(df[\"ENDORISK_FU\"] == \"yes\")].copy().dropna(subset=[\"Survival5yr\"])\n",
    "df_LNM.reset_index(drop=True, inplace=True)\n",
    "df_Surv.reset_index(drop=True, inplace=True)"
   ],
   "metadata": {
    "collapsed": false
   },
   "id": "839501091ef0ec96"
  },
  {
   "cell_type": "markdown",
   "source": [
    "Implement the ESGO classification groups for LNM"
   ],
   "metadata": {
    "collapsed": false
   },
   "id": "2fae02e9e11d676e"
  },
  {
   "cell_type": "code",
   "execution_count": null,
   "outputs": [],
   "source": [
    "# Clinical model generation\n",
    "# Create a function to get the results based on a threshold for the probability\n",
    "# Simulate clinical decision making through \n",
    "# Construct a column ESGOwoTCGA, ESGOwTCGA based on classification chart \n",
    "# Low risk ESGOwoTCGA: FIGO Stage IA with grade 1/2, no LVSI\n",
    "# Low risk ESGOwTCGA: FIGO Stage I-II with POLE mutation, no LVSI; \n",
    "#                               or Stage IA with grade 1/2, no LVSI, MSI or NSMP\n",
    "# Intermediate risk ESGOwoTCGA: FIGO Stage IB with grade 1/2, no LVSI; \n",
    "#                               or Stage IA with grade 3, no LVSI; \n",
    "#                               or Stage IA with grade 1/2, LVSI;\n",
    "#                               or Stage IA non-endometrioid. no MRI_MI\n",
    "# Intermediate risk ESGOwTCGA: FIGO Stage IB with grade 1/2, no LVSI, MSI or NSMP;\n",
    "#                               or Stage IA with grade 3, no LVSI, MSI or NSMP;\n",
    "#                               or Stage IA with p53 abn and or non-endometrioid, LVSI, MSI or NSMP, no MRI_MI;\n",
    "# High-intermediate risk ESGOwoTCGA: FIGO Stage I with LVSI;\n",
    "#                               or Stage IB with grade 3, regardless of LVSI;\n",
    "#                               or Stage II;\n",
    "# High-intermediate risk ESGOwTCGA: FIGO Stage I with LVSI, MSI or NSMP;\n",
    "#                               or Stage IB with grade 3, regardless of LVSI, MSI or NSMP;\n",
    "#                               or Stage II with MSI or NSMP;\n",
    "# High risk ESGOwoTCGA: FIGO Stage III-IV;\n",
    "#                               or Stage I-IVA non-endometrioid, with MRI_MI;\n",
    "# High risk ESGOwTCGA: FIGO Stage III-IV, with MSI or NSMP;\n",
    "#                               or Stage I-IVA non-endometrioid, with MRI_MI, p53abn;\n",
    "#                               or Stage I-IVA non-endometrioid, with MRI_MI;\n",
    "# Advanced metastatic risk ESGOwoTCGA: FIGO Stage III-IVA with residual disease;\n",
    "#                               or Stage IVB;\n",
    "# Advanced metastatic risk ESGOwTCGA: FIGO Stage III-IVA with residual disease;\n",
    "#                               or Stage IVB any molecular profile;\n",
    "\n",
    "df_LNM[\"ESGOwoTCGA\"] = np.nan\n",
    "df_LNM[\"ESGOwTCGA\"] = np.nan\n",
    "\n",
    "not_included_woTCGA = pd.DataFrame(columns=df_LNM.columns)\n",
    "not_included_wTCGA = pd.DataFrame(columns=df_LNM.columns)\n",
    "\n",
    "for i in range(len(df_LNM)):\n",
    "    FIGO = df_LNM[\"FIGO_surgical\"][i]\n",
    "    Grade = df_LNM[\"PostoperativeGrade\"][i]\n",
    "    LVSI = df_LNM[\"LVSI\"][i]\n",
    "    MRI_MI = df_LNM[\"MRI_MI\"][i]\n",
    "    p53_PREOP = df_LNM[\"p53\"][i]\n",
    "    Histology = df_LNM[\"Histology\"][i]\n",
    "    \n",
    "    if df_LNM[\"MSI\"][i] == \"yes\":\n",
    "        MolClass = \"MSI\"\n",
    "    elif df_LNM[\"POLE\"][i] == \"yes\":\n",
    "        MolClass = \"POLE\"\n",
    "    elif df_LNM[\"MSI\"][i] == \"no\" or df_LNM[\"POLE\"][i] == \"no\":\n",
    "        MolClass = \"NSMP\"\n",
    "    else:\n",
    "        MolClass = np.nan\n",
    "    \n",
    "   # woTCGA\n",
    "    if FIGO == \"IA\" and (Grade == \"grade 1\" or Grade == \"grade 2\") and LVSI == \"no\" and Histology == \"endometrioid\":\n",
    "        df_LNM[\"ESGOwoTCGA\"][i] = \"Low\"\n",
    "    elif FIGO == \"IB\" and (Grade == \"grade 1\" or Grade == \"grade 2\") and LVSI == \"no\" and Histology == \"endometrioid\":\n",
    "        df_LNM[\"ESGOwoTCGA\"][i] = \"Intermediate\"\n",
    "    elif FIGO == \"IA\" and (Grade == \"grade 3\") and LVSI == \"no\" and Histology == \"endometrioid\":\n",
    "        df_LNM[\"ESGOwoTCGA\"][i] = \"Intermediate\"\n",
    "    elif FIGO == \"IA\" and (Histology == \"non-endometrioid\") and MRI_MI == \"lt_50\":\n",
    "        df_LNM[\"ESGOwoTCGA\"][i] = \"Intermediate\"\n",
    "    elif (FIGO == \"IA\" or FIGO == \"IB\") and Histology == \"endometrioid\" and LVSI == \"yes\":\n",
    "        df_LNM[\"ESGOwoTCGA\"][i] = \"High-intermediate\"\n",
    "    elif FIGO == \"IB\" and (Grade == \"grade 3\") and Histology == \"endometrioid\":\n",
    "        df_LNM[\"ESGOwoTCGA\"][i] = \"High-intermediate\"\n",
    "    elif FIGO == \"II\":\n",
    "        df_LNM[\"ESGOwoTCGA\"][i] = \"High-intermediate\"\n",
    "    elif FIGO == \"IIIA\" or FIGO == \"IIIB\" or FIGO == \"IIIC\" or FIGO == \"IVA\":\n",
    "        df_LNM[\"ESGOwoTCGA\"][i] = \"High\"\n",
    "    elif FIGO != \"IVB\" and (Histology == \"non-endometrioid\") and MRI_MI == \"ge_50\":\n",
    "        df_LNM[\"ESGOwoTCGA\"][i] = \"High\"\n",
    "    elif FIGO == \"IVB\":\n",
    "        df_LNM[\"ESGOwoTCGA\"][i] = \"Advanced metastatic\"\n",
    "    else:\n",
    "        df_LNM[\"ESGOwoTCGA\"][i] = np.nan\n",
    "        \n",
    "    \n",
    "    if (FIGO == \"IA\" or FIGO == \"IB\" or FIGO == \"II\") and (MolClass == \"POLE\") and Histology == \"endometrioid\":\n",
    "        df_LNM[\"ESGOwTCGA\"][i] = \"Low\"\n",
    "    elif FIGO == \"IA\" and Histology == \"endometrioid\" and LVSI == \"no\" and (MolClass == \"MSI\" or MolClass == \"NSMP\"):\n",
    "        df_LNM[\"ESGOwTCGA\"][i] = \"Low\"\n",
    "    elif FIGO == \"IB\" and (Grade == \"grade 1\" or Grade == \"grade 2\") and LVSI == \"no\" and (MolClass == \"MSI\" or MolClass == \"NSMP\") and Histology == \"endometrioid\":\n",
    "        df_LNM[\"ESGOwTCGA\"][i] = \"Intermediate\"\n",
    "    elif FIGO == \"IA\" and (Grade == \"grade 3\") and LVSI == \"no\" and Histology == \"endometrioid\" and (MolClass == \"MSI\" or MolClass == \"NSMP\"):\n",
    "        df_LNM[\"ESGOwTCGA\"][i] = \"Intermediate\"\n",
    "    elif FIGO == \"IA\" and (Histology == \"non-endometrioid\" or p53_PREOP == \"mutant\") and MRI_MI == \"lt_50\":\n",
    "        df_LNM[\"ESGOwTCGA\"][i] = \"Intermediate\"\n",
    "    elif (FIGO == \"IA\" or FIGO == \"IB\") and LVSI == \"yes\" and (MolClass == \"MSI\" or MolClass == \"NSMP\") and Histology == \"endometrioid\":\n",
    "        df_LNM[\"ESGOwTCGA\"][i] = \"High-intermediate\"\n",
    "    elif FIGO == \"IB\" and (Grade == \"grade 3\") and (MolClass == \"MSI\" or MolClass == \"NSMP\") and Histology == \"endometrioid\":\n",
    "        df_LNM[\"ESGOwTCGA\"][i] = \"High-intermediate\"\n",
    "    elif FIGO == \"II\" and (MolClass == \"MSI\" or MolClass == \"NSMP\") and Histology == \"endometrioid\":\n",
    "        df_LNM[\"ESGOwTCGA\"][i] = \"High-intermediate\"    \n",
    "    elif (FIGO == \"IIIA\" or FIGO == \"IIIB\" or FIGO==\"IIIC\" or FIGO == \"IVA\") and (MolClass == \"NSMP\" or MolClass == \"MSI\") and Histology == \"endometrioid\":\n",
    "        df_LNM[\"ESGOwTCGA\"][i] = \"High\"\n",
    "    elif FIGO != \"IVB\" and p53_PREOP == \"mutant\" and MRI_MI == \"ge_50\":\n",
    "        df_LNM[\"ESGOwTCGA\"][i] = \"High\"\n",
    "    elif FIGO != \"IVB\" and (Histology == \"non-endometrioid\") and MRI_MI == \"ge_50\" and (MolClass == \"NSMP\" or MolClass == \"MSI\"):\n",
    "        df_LNM[\"ESGOwTCGA\"][i] = \"High\"\n",
    "    elif FIGO == \"IVB\":\n",
    "        df_LNM[\"ESGOwTCGA\"][i] = \"Advanced metastatic\"\n",
    "    else:\n",
    "        df_LNM[\"ESGOwTCGA\"][i] = np.nan"
   ],
   "metadata": {
    "collapsed": false
   },
   "id": "5c4ae1023af1e7d4"
  },
  {
   "cell_type": "markdown",
   "source": [
    "Insert probabilities corresponding with the risk groups"
   ],
   "metadata": {
    "collapsed": false
   },
   "id": "6b27decdf8ddf738"
  },
  {
   "cell_type": "code",
   "execution_count": null,
   "outputs": [],
   "source": [
    "# High-intermediate, High, and Advanced metastatic risk groups are considered for LND in the ESGO classification\n",
    "\n",
    "df_LNM[\"ESGOwoTCGA_LND\"] = np.nan\n",
    "df_LNM[\"ESGOwTCGA_LND\"] = np.nan\n",
    "\n",
    "for i in range(len(df_LNM)):\n",
    "    ESGOwoTCGA = df_LNM[\"ESGOwoTCGA\"][i]\n",
    "    ESGOwTCGA = df_LNM[\"ESGOwTCGA\"][i]\n",
    "    \n",
    "    # Fill in per category\n",
    "    if ESGOwoTCGA == \"Low\":\n",
    "        df_LNM[\"ESGOwoTCGA_LND\"][i] = 0.01\n",
    "    elif ESGOwoTCGA == \"Intermediate\":\n",
    "        df_LNM[\"ESGOwoTCGA_LND\"][i] = 0.05\n",
    "    elif ESGOwoTCGA == \"High-intermediate\":\n",
    "        df_LNM[\"ESGOwoTCGA_LND\"][i] = 0.11\n",
    "    elif ESGOwoTCGA == \"High\":\n",
    "        df_LNM[\"ESGOwoTCGA_LND\"][i] = 0.20\n",
    "    elif ESGOwoTCGA == \"Advanced metastatic\":\n",
    "        df_LNM[\"ESGOwoTCGA_LND\"][i] = 0.20\n",
    "    elif pd.isna(ESGOwoTCGA):\n",
    "        df_LNM[\"ESGOwoTCGA_LND\"][i] = np.nan\n",
    "    else:\n",
    "        df_LNM[\"ESGOwoTCGA_LND\"][i] = 0\n",
    "        \n",
    "    if ESGOwTCGA == \"Low\":\n",
    "        df_LNM[\"ESGOwTCGA_LND\"][i] = 0.01\n",
    "    elif ESGOwTCGA == \"Intermediate\":\n",
    "        df_LNM[\"ESGOwTCGA_LND\"][i] = 0.05\n",
    "    elif ESGOwTCGA == \"High-intermediate\":\n",
    "        df_LNM[\"ESGOwTCGA_LND\"][i] = 0.11\n",
    "    elif ESGOwTCGA == \"High\":\n",
    "        df_LNM[\"ESGOwTCGA_LND\"][i] = 0.20\n",
    "    elif ESGOwTCGA == \"Advanced metastatic\":\n",
    "        df_LNM[\"ESGOwTCGA_LND\"][i] = 0.20\n",
    "    elif pd.isna(ESGOwTCGA):\n",
    "        df_LNM[\"ESGOwTCGA_LND\"][i] = np.nan\n",
    "    else:\n",
    "        df_LNM[\"ESGOwTCGALND\"][i] = 0"
   ],
   "metadata": {
    "collapsed": false
   },
   "id": "978a6973084f0e41"
  },
  {
   "cell_type": "markdown",
   "source": [
    "Generate the ESGO targets (the target rows that ESGO could classify)"
   ],
   "metadata": {
    "collapsed": false
   },
   "id": "3f111c726890d914"
  },
  {
   "cell_type": "code",
   "execution_count": null,
   "outputs": [],
   "source": [
    "# Get the target for both clinical models for LNM\n",
    "# drop the rows that have nan in the ESGOwoTCGA_LND column and in the LNM column\n",
    "ESGOwoTCGA = df_LNM[\"ESGOwoTCGA_LND\"].copy()\n",
    "ESGOwoTCGA.dropna(inplace=True)\n",
    "indices = ESGOwoTCGA.index\n",
    "ESGOwoTCGA.reset_index(inplace=True, drop=True)\n",
    "\n",
    "ESGOwoTCGA_LNMTruth = df_LNM[\"LNM\"].copy()\n",
    "ESGOwoTCGA_LNMTruth = ESGOwoTCGA_LNMTruth.iloc[indices]\n",
    "ESGOwoTCGA_LNMTruth.replace({\"yes\":1, \"no\":0}, inplace=True)\n",
    "ESGOwoTCGA_LNMTruth.reset_index(inplace=True, drop=True)\n",
    "\n",
    "# drop the rows that have nan in the ESGOwoTCGA_LND column and in the LNM column\n",
    "ESGOwTCGA = df_LNM[\"ESGOwTCGA_LND\"].copy()\n",
    "ESGOwTCGA.dropna(inplace=True)\n",
    "indices = ESGOwTCGA.index\n",
    "ESGOwTCGA.reset_index(inplace=True, drop=True)\n",
    "\n",
    "ESGOwTCGA_LNMTruth = df_LNM[\"LNM\"].copy()\n",
    "ESGOwTCGA_LNMTruth = ESGOwTCGA_LNMTruth.iloc[indices]\n",
    "ESGOwTCGA_LNMTruth.replace({\"yes\":1, \"no\":0}, inplace=True)\n",
    "ESGOwTCGA_LNMTruth.reset_index(inplace=True, drop=True)\n",
    "\n",
    "# put in dfframes\n",
    "ESGOwoTCGA = pd.DataFrame(ESGOwoTCGA)\n",
    "ESGOwoTCGA_LNMTruth = pd.DataFrame(ESGOwoTCGA_LNMTruth)\n",
    "\n",
    "ESGOwTCGA = pd.DataFrame(ESGOwTCGA)\n",
    "ESGOwTCGA_LNMTruth = pd.DataFrame(ESGOwTCGA_LNMTruth)"
   ],
   "metadata": {
    "collapsed": false
   },
   "id": "b9044378aa3f2b90"
  },
  {
   "cell_type": "markdown",
   "source": [
    "Replace the labels for the targets with 1 and 0"
   ],
   "metadata": {
    "collapsed": false
   },
   "id": "5da1997709aaf373"
  },
  {
   "cell_type": "code",
   "execution_count": null,
   "outputs": [],
   "source": [
    "target_LNM = df_LNM[\"LNM\"].replace({\"yes\":1, \"no\":0})\n",
    "target_Surv = df_Surv[\"Survival5yr\"].replace({\"yes\":1, \"no\":0})"
   ],
   "metadata": {
    "collapsed": false
   },
   "id": "be73abd0efcfc0a8"
  },
  {
   "cell_type": "markdown",
   "source": [
    "Define the overall evidence columns"
   ],
   "metadata": {
    "collapsed": false
   },
   "id": "f5b3a50f7854d503"
  },
  {
   "cell_type": "code",
   "execution_count": null,
   "outputs": [],
   "source": [
    "evidence_columns = [\"ER\", \"PR\", \"p53\", \"L1CAM\", \"CA125\", \"Platelets\", \"Cytology\", \"MRI_MI\", \"MSI\", \"POLE\", \"PreoperativeGrade\"]"
   ],
   "metadata": {
    "collapsed": false
   },
   "id": "94bfb6a913093cea"
  },
  {
   "cell_type": "markdown",
   "source": [
    "Create datasets for the different networks, based on the evidence columns and the nodes that are present in the network"
   ],
   "metadata": {
    "collapsed": false
   },
   "id": "fde28ba955369b86"
  },
  {
   "cell_type": "code",
   "execution_count": null,
   "outputs": [],
   "source": [
    "# Create different datasets based on the nodes that are present in the network\n",
    "df_origineel_LNM = df_LNM[list(Counter(evidence_columns) & Counter(list(origineel_net.names())))].copy()\n",
    "df_origineel_Surv = df_Surv[list(Counter(evidence_columns) & Counter(list(origineel_net.names())))].copy()\n",
    "\n",
    "df_WOPlat_LNM = df_LNM[list(Counter(evidence_columns) & Counter(list(WOPlat.names())))].copy()\n",
    "df_WOPlat_Surv = df_Surv[list(Counter(evidence_columns) & Counter(list(WOPlat.names())))].copy()\n",
    "\n",
    "df_WOPlat_MRI_LNM = df_LNM[list(Counter(evidence_columns) & Counter(list(WOPlat_MRI.names())))].copy()\n",
    "df_WOPlat_MRI_Surv = df_Surv[list(Counter(evidence_columns) & Counter(list(WOPlat_MRI.names())))].copy()\n",
    "\n",
    "df_WOPlat_TCGA_LNM = df_LNM[list(Counter(evidence_columns) & Counter(list(WOPlat_TCGA.names())))].copy()\n",
    "df_WOPlat_TCGA_Surv = df_Surv[list(Counter(evidence_columns) & Counter(list(WOPlat_TCGA.names())))].copy()\n",
    "\n",
    "df_WOPlat_TCGA_MRI_LNM = df_LNM[list(Counter(evidence_columns) & Counter(list(WOPlat_TCGA_MRI.names())))].copy()\n",
    "df_WOPlat_TCGA_MRI_Surv = df_Surv[list(Counter(evidence_columns) & Counter(list(WOPlat_TCGA_MRI.names())))].copy()\n",
    "\n",
    "df_WPlat_LNM = df_LNM[list(Counter(evidence_columns) & Counter(list(WPlat.names())))].copy()\n",
    "df_WPlat_Surv = df_Surv[list(Counter(evidence_columns) & Counter(list(WPlat.names())))].copy()\n",
    "\n",
    "df_WPlat_all_LNM = df_LNM[list(Counter(evidence_columns) & Counter(list(WPlat_all.names())))].copy()\n",
    "df_WPlat_all_Surv = df_Surv[list(Counter(evidence_columns) & Counter(list(WPlat_all.names())))].copy()"
   ],
   "metadata": {
    "collapsed": false
   },
   "id": "14b5666386091992"
  },
  {
   "cell_type": "markdown",
   "source": [
    "Create a function to get the probabilities for the different networks"
   ],
   "metadata": {
    "collapsed": false
   },
   "id": "cbfcc547c33dbc81"
  },
  {
   "cell_type": "code",
   "execution_count": null,
   "outputs": [],
   "source": [
    "def getProbabilities(model, evidence_LNM, evidence_Surv, Surv = \"Survival5yr\", samples = 100):\n",
    "    ls_result_LNM = []\n",
    "    ls_result_Surv = []\n",
    "    \n",
    "    #for i in range(1, samples):\n",
    "    resultsLNM = []\n",
    "    resultsSurvival = []\n",
    "    net = gum.LazyPropagation(model)\n",
    "    net.getNumberOfThreads()\n",
    "    net.setNumberOfThreads(10)\n",
    "    \n",
    "    for j in range(len(evidence_LNM)):\n",
    "        evidencerow = evidence_LNM.iloc[j]\n",
    "        evidencerow = evidencerow.dropna().to_dict()\n",
    "        \n",
    "        try:\n",
    "            net.setEvidence(evidencerow)\n",
    "            \n",
    "            net.makeInference()\n",
    "\n",
    "            resultLNM = net.posterior(\"LNM\")\n",
    "            \n",
    "            resultsLNM.append(resultLNM)\n",
    "        except Exception as error:\n",
    "            print(\"Error at row regarding LNM\", j)\n",
    "            print(error)\n",
    "            \n",
    "            resultsLNM.append(resultLNM)\n",
    "\n",
    "    \n",
    "    for j in range(len(evidence_Surv)):\n",
    "        evidencerow = evidence_Surv.iloc[j]\n",
    "        evidencerow = evidencerow.dropna().to_dict()\n",
    "        \n",
    "        try:\n",
    "            net.setEvidence(evidencerow)\n",
    "            \n",
    "            net.makeInference()\n",
    "\n",
    "            resultSurvival = net.posterior(\"Survival5yr\")\n",
    "            \n",
    "            resultsSurvival.append(resultSurvival)\n",
    "        except Exception as error:\n",
    "            print(\"Error at row regarding Survival\", j)\n",
    "            print(error)\n",
    "            \n",
    "            resultsSurvival.append(resultSurvival)\n",
    "\n",
    "        \n",
    "    return resultsLNM, resultsSurvival\n"
   ],
   "metadata": {
    "collapsed": false
   },
   "id": "ad2f7ca645de87c9"
  },
  {
   "cell_type": "markdown",
   "source": [
    "Get the probabilities for the different networks"
   ],
   "metadata": {
    "collapsed": false
   },
   "id": "7fe8a6b1c45615a5"
  },
  {
   "cell_type": "code",
   "execution_count": null,
   "outputs": [],
   "source": [
    "print(\"Started 1\")\n",
    "results_origineel_LNM, results_origineel_Surv = getProbabilities(origineel_net, df_origineel_LNM, df_origineel_Surv)\n",
    "\n",
    "print(\"Started 2\")\n",
    "results_WOPlat_LNM, results_WOPlat_Surv = getProbabilities(WOPlat, df_WOPlat_LNM, df_WOPlat_Surv)\n",
    "\n",
    "print(\"Started 3\")\n",
    "results_WOPlat_MRI_LNM, results_WOPlat_MRI_Surv = getProbabilities(WOPlat_MRI, df_WOPlat_MRI_LNM, df_WOPlat_MRI_Surv)\n",
    "\n",
    "print(\"Started 4\")\n",
    "results_WOPlat_TCGA_LNM, results_WOPlat_TCGA_Surv = getProbabilities(WOPlat_TCGA, df_WOPlat_TCGA_LNM, df_WOPlat_TCGA_Surv)\n",
    "\n",
    "print(\"Started 5\")\n",
    "results_WOPlat_TCGA_MRI_LNM, results_WOPlat_TCGA_MRI_Surv = getProbabilities(WOPlat_TCGA_MRI, df_WOPlat_TCGA_MRI_LNM, df_WOPlat_TCGA_MRI_Surv)\n",
    "\n",
    "print(\"Started 6\")\n",
    "results_WPlat_LNM, results_WPlat_Surv = getProbabilities(WPlat, df_WPlat_LNM, df_WPlat_Surv)\n",
    "\n",
    "print(\"Started 7\")\n",
    "results_WPlat_all_LNM, results_WPlat_all_Surv = getProbabilities(WPlat_all, df_WPlat_all_LNM, df_WPlat_all_Surv)\n",
    "\n"
   ],
   "metadata": {
    "collapsed": false
   },
   "id": "9e2f3fdedee96a3d"
  },
  {
   "cell_type": "markdown",
   "source": [
    "Create a function to extract the probability values from the results"
   ],
   "metadata": {
    "collapsed": false
   },
   "id": "94df050af8c4a6c9"
  },
  {
   "cell_type": "code",
   "execution_count": null,
   "outputs": [],
   "source": [
    "def getProbResults(results, target):\n",
    "    res = []\n",
    "    \n",
    "    for i in range(len(results)):\n",
    "        res.append(results[i][target])\n",
    "    return pd.DataFrame(res)"
   ],
   "metadata": {
    "collapsed": false
   },
   "id": "d8d56d85d130de30"
  },
  {
   "cell_type": "markdown",
   "source": [
    "Get the probabilities for the targets, LNM and surival yes"
   ],
   "metadata": {
    "collapsed": false
   },
   "id": "9725916b3924696f"
  },
  {
   "cell_type": "code",
   "execution_count": null,
   "outputs": [],
   "source": [
    "org_LNM = getProbResults(results_origineel_LNM, 1)\n",
    "org_Surv = getProbResults(results_origineel_Surv, 1)\n",
    "\n",
    "WOPlat_LNM = getProbResults(results_WOPlat_LNM, 1)\n",
    "WOPlat_Surv = getProbResults(results_WOPlat_Surv, 1)\n",
    "\n",
    "WOPlat_MRI_LNM = getProbResults(results_WOPlat_MRI_LNM, 1)\n",
    "WOPlat_MRI_Surv = getProbResults(results_WOPlat_MRI_Surv, 1)\n",
    "\n",
    "WOPlat_TCGA_LNM = getProbResults(results_WOPlat_TCGA_LNM, 1)\n",
    "WOPlat_TCGA_Surv = getProbResults(results_WOPlat_TCGA_Surv, 1)\n",
    "\n",
    "WOPlat_TCGA_MRI_LNM = getProbResults(results_WOPlat_TCGA_MRI_LNM, 1)\n",
    "WOPlat_TCGA_MRI_Surv = getProbResults(results_WOPlat_TCGA_MRI_Surv, 1)\n",
    "\n",
    "WPlat_LNM = getProbResults(results_WPlat_LNM, 1)\n",
    "WPlat_Surv = getProbResults(results_WPlat_Surv, 1)\n",
    "\n",
    "WPlat_all_LNM = getProbResults(results_WPlat_all_LNM, 1)\n",
    "WPlat_all_Surv = getProbResults(results_WPlat_all_Surv, 1)\n"
   ],
   "metadata": {
    "collapsed": false
   },
   "id": "a74999bf921ccb48"
  },
  {
   "cell_type": "markdown",
   "source": [
    "Define functions to retrieve the metrics"
   ],
   "metadata": {
    "collapsed": false
   },
   "id": "fd0846286d3f4854"
  },
  {
   "cell_type": "code",
   "execution_count": null,
   "outputs": [],
   "source": [
    "from sklearn.metrics import roc_curve, f1_score\n",
    "# Find the accuracy, roc auc, precision and recall for the results and the targets data\n",
    "from sklearn.metrics import accuracy_score, roc_auc_score, precision_score, recall_score, confusion_matrix, log_loss, brier_score_loss\n",
    "\n",
    "def getMetrics(results, targets):\n",
    "    TP = confusion_matrix(targets, results)[1][1]\n",
    "    TN = confusion_matrix(targets, results)[0][0]\n",
    "    FP = confusion_matrix(targets, results)[0][1]\n",
    "    FN = confusion_matrix(targets, results)[1][0]\n",
    "    \n",
    "    accuracy = accuracy_score(targets, results)\n",
    "    roc_auc = roc_auc_score(targets, results)\n",
    "    precision = precision_score(targets, results)\n",
    "    TPR = recall_score(targets, results)\n",
    "    TNR = TN / (TN + FP)\n",
    "    \n",
    "    f1 = f1_score(targets, results)\n",
    "    brier = brier_score_loss(targets, results)\n",
    "    loglike = log_loss(targets, results)\n",
    "    \n",
    "    x = pd.DataFrame([accuracy, roc_auc, precision, TPR,TNR, f1, brier, loglike], index=[\"Accuracy\", \"ROC AUC\", \"Precision (PPV)\", \"TPR (Recall/Sens)\",\"TNR (Spec)\", \"F1\", \"Brier\", \"Log Loss\"])\n",
    "    return x\n",
    "\n",
    "def getSlimMetrics(results, targets):\n",
    "    \n",
    "    if not len(results) == len(targets):\n",
    "        raise Exception('Results and targets are not the same length. Results:', len(results), ' Targets:', len(targets))\n",
    "    \n",
    "    # Get ROC AUC, Log Loss, Brier, and N Predicted/N Observed\n",
    "    curve = roc_curve(targets, results, pos_label=1)\n",
    "    ROC = round(roc_auc_score(targets, results), 4)\n",
    "    LL = round(log_loss(targets, results), 4)\n",
    "    Brier = round(brier_score_loss(targets, results), 4)\n",
    "    N_pred = results.sum()[0]\n",
    "    N_obs = int(targets.sum())\n",
    "    N_br = f\"{int(N_pred)}/{int(N_obs)}\"\n",
    "    Ratio = round(N_pred/N_obs, 4)\n",
    "    \n",
    "    x = pd.DataFrame([ROC, LL, Brier, N_br, Ratio], index=[\"ROC AUC\", \"Log Loss\", \"Brier\", \"N Predicted/N Observed\", \"Ratio\"])\n",
    "    return x\n"
   ],
   "metadata": {
    "collapsed": false
   },
   "id": "9f97f8928848c0fd"
  },
  {
   "cell_type": "markdown",
   "source": [
    "Get the slim (non thresholded) metrics for the different models"
   ],
   "metadata": {
    "collapsed": false
   },
   "id": "444e7525b577fd5"
  },
  {
   "cell_type": "code",
   "execution_count": null,
   "outputs": [],
   "source": [
    "# Get the Slim metrics for the different models\n",
    "print(\"Started 1\")\n",
    "org_LNM_metrics = getSlimMetrics(org_LNM, target_LNM)\n",
    "org_Surv_metrics = getSlimMetrics(org_Surv, target_Surv)\n",
    "\n",
    "print(\"Started 2\")\n",
    "WOPlat_LNM_metrics = getSlimMetrics(WOPlat_LNM, target_LNM)\n",
    "WOPlat_Surv_metrics = getSlimMetrics(WOPlat_Surv, target_Surv)\n",
    "\n",
    "print(\"Started 3\")\n",
    "WOPlat_MRI_LNM_metrics = getSlimMetrics(WOPlat_MRI_LNM, target_LNM)\n",
    "WOPlat_MRI_Surv_metrics = getSlimMetrics(WOPlat_MRI_Surv, target_Surv)\n",
    "\n",
    "print(\"Started 4\")\n",
    "WOPlat_TCGA_LNM_metrics = getSlimMetrics(WOPlat_TCGA_LNM, target_LNM)\n",
    "WOPlat_TCGA_Surv_metrics = getSlimMetrics(WOPlat_TCGA_Surv, target_Surv)\n",
    "\n",
    "print(\"Started 5\")\n",
    "WOPlat_TCGA_MRI_LNM_metrics = getSlimMetrics(WOPlat_TCGA_MRI_LNM, target_LNM)\n",
    "WOPlat_TCGA_MRI_Surv_metrics = getSlimMetrics(WOPlat_TCGA_MRI_Surv, target_Surv)\n",
    "\n",
    "print(\"Started 6\")\n",
    "WPlat_LNM_metrics = getSlimMetrics(WPlat_LNM, target_LNM)\n",
    "WPlat_Surv_metrics = getSlimMetrics(WPlat_Surv, target_Surv)\n",
    "\n",
    "print(\"Started 7\")\n",
    "WPlat_all_LNM_metrics = getSlimMetrics(WPlat_all_LNM, target_LNM)\n",
    "WPlat_all_Surv_metrics = getSlimMetrics(WPlat_all_Surv, target_Surv)\n",
    "\n",
    "# Slim metrics for the clinical categories of ESGOwoTCGA and ESGOwTCGA\n",
    "print(\"Started 8\")\n",
    "ESGOwoTCGA_LNM_metrics = getSlimMetrics(ESGOwoTCGA, ESGOwoTCGA_LNMTruth)\n",
    "ESGOwTCGA_LNM_metrics = getSlimMetrics(ESGOwTCGA, ESGOwTCGA_LNMTruth)\n"
   ],
   "metadata": {
    "collapsed": false
   },
   "id": "7b6b1291195b5fe1"
  },
  {
   "cell_type": "markdown",
   "source": [
    "Concate the metrics to display a table comparing the different models LNM"
   ],
   "metadata": {
    "collapsed": false
   },
   "id": "bc5b15886d37c1e1"
  },
  {
   "cell_type": "code",
   "execution_count": null,
   "outputs": [],
   "source": [
    "# Concatenate the metrics to between the models LNM\n",
    "LNM_metrics = pd.concat([ESGOwoTCGA_LNM_metrics, ESGOwoTCGA_LNM_metrics, org_LNM_metrics,  \n",
    "                         WOPlat_LNM_metrics, WOPlat_MRI_LNM_metrics, WOPlat_TCGA_LNM_metrics, WOPlat_TCGA_MRI_LNM_metrics, WPlat_LNM_metrics, WPlat_all_LNM_metrics], axis=1)\n",
    "\n",
    "LNM_metrics.columns = [\"ESGOwoTCGA\", \"ESGOwTCGA\",\"Origineel Netwerk\",  \n",
    "                       \"-Plat -TCGA -MRI\", \"-Plat -TCGA +MRI\", \"-Plat +TCGA -MRI\", \"-Plat +TCGA +MRI\", \"+Plat -TCGA -MRI\", \"+Plat +TCGA +MRI\"]\n",
    "LNM_metrics\n"
   ],
   "metadata": {
    "collapsed": false
   },
   "id": "9f6ef66b545b9f5f"
  },
  {
   "cell_type": "markdown",
   "source": [
    "Concate the metrics to display a table comparing the different models Survival"
   ],
   "metadata": {
    "collapsed": false
   },
   "id": "fd9eb81e5ed7680f"
  },
  {
   "cell_type": "code",
   "execution_count": null,
   "outputs": [],
   "source": [
    "# Concatenate the metrics to between the models Survival\n",
    "Surv_metrics = pd.concat([org_Surv_metrics, \n",
    "                          WOPlat_Surv_metrics, WOPlat_MRI_Surv_metrics, WOPlat_TCGA_Surv_metrics, WOPlat_TCGA_MRI_Surv_metrics, WPlat_Surv_metrics, WPlat_all_Surv_metrics], axis=1)\n",
    "Surv_metrics = Surv_metrics.round(3)\n",
    "Surv_metrics.columns = [\"Origineel Netwerk\",  \n",
    "                        \"-Plat -TCGA -MRI\", \"-Plat -TCGA +MRI\", \"-Plat +TCGA -MRI\", \"-Plat +TCGA +MRI\", \"+Plat -TCGA -MRI\", \"+Plat +TCGA +MRI\"]\n",
    "Surv_metrics"
   ],
   "metadata": {
    "collapsed": false
   },
   "id": "3d0569c8f5bed95b"
  },
  {
   "cell_type": "markdown",
   "source": [
    "Plot the ROC curves for the different models"
   ],
   "metadata": {
    "collapsed": false
   },
   "id": "96c2ab3a9dca10a"
  },
  {
   "cell_type": "code",
   "execution_count": null,
   "outputs": [],
   "source": [
    "from matplotlib_inline.backend_inline import set_matplotlib_formats\n",
    "import matplotlib.pyplot as plt\n",
    "import seaborn as sns\n",
    "\n",
    "# Set the style\n",
    "sns.set_style(\"whitegrid\")\n",
    "# Set the output as png\n",
    "set_matplotlib_formats('png', 'pdf')\n",
    "plt.rcParams['figure.dpi'] = 150\n",
    "\n",
    "# plot all the ROC curves in one plot (LNM and Survival seperate)\n",
    "fig, ax = plt.subplots(1,2, figsize=(15,5))\n",
    "\n",
    "fig.suptitle(\"ROC Curves\", fontsize=16)\n",
    "\n",
    "# LNM\n",
    "ax[0].plot([0, 1], [0, 1], linestyle='--', lw=2, color='r', alpha=.8)\n",
    "\n",
    "fpr, tpr, _ = roc_curve(target_LNM, org_LNM, pos_label=1)\n",
    "ax[0].plot(fpr, tpr, label='Origineel Netwerk (area = %0.2f)' % roc_auc_score(target_LNM, org_LNM))\n",
    "\n",
    "fpr, tpr, _ = roc_curve(target_LNM, org_LNM, pos_label=1)\n",
    "ax[0].plot(fpr, tpr, label='-Plat -TCGA -MRI (area = %0.2f)' % roc_auc_score(target_LNM, WOPlat_LNM))\n",
    "\n",
    "fpr, tpr, _ = roc_curve(target_LNM, WOPlat_MRI_LNM, pos_label=1)\n",
    "ax[0].plot(fpr, tpr, label='-Plat -TCGA +MRI (area = %0.2f)' % roc_auc_score(target_LNM, WOPlat_MRI_LNM))\n",
    "\n",
    "fpr, tpr, _ = roc_curve(target_LNM, WOPlat_TCGA_LNM, pos_label=1)\n",
    "ax[0].plot(fpr, tpr, label='-Plat +TCGA -MRI (area = %0.2f)' % roc_auc_score(target_LNM, WOPlat_TCGA_LNM))\n",
    "\n",
    "fpr, tpr, _ = roc_curve(target_LNM, WOPlat_TCGA_MRI_LNM, pos_label=1)\n",
    "ax[0].plot(fpr, tpr, label='-Plat +TCGA +MRI (area = %0.2f)' % roc_auc_score(target_LNM, WOPlat_TCGA_MRI_LNM))\n",
    "\n",
    "fpr, tpr, _ = roc_curve(target_LNM, WPlat_LNM, pos_label=1)\n",
    "ax[0].plot(fpr, tpr, label='+Plat -TCGA -MRI (area = %0.2f)' % roc_auc_score(target_LNM, WPlat_LNM))\n",
    "\n",
    "fpr, tpr, _ = roc_curve(target_LNM, WPlat_all_LNM, pos_label=1)\n",
    "ax[0].plot(fpr, tpr, label='+Plat +TCGA +MRI (area = %0.2f)' % roc_auc_score(target_LNM, WPlat_all_LNM))\n",
    "\n",
    "# Add the clinical classifications\n",
    "fpr, tpr, _ = roc_curve(ESGOwoTCGA_LNMTruth, ESGOwoTCGA, pos_label=1)\n",
    "ax[0].plot(fpr, tpr, label='ESGOwoTCGA (area = %0.2f)' % roc_auc_score(ESGOwoTCGA_LNMTruth, ESGOwoTCGA))\n",
    "\n",
    "fpr, tpr, _ = roc_curve(ESGOwTCGA_LNMTruth, ESGOwTCGA, pos_label=1)\n",
    "ax[0].plot(fpr, tpr, label='ESGOwTCGA (area = %0.2f)' % roc_auc_score(ESGOwTCGA_LNMTruth, ESGOwTCGA))\n",
    "\n",
    "ax[0].title.set_text(\"LNM\")\n",
    "ax[0].legend(loc=\"lower right\")\n",
    "# Print AUC in the plot\n",
    "    \n",
    "# Survival\n",
    "ax[1].plot([0, 1], [0, 1], linestyle='--', lw=2, color='r', alpha=.8)\n",
    "\n",
    "fpr, tpr, _ = roc_curve(target_Surv, org_Surv, pos_label=1)\n",
    "ax[1].plot(fpr, tpr, label='Origineel Netwerk (area = %0.2f)' % roc_auc_score(target_Surv, org_Surv))\n",
    "\n",
    "fpr, tpr, _ = roc_curve(target_Surv, WOPlat_Surv, pos_label=1)\n",
    "ax[1].plot(fpr, tpr, label='-Plat -TCGA -MRI (area = %0.2f)' % roc_auc_score(target_Surv, WOPlat_Surv))\n",
    "\n",
    "fpr, tpr, _ = roc_curve(target_Surv, WOPlat_MRI_Surv, pos_label=1)\n",
    "ax[1].plot(fpr, tpr, label='-Plat -TCGA +MRI (area = %0.2f)' % roc_auc_score(target_Surv, WOPlat_MRI_Surv))\n",
    "\n",
    "fpr, tpr, _ = roc_curve(target_Surv, WOPlat_TCGA_Surv, pos_label=1)\n",
    "ax[1].plot(fpr, tpr, label='-Plat +TCGA -MRI (area = %0.2f)' % roc_auc_score(target_Surv, WOPlat_TCGA_Surv))\n",
    "\n",
    "fpr, tpr, _ = roc_curve(target_Surv, WOPlat_TCGA_MRI_Surv, pos_label=1)\n",
    "ax[1].plot(fpr, tpr, label='-Plat +TCGA +MRI (area = %0.2f)' % roc_auc_score(target_Surv, WOPlat_TCGA_MRI_Surv))\n",
    "\n",
    "fpr, tpr, _ = roc_curve(target_Surv, WPlat_Surv, pos_label=1)\n",
    "ax[1].plot(fpr, tpr, label='+Plat -TCGA -MRI (area = %0.2f)' % roc_auc_score(target_Surv, WPlat_Surv))\n",
    "\n",
    "fpr, tpr, _ = roc_curve(target_Surv, WPlat_all_Surv, pos_label=1)\n",
    "ax[1].plot(fpr, tpr, label='+Plat +TCGA +MRI (area = %0.2f)' % roc_auc_score(target_Surv, WPlat_all_Surv))\n",
    "\n",
    "ax[1].title.set_text(\"Survival\")\n",
    "ax[1].legend(loc=\"lower right\")"
   ],
   "metadata": {
    "collapsed": false
   },
   "id": "caef43c287899976"
  },
  {
   "cell_type": "markdown",
   "source": [
    "Define a function to get the diagnoses on a range of thresholds"
   ],
   "metadata": {
    "collapsed": false
   },
   "id": "9de527bf6ccfc424"
  },
  {
   "cell_type": "code",
   "execution_count": null,
   "outputs": [],
   "source": [
    "# Define a function to get the results based on a threshold for the probability\n",
    "def getRangeResults(probResults):\n",
    "    # Define thresholds\n",
    "    thresholds = [0.05, 0.10, 0.20, 0.30, 0.40, 0.50, 0.60 ,0.70, 0.80, 0.90]\n",
    "    # Create empty list\n",
    "    rows = len(probResults)\n",
    "\n",
    "    cols = len(thresholds)\n",
    "    \n",
    "    res = [[0 for i in range(cols)] for j in range(rows)]\n",
    "    \n",
    "    for i in range(len(probResults)):\n",
    "        targetcol = 0\n",
    "        \n",
    "        for col in probResults.columns:\n",
    "            if isinstance(col, str) and col.__contains__(\"ESGO\"):\n",
    "                targetcol = col\n",
    "            \n",
    "        for j in range(len(thresholds)):\n",
    "            if probResults[targetcol][i] >= thresholds[j]:\n",
    "                res[i][j] = 1\n",
    "            else:\n",
    "                res[i][j] = 0\n",
    "                \n",
    "    df = pd.DataFrame(res, columns=thresholds)\n",
    "    \n",
    "    return df\n",
    "\n"
   ],
   "metadata": {
    "collapsed": false
   },
   "id": "b1c6c62aa072abda"
  },
  {
   "cell_type": "markdown",
   "source": [
    "Get the ranges for the different models"
   ],
   "metadata": {
    "collapsed": false
   },
   "id": "366b28b5bc15909b"
  },
  {
   "cell_type": "code",
   "execution_count": null,
   "outputs": [],
   "source": [
    "org_LNM_range = getRangeResults(org_LNM)\n",
    "org_Surv_range = getRangeResults(org_Surv)\n",
    "\n",
    "WOPlat_LNM_range = getRangeResults(WOPlat_LNM)\n",
    "WOPlat_Surv_range = getRangeResults(WOPlat_Surv)\n",
    "\n",
    "WOPlat_MRI_LNM_range = getRangeResults(WOPlat_MRI_LNM)\n",
    "WOPlat_MRI_Surv_range = getRangeResults(WOPlat_MRI_Surv)\n",
    "\n",
    "WOPlat_TCGA_LNM_range = getRangeResults(WOPlat_TCGA_LNM)\n",
    "WOPlat_TCGA_Surv_range = getRangeResults(WOPlat_TCGA_Surv)\n",
    "\n",
    "WOPlat_TCGA_MRI_LNM_range = getRangeResults(WOPlat_TCGA_MRI_LNM)\n",
    "WOPlat_TCGA_MRI_Surv_range = getRangeResults(WOPlat_TCGA_MRI_Surv)\n",
    "\n",
    "WPlat_LNM_range = getRangeResults(WPlat_LNM)\n",
    "WPlat_Surv_range = getRangeResults(WPlat_Surv)\n",
    "\n",
    "WPlat_all_LNM_range = getRangeResults(WPlat_all_LNM)\n",
    "WPlat_all_Surv_range = getRangeResults(WPlat_all_Surv)\n",
    "\n",
    "# Get the ranges for the clinical categories of ESGOwoTCGA and ESGOwTCGA\n",
    "ESGOwoTCGA_range = getRangeResults(ESGOwoTCGA)\n",
    "ESGOwTCGA_range = getRangeResults(ESGOwTCGA)\n"
   ],
   "metadata": {
    "collapsed": false
   },
   "id": "3de82f4127f6690"
  },
  {
   "cell_type": "markdown",
   "source": [
    "Create a function to make a 3d matrix of metrics for each threshold"
   ],
   "metadata": {
    "collapsed": false
   },
   "id": "30a7d4befdd1cbbc"
  },
  {
   "cell_type": "code",
   "execution_count": null,
   "outputs": [],
   "source": [
    "# Create a function to make a 3d matrix of metrics for each threshold\n",
    "def getMetricsRange(results, targets):\n",
    "    # Define thresholds\n",
    "    thresholds = [0.05, 0.10, 0.20, 0.30, 0.40, 0.50, 0.60 ,0.70, 0.80, 0.90]\n",
    "    # Create empty list\n",
    "    metrics = []\n",
    "    # Metricnames\n",
    "    metricnames = [\"Accuracy\", \"Precision (PPV)\", \"TPR (Recall/Sens)\",\"TNR (Spec)\", \"F1\", \"Brier\", \"Log Loss\"]\n",
    "    \n",
    "    for threshold in thresholds:\n",
    "        res = results[threshold].values\n",
    "        \n",
    "        metrics.append(round(getMetrics(res, targets).loc[metricnames],3))\n",
    "    \n",
    "    metrics = pd.concat(metrics, axis=1)\n",
    "    metrics.columns = thresholds\n",
    "    return metrics"
   ],
   "metadata": {
    "collapsed": false
   },
   "id": "456cd0f409fadf15"
  },
  {
   "cell_type": "markdown",
   "source": [
    "Get the metric ranges for the different models"
   ],
   "metadata": {
    "collapsed": false
   },
   "id": "e3abf96573c4ad2e"
  },
  {
   "cell_type": "code",
   "execution_count": null,
   "outputs": [],
   "source": [
    "print(\"Started 1\")\n",
    "org_LNM_metrics_range = getMetricsRange(org_LNM_range, target_LNM)\n",
    "org_Surv_metrics_range = getMetricsRange(org_Surv_range, target_Surv)\n",
    "\n",
    "print(\"Started 2\")\n",
    "WOPlat_LNM_metrics_range = getMetricsRange(WOPlat_LNM_range, target_LNM)\n",
    "WOPlat_Surv_metrics_range = getMetricsRange(WOPlat_Surv_range, target_Surv)\n",
    "\n",
    "print(\"Started 3\")  \n",
    "WOPlat_MRI_LNM_metrics_range = getMetricsRange(WOPlat_MRI_LNM_range, target_LNM)\n",
    "WOPlat_MRI_Surv_metrics_range = getMetricsRange(WOPlat_MRI_Surv_range, target_Surv)\n",
    "\n",
    "print(\"Started 4\")\n",
    "WOPlat_TCGA_LNM_metrics_range = getMetricsRange(WOPlat_TCGA_LNM_range, target_LNM)\n",
    "WOPlat_TCGA_Surv_metrics_range = getMetricsRange(WOPlat_TCGA_Surv_range, target_Surv)\n",
    "\n",
    "print(\"Started 5\")\n",
    "WOPlat_TCGA_MRI_LNM_metrics_range = getMetricsRange(WOPlat_TCGA_MRI_LNM_range, target_LNM)\n",
    "WOPlat_TCGA_MRI_Surv_metrics_range = getMetricsRange(WOPlat_TCGA_MRI_Surv_range, target_Surv)\n",
    "\n",
    "print(\"Started 6\")\n",
    "WPlat_LNM_metrics_range = getMetricsRange(WPlat_LNM_range, target_LNM)\n",
    "WPlat_Surv_metrics_range = getMetricsRange(WPlat_Surv_range, target_Surv)\n",
    "\n",
    "print(\"Started 7\")\n",
    "WPlat_all_LNM_metrics_range = getMetricsRange(WPlat_all_LNM_range, target_LNM)\n",
    "WPlat_all_Surv_metrics_range = getMetricsRange(WPlat_all_Surv_range, target_Surv)\n",
    "\n",
    "# Get the metric ranges for the clinical categories of ESGOwoTCGA and ESGOwTCGA\n",
    "print(\"Started 8\")\n",
    "ESGOwoTCGA_LNM_metrics_range = getMetricsRange(ESGOwoTCGA_range, ESGOwoTCGA_LNMTruth)\n",
    "ESGOwTCGA_LNM_metrics_range = getMetricsRange(ESGOwTCGA_range, ESGOwTCGA_LNMTruth)"
   ],
   "metadata": {
    "collapsed": false
   },
   "id": "cae601fc25d6761a"
  },
  {
   "cell_type": "markdown",
   "source": [
    "Plot the recall vs precision for the different models"
   ],
   "metadata": {
    "collapsed": false
   },
   "id": "7b2a7160a52f49aa"
  },
  {
   "cell_type": "code",
   "execution_count": null,
   "outputs": [],
   "source": [
    "from matplotlib_inline.backend_inline import set_matplotlib_formats\n",
    "import matplotlib.pyplot as plt\n",
    "import seaborn as sns\n",
    "\n",
    "# Set the style\n",
    "sns.set_style(\"whitegrid\")\n",
    "# Set the output as png\n",
    "set_matplotlib_formats('png', 'pdf')\n",
    "plt.rcParams['figure.dpi'] = 150\n",
    "\n",
    "# Recall vs Precision\n",
    "# LNM\n",
    "fig, ax = plt.subplots(1,1, figsize=(15,5))\n",
    "\n",
    "fig.suptitle(\"LNM Recall vs Precision per Model\", fontsize=16)\n",
    "\n",
    "ax.plot(org_LNM_metrics_range.loc[\"TPR (Recall/Sens)\"], org_LNM_metrics_range.loc[\"Precision (PPV)\"], label=\"Origineel Netwerk\")\n",
    "ax.plot(WOPlat_LNM_metrics_range.loc[\"TPR (Recall/Sens)\"], WOPlat_LNM_metrics_range.loc[\"Precision (PPV)\"], label=\"-Plat -TCGA -MRI\")\n",
    "ax.plot(WOPlat_MRI_LNM_metrics_range.loc[\"TPR (Recall/Sens)\"], WOPlat_MRI_LNM_metrics_range.loc[\"Precision (PPV)\"], label=\"-Plat -TCGA +MRI\")\n",
    "ax.plot(WOPlat_TCGA_LNM_metrics_range.loc[\"TPR (Recall/Sens)\"], WOPlat_TCGA_LNM_metrics_range.loc[\"Precision (PPV)\"], label=\"-Plat +TCGA -MRI\")\n",
    "ax.plot(WOPlat_TCGA_MRI_LNM_metrics_range.loc[\"TPR (Recall/Sens)\"], WOPlat_TCGA_MRI_LNM_metrics_range.loc[\"Precision (PPV)\"], label=\"-Plat +TCGA +MRI\")\n",
    "ax.plot(WPlat_LNM_metrics_range.loc[\"TPR (Recall/Sens)\"], WPlat_LNM_metrics_range.loc[\"Precision (PPV)\"], label=\"+Plat -TCGA -MRI\")\n",
    "ax.plot(WPlat_all_LNM_metrics_range.loc[\"TPR (Recall/Sens)\"], WPlat_all_LNM_metrics_range.loc[\"Precision (PPV)\"], label=\"+Plat +TCGA +MRI\")\n",
    "# Add the clinical categories\n",
    "ax.plot(ESGOwoTCGA_LNM_metrics_range.loc[\"TPR (Recall/Sens)\"], ESGOwoTCGA_LNM_metrics_range.loc[\"Precision (PPV)\"], label=\"ESGOwoTCGA\")\n",
    "ax.plot(ESGOwTCGA_LNM_metrics_range.loc[\"TPR (Recall/Sens)\"], ESGOwTCGA_LNM_metrics_range.loc[\"Precision (PPV)\"], label=\"ESGOwTCGA\")\n",
    "\n",
    "ax.legend(loc=\"upper right\")\n",
    "ax.set_xlabel(\"Recall\")\n",
    "ax.set_ylabel(\"Precision\")\n",
    "\n",
    "# Survival\n",
    "fig, ax = plt.subplots(1,1, figsize=(15,5))\n",
    "\n",
    "fig.suptitle(\"Survival Recall vs Precision per Model\", fontsize=16)\n",
    "    \n",
    "ax.plot(org_Surv_metrics_range.loc[\"TPR (Recall/Sens)\"], org_Surv_metrics_range.loc[\"Precision (PPV)\"], label=\"Origineel Netwerk\")\n",
    "ax.plot(WOPlat_Surv_metrics_range.loc[\"TPR (Recall/Sens)\"], WOPlat_Surv_metrics_range.loc[\"Precision (PPV)\"], label=\"-Plat -TCGA -MRI\")\n",
    "ax.plot(WOPlat_MRI_Surv_metrics_range.loc[\"TPR (Recall/Sens)\"], WOPlat_MRI_Surv_metrics_range.loc[\"Precision (PPV)\"], label=\"-Plat -TCGA +MRI\")\n",
    "ax.plot(WOPlat_TCGA_Surv_metrics_range.loc[\"TPR (Recall/Sens)\"], WOPlat_TCGA_Surv_metrics_range.loc[\"Precision (PPV)\"], label=\"-Plat +TCGA -MRI\")\n",
    "ax.plot(WOPlat_TCGA_MRI_Surv_metrics_range.loc[\"TPR (Recall/Sens)\"], WOPlat_TCGA_MRI_Surv_metrics_range.loc[\"Precision (PPV)\"], label=\"-Plat +TCGA +MRI\")\n",
    "ax.plot(WPlat_Surv_metrics_range.loc[\"TPR (Recall/Sens)\"], WPlat_Surv_metrics_range.loc[\"Precision (PPV)\"], label=\"+Plat -TCGA -MRI\")\n",
    "ax.plot(WPlat_all_Surv_metrics_range.loc[\"TPR (Recall/Sens)\"], WPlat_all_Surv_metrics_range.loc[\"Precision (PPV)\"], label=\"+Plat +TCGA +MRI\")\n",
    "\n",
    "ax.legend(loc=\"upper right\")\n",
    "ax.set_xlabel(\"Recall\")\n",
    "ax.set_ylabel(\"Precision\")\n",
    "\n"
   ],
   "metadata": {
    "collapsed": false
   },
   "id": "3097f2aa02790d9f"
  },
  {
   "cell_type": "markdown",
   "source": [
    "Plot the recall vs threshold for the different models"
   ],
   "metadata": {
    "collapsed": false
   },
   "id": "3442b38f5fbbf0a0"
  },
  {
   "cell_type": "code",
   "execution_count": null,
   "outputs": [],
   "source": [
    "# Recall vs threshold\n",
    "# LNM\n",
    "fig, ax = plt.subplots(1,1, figsize=(15,5))\n",
    "\n",
    "fig.suptitle(\"LNM Recall vs Threshold per Model\", fontsize=16)\n",
    "\n",
    "# Recall on the x-axis\n",
    "ax.plot(org_LNM_metrics_range.loc[\"TPR (Recall/Sens)\"], label=\"Origineel Netwerk\")\n",
    "ax.plot(WOPlat_LNM_metrics_range.loc[\"TPR (Recall/Sens)\"], label=\"-Plat -TCGA -MRI\")\n",
    "ax.plot(WOPlat_MRI_LNM_metrics_range.loc[\"TPR (Recall/Sens)\"], label=\"-Plat -TCGA +MRI\")\n",
    "ax.plot(WOPlat_TCGA_LNM_metrics_range.loc[\"TPR (Recall/Sens)\"], label=\"-Plat +TCGA -MRI\")\n",
    "ax.plot(WOPlat_TCGA_MRI_LNM_metrics_range.loc[\"TPR (Recall/Sens)\"], label=\"-Plat +TCGA +MRI\")\n",
    "ax.plot(WPlat_LNM_metrics_range.loc[\"TPR (Recall/Sens)\"], label=\"+Plat -TCGA -MRI\")\n",
    "ax.plot(WPlat_all_LNM_metrics_range.loc[\"TPR (Recall/Sens)\"], label=\"+Plat +TCGA +MRI\")\n",
    "# Add the clinical categories\n",
    "ax.plot(ESGOwoTCGA_LNM_metrics_range.loc[\"TPR (Recall/Sens)\"], label=\"ESGOwoTCGA\")\n",
    "ax.plot(ESGOwTCGA_LNM_metrics_range.loc[\"TPR (Recall/Sens)\"], label=\"ESGOwTCGA\")\n",
    "\n",
    "ax.legend(loc=\"upper right\")\n",
    "ax.set_xlabel(\"Threshold\")\n",
    "ax.set_ylabel(\"Recall\")\n",
    "ax.set_xticks([0.05, 0.10, 0.20, 0.30, 0.40, 0.50, 0.60 ,0.70, 0.80, 0.90])\n",
    "ax.set_xticklabels([0.05, 0.10, 0.20, 0.30, 0.40, 0.50, 0.60 ,0.70, 0.80, 0.90])\n",
    "\n",
    "# Survival\n",
    "fig, ax = plt.subplots(1,1, figsize=(15,5))\n",
    "    \n",
    "fig.suptitle(\"Survival Recall per Threshold per Model\", fontsize=16)\n",
    "\n",
    "ax.plot(org_Surv_metrics_range.loc[\"TPR (Recall/Sens)\"], label=\"Origineel Netwerk\")\n",
    "ax.plot(WOPlat_Surv_metrics_range.loc[\"TPR (Recall/Sens)\"], label=\"-Plat -TCGA -MRI\")\n",
    "ax.plot(WOPlat_MRI_Surv_metrics_range.loc[\"TPR (Recall/Sens)\"], label=\"-Plat -TCGA +MRI\")\n",
    "ax.plot(WOPlat_TCGA_Surv_metrics_range.loc[\"TPR (Recall/Sens)\"], label=\"-Plat +TCGA -MRI\")\n",
    "ax.plot(WOPlat_TCGA_MRI_Surv_metrics_range.loc[\"TPR (Recall/Sens)\"], label=\"-Plat +TCGA +MRI\")\n",
    "ax.plot(WPlat_Surv_metrics_range.loc[\"TPR (Recall/Sens)\"], label=\"+Plat -TCGA -MRI\")\n",
    "ax.plot(WPlat_all_Surv_metrics_range.loc[\"TPR (Recall/Sens)\"], label=\"+Plat +TCGA +MRI\")\n",
    "    \n",
    "ax.legend(loc=\"lower left\")\n",
    "ax.set_xlabel(\"Threshold\")\n",
    "ax.set_ylabel(\"Recall\")\n",
    "ax.set_xticks([0.05, 0.10, 0.20, 0.30, 0.40, 0.50, 0.60 ,0.70, 0.80, 0.90])\n",
    "ax.set_xticklabels([0.05, 0.10, 0.20, 0.30, 0.40, 0.50, 0.60 ,0.70, 0.80, 0.90])\n",
    "\n"
   ],
   "metadata": {
    "collapsed": false
   },
   "id": "ae47d9cc470cbedf"
  },
  {
   "cell_type": "markdown",
   "source": [
    "Plot the precision vs threshold for the different models"
   ],
   "metadata": {
    "collapsed": false
   },
   "id": "74b4505c72be5048"
  },
  {
   "cell_type": "code",
   "execution_count": null,
   "outputs": [],
   "source": [
    "# Precision vs threshold\n",
    "# LNM\n",
    "fig, ax = plt.subplots(1,1, figsize=(15,5))\n",
    "\n",
    "fig.suptitle(\"LNM Precision vs Threshold per Model\", fontsize=16)\n",
    "\n",
    "ax.plot(org_LNM_metrics_range.loc[\"Precision (PPV)\"], label=\"Origineel Netwerk\")\n",
    "ax.plot(WOPlat_LNM_metrics_range.loc[\"Precision (PPV)\"], label=\"-Plat -TCGA -MRI\")\n",
    "ax.plot(WOPlat_MRI_LNM_metrics_range.loc[\"Precision (PPV)\"], label=\"-Plat -TCGA +MRI\")\n",
    "ax.plot(WOPlat_TCGA_LNM_metrics_range.loc[\"Precision (PPV)\"], label=\"-Plat +TCGA -MRI\")\n",
    "ax.plot(WOPlat_TCGA_MRI_LNM_metrics_range.loc[\"Precision (PPV)\"], label=\"-Plat +TCGA +MRI\")\n",
    "ax.plot(WPlat_LNM_metrics_range.loc[\"Precision (PPV)\"], label=\"+Plat -TCGA -MRI\")\n",
    "ax.plot(WPlat_all_LNM_metrics_range.loc[\"Precision (PPV)\"], label=\"+Plat +TCGA +MRI\")\n",
    "# Add the clinical categories\n",
    "ax.plot(ESGOwoTCGA_LNM_metrics_range.loc[\"Precision (PPV)\"], label=\"ESGOwoTCGA\")\n",
    "ax.plot(ESGOwTCGA_LNM_metrics_range.loc[\"Precision (PPV)\"], label=\"ESGOwTCGA\")\n",
    "\n",
    "ax.legend(loc=\"upper left\")\n",
    "ax.set_xlabel(\"Threshold\")\n",
    "ax.set_ylabel(\"Precision\")\n",
    "ax.set_xticks([0.05, 0.10, 0.20, 0.30, 0.40, 0.50, 0.60 ,0.70, 0.80, 0.90])\n",
    "ax.set_xticklabels([0.05, 0.10, 0.20, 0.30, 0.40, 0.50, 0.60 ,0.70, 0.80, 0.90])\n",
    "\n",
    "# Survival\n",
    "fig, ax = plt.subplots(1,1, figsize=(15,5))\n",
    "\n",
    "fig.suptitle(\"Survival Precision vs Threshold per Model\", fontsize=16)\n",
    "\n",
    "ax.plot(org_Surv_metrics_range.loc[\"Precision (PPV)\"], label=\"Origineel Netwerk\")\n",
    "ax.plot(WOPlat_Surv_metrics_range.loc[\"Precision (PPV)\"], label=\"-Plat -TCGA -MRI\")\n",
    "ax.plot(WOPlat_MRI_Surv_metrics_range.loc[\"Precision (PPV)\"], label=\"-Plat -TCGA +MRI\")\n",
    "ax.plot(WOPlat_TCGA_Surv_metrics_range.loc[\"Precision (PPV)\"], label=\"-Plat +TCGA -MRI\")\n",
    "ax.plot(WOPlat_TCGA_MRI_Surv_metrics_range.loc[\"Precision (PPV)\"], label=\"-Plat +TCGA +MRI\")\n",
    "ax.plot(WPlat_Surv_metrics_range.loc[\"Precision (PPV)\"], label=\"+Plat -TCGA -MRI\")\n",
    "ax.plot(WPlat_all_Surv_metrics_range.loc[\"Precision (PPV)\"], label=\"+Plat +TCGA +MRI\")\n",
    "\n",
    "ax.legend(loc=\"upper left\")\n",
    "ax.set_xlabel(\"Threshold\")\n",
    "ax.set_ylabel(\"Precision\")\n",
    "ax.set_xticks([0.05, 0.10, 0.20, 0.30, 0.40, 0.50, 0.60 ,0.70, 0.80, 0.90])\n",
    "ax.set_xticklabels([0.05, 0.10, 0.20, 0.30, 0.40, 0.50, 0.60 ,0.70, 0.80, 0.90])\n"
   ],
   "metadata": {
    "collapsed": false
   },
   "id": "c6b641b2c80f6ec3"
  },
  {
   "cell_type": "markdown",
   "source": [
    "Create the decision curve analysis for the different models"
   ],
   "metadata": {
    "collapsed": false
   },
   "id": "392ea31ec1d033b8"
  },
  {
   "cell_type": "code",
   "execution_count": null,
   "outputs": [],
   "source": [
    "# Decision curve analysis\n",
    "from dcurves import dca, plot_graphs\n",
    "import pandas as pd\n",
    "import numpy as np\n",
    "import statsmodels.api as sm\n",
    "import lifelines"
   ],
   "metadata": {
    "collapsed": false
   },
   "id": "7d07229836331c4c"
  },
  {
   "cell_type": "code",
   "execution_count": null,
   "outputs": [],
   "source": [
    "# Concatenate all model results with targets for the DCA\n",
    "LNM_DCA = pd.concat([target_LNM, org_LNM,\n",
    "                     WOPlat_LNM, WOPlat_MRI_LNM, WOPlat_TCGA_LNM, WOPlat_TCGA_MRI_LNM, WPlat_LNM, WPlat_all_LNM], axis=1)\n",
    "LNM_DCA.columns = [\"Target\", \"Origineel Netwerk\",\"-Plat -TCGA -MRI\", \"-Plat -TCGA +MRI\", \"-Plat +TCGA -MRI\", \"-Plat +TCGA +MRI\", \"+Plat -TCGA -MRI\", \"+Plat +TCGA +MRI\"]\n",
    "\n",
    "\n",
    "dca_multi_LNM = \\\n",
    "    dca(\n",
    "        data = LNM_DCA, \n",
    "        outcome = \"Target\", \n",
    "        modelnames = [\"Origineel Netwerk\", \"-Plat -TCGA -MRI\", \"-Plat -TCGA +MRI\", \"-Plat +TCGA -MRI\", \"-Plat +TCGA +MRI\", \"+Plat -TCGA -MRI\", \"+Plat +TCGA +MRI\"],\n",
    "        thresholds = np.arange(0, 0.30,0.02),\n",
    "        #harm={\"Origineel Netwerk\":0.03, \"-Plat -TCGA -MRI\":0.03, \"-Plat -TCGA +MRI\":0.03, \"-Plat +TCGA -MRI\":0.03, \"-Plat +TCGA +MRI\":0.03, \"+Plat -TCGA -MRI\":0.03, \"+Plat +TCGA +MRI\":0.03},\n",
    "    )\n",
    "\n",
    "ESGOwoTCGA_concat = pd.concat([ESGOwoTCGA, ESGOwoTCGA_LNMTruth], axis=1)\n",
    "ESGOwoTCGA_concat.columns = [\"ESGOwoTCGA\", \"Target\"]\n",
    "\n",
    "ESGOwTCGA_concat = pd.concat([ESGOwTCGA, ESGOwTCGA_LNMTruth], axis=1)\n",
    "ESGOwTCGA_concat.columns = [\"ESGOwTCGA\", \"Target\"]\n",
    "\n",
    "dca_EsgoWOTCGA = \\\n",
    "    dca(\n",
    "        data = ESGOwoTCGA_concat,\n",
    "        outcome = \"Target\",\n",
    "        modelnames = [\"ESGOwoTCGA\"],\n",
    "        thresholds = np.arange(0, 0.30,0.01),\n",
    "    )\n",
    "\n",
    "dca_EsgoWTCGA = \\\n",
    "    dca(\n",
    "        data = ESGOwTCGA_concat,\n",
    "        outcome = \"Target\",\n",
    "        modelnames = [\"ESGOwTCGA\"],\n",
    "        thresholds = np.arange(0, 0.30,0.01),\n",
    "    )\n",
    "# Select only the models from the last two dcas\n",
    "dca_EsgoWOTCGA = dca_EsgoWOTCGA[0:30]\n",
    "dca_EsgoWTCGA = dca_EsgoWTCGA[0:30]\n",
    "figure = plt.figure(figsize=(10,7))\n",
    "plt.rcParams.update({'font.size': 10})\n",
    "plt.rcParams.update({'legend.loc': 'upper right', 'legend.borderaxespad':0})\n",
    "\n",
    "plot_graphs(\n",
    "        plot_df = pd.concat([dca_multi_LNM, dca_EsgoWOTCGA, dca_EsgoWTCGA]),\n",
    "        y_limits=[-0.005, 0.2],\n",
    "        graph_type=\"net_benefit\",\n",
    "        color_names= [\"#1f77b4\", \"#ff7f0e\", \"#2ca02c\", \"#d62728\", \"#9467bd\", \"#8c564b\", \"#e377c2\", \"#7f7f7f\", \"#bcbd22\", \"#17becf\", \"#1f77b4\", \"#ff7f0e\", \"#2ca02c\", \"#d62728\", \"#9467bd\", \"#8c564b\", \"#e377c2\", \"#7f7f7f\", \"#bcbd22\", \"#17becf\"]\n",
    "    )\n"
   ],
   "metadata": {
    "collapsed": false
   },
   "id": "3164d628f5a92980"
  },
  {
   "cell_type": "markdown",
   "source": [
    "Hypothesis: The ESGO models only predict the patients that are clear cases\n",
    "Compare the models using only the patients that do not have NaN values in the ESGOwoTCGA and ESGOwTCGA columns."
   ],
   "metadata": {
    "collapsed": false
   },
   "id": "9738f17a470e8be6"
  },
  {
   "cell_type": "code",
   "execution_count": null,
   "outputs": [],
   "source": [
    "# Create the dataset \n",
    "new_df = df_LNM[df_LNM[\"ESGOwoTCGA\"].notna()]\n",
    "new_df = new_df[new_df[\"ESGOwTCGA\"].notna()]\n",
    "\n",
    "new_df"
   ],
   "metadata": {
    "collapsed": false
   },
   "id": "a503ae2c618fed9c"
  },
  {
   "cell_type": "markdown",
   "source": [
    "Select the results for these cases"
   ],
   "metadata": {
    "collapsed": false
   },
   "id": "a3c00e5a5e4f9ff2"
  },
  {
   "cell_type": "code",
   "execution_count": null,
   "outputs": [],
   "source": [
    "# Create new results for the models\n",
    "indices = new_df.index\n",
    "new_org_LNM = org_LNM.loc[indices]\n",
    "new_WOPlat_LNM = WOPlat_LNM.loc[indices]\n",
    "new_WOPlat_MRI_LNM = WOPlat_MRI_LNM.loc[indices]\n",
    "new_WOPlat_TCGA_LNM = WOPlat_TCGA_LNM.loc[indices]\n",
    "new_WOPlat_TCGA_MRI_LNM = WOPlat_TCGA_MRI_LNM.loc[indices]\n",
    "new_WPlat_LNM = WPlat_LNM.loc[indices]\n",
    "new_WPlat_all_LNM = WPlat_all_LNM.loc[indices]\n",
    "new_ESGOwoTCGA = pd.DataFrame(df_LNM[\"ESGOwoTCGA_LND\"].loc[indices])\n",
    "new_ESGOwTCGA = pd.DataFrame(df_LNM[\"ESGOwTCGA_LND\"].loc[indices])\n",
    "\n",
    "new_target_LNM = target_LNM.loc[indices]\n",
    "\n",
    "# Reset all indices\n",
    "new_org_LNM = new_org_LNM.reset_index(drop=True)\n",
    "new_WOPlat_LNM = new_WOPlat_LNM.reset_index(drop=True)\n",
    "new_WOPlat_MRI_LNM = new_WOPlat_MRI_LNM.reset_index(drop=True)\n",
    "new_WOPlat_TCGA_LNM = new_WOPlat_TCGA_LNM.reset_index(drop=True)\n",
    "new_WOPlat_TCGA_MRI_LNM = new_WOPlat_TCGA_MRI_LNM.reset_index(drop=True)\n",
    "new_WPlat_LNM = new_WPlat_LNM.reset_index(drop=True)\n",
    "new_WPlat_all_LNM = new_WPlat_all_LNM.reset_index(drop=True)\n",
    "new_ESGOwoTCGA = new_ESGOwoTCGA.reset_index(drop=True)\n",
    "new_ESGOwTCGA = new_ESGOwTCGA.reset_index(drop=True)\n",
    "new_target_LNM = new_target_LNM.reset_index(drop=True)\n"
   ],
   "metadata": {
    "collapsed": false
   },
   "id": "3d9eb4904e6776f5"
  },
  {
   "cell_type": "markdown",
   "source": [
    "Get the metrics for these new models"
   ],
   "metadata": {
    "collapsed": false
   },
   "id": "f5ef9787dcae43d4"
  },
  {
   "cell_type": "code",
   "execution_count": null,
   "outputs": [],
   "source": [
    "# Get the metrics for the new models\n",
    "print(\"Started 1\")\n",
    "new_org_LNM_metrics = getSlimMetrics(new_org_LNM, new_target_LNM)\n",
    "\n",
    "print(\"Started 2\")\n",
    "new_WOPlat_LNM_metrics = getSlimMetrics(new_WOPlat_LNM, new_target_LNM)\n",
    "\n",
    "print(\"Started 3\")\n",
    "new_WOPlat_MRI_LNM_metrics = getSlimMetrics(new_WOPlat_MRI_LNM, new_target_LNM)\n",
    "\n",
    "print(\"Started 4\")\n",
    "new_WOPlat_TCGA_LNM_metrics = getSlimMetrics(new_WOPlat_TCGA_LNM, new_target_LNM)\n",
    "\n",
    "print(\"Started 5\")\n",
    "new_WOPlat_TCGA_MRI_LNM_metrics = getSlimMetrics(new_WOPlat_TCGA_MRI_LNM, new_target_LNM)\n",
    "\n",
    "print(\"Started 6\")\n",
    "new_WPlat_LNM_metrics = getSlimMetrics(new_WPlat_LNM, new_target_LNM)\n",
    "\n",
    "print(\"Started 7\")\n",
    "new_WPlat_all_LNM_metrics = getSlimMetrics(new_WPlat_all_LNM, new_target_LNM)\n",
    "\n",
    "# Get the metrics for the clinical categories of ESGOwoTCGA and ESGOwTCGA\n",
    "print(\"Started 8\")\n",
    "new_ESGOwoTCGA_LNM_metrics = getSlimMetrics(new_ESGOwoTCGA, new_target_LNM)\n",
    "new_ESGOwTCGA_LNM_metrics = getSlimMetrics(new_ESGOwTCGA, new_target_LNM)"
   ],
   "metadata": {
    "collapsed": false
   },
   "id": "6ce47d8434e2cbd9"
  },
  {
   "cell_type": "markdown",
   "source": [
    "Concatenate the metrics to between the models LNM"
   ],
   "metadata": {
    "collapsed": false
   },
   "id": "49d3c3a6fe0b8b75"
  },
  {
   "cell_type": "code",
   "execution_count": null,
   "outputs": [],
   "source": [
    "# Concatenate the metrics to between the models LNM\n",
    "new_LNM_metrics = pd.concat([new_ESGOwoTCGA_LNM_metrics, new_ESGOwTCGA_LNM_metrics, new_org_LNM_metrics,  \n",
    "                         new_WOPlat_LNM_metrics, new_WOPlat_MRI_LNM_metrics, new_WOPlat_TCGA_LNM_metrics, new_WOPlat_TCGA_MRI_LNM_metrics, new_WPlat_LNM_metrics, new_WPlat_all_LNM_metrics], axis=1)\n",
    "\n",
    "new_LNM_metrics.columns = [\"ESGOwoTCGA\", \"ESGOwTCGA\", \"Origineel Netwerk\",\n",
    "                          \"-Plat -TCGA -MRI\", \"-Plat -TCGA +MRI\", \"-Plat +TCGA -MRI\", \"-Plat +TCGA +MRI\", \"+Plat -TCGA -MRI\", \"+Plat +TCGA +MRI\"]\n",
    "new_LNM_metrics\n"
   ],
   "metadata": {
    "collapsed": false
   },
   "id": "c7416530c95375d5"
  },
  {
   "cell_type": "markdown",
   "source": [
    "Get the range results for the new models"
   ],
   "metadata": {
    "collapsed": false
   },
   "id": "df33fe71c424d29c"
  },
  {
   "cell_type": "code",
   "execution_count": null,
   "outputs": [],
   "source": [
    "# Get range results for the new models\n",
    "new_org_LNM_range = getRangeResults(new_org_LNM)\n",
    "new_WOPlat_LNM_range = getRangeResults(new_WOPlat_LNM)\n",
    "new_WOPlat_MRI_LNM_range = getRangeResults(new_WOPlat_MRI_LNM)\n",
    "new_WOPlat_TCGA_LNM_range = getRangeResults(new_WOPlat_TCGA_LNM)\n",
    "new_WOPlat_TCGA_MRI_LNM_range = getRangeResults(new_WOPlat_TCGA_MRI_LNM)\n",
    "new_WPlat_LNM_range = getRangeResults(new_WPlat_LNM)\n",
    "new_WPlat_all_LNM_range = getRangeResults(new_WPlat_all_LNM)\n",
    "\n",
    "# Get the ranges for the clinical categories of ESGOwoTCGA and ESGOwTCGA\n",
    "new_ESGOwoTCGA_range = getRangeResults(new_ESGOwoTCGA)\n",
    "new_ESGOwTCGA_range = getRangeResults(new_ESGOwTCGA)\n",
    "\n",
    "# Metric ranges for the new models\n",
    "new_org_LNM_metrics_range = getMetricsRange(new_org_LNM_range, new_target_LNM)\n",
    "new_WOPlat_LNM_metrics_range = getMetricsRange(new_WOPlat_LNM_range, new_target_LNM)\n",
    "new_WOPlat_MRI_LNM_metrics_range = getMetricsRange(new_WOPlat_MRI_LNM_range, new_target_LNM)\n",
    "new_WOPlat_TCGA_LNM_metrics_range = getMetricsRange(new_WOPlat_TCGA_LNM_range, new_target_LNM)\n",
    "new_WOPlat_TCGA_MRI_LNM_metrics_range = getMetricsRange(new_WOPlat_TCGA_MRI_LNM_range, new_target_LNM)\n",
    "new_WPlat_LNM_metrics_range = getMetricsRange(new_WPlat_LNM_range, new_target_LNM)\n",
    "new_WPlat_all_LNM_metrics_range = getMetricsRange(new_WPlat_all_LNM_range, new_target_LNM)\n",
    "\n",
    "# Get the metric ranges for the clinical categories of ESGOwoTCGA and ESGOwTCGA\n",
    "new_ESGOwoTCGA_LNM_metrics_range = getMetricsRange(new_ESGOwoTCGA_range, new_target_LNM)\n",
    "new_ESGOwTCGA_LNM_metrics_range = getMetricsRange(new_ESGOwTCGA_range, new_target_LNM)\n"
   ],
   "metadata": {
    "collapsed": false
   },
   "id": "94a7182c2418e5d9"
  },
  {
   "cell_type": "markdown",
   "source": [
    "Plot the recall vs precision for the new models"
   ],
   "metadata": {
    "collapsed": false
   },
   "id": "3a7f32ef3339a638"
  },
  {
   "cell_type": "markdown",
   "source": [
    "Plot the recall vs threshold for the new models"
   ],
   "metadata": {
    "collapsed": false
   },
   "id": "56a1d5c7e958e08a"
  },
  {
   "cell_type": "code",
   "execution_count": null,
   "outputs": [],
   "source": [
    "# Recall vs threshold\n",
    "# LNM\n",
    "fig, ax = plt.subplots(1,1, figsize=(15,5))\n",
    "\n",
    "fig.suptitle(\"LNM Recall vs Threshold per Model\", fontsize=16)\n",
    "\n",
    "# Recall on the y-axis\n",
    "ax.plot(new_org_LNM_metrics_range.loc[\"TPR (Recall/Sens)\"], label=\"Origineel Netwerk\")\n",
    "ax.plot(new_WOPlat_LNM_metrics_range.loc[\"TPR (Recall/Sens)\"], label=\"-Plat -TCGA -MRI\")\n",
    "ax.plot(new_WOPlat_MRI_LNM_metrics_range.loc[\"TPR (Recall/Sens)\"], label=\"-Plat -TCGA +MRI\")\n",
    "ax.plot(new_WOPlat_TCGA_LNM_metrics_range.loc[\"TPR (Recall/Sens)\"], label=\"-Plat +TCGA -MRI\")\n",
    "ax.plot(new_WOPlat_TCGA_MRI_LNM_metrics_range.loc[\"TPR (Recall/Sens)\"], label=\"-Plat +TCGA +MRI\")\n",
    "ax.plot(new_WPlat_LNM_metrics_range.loc[\"TPR (Recall/Sens)\"], label=\"+Plat -TCGA -MRI\")\n",
    "ax.plot(new_WPlat_all_LNM_metrics_range.loc[\"TPR (Recall/Sens)\"], label=\"+Plat +TCGA +MRI\")\n",
    "# Add the clinical categories\n",
    "ax.plot(new_ESGOwoTCGA_LNM_metrics_range.loc[\"TPR (Recall/Sens)\"], label=\"ESGOwoTCGA\")\n",
    "ax.plot(new_ESGOwTCGA_LNM_metrics_range.loc[\"TPR (Recall/Sens)\"], label=\"ESGOwTCGA\")\n",
    "\n",
    "ax.legend(loc=\"upper right\")\n",
    "ax.set_xlabel(\"Threshold\")\n",
    "ax.set_ylabel(\"Recall\")\n"
   ],
   "metadata": {
    "collapsed": false
   },
   "id": "331cd2c0e231f0c7"
  },
  {
   "cell_type": "markdown",
   "source": [
    "Plot the precision vs threshold for the new models"
   ],
   "metadata": {
    "collapsed": false
   },
   "id": "68e0cf8db788e6f1"
  },
  {
   "cell_type": "code",
   "execution_count": null,
   "outputs": [],
   "source": [
    "# Precision vs threshold\n",
    "# LNM\n",
    "fig, ax = plt.subplots(1,1, figsize=(15,5))\n",
    "\n",
    "fig.suptitle(\"LNM Precision vs Threshold per Model\", fontsize=16)\n",
    "\n",
    "ax.plot(new_org_LNM_metrics_range.loc[\"Precision (PPV)\"], label=\"Origineel Netwerk\")\n",
    "ax.plot(new_WOPlat_LNM_metrics_range.loc[\"Precision (PPV)\"], label=\"-Plat -TCGA -MRI\")\n",
    "ax.plot(new_WOPlat_MRI_LNM_metrics_range.loc[\"Precision (PPV)\"], label=\"-Plat -TCGA +MRI\")\n",
    "ax.plot(new_WOPlat_TCGA_LNM_metrics_range.loc[\"Precision (PPV)\"], label=\"-Plat +TCGA -MRI\")\n",
    "ax.plot(new_WOPlat_TCGA_MRI_LNM_metrics_range.loc[\"Precision (PPV)\"], label=\"-Plat +TCGA +MRI\")\n",
    "ax.plot(new_WPlat_LNM_metrics_range.loc[\"Precision (PPV)\"], label=\"+Plat -TCGA -MRI\")\n",
    "ax.plot(new_WPlat_all_LNM_metrics_range.loc[\"Precision (PPV)\"], label=\"+Plat +TCGA +MRI\")\n",
    "# Add the clinical categories\n",
    "ax.plot(new_ESGOwoTCGA_LNM_metrics_range.loc[\"Precision (PPV)\"], label=\"ESGOwoTCGA\")\n",
    "ax.plot(new_ESGOwTCGA_LNM_metrics_range.loc[\"Precision (PPV)\"], label=\"ESGOwTCGA\")\n",
    "\n",
    "ax.legend(loc=\"upper right\")\n",
    "ax.set_xlabel(\"Threshold\")\n",
    "ax.set_ylabel(\"Precision\")\n",
    "\n"
   ],
   "metadata": {
    "collapsed": false
   },
   "id": "eff9bbed85ed586a"
  },
  {
   "cell_type": "markdown",
   "source": [
    "Create DCA for the new models"
   ],
   "metadata": {
    "collapsed": false
   },
   "id": "f989e8a012a424bd"
  },
  {
   "cell_type": "code",
   "execution_count": null,
   "outputs": [],
   "source": [
    "# Create DCA for the new models\n",
    "new_LNM_DCA = pd.concat([new_target_LNM, new_ESGOwTCGA, new_ESGOwoTCGA, new_org_LNM,\n",
    "                     new_WOPlat_LNM, new_WOPlat_MRI_LNM, new_WOPlat_TCGA_LNM, new_WOPlat_TCGA_MRI_LNM, new_WPlat_LNM, new_WPlat_all_LNM], axis=1)\n",
    "\n",
    "new_LNM_DCA.columns = [\"Target\", \"ESGOwTCGA\", \"ESGOwoTCGA\", \"Origineel Netwerk\",\"-Plat -TCGA -MRI\", \"-Plat -TCGA +MRI\", \"-Plat +TCGA -MRI\", \"-Plat +TCGA +MRI\", \"+Plat -TCGA -MRI\", \"+Plat +TCGA +MRI\"]\n",
    "\n",
    "new_LNM_DCA = new_LNM_DCA.reset_index(drop=True)\n",
    "\n",
    "new_dca_multi_LNM = \\\n",
    "    dca(\n",
    "        data = new_LNM_DCA, \n",
    "        outcome = \"Target\", \n",
    "        modelnames = [\"ESGOwTCGA\", \"ESGOwoTCGA\", \"Origineel Netwerk\", \"-Plat -TCGA -MRI\", \"-Plat -TCGA +MRI\", \"-Plat +TCGA -MRI\", \"-Plat +TCGA +MRI\", \"+Plat -TCGA -MRI\", \"+Plat +TCGA +MRI\"],\n",
    "        thresholds = np.arange(0, 0.30,0.02),\n",
    "        #harm={\"Origineel Netwerk\":0.03, \"-Plat -TCGA -MRI\":0.03, \"-Plat -TCGA +MRI\":0.03, \"-Plat +TCGA -MRI\":0.03, \"-Plat +TCGA +MRI\":0.03, \"+Plat -TCGA -MRI\":0.03, \"+Plat +TCGA +MRI\":0.03},\n",
    "    )\n",
    "\n",
    "# Plot the new DCA\n",
    "figure = plt.figure(figsize=(10,7))\n",
    "plt.rcParams.update({'font.size': 10})\n",
    "plt.rcParams.update({'legend.loc': 'upper right', 'legend.borderaxespad':0})\n",
    "\n",
    "plot_graphs(\n",
    "        plot_df = new_dca_multi_LNM,\n",
    "        y_limits=[-0.005, 0.2],\n",
    "        graph_type=\"net_benefit\",\n",
    "        color_names= [\"#1f77b4\", \"#ff7f0e\", \"#2ca02c\", \"#d62728\", \"#9467bd\", \"#8c564b\", \"#e377c2\", \"#7f7f7f\", \"#bcbd22\", \"#17becf\", \"#1f77b4\", \"#ff7f0e\", \"#2ca02c\", \"#d62728\", \"#9467bd\", \"#8c564b\", \"#e377c2\", \"#7f7f7f\", \"#bcbd22\", \"#17becf\"]\n",
    "    )"
   ],
   "metadata": {
    "collapsed": false
   },
   "id": "88a3baa20908a4d8"
  }
 ],
 "metadata": {
  "kernelspec": {
   "display_name": "Python 3",
   "language": "python",
   "name": "python3"
  },
  "language_info": {
   "codemirror_mode": {
    "name": "ipython",
    "version": 2
   },
   "file_extension": ".py",
   "mimetype": "text/x-python",
   "name": "python",
   "nbconvert_exporter": "python",
   "pygments_lexer": "ipython2",
   "version": "2.7.6"
  }
 },
 "nbformat": 4,
 "nbformat_minor": 5
}
