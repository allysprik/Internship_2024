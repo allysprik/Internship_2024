{
 "cells": [
  {
   "cell_type": "markdown",
   "source": [
    "### Author: Ally Sprik\n",
    "### Last-updated: 25-02-2024\n",
    "\n",
    "Goal of this notebook is to validate the created networks on the tubingen dataset. \n",
    "\n"
   ],
   "metadata": {
    "collapsed": false
   },
   "id": "8477277cae3fb1d5"
  },
  {
   "cell_type": "code",
   "execution_count": null,
   "outputs": [],
   "source": [
    "import pandas as pd\n",
    "import numpy as np\n",
    "import matplotlib.pyplot as plt\n",
    "import seaborn as sns\n",
    "import pyAgrum as gum\n",
    "import pyAgrum.lib.notebook as gnb\n",
    "\n",
    "df = pd.read_csv('../../0. Source_files/0.2. Cleaned_data/Tubingen_Validation_wMSI.csv')\n",
    "\n",
    "pd.options.mode.copy_on_write = True  # This will allow the code to run faster and keep Pandas happy. Technical detail: https://pandas.pydata.org/pandas-docs/stable/user_guide/copy_on_write.html#\n",
    "\n",
    "origineel_net = gum.loadBN(\"../../0. Source_files/0.4. Original_Casper_files/Results/Casper_fitted_952.net\")\n",
    "woPlat_woRest = gum.loadBN(\"../1.3. Model/Fitted_Networks/R_WOP_original_952.net\")\n",
    "WOPlat_MRI = gum.loadBN(\"../1.3. Model/Fitted_Networks/R_WOP_AddMRIMI_fitted_952.net\")\n",
    "WOPlat_TCGA = gum.loadBN(\"../1.3. Model/Fitted_Networks/R_WOP_AddTCGA_1_fitted_952.net\")\n",
    "WOPlat_TCGA_MRI = gum.loadBN(\"../1.3. Model/Fitted_Networks/R_WOP_AddMRIMITCGA_fitted_952.net\")\n",
    "wPlat_woRest = gum.loadBN(\"../1.3. Model/Fitted_Networks/R_WP_952.net\")\n",
    "WPlat_all = gum.loadBN(\"../1.3. Model/Fitted_Networks/R_WP_all_952.net\")\n"
   ],
   "metadata": {
    "collapsed": false
   },
   "id": "f926a8c985ffc3dc"
  },
  {
   "cell_type": "markdown",
   "source": [
    "# Change the target labels, and select an evidence set"
   ],
   "metadata": {
    "collapsed": false
   },
   "id": "e66d6fb262e58a23"
  },
  {
   "cell_type": "code",
   "execution_count": null,
   "outputs": [],
   "source": [
    "# Drop the rows that do not have target information\n",
    "df = df.dropna(subset=['LNM', 'Survival5yr'])\n",
    "# Reset index\n",
    "df.reset_index(drop=True, inplace=True)\n",
    "# Create some datasets\n",
    "df['LNM'] = df['LNM'].replace({\"yes\":1, \"no\":0, \"negative\":0, \"positive\":1})\n",
    "df['Survival5yr'] = df['Survival5yr'].replace({\"yes\":1, \"no\":0, \"negative\":0, \"positive\":1})\n",
    "\n",
    "evidence_columns = [\"ER\", \"PR\", \"p53\", \"L1CAM\", \"CA125\", \"CTMRI\", \"Platelets\", \"Cytology\", \"MRI_MI\", \"MSI\", \"POLE\", \"PreoperativeGrade\"]\n",
    "# Filter evidence based on the available columnns in the dataset\n",
    "evidence_columns = [col for col in evidence_columns if col in df.columns]\n",
    "\n",
    "evidence = df[evidence_columns]"
   ],
   "metadata": {
    "collapsed": false
   },
   "id": "b1c4f84777fb947e"
  },
  {
   "cell_type": "markdown",
   "source": [
    "Create specific datasets for each network"
   ],
   "metadata": {
    "collapsed": false
   },
   "id": "56a00fa1593f8ad7"
  },
  {
   "cell_type": "code",
   "execution_count": null,
   "outputs": [],
   "source": [
    "# Create specific datasets\n",
    "data_noMRI_NoTCGA_noPlat = evidence.copy().drop(columns=['POLE', 'MSI', 'Platelets'])\n",
    "data_noMRI_NoPlat = evidence.copy().drop(columns=['Platelets'])\n",
    "data_NoPlat = evidence.copy().drop(columns=['Platelets'])\n",
    "data_noMRI_NoTCGA = evidence.copy().drop(columns=['POLE', 'MSI'])\n",
    "data_noTCGA_NoPlat = evidence.copy().drop(columns=['POLE', 'MSI', 'Platelets'])"
   ],
   "metadata": {
    "collapsed": false
   },
   "id": "b558b9a244d1a357"
  },
  {
   "cell_type": "markdown",
   "source": [
    "Define a function to get the results for the networks\n",
    "\n",
    "Pseudocode:\n",
    "- Create an empty list for the results\n",
    "- Loop over the evidence\n",
    "    - Get the evidence row\n",
    "    - Get the probabilities for the LNM and the Survival\n",
    "    - Append the results to the list\n",
    "- Return the list"
   ],
   "metadata": {
    "collapsed": false
   },
   "id": "c3ea63aca19a73b0"
  },
  {
   "cell_type": "code",
   "execution_count": null,
   "outputs": [],
   "source": [
    "# Function to loop through the evidence and get the results\n",
    "def getProbabilities(model,evidence, Surv = \"Survival5yr\"):\n",
    "    resultsLNM = []\n",
    "    resultsSurvival = []\n",
    "    \n",
    "    for i in range(len(evidence)):\n",
    "        evidencerow = evidence.iloc[i]\n",
    "        evidencerow = evidencerow.dropna().to_dict()\n",
    "\n",
    "        result = gum.getPosterior(model, evs = evidencerow, target = \"LNM\")\n",
    "        resultsLNM.append(result)\n",
    "        \n",
    "        result = gum.getPosterior(model, evs = evidencerow, target = Surv)\n",
    "        resultsSurvival.append(result)\n",
    "        \n",
    "    return resultsLNM, resultsSurvival"
   ],
   "metadata": {
    "collapsed": false
   },
   "id": "76eb11cd96dee2a"
  },
  {
   "cell_type": "markdown",
   "source": [
    "Get the results for the networks"
   ],
   "metadata": {
    "collapsed": false
   },
   "id": "8d52891754e0d91b"
  },
  {
   "cell_type": "code",
   "execution_count": null,
   "outputs": [],
   "source": [
    "# Get the results for the original network\n",
    "print(\"Started 1\")\n",
    "org_net_LNM, org_net_Surv = getProbabilities(origineel_net, data_noMRI_NoTCGA_noPlat)\n",
    "\n",
    "print(\"Started 2\")\n",
    "WOPlat_TCGA_MRI_LNM, WOPlat_TCGA_MRI_Surv = getProbabilities(woPlat_woRest, data_noMRI_NoTCGA_noPlat)\n",
    "\n",
    "print(\"Started 3\")\n",
    "Plat_Rest_No_LNM, Plat_Rest_No_Surv = getProbabilities(wPlat_woRest, data_noMRI_NoTCGA)\n",
    "\n",
    "print(\"Started 4\")\n",
    "noTCGA_NoPlat_LNM, noTCGA_NoPlat_Surv = getProbabilities(WOPlat_MRI, data_noTCGA_NoPlat)\n",
    "\n",
    "print(\"Started 5\")\n",
    "noMRI_NoPlat_LNM, noMRI_NoPlat_Surv = getProbabilities(WOPlat_TCGA, data_noMRI_NoPlat)\n",
    "\n",
    "print(\"Started 6\")\n",
    "Plat_Rest_yes_LNM, Plat_Rest_yes_Surv = getProbabilities(WPlat_all, evidence)\n"
   ],
   "metadata": {
    "collapsed": false
   },
   "id": "11a04752ccf84a53"
  },
  {
   "cell_type": "markdown",
   "source": [
    "Define functions to unpack the results"
   ],
   "metadata": {
    "collapsed": false
   },
   "id": "e37e76ac26c64451"
  },
  {
   "cell_type": "code",
   "execution_count": null,
   "outputs": [],
   "source": [
    "def getProbResults(results, target):\n",
    "    res = []\n",
    "    \n",
    "    for i in range(len(results)):\n",
    "        res.append(results[i][target])\n",
    "    return pd.DataFrame(res)"
   ],
   "metadata": {
    "collapsed": false
   },
   "id": "b1ecb57f14467e9"
  },
  {
   "cell_type": "markdown",
   "source": [
    "Unpack the results"
   ],
   "metadata": {
    "collapsed": false
   },
   "id": "f3b293ab2466b745"
  },
  {
   "cell_type": "code",
   "execution_count": null,
   "outputs": [],
   "source": [
    "org_LNM_res = getProbResults(org_net_LNM, 1)\n",
    "org_Surv_res = getProbResults(org_net_Surv, 1)\n",
    "\n",
    "woPlat_LNM_res = getProbResults(WOPlat_TCGA_MRI_LNM, 1)\n",
    "woPlat_Surv_res = getProbResults(WOPlat_TCGA_MRI_Surv, 1)\n",
    "\n",
    "wPlat_LNM_res = getProbResults(Plat_Rest_No_LNM, 1)\n",
    "wPlat_Surv_res = getProbResults(Plat_Rest_No_Surv, 1)\n",
    "\n",
    "noTCGA_LNM_res = getProbResults(noTCGA_NoPlat_LNM, 1)\n",
    "noTCGA_Surv_res = getProbResults(noTCGA_NoPlat_Surv, 1)\n",
    "\n",
    "noMRI_LNM_res = getProbResults(noMRI_NoPlat_LNM, 1)\n",
    "noMRI_Surv_res = getProbResults(noMRI_NoPlat_Surv, 1)\n",
    "\n",
    "wPlat_all_LNM_res = getProbResults(Plat_Rest_yes_LNM, 1)\n",
    "wPlat_all_Surv_res = getProbResults(Plat_Rest_yes_Surv, 1)"
   ],
   "metadata": {
    "collapsed": false
   },
   "id": "93f41faaffa90e99"
  },
  {
   "cell_type": "markdown",
   "source": [
    "Define a function to get the metrics for the results\n",
    "\n",
    "Pseudocode:\n",
    "- Define getMetrics function:\n",
    "    - Get the confusion matrix\n",
    "    - Get the accuracy\n",
    "    - Get the ROC AUC\n",
    "    - Get the precision\n",
    "    - Get the recall\n",
    "    - Get the specificity\n",
    "    - Get the F1 score\n",
    "    - Get the Brier score\n",
    "    - Get the log loss\n",
    "    - Return the metrics\n",
    "- Define getSlimMetrics function:\n",
    "    - Get the ROC AUC\n",
    "    - Get the Log Loss\n",
    "    - Get the Brier score\n",
    "    - Get the N Predicted/N Observed\n",
    "    - Get the Ratio\n",
    "    - Return the metrics"
   ],
   "metadata": {
    "collapsed": false
   },
   "id": "285b575dbef43553"
  },
  {
   "cell_type": "code",
   "execution_count": null,
   "outputs": [],
   "source": [
    "from sklearn.metrics import roc_curve\n",
    "# Find the accuracy, roc auc, precision and recall for the results and the targets data\n",
    "from sklearn.metrics import accuracy_score, roc_auc_score, precision_score, recall_score, confusion_matrix, log_loss, brier_score_loss\n",
    "\n",
    "def getMetrics(results, targets):\n",
    "    TP = confusion_matrix(targets, results)[1][1]\n",
    "    TN = confusion_matrix(targets, results)[0][0]\n",
    "    FP = confusion_matrix(targets, results)[0][1]\n",
    "    FN = confusion_matrix(targets, results)[1][0]\n",
    "    \n",
    "    accuracy = accuracy_score(targets, results)\n",
    "    roc_auc = roc_auc_score(targets, results)\n",
    "    precision = precision_score(targets, results)\n",
    "    TPR = recall_score(targets, results)\n",
    "    TNR = TN / (TN + FP)\n",
    "    \n",
    "    f1 = 2 * (precision * TPR) / (precision + TPR)\n",
    "    brier = brier_score_loss(targets, results)\n",
    "    loglike = log_loss(targets, results)\n",
    "    \n",
    "    x = pd.DataFrame([accuracy, roc_auc, precision, TPR,TNR, f1, brier, loglike], index=[\"Accuracy\", \"ROC AUC\", \"Precision (PPV)\", \"TPR (Recall/Sens)\",\"TNR (Spec)\", \"F1\", \"Brier\", \"Log Loss\"])\n",
    "    return x\n",
    "\n",
    "def getSlimMetrics(results, targets):\n",
    "    \n",
    "    if not len(results) == len(targets):\n",
    "        raise Exception('Results and targets are not the same length. Results:', len(results), ' Targets:', len(targets))\n",
    "    \n",
    "    # Get ROC AUC, Log Loss, Brier, and N Predicted/N Observed\n",
    "    curve = roc_curve(targets, results, pos_label=1)\n",
    "    ROC = round(roc_auc_score(targets, results), 4)\n",
    "    LL = round(log_loss(targets, results), 4)\n",
    "    Brier = round(brier_score_loss(targets, results), 4)\n",
    "    N_pred = results.sum()[0]\n",
    "    N_obs = int(targets.sum())\n",
    "    N_br = f\"{int(N_pred)}/{int(N_obs)}\"\n",
    "    Ratio = round(N_pred/N_obs, 4)\n",
    "    \n",
    "    x = pd.DataFrame([ROC, LL, Brier, N_br, Ratio], index=[\"ROC AUC\", \"Log Loss\", \"Brier\", \"N Predicted/N Observed\", \"Ratio\"])\n",
    "    return x\n"
   ],
   "metadata": {
    "collapsed": false
   },
   "id": "a4978ba2b03bc1b7"
  },
  {
   "cell_type": "markdown",
   "source": [
    "Define targets"
   ],
   "metadata": {
    "collapsed": false
   },
   "id": "7b7a2b36892667af"
  },
  {
   "cell_type": "code",
   "execution_count": null,
   "outputs": [],
   "source": [
    "# Get the metrics for the results\n",
    "targetSurv = df['Survival5yr']\n",
    "targetLNM = df['LNM']\n"
   ],
   "metadata": {
    "collapsed": false
   },
   "id": "510bc84eba1fcc7a"
  },
  {
   "cell_type": "markdown",
   "source": [
    "Drop the rows that do not have a target\n",
    "\n",
    "Pseudocode:\n",
    "- Create an empty list\n",
    "- Loop over the targetSurv\n",
    "    - If the targetSurv is nan, append the index to the list\n",
    "- Drop the rows from the targets\n",
    "- Drop the rows from the results\n"
   ],
   "metadata": {
    "collapsed": false
   },
   "id": "e357cada2ff8eacb"
  },
  {
   "cell_type": "code",
   "execution_count": null,
   "outputs": [],
   "source": [
    "rowindices = []\n",
    "\n",
    "for i in range(len(targetSurv)):\n",
    "    if pd.isna(targetSurv[i]):\n",
    "        rowindices.append(i)\n",
    "\n",
    "# Drop the rows from the targets that do not have a target and drop it from the results as well\n",
    "targetSurv = targetSurv.drop(rowindices)\n",
    "\n",
    "org_Surv_res = org_Surv_res.drop(rowindices)\n",
    "woPlat_Surv_res = woPlat_Surv_res.drop(rowindices)\n",
    "wPlat_Surv_res = wPlat_Surv_res.drop(rowindices)\n",
    "noTCGA_Surv_res = noTCGA_Surv_res.drop(rowindices)\n",
    "noMRI_Surv_res = noMRI_Surv_res.drop(rowindices)\n",
    "wPlat_all_Surv_res = wPlat_all_Surv_res.drop(rowindices)"
   ],
   "metadata": {
    "collapsed": false
   },
   "id": "8af1654cb61bb2f3"
  },
  {
   "cell_type": "markdown",
   "source": [
    "Get the metrics for the results"
   ],
   "metadata": {
    "collapsed": false
   },
   "id": "330b8bef4fa66e61"
  },
  {
   "cell_type": "code",
   "execution_count": null,
   "outputs": [],
   "source": [
    "org_LNM_metrics = getSlimMetrics(org_LNM_res, targetLNM)\n",
    "org_Surv_metrics = getSlimMetrics(org_Surv_res, targetSurv)\n",
    "\n",
    "noTCGA_LNM_metrics = getSlimMetrics(noTCGA_LNM_res, targetLNM)\n",
    "noTCGA_Surv_metrics = getSlimMetrics(noTCGA_Surv_res, targetSurv)\n",
    "\n",
    "noMRI_LNM_metrics = getSlimMetrics(noMRI_LNM_res, targetLNM)\n",
    "noMRI_Surv_metrics = getSlimMetrics(noMRI_Surv_res, targetSurv)\n",
    "\n",
    "woPlat_LNM_metrics = getSlimMetrics(woPlat_LNM_res, targetLNM)\n",
    "woPlat_Surv_metrics = getSlimMetrics(woPlat_Surv_res, targetSurv)\n",
    "\n",
    "wPlat_LNM_metrics = getSlimMetrics(wPlat_LNM_res, targetLNM)\n",
    "wPlat_Surv_metrics = getSlimMetrics(wPlat_Surv_res, targetSurv)\n",
    "\n",
    "wPlat_all_LNM_metrics = getSlimMetrics(wPlat_all_LNM_res, targetLNM)\n",
    "wPlat_all_Surv_metrics = getSlimMetrics(wPlat_all_Surv_res, targetSurv)"
   ],
   "metadata": {
    "collapsed": false
   },
   "id": "d1da273c6d4bc84e"
  },
  {
   "cell_type": "markdown",
   "source": [
    "Concatenate the metrics to compare LNM"
   ],
   "metadata": {
    "collapsed": false
   },
   "id": "1e6d4bc4529f3123"
  },
  {
   "cell_type": "code",
   "execution_count": null,
   "outputs": [],
   "source": [
    "# Concatenate the metrics LNM\n",
    "\n",
    "LNM_metrics = pd.concat([org_LNM_metrics, #inter_LNM_metrics, \n",
    "                         noMRI_LNM_metrics, wPlat_LNM_metrics, wPlat_all_LNM_metrics], axis=1)\n",
    "\n",
    "LNM_metrics = LNM_metrics.round(3)\n",
    "\n",
    "LNM_metrics.columns = [\"Original\", #\"Inter\", \n",
    "                       \"-Plat -TCGA\", \"+Plat -TCGA\", \"+Plat +TCGA\"]\n",
    "\n",
    "LNM_metrics"
   ],
   "metadata": {
    "collapsed": false
   },
   "id": "d23d94b54db0545b"
  },
  {
   "cell_type": "markdown",
   "source": [
    "Concatenate the metrics to compare Survival"
   ],
   "metadata": {
    "collapsed": false
   },
   "id": "6864b7ecf22517e9"
  },
  {
   "cell_type": "code",
   "execution_count": null,
   "outputs": [],
   "source": [
    "# Concatenate the metrics Survival\n",
    "Surv_metrics = pd.concat([org_Surv_metrics, #inter_Surv_metrics, \n",
    "                          noMRI_Surv_metrics, wPlat_Surv_metrics, wPlat_all_Surv_metrics], axis=1)\n",
    "\n",
    "Surv_metrics = Surv_metrics.round(3)\n",
    "\n",
    "Surv_metrics.columns = [\"Original\", #\"Inter\", \n",
    "                        \"-Plat -TCGA\", \"+Plat -TCGA\", \"+Plat +TCGA\"]\n",
    "\n",
    "Surv_metrics"
   ],
   "metadata": {
    "collapsed": false
   },
   "id": "9f1b55ce339b00a9"
  },
  {
   "cell_type": "markdown",
   "source": [
    "Plot the ROC curves"
   ],
   "metadata": {
    "collapsed": false
   },
   "id": "e2046ca535b6f00e"
  },
  {
   "cell_type": "code",
   "execution_count": null,
   "outputs": [],
   "source": [
    "from sklearn.metrics import auc\n",
    "from matplotlib_inline.backend_inline import set_matplotlib_formats\n",
    "import matplotlib.pyplot as plt\n",
    "import seaborn as sns\n",
    "\n",
    "\n",
    "# Set the style\n",
    "sns.set_style(\"whitegrid\")\n",
    "# Set the output as png\n",
    "set_matplotlib_formats('png', 'pdf')\n",
    "plt.rcParams['figure.dpi'] = 150\n",
    "\n",
    "\n",
    "# plot all the ROC curves in one plot (LNM and Survival seperate)\n",
    "fig, ax = plt.subplots(1,2, figsize=(15,5))\n",
    "\n",
    "fig.suptitle(\"ROC Curves\", fontsize=16)\n",
    "\n",
    "# LNM\n",
    "ax[0].plot([0, 1], [0, 1], linestyle='--', lw=2, color='r', alpha=.8)\n",
    "\n",
    "fpr, tpr, _ = roc_curve(targetLNM, org_LNM_res)\n",
    "roc_auc = round(auc(fpr, tpr), 3)\n",
    "ax[0].plot(fpr, tpr, color='b', lw=2, label=f'Original (AUC = {roc_auc})')\n",
    "\n",
    "fpr, tpr, _ = roc_curve(targetLNM, noMRI_LNM_res)\n",
    "roc_auc = round(auc(fpr, tpr), 3)\n",
    "ax[0].plot(fpr, tpr, color='g', lw=2, label=f'-Plat -TCGA (AUC = {roc_auc})')\n",
    "\n",
    "fpr, tpr, _ = roc_curve(targetLNM, wPlat_LNM_res)\n",
    "roc_auc = round(auc(fpr, tpr), 3)\n",
    "ax[0].plot(fpr, tpr, color='y', lw=2, label=f'+Plat -TCGA (AUC = {roc_auc})')\n",
    "\n",
    "fpr, tpr, _ = roc_curve(targetLNM, wPlat_all_LNM_res)\n",
    "roc_auc = round(auc(fpr, tpr), 3)\n",
    "ax[0].plot(fpr, tpr, color='m', lw=2, label=f'+Plat +TCGA (AUC = {roc_auc})')\n",
    "\n",
    "ax[0].set(xlim=[-0.05, 1.05], ylim=[-0.05, 1.05], title=\"LNM\")\n",
    "ax[0].legend(loc=\"lower right\")\n",
    "\n",
    "# Survival  \n",
    "ax[1].plot([0, 1], [0, 1], linestyle='--', lw=2, color='r', alpha=.8)\n",
    "\n",
    "fpr, tpr, _ = roc_curve(targetSurv, org_Surv_res)\n",
    "roc_auc = round(auc(fpr, tpr), 3)\n",
    "ax[1].plot(fpr, tpr, color='b', lw=2, label=f'Original (AUC = {roc_auc})')\n",
    "\n",
    "fpr, tpr, _ = roc_curve(targetSurv, noMRI_Surv_res)\n",
    "roc_auc = round(auc(fpr, tpr), 3)\n",
    "ax[1].plot(fpr, tpr, color='g', lw=2, label=f'-Plat -TCGA (AUC = {roc_auc})')\n",
    "\n",
    "fpr, tpr, _ = roc_curve(targetSurv, wPlat_Surv_res)\n",
    "roc_auc = round(auc(fpr, tpr), 3)\n",
    "ax[1].plot(fpr, tpr, color='y', lw=2, label=f'+Plat -TCGA (AUC = {roc_auc})')\n",
    "\n",
    "fpr, tpr, _ = roc_curve(targetSurv, wPlat_all_Surv_res)\n",
    "roc_auc = round(auc(fpr, tpr), 3)\n",
    "ax[1].plot(fpr, tpr, color='m', lw=2, label=f'+Plat +TCGA (AUC = {roc_auc})')\n",
    "\n",
    "ax[1].set(xlim=[-0.05, 1.05], ylim=[-0.05, 1.05], title=\"Survival\")\n",
    "ax[1].legend(loc=\"lower right\")\n",
    "\n",
    "\n"
   ],
   "metadata": {
    "collapsed": false
   },
   "id": "9bd43ea9c1a0c13f"
  },
  {
   "cell_type": "markdown",
   "source": [
    "Define a function to get the results based on a range of thresholds for the probability\n",
    "\n",
    "Pseudocode:\n",
    "- Define getRangeResults function:\n",
    "    - Define thresholds\n",
    "    - Create empty list\n",
    "    - Loop through the probabilities\n",
    "        - Loop through the thresholds\n",
    "            - If the probability is higher than the threshold, append 1 to the list\n",
    "            - Else, append 0 to the list\n",
    "    - Return the list"
   ],
   "metadata": {
    "collapsed": false
   },
   "id": "b5eb466b1c34a8a4"
  },
  {
   "cell_type": "code",
   "execution_count": null,
   "outputs": [],
   "source": [
    "def getRangeResults(probResults):\n",
    "    # Define thresholds\n",
    "    thresholds = [0.05, 0.10, 0.20, 0.30, 0.40, 0.50, 0.60 ,0.70, 0.80, 0.90]\n",
    "    # Create empty list\n",
    "    rows = len(probResults)\n",
    "\n",
    "    cols = len(thresholds)\n",
    "    \n",
    "    res = [[0 for i in range(cols)] for j in range(rows)]\n",
    "    \n",
    "    for i in range(len(probResults)):\n",
    "        for j in range(len(thresholds)):\n",
    "            if probResults[0][i] > thresholds[j]:\n",
    "                res[i][j] = 1\n",
    "            else:\n",
    "                res[i][j] = 0\n",
    "                \n",
    "    df = pd.DataFrame(res, columns=thresholds)\n",
    "    \n",
    "    return df\n"
   ],
   "metadata": {
    "collapsed": false
   },
   "id": "7aac31100bb60151"
  },
  {
   "cell_type": "markdown",
   "source": [
    "Get the range results"
   ],
   "metadata": {
    "collapsed": false
   },
   "id": "614b4c5f3109285f"
  },
  {
   "cell_type": "code",
   "execution_count": null,
   "outputs": [],
   "source": [
    "# Get the range results\n",
    "org_LNM_range = getRangeResults(org_LNM_res)\n",
    "org_Surv_range = getRangeResults(org_Surv_res)\n",
    "\n",
    "noTCGA_LNM_range = getRangeResults(noTCGA_LNM_res)\n",
    "noTCGA_Surv_range = getRangeResults(noTCGA_Surv_res)\n",
    "\n",
    "noMRI_LNM_range = getRangeResults(noMRI_LNM_res)\n",
    "noMRI_Surv_range = getRangeResults(noMRI_Surv_res)\n",
    "\n",
    "woPlat_LNM_range = getRangeResults(woPlat_LNM_res)\n",
    "woPlat_Surv_range = getRangeResults(woPlat_Surv_res)\n",
    "\n",
    "wPlat_LNM_range = getRangeResults(wPlat_LNM_res)\n",
    "wPlat_Surv_range = getRangeResults(wPlat_Surv_res)\n"
   ],
   "metadata": {
    "collapsed": false
   },
   "id": "ddcdc3d2dbcd2c91"
  },
  {
   "cell_type": "markdown",
   "source": [
    "Create a function to make a 3d matrix of metrics for each threshold\n",
    "\n",
    "Pseudocode:\n",
    "- Define getMetricsRange function:\n",
    "    - Define thresholds\n",
    "    - Create empty list\n",
    "    - Metricnames\n",
    "    - Loop through the thresholds\n",
    "        - Get the metrics for the results\n",
    "        - Append the metrics to the list\n",
    "    - Concatenate the list\n",
    "    - Return the list"
   ],
   "metadata": {
    "collapsed": false
   },
   "id": "38163bf47e51aede"
  },
  {
   "cell_type": "code",
   "execution_count": null,
   "outputs": [],
   "source": [
    "def getMetricsRange(results, targets):\n",
    "    # Define thresholds\n",
    "    thresholds = [0.05, 0.10, 0.20, 0.30, 0.40, 0.50, 0.60 ,0.70, 0.80, 0.90]\n",
    "    # Create empty list\n",
    "    metrics = []\n",
    "    # Metricnames\n",
    "    metricnames = [\"Accuracy\", \"Precision (PPV)\", \"TPR (Recall/Sens)\",\"TNR (Spec)\", \"F1\", \"Brier\", \"Log Loss\"]\n",
    "    \n",
    "    for threshold in thresholds:\n",
    "        res = results[threshold].values\n",
    "        \n",
    "        metrics.append(round(getMetrics(res, targets).loc[metricnames],3))\n",
    "    \n",
    "    metrics = pd.concat(metrics, axis=1)\n",
    "    metrics.columns = thresholds\n",
    "    return metrics"
   ],
   "metadata": {
    "collapsed": false
   },
   "id": "e0fe4ac6e1b4e2f4"
  },
  {
   "cell_type": "markdown",
   "source": [
    "Get the metrics for the range results"
   ],
   "metadata": {
    "collapsed": false
   },
   "id": "3d1dbb0a89f5fd19"
  },
  {
   "cell_type": "code",
   "execution_count": null,
   "outputs": [],
   "source": [
    "org_LNM_metrics_range = getMetricsRange(org_LNM_range, targetLNM)\n",
    "org_Surv_metrics_range = getMetricsRange(org_Surv_range, targetSurv)\n",
    "\n",
    "noTCGA_LNM_metrics_range = getMetricsRange(noTCGA_LNM_range, targetLNM)\n",
    "noTCGA_Surv_metrics_range = getMetricsRange(noTCGA_Surv_range, targetSurv)\n",
    "\n",
    "noMRI_LNM_metrics_range = getMetricsRange(noMRI_LNM_range, targetLNM)\n",
    "noMRI_Surv_metrics_range = getMetricsRange(noMRI_Surv_range, targetSurv)\n",
    "\n",
    "woPlat_LNM_metrics_range = getMetricsRange(woPlat_LNM_range, targetLNM)\n",
    "woPlat_Surv_metrics_range = getMetricsRange(woPlat_Surv_range, targetSurv)\n",
    "\n",
    "wPlat_LNM_metrics_range = getMetricsRange(wPlat_LNM_range, targetLNM)\n",
    "wPlat_Surv_metrics_range = getMetricsRange(wPlat_Surv_range, targetSurv)\n"
   ],
   "metadata": {
    "collapsed": false
   },
   "id": "a64c57ed611f2231"
  },
  {
   "cell_type": "markdown",
   "source": [
    "Plot the recall, precision curve"
   ],
   "metadata": {
    "collapsed": false
   },
   "id": "989aefa2cdd9a678"
  },
  {
   "cell_type": "code",
   "execution_count": null,
   "outputs": [],
   "source": [
    "# Recall vs Precision\n",
    "fig, ax = plt.subplots(1,2, figsize=(15,5))\n",
    "\n",
    "fig.suptitle(\"Precision against Recall\", fontsize=16) # Recall on x\n",
    "\n",
    "# LNM\n",
    "ax[0].plot(org_LNM_metrics_range.loc[\"TPR (Recall/Sens)\"], org_LNM_metrics_range.loc[\"Precision (PPV)\"], color='b', lw=2, label=f'Original')\n",
    "ax[0].plot(noTCGA_LNM_metrics_range.loc[\"TPR (Recall/Sens)\"], noTCGA_LNM_metrics_range.loc[\"Precision (PPV)\"], color='g', lw=2, label=f'-Plat -TCGA')\n",
    "ax[0].plot(noMRI_LNM_metrics_range.loc[\"TPR (Recall/Sens)\"], noMRI_LNM_metrics_range.loc[\"Precision (PPV)\"], color='y', lw=2, label=f'+Plat -TCGA')\n",
    "ax[0].plot(woPlat_LNM_metrics_range.loc[\"TPR (Recall/Sens)\"], woPlat_LNM_metrics_range.loc[\"Precision (PPV)\"], color='m', lw=2, label=f'-Plat +TCGA')\n",
    "ax[0].plot(wPlat_LNM_metrics_range.loc[\"TPR (Recall/Sens)\"], wPlat_LNM_metrics_range.loc[\"Precision (PPV)\"], color='m', lw=2, label=f'+Plat +TCGA')\n",
    "\n",
    "ax[0].set(title=\"LNM\")\n",
    "ax[0].legend(loc=\"upper right\")\n",
    "\n",
    "# Survival\n",
    "ax[1].plot(org_Surv_metrics_range.loc[\"TPR (Recall/Sens)\"], org_Surv_metrics_range.loc[\"Precision (PPV)\"], color='b', lw=2, label=f'Original')\n",
    "ax[1].plot(noTCGA_Surv_metrics_range.loc[\"TPR (Recall/Sens)\"], noTCGA_Surv_metrics_range.loc[\"Precision (PPV)\"], color='g', lw=2, label=f'-Plat -TCGA')\n",
    "ax[1].plot(noMRI_Surv_metrics_range.loc[\"TPR (Recall/Sens)\"], noMRI_Surv_metrics_range.loc[\"Precision (PPV)\"], color='y', lw=2, label=f'+Plat -TCGA')\n",
    "ax[1].plot(woPlat_Surv_metrics_range.loc[\"TPR (Recall/Sens)\"], woPlat_Surv_metrics_range.loc[\"Precision (PPV)\"], color='m', lw=2, label=f'-Plat +TCGA')\n",
    "ax[1].plot(wPlat_Surv_metrics_range.loc[\"TPR (Recall/Sens)\"], wPlat_Surv_metrics_range.loc[\"Precision (PPV)\"], color='m', lw=2, label=f'+Plat +TCGA')\n",
    "\n",
    "ax[1].set(title=\"Survival\")\n",
    "ax[1].legend(loc=\"upper right\")\n",
    "# x and y labels\n",
    "ax[0].set_xlabel(\"Precision\")\n",
    "ax[0].set_ylabel(\"Recall\")\n",
    "ax[1].set_xlabel(\"Precision\")\n",
    "ax[1].set_ylabel(\"Recall\")"
   ],
   "metadata": {
    "collapsed": false
   },
   "id": "5a6fd7fa7aea2e70"
  },
  {
   "cell_type": "markdown",
   "source": [
    "Plot recall vs threshold"
   ],
   "metadata": {
    "collapsed": false
   },
   "id": "b8b41a77018b1ac3"
  },
  {
   "cell_type": "code",
   "execution_count": null,
   "outputs": [],
   "source": [
    "# Recall vs threshold\n",
    "fig, ax = plt.subplots(1,2, figsize=(15,5))\n",
    "\n",
    "fig.suptitle(\"Recall\", fontsize=16)\n",
    "# Threshold on x axis\n",
    "ax[0].plot(org_LNM_metrics_range.columns, org_LNM_metrics_range.loc[\"TPR (Recall/Sens)\"], color='b', lw=2, label=f'Original')\n",
    "\n",
    "ax[0].plot(noTCGA_LNM_metrics_range.columns, noTCGA_LNM_metrics_range.loc[\"TPR (Recall/Sens)\"], color='g', lw=2, label=f'-Plat -TCGA')\n",
    "\n",
    "ax[0].plot(noMRI_LNM_metrics_range.columns, noMRI_LNM_metrics_range.loc[\"TPR (Recall/Sens)\"], color='y', lw=2, label=f'+Plat -TCGA')\n",
    "\n",
    "ax[0].plot(woPlat_LNM_metrics_range.columns, woPlat_LNM_metrics_range.loc[\"TPR (Recall/Sens)\"], color='m', lw=2, label=f'-Plat +TCGA')\n",
    "\n",
    "ax[0].plot(wPlat_LNM_metrics_range.columns, wPlat_LNM_metrics_range.loc[\"TPR (Recall/Sens)\"], color='m', lw=2, label=f'+Plat +TCGA')\n",
    "\n",
    "ax[0].set_xticks([0.05, 0.10, 0.20, 0.30, 0.40, 0.50, 0.60 ,0.70, 0.80, 0.90])\n",
    "ax[0].set_xticklabels([0.05, 0.10, 0.20, 0.30, 0.40, 0.50, 0.60 ,0.70, 0.80, 0.90])\n",
    "ax[0].set(title=\"LNM\")\n",
    "ax[0].legend(loc=\"lower left\")\n",
    "\n",
    "ax[1].plot(org_Surv_metrics_range.columns, org_Surv_metrics_range.loc[\"TPR (Recall/Sens)\"], color='b', lw=2, label=f'Original')\n",
    "\n",
    "ax[1].plot(noTCGA_Surv_metrics_range.columns, noTCGA_Surv_metrics_range.loc[\"TPR (Recall/Sens)\"], color='g', lw=2, label=f'-Plat -TCGA')\n",
    "\n",
    "ax[1].plot(noMRI_Surv_metrics_range.columns, noMRI_Surv_metrics_range.loc[\"TPR (Recall/Sens)\"], color='y', lw=2, label=f'+Plat -TCGA')\n",
    "\n",
    "ax[1].plot(woPlat_Surv_metrics_range.columns, woPlat_Surv_metrics_range.loc[\"TPR (Recall/Sens)\"], color='m', lw=2, label=f'-Plat +TCGA')\n",
    "\n",
    "ax[1].plot(wPlat_Surv_metrics_range.columns, wPlat_Surv_metrics_range.loc[\"TPR (Recall/Sens)\"], color='m', lw=2, label=f'+Plat +TCGA')\n",
    "# set xticks\n",
    "ax[1].set_xticks([0.05, 0.10, 0.20, 0.30, 0.40, 0.50, 0.60 ,0.70, 0.80, 0.90])\n",
    "ax[1].set_xticklabels([0.05, 0.10, 0.20, 0.30, 0.40, 0.50, 0.60 ,0.70, 0.80, 0.90])\n",
    "ax[1].set(title=\"Survival\")\n",
    "ax[1].legend(loc=\"lower left\")\n",
    "# x and y labels\n",
    "ax[0].set_xlabel(\"Threshold\")\n",
    "ax[0].set_ylabel(\"Recall\")\n",
    "ax[1].set_xlabel(\"Threshold\")\n",
    "ax[1].set_ylabel(\"Recall\")\n"
   ],
   "metadata": {
    "collapsed": false
   },
   "id": "ffee68a2bf3c4ad8"
  },
  {
   "cell_type": "markdown",
   "source": [
    "Plot precision vs threshold"
   ],
   "metadata": {
    "collapsed": false
   },
   "id": "e2d7a733c9bab0c8"
  },
  {
   "cell_type": "code",
   "execution_count": null,
   "outputs": [],
   "source": [
    "# Precision vs threshold (threshold on x axis)\n",
    "fig, ax = plt.subplots(1,2, figsize=(15,5))\n",
    "\n",
    "fig.suptitle(\"Precision\", fontsize=16)\n",
    "\n",
    "# LNM\n",
    "ax[0].plot(org_LNM_metrics_range.columns, org_LNM_metrics_range.loc[\"Precision (PPV)\"], color='b', lw=2, label=f'Original')\n",
    "ax[0].plot(noTCGA_LNM_metrics_range.columns, noTCGA_LNM_metrics_range.loc[\"Precision (PPV)\"], color='g', lw=2, label=f'-Plat -TCGA')\n",
    "ax[0].plot(noMRI_LNM_metrics_range.columns, noMRI_LNM_metrics_range.loc[\"Precision (PPV)\"], color='y', lw=2, label=f'+Plat -TCGA')\n",
    "ax[0].plot(woPlat_LNM_metrics_range.columns, woPlat_LNM_metrics_range.loc[\"Precision (PPV)\"], color='m', lw=2, label=f'-Plat +TCGA')\n",
    "ax[0].plot(wPlat_LNM_metrics_range.columns, wPlat_LNM_metrics_range.loc[\"Precision (PPV)\"], color='m', lw=2, label=f'+Plat +TCGA')\n",
    "\n",
    "ax[0].set_xticks([0.05, 0.10, 0.20, 0.30, 0.40, 0.50, 0.60 ,0.70, 0.80, 0.90])\n",
    "ax[0].set_xticklabels([0.05, 0.10, 0.20, 0.30, 0.40, 0.50, 0.60 ,0.70, 0.80, 0.90])\n",
    "ax[0].set(title=\"LNM\")\n",
    "ax[0].legend(loc=\"upper left\")\n",
    "\n",
    "\n",
    "# Survival\n",
    "ax[1].plot(org_Surv_metrics_range.columns, org_Surv_metrics_range.loc[\"Precision (PPV)\"], color='b', lw=2, label=f'Original')\n",
    "ax[1].plot(noTCGA_Surv_metrics_range.columns, noTCGA_Surv_metrics_range.loc[\"Precision (PPV)\"], color='g', lw=2, label=f'-Plat -TCGA')\n",
    "ax[1].plot(noMRI_Surv_metrics_range.columns, noMRI_Surv_metrics_range.loc[\"Precision (PPV)\"], color='y', lw=2, label=f'+Plat -TCGA')\n",
    "ax[1].plot(woPlat_Surv_metrics_range.columns, woPlat_Surv_metrics_range.loc[\"Precision (PPV)\"], color='m', lw=2, label=f'-Plat +TCGA')\n",
    "ax[1].plot(wPlat_Surv_metrics_range.columns, wPlat_Surv_metrics_range.loc[\"Precision (PPV)\"], color='m', lw=2, label=f'+Plat +TCGA')\n",
    "\n",
    "ax[1].set_xticks([0.05, 0.10, 0.20, 0.30, 0.40, 0.50, 0.60 ,0.70, 0.80, 0.90])\n",
    "ax[1].set_xticklabels([0.05, 0.10, 0.20, 0.30, 0.40, 0.50, 0.60 ,0.70, 0.80, 0.90])\n",
    "ax[1].set(title=\"Survival\")\n",
    "ax[1].legend(loc=\"upper left\")\n",
    "# x and y labels\n",
    "ax[0].set_xlabel(\"Threshold\")\n",
    "ax[0].set_ylabel(\"Precision\")\n",
    "ax[1].set_xlabel(\"Threshold\")\n",
    "ax[1].set_ylabel(\"Precision\")"
   ],
   "metadata": {
    "collapsed": false
   },
   "id": "fdc23e9eb2f607ba"
  },
  {
   "cell_type": "markdown",
   "source": [
    "Plot the decision curves"
   ],
   "metadata": {
    "collapsed": false
   },
   "id": "888f0e36d6a6ca3f"
  },
  {
   "cell_type": "code",
   "execution_count": null,
   "outputs": [],
   "source": [
    "# Decision curve analysis\n",
    "from dcurves import dca, plot_graphs\n",
    "import pandas as pd\n",
    "import numpy as np\n",
    "import statsmodels.api as sm\n",
    "import lifelines"
   ],
   "metadata": {
    "collapsed": false
   },
   "id": "3dc57d8116833070"
  },
  {
   "cell_type": "code",
   "execution_count": null,
   "outputs": [],
   "source": [
    "import glasbey\n",
    "\n",
    "# Concatenate all model results with targets for the DCA\n",
    "LNM_DCA = pd.concat([targetLNM, org_LNM_res, noTCGA_LNM_res, noMRI_LNM_res, wPlat_LNM_res, wPlat_all_LNM_res], axis=1)\n",
    "LNM_DCA.columns = [\"Target\", \"-Plat -TCGA -MRI\", \"-Plat -TCGA +MRI\", \"-Plat +TCGA -MRI\", \"+Plat -TCGA -MRI\", \"+Plat +TCGA +MRI\"]\n",
    "\n",
    "dca_multi_LNM = \\\n",
    "    dca(\n",
    "        data = LNM_DCA, \n",
    "        outcome = \"Target\", \n",
    "        modelnames = [\"-Plat -TCGA -MRI\", \"-Plat -TCGA +MRI\", \"-Plat +TCGA -MRI\", \"+Plat -TCGA -MRI\", \"+Plat +TCGA +MRI\"],\n",
    "        thresholds = np.arange(0, 0.30,0.02),\n",
    "    )\n",
    "\n",
    "# Select only the models from the last two dcas\n",
    "figure = plt.figure(figsize=(10, 7))\n",
    "plt.rcParams.update({'font.size': 10})\n",
    "plt.rcParams.update({'legend.loc': 'upper right', 'legend.borderaxespad': 0})\n",
    "\n",
    "palette = glasbey.create_palette(palette_size=7, colorblind_safe=True)\n",
    "\n",
    "\n",
    "plot_graphs(\n",
    "    plot_df=pd.concat([dca_multi_LNM]),\n",
    "    y_limits=[-0.005, 0.1],\n",
    "\n",
    "    graph_type=\"net_benefit\",\n",
    "    color_names=palette\n",
    ")"
   ],
   "metadata": {
    "collapsed": false
   },
   "id": "ff12406e21e5db2f"
  }
 ],
 "metadata": {
  "kernelspec": {
   "display_name": "Python 3",
   "language": "python",
   "name": "python3"
  },
  "language_info": {
   "codemirror_mode": {
    "name": "ipython",
    "version": 2
   },
   "file_extension": ".py",
   "mimetype": "text/x-python",
   "name": "python",
   "nbconvert_exporter": "python",
   "pygments_lexer": "ipython2",
   "version": "2.7.6"
  }
 },
 "nbformat": 4,
 "nbformat_minor": 5
}
