{
 "cells": [
  {
   "cell_type": "markdown",
   "source": [
    "### Author: Ally Sprik\n",
    "### Last-updated: 25-02-2024\n",
    "\n",
    "In this notebook I have placed some code snippets that I use for explanation.\n",
    "\n"
   ],
   "metadata": {
    "collapsed": false
   },
   "id": "857eb9cb39f96a8b"
  },
  {
   "cell_type": "markdown",
   "source": [
    "### Function to extract probabilities from pyAgrum format"
   ],
   "metadata": {
    "collapsed": false
   },
   "id": "b8f0a3fbcfa887fe"
  },
  {
   "cell_type": "code",
   "execution_count": null,
   "outputs": [],
   "source": [
    "def getProbResults(results, target):\n",
    "    res = []\n",
    "    \n",
    "    for i in range(len(results)):\n",
    "        res.append(results[i][target])\n",
    "    return pd.DataFrame(res)"
   ],
   "metadata": {
    "collapsed": false
   },
   "id": "5a9d0ac143ffb15"
  },
  {
   "cell_type": "markdown",
   "source": [
    "Function to generate metrics from the models"
   ],
   "metadata": {
    "collapsed": false
   },
   "id": "a9208b3a4bb77891"
  },
  {
   "cell_type": "code",
   "execution_count": null,
   "id": "initial_id",
   "metadata": {
    "collapsed": true
   },
   "outputs": [],
   "source": [
    "from sklearn.metrics import roc_curve\n",
    "# Find the accuracy, roc auc, precision and recall for the results and the targets data\n",
    "from sklearn.metrics import accuracy_score, roc_auc_score, precision_score, recall_score, confusion_matrix, log_loss, brier_score_loss\n",
    "\n",
    "def getMetrics(results, targets):\n",
    "    TP = confusion_matrix(targets, results)[1][1]\n",
    "    TN = confusion_matrix(targets, results)[0][0]\n",
    "    FP = confusion_matrix(targets, results)[0][1]\n",
    "    FN = confusion_matrix(targets, results)[1][0]\n",
    "    \n",
    "    accuracy = accuracy_score(targets, results)\n",
    "    roc_auc = roc_auc_score(targets, results)\n",
    "    precision = precision_score(targets, results)\n",
    "    TPR = recall_score(targets, results)\n",
    "    TNR = TN / (TN + FP)\n",
    "    \n",
    "    f1 = 2 * (precision * TPR) / (precision + TPR)\n",
    "    brier = brier_score_loss(targets, results)\n",
    "    loglike = log_loss(targets, results)\n",
    "    \n",
    "    x = pd.DataFrame([accuracy, roc_auc, precision, TPR,TNR, f1, brier, loglike], index=[\"Accuracy\", \"ROC AUC\", \"Precision (PPV)\", \"TPR (Recall/Sens)\",\"TNR (Spec)\", \"F1\", \"Brier\", \"Log Loss\"])\n",
    "    return x\n"
   ]
  },
  {
   "cell_type": "markdown",
   "source": [
    "Function to generate a results on a range of thresholds from the probabilities "
   ],
   "metadata": {
    "collapsed": false
   },
   "id": "ce8d423d74ed5e37"
  },
  {
   "cell_type": "code",
   "execution_count": null,
   "outputs": [],
   "source": [
    "# Define a function to get the results based on a threshold for the probability\n",
    "def getRangeResults(probResults):\n",
    "    # Define thresholds\n",
    "    thresholds = [0.05, 0.10, 0.20, 0.30, 0.40, 0.50, 0.60 ,0.70, 0.80, 0.90]\n",
    "    # Create empty list\n",
    "    rows = len(probResults)\n",
    "\n",
    "    cols = len(thresholds)\n",
    "    \n",
    "    res = [[0 for i in range(cols)] for j in range(rows)]\n",
    "    \n",
    "    for i in range(len(probResults)):\n",
    "        for j in range(len(thresholds)):\n",
    "            if probResults[0][i] > thresholds[j]:\n",
    "                res[i][j] = 1\n",
    "            else:\n",
    "                res[i][j] = 0\n",
    "                \n",
    "    df = pd.DataFrame(res, columns=thresholds)\n",
    "    \n",
    "    return df\n"
   ],
   "metadata": {
    "collapsed": false
   },
   "id": "dc6b18a3e6c939a8"
  },
  {
   "cell_type": "markdown",
   "source": [
    "Function to get the metrics per range"
   ],
   "metadata": {
    "collapsed": false
   },
   "id": "9bd6cbb8bbcfc906"
  },
  {
   "cell_type": "code",
   "execution_count": null,
   "outputs": [],
   "source": [
    "# Create a function to make a 3d matrix of metrics for each threshold\n",
    "def getMetricsRange(results, targets):\n",
    "    # Define thresholds\n",
    "    thresholds = [0.05, 0.10, 0.20, 0.30, 0.40, 0.50, 0.60 ,0.70, 0.80, 0.90]\n",
    "    # Create empty list\n",
    "    metrics = []\n",
    "    # Metricnames\n",
    "    metricnames = [\"Accuracy\", \"Precision (PPV)\", \"TPR (Recall/Sens)\",\"TNR (Spec)\", \"F1\", \"Brier\", \"Log Loss\"]\n",
    "    \n",
    "    for threshold in thresholds:\n",
    "        res = results[threshold].values\n",
    "        \n",
    "        metrics.append(round(getMetrics(res, targets).loc[metricnames],3))\n",
    "    \n",
    "    metrics = pd.concat(metrics, axis=1)\n",
    "    metrics.columns = thresholds\n",
    "    return metrics"
   ],
   "metadata": {
    "collapsed": false
   },
   "id": "6f2029e6ed7c42e"
  },
  {
   "cell_type": "markdown",
   "source": [
    "Code of how the Metric per threshold graph is produced"
   ],
   "metadata": {
    "collapsed": false
   },
   "id": "9674f168e29a7981"
  },
  {
   "cell_type": "code",
   "execution_count": null,
   "outputs": [],
   "source": [
    "# Recall\n",
    "# LNM\n",
    "fig, ax = plt.subplots(1, 1, figsize=(15, 5))\n",
    "\n",
    "fig.suptitle(\"LNM Recall per Threshold per Model\", fontsize=16)\n",
    "\n",
    "ax.plot(org_LNM_metrics_range.loc[\"TPR (Recall/Sens)\"], label=\"Origineel Netwerk\")\n",
    "#ax.plot(inter_LNM_metrics_range.loc[\"TPR (Recall/Sens)\"], label=\"Endomcancer3\")\n",
    "ax.plot(noPlat_noRest_LNM_metrics_range.loc[\"TPR (Recall/Sens)\"], label=\"-Plat -TCGA -MRI\")\n",
    "ax.plot(noPlat_MRI_LNM_metrics_range.loc[\"TPR (Recall/Sens)\"], label=\"-Plat -TCGA +MRI\")\n",
    "ax.plot(noPlat_TCGA_LNM_metrics_range.loc[\"TPR (Recall/Sens)\"], label=\"-Plat +TCGA -MRI\")\n",
    "ax.plot(noPlat_TCGA_MRI_LNM_metrics_range.loc[\"TPR (Recall/Sens)\"], label=\"-Plat +TCGA +MRI\")\n",
    "ax.plot(Plat_noRest_LNM_metrics_range.loc[\"TPR (Recall/Sens)\"], label=\"+Plat -TCGA -MRI\")\n",
    "ax.plot(Plat_all_LNM_metrics_range.loc[\"TPR (Recall/Sens)\"], label=\"+Plat +TCGA +MRI\")\n",
    "\n",
    "ax.legend(loc=\"upper right\")\n",
    "ax.set_xlabel(\"Threshold\")\n",
    "ax.set_ylabel(\"Recall\")\n",
    "ax.set_xticks([0.05, 0.10, 0.20, 0.30, 0.40, 0.50, 0.60, 0.70, 0.80, 0.90])\n",
    "ax.set_xticklabels([0.05, 0.10, 0.20, 0.30, 0.40, 0.50, 0.60, 0.70, 0.80, 0.90])\n",
    "\n",
    "# Survival\n",
    "fig, ax = plt.subplots(1, 1, figsize=(15, 5))\n",
    "\n",
    "fig.suptitle(\"Survival Recall per Threshold per Model\", fontsize=16)\n",
    "\n",
    "ax.plot(org_Surv_metrics_range.loc[\"TPR (Recall/Sens)\"], label=\"Origineel Netwerk\")\n",
    "#ax.plot(inter_Surv_metrics_range.loc[\"TPR (Recall/Sens)\"], label=\"Endomcancer3\")\n",
    "ax.plot(noPlat_noRest_Surv_metrics_range.loc[\"TPR (Recall/Sens)\"], label=\"-Plat -TCGA -MRI\")\n",
    "ax.plot(noPlat_MRI_Surv_metrics_range.loc[\"TPR (Recall/Sens)\"], label=\"-Plat -TCGA +MRI\")\n",
    "ax.plot(noPlat_TCGA_Surv_metrics_range.loc[\"TPR (Recall/Sens)\"], label=\"-Plat +TCGA -MRI\")\n",
    "ax.plot(noPlat_TCGA_MRI_Surv_metrics_range.loc[\"TPR (Recall/Sens)\"], label=\"-Plat +TCGA +MRI\")\n",
    "ax.plot(Plat_noRest_Surv_metrics_range.loc[\"TPR (Recall/Sens)\"], label=\"+Plat -TCGA -MRI\")\n",
    "ax.plot(Plat_all_Surv_metrics_range.loc[\"TPR (Recall/Sens)\"], label=\"+Plat +TCGA +MRI\")\n",
    "\n",
    "ax.legend(loc=\"upper right\")\n",
    "ax.set_xlabel(\"Threshold\")\n",
    "ax.set_ylabel(\"Recall\")\n",
    "ax.set_xticks([0.05, 0.10, 0.20, 0.30, 0.40, 0.50, 0.60, 0.70, 0.80, 0.90])\n",
    "ax.set_xticklabels([0.05, 0.10, 0.20, 0.30, 0.40, 0.50, 0.60, 0.70, 0.80, 0.90])\n",
    "\n",
    "# Precision\n",
    "# LNM\n",
    "fig, ax = plt.subplots(1, 1, figsize=(15, 5))\n",
    "\n",
    "fig.suptitle(\"LNM Precision per Threshold per Model\", fontsize=16)\n",
    "\n",
    "ax.plot(org_LNM_metrics_range.loc[\"Precision (PPV)\"], label=\"Origineel Netwerk\")\n",
    "#ax.plot(inter_LNM_metrics_range.loc[\"Precision (PPV)\"], label=\"Endomcancer3\")\n",
    "ax.plot(noPlat_noRest_LNM_metrics_range.loc[\"Precision (PPV)\"], label=\"-Plat -TCGA -MRI\")\n",
    "ax.plot(noPlat_MRI_LNM_metrics_range.loc[\"Precision (PPV)\"], label=\"-Plat -TCGA +MRI\")\n",
    "ax.plot(noPlat_TCGA_LNM_metrics_range.loc[\"Precision (PPV)\"], label=\"-Plat +TCGA -MRI\")\n",
    "ax.plot(noPlat_TCGA_MRI_LNM_metrics_range.loc[\"Precision (PPV)\"], label=\"-Plat +TCGA +MRI\")\n",
    "ax.plot(Plat_noRest_LNM_metrics_range.loc[\"Precision (PPV)\"], label=\"+Plat -TCGA -MRI\")\n",
    "\n",
    "ax.legend(loc=\"lower right\")\n",
    "ax.set_xlabel(\"Threshold\")\n",
    "ax.set_ylabel(\"Precision\")\n",
    "ax.set_xticks([0.05, 0.10, 0.20, 0.30, 0.40, 0.50, 0.60, 0.70, 0.80, 0.90])\n",
    "ax.set_xticklabels([0.05, 0.10, 0.20, 0.30, 0.40, 0.50, 0.60, 0.70, 0.80, 0.90])\n",
    "\n",
    "# Survival\n",
    "fig, ax = plt.subplots(1, 1, figsize=(15, 5))\n",
    "\n",
    "fig.suptitle(\"Survival Precision per Threshold per Model\", fontsize=16)\n",
    "\n",
    "ax.plot(org_Surv_metrics_range.loc[\"Precision (PPV)\"], label=\"Origineel Netwerk\")\n",
    "#ax.plot(inter_Surv_metrics_range.loc[\"Precision (PPV)\"], label=\"Endomcancer3\")\n",
    "ax.plot(noPlat_noRest_Surv_metrics_range.loc[\"Precision (PPV)\"], label=\"-Plat -TCGA -MRI\")\n",
    "ax.plot(noPlat_MRI_Surv_metrics_range.loc[\"Precision (PPV)\"], label=\"-Plat -TCGA +MRI\")\n",
    "ax.plot(noPlat_TCGA_Surv_metrics_range.loc[\"Precision (PPV)\"], label=\"-Plat +TCGA -MRI\")\n",
    "ax.plot(noPlat_TCGA_MRI_Surv_metrics_range.loc[\"Precision (PPV)\"], label=\"-Plat +TCGA +MRI\")\n",
    "ax.plot(Plat_noRest_Surv_metrics_range.loc[\"Precision (PPV)\"], label=\"+Plat -TCGA -MRI\")\n",
    "\n",
    "ax.legend(loc=\"lower right\")\n",
    "ax.set_xlabel(\"Threshold\")\n",
    "ax.set_ylabel(\"Precision\")\n",
    "ax.set_xticks([0.05, 0.10, 0.20, 0.30, 0.40, 0.50, 0.60, 0.70, 0.80, 0.90])\n",
    "ax.set_xticklabels([0.05, 0.10, 0.20, 0.30, 0.40, 0.50, 0.60, 0.70, 0.80, 0.90])\n"
   ],
   "metadata": {
    "collapsed": false
   },
   "id": "dd49fa987cf5b411"
  }
 ],
 "metadata": {
  "kernelspec": {
   "display_name": "Python 3",
   "language": "python",
   "name": "python3"
  },
  "language_info": {
   "codemirror_mode": {
    "name": "ipython",
    "version": 2
   },
   "file_extension": ".py",
   "mimetype": "text/x-python",
   "name": "python",
   "nbconvert_exporter": "python",
   "pygments_lexer": "ipython2",
   "version": "2.7.6"
  }
 },
 "nbformat": 4,
 "nbformat_minor": 5
}
