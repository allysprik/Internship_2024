{
 "cells": [
  {
   "cell_type": "markdown",
   "source": [
    "### Author: Ally Sprik\n",
    "### Last-updated: 25-02-2024\n",
    "\n",
    "Goal of this notebook is to impute a combined dataset of MAYO and PIPENDO with MIDAS."
   ],
   "metadata": {
    "collapsed": false
   },
   "id": "5221a259ae98064a"
  },
  {
   "cell_type": "code",
   "execution_count": null,
   "id": "initial_id",
   "metadata": {
    "collapsed": true,
    "is_executing": true
   },
   "outputs": [],
   "source": [
    "import numpy as np\n",
    "import pandas as pd\n",
    "\n",
    "df_MAYO = pd.read_csv(\"../0.1. Cleaned_data/MAYO_subdag.csv\")\n",
    "df_PIP = pd.read_csv('../0.1. Cleaned_data/PIPENDO_val_correctnames.csv')\n",
    "\n",
    "# columns not in PIPENDO dataset fill in with NA\n",
    "for col in df_MAYO.columns:\n",
    "    if col not in df_PIP.columns:\n",
    "        df_PIP[col] = np.nan\n",
    "\n",
    "\n"
   ]
  },
  {
   "cell_type": "markdown",
   "source": [
    "Select evidences so the imputation is not muddied"
   ],
   "metadata": {
    "collapsed": false
   },
   "id": "624ff2a980ad6bd8"
  },
  {
   "cell_type": "code",
   "execution_count": null,
   "outputs": [],
   "source": [
    "evidence_columns = [\"ER\", \"PR\", \"p53\", \"L1CAM\", \"CA125\", \"Platelets\", \"Cytology\", \"MRI_MI\", \"MSI\", \"POLE\", \"PreoperativeGrade\", 'Survival1yr', 'Survival3yr',\n",
    "       'Survival5yr', 'Radiotherapy', 'Chemotherapy', 'Recurrence', 'LVSI', \"LNM\"]\n",
    "\n",
    "df_MAYO = df_MAYO[evidence_columns]\n",
    "df_PIP = df_PIP[evidence_columns]\n",
    "\n",
    "# Concatenate the two datasets first MAYO then PIPENDO\n",
    "df = pd.concat([df_MAYO, df_PIP], axis=0, ignore_index=True)\n",
    "df"
   ],
   "metadata": {
    "collapsed": false,
    "is_executing": true
   },
   "id": "4e56c3229f543e59"
  },
  {
   "cell_type": "markdown",
   "source": [
    "Initalise and train the MIDAS model"
   ],
   "metadata": {
    "collapsed": false
   },
   "id": "a4f1e4381f2db89e"
  },
  {
   "cell_type": "code",
   "execution_count": null,
   "outputs": [],
   "source": [
    "# Impute missing values with MIDAS\n",
    "from sklearn.impute import SimpleImputer\n",
    "import MIDASpy as midas\n",
    "\n",
    "encoded, cat_cols_list = midas.cat_conv(df)\n",
    "\n",
    "imputer = midas.Midas(layer_structure=[256,256], vae_layer=True, seed=123, input_drop=0.75)\n",
    "imputer.build_model(encoded)\n",
    "imputer.train_model(training_epochs=50)\n"
   ],
   "metadata": {
    "collapsed": false,
    "is_executing": true
   },
   "id": "829e7dcbc414ae79"
  },
  {
   "cell_type": "markdown",
   "source": [
    "Impute the missing values"
   ],
   "metadata": {
    "collapsed": false
   },
   "id": "510a56e50048f71"
  },
  {
   "cell_type": "code",
   "execution_count": null,
   "outputs": [],
   "source": [
    "imputations = imputer.generate_samples(m=10).output_list"
   ],
   "metadata": {
    "collapsed": false,
    "is_executing": true
   },
   "id": "52860d62d4569f03"
  },
  {
   "cell_type": "markdown",
   "source": [
    "Give the categorical columns the correct names"
   ],
   "metadata": {
    "collapsed": false
   },
   "id": "523ea45e55644f04"
  },
  {
   "cell_type": "code",
   "execution_count": null,
   "outputs": [],
   "source": [
    "flat_cats = [cat for variable in cat_cols_list for cat in variable]\n",
    "categorical = df.columns.values\n",
    "\n",
    "for i in range(len(imputations)):\n",
    "    tmp_cat = [imputations[i][x].idxmax(axis=1) for x in cat_cols_list]\n",
    "    cat_df = pd.DataFrame({categorical[i]:tmp_cat[i] for i in range(len(categorical))})\n",
    "    imputations[i] = pd.concat([imputations[i], cat_df], axis = 1).drop(flat_cats, axis = 1)"
   ],
   "metadata": {
    "collapsed": false,
    "is_executing": true
   },
   "id": "519cfe23d74a222f"
  },
  {
   "cell_type": "markdown",
   "source": [
    "Remove the prefix from the columns"
   ],
   "metadata": {
    "collapsed": false
   },
   "id": "65ae3994cbfd84dc"
  },
  {
   "cell_type": "code",
   "execution_count": null,
   "outputs": [],
   "source": [
    "for i in range(0,10):\n",
    "    imputation = imputations[i]\n",
    "    for col in imputation.columns.values:\n",
    "        for j in range(len(imputation)):\n",
    "            imputations[i][col][j] = imputation[col][j].removeprefix(col + '_')"
   ],
   "metadata": {
    "collapsed": false,
    "is_executing": true
   },
   "id": "41b137f10f94978d"
  },
  {
   "cell_type": "markdown",
   "source": [
    "Save the last imputation"
   ],
   "metadata": {
    "collapsed": false
   },
   "id": "7cb9e64db1727f61"
  },
  {
   "cell_type": "code",
   "execution_count": null,
   "outputs": [],
   "source": [
    "result = imputations[9]"
   ],
   "metadata": {
    "collapsed": false,
    "is_executing": true
   },
   "id": "1689dc4de29f0e52"
  },
  {
   "cell_type": "markdown",
   "source": [
    "Select only mayo rows"
   ],
   "metadata": {
    "collapsed": false
   },
   "id": "909061eab8ae941d"
  },
  {
   "cell_type": "code",
   "execution_count": null,
   "outputs": [],
   "source": [
    "# Select only MAYO rows, 279 rows\n",
    "result_MAYO = result.iloc[0:len(df_MAYO)]\n",
    "result_MAYO"
   ],
   "metadata": {
    "collapsed": false,
    "is_executing": true
   },
   "id": "41d175d708ea0ad7"
  },
  {
   "cell_type": "markdown",
   "source": [
    "Save a dataset with only the CA125 value imputed"
   ],
   "metadata": {
    "collapsed": false
   },
   "id": "63e01ea1a432a9c1"
  },
  {
   "cell_type": "code",
   "execution_count": null,
   "outputs": [],
   "source": [
    "df_MAYO = pd.read_csv(\"../0.1. Cleaned_data/MAYO_subdag.csv\")\n",
    "# Insert CA125 value into MAYO dataset\n",
    "df_MAYO[\"CA125\"] = result_MAYO[\"CA125\"]\n",
    "\n",
    "df_MAYO.to_csv(\"../0.2. Imputed_data/MayoCA125_wPIP_Preop.csv\", index=False)"
   ],
   "metadata": {
    "collapsed": false,
    "is_executing": true
   },
   "id": "83a3a5800cdc0b59"
  }
 ],
 "metadata": {
  "kernelspec": {
   "display_name": "Python 3",
   "language": "python",
   "name": "python3"
  },
  "language_info": {
   "codemirror_mode": {
    "name": "ipython",
    "version": 2
   },
   "file_extension": ".py",
   "mimetype": "text/x-python",
   "name": "python",
   "nbconvert_exporter": "python",
   "pygments_lexer": "ipython2",
   "version": "2.7.6"
  }
 },
 "nbformat": 4,
 "nbformat_minor": 5
}
