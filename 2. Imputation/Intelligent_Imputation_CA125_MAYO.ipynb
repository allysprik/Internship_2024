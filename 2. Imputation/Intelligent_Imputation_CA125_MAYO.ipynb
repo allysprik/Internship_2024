{
 "cells": [
  {
   "cell_type": "markdown",
   "source": [
    "### Author: Ally Sprik\n",
    "### Last-updated: 25-02-2024\n",
    "\n",
    "Goal of this notebook is use intelligent imputation on the CA125 value in the MAYO dataset, to see if it has a strong effect\n",
    "\n"
   ],
   "metadata": {
    "collapsed": false
   },
   "id": "6649e7f9b94d33f9"
  },
  {
   "cell_type": "code",
   "execution_count": null,
   "id": "initial_id",
   "metadata": {
    "collapsed": true
   },
   "outputs": [],
   "source": [
    "import pandas as pd\n",
    "import numpy as np\n",
    "import matplotlib.pyplot as plt\n",
    "import seaborn as sns\n",
    "\n",
    "pd.options.mode.copy_on_write = True  # This will allow the code to run faster and keep Pandas happy. Technical detail: https://pandas.pydata.org/pandas-docs/stable/user_guide/copy_on_write.html#\n",
    "\n",
    "df_MAYO = pd.read_csv(\"../../0. Source_files/0.2. Cleaned_data/MAYO_cleaned_model.csv\")\n",
    "df_PIP = pd.read_csv('../../0. Source_files/0.2. Cleaned_data/Casper_PIPENDO_Cleaned.csv')\n",
    "\n",
    "# columns not in PIPENDO dataset fill in with NA\n",
    "for col in df_MAYO.columns:\n",
    "    if col not in df_PIP.columns:\n",
    "        df_PIP[col] = np.nan"
   ]
  },
  {
   "cell_type": "markdown",
   "source": [
    "Check the column factors of both datasets\n",
    "\n",
    "Pseudocode:\n",
    "- For every column in the MAYO dataset:\n",
    " - For every column in the PIPENDO dataset:\n",
    "  - If the column names are the same:\n",
    "   - Check if the factors are the same length\n",
    "    - If not, print the column name and the factors"
   ],
   "metadata": {
    "collapsed": false
   },
   "id": "27fe00667256001"
  },
  {
   "cell_type": "code",
   "execution_count": null,
   "outputs": [],
   "source": [
    "# Check if all the columns have the same factors in both datasets\n",
    "for col in df_MAYO.columns:\n",
    "    if col in df_PIP.columns:\n",
    "        MAYO_factors = df_MAYO[col].unique()\n",
    "        PIP_factors = df_PIP[col].unique()\n",
    "        if len(MAYO_factors) != len(PIP_factors):\n",
    "            print(col)\n",
    "            print(MAYO_factors)\n",
    "            print(PIP_factors)\n",
    "            print(\"\")"
   ],
   "metadata": {
    "collapsed": false
   },
   "id": "3fe2adb951996d7a"
  },
  {
   "cell_type": "markdown",
   "source": [
    "Select the columns that are used for the imputation, based on a matching scheme. For every row in MAYO, the PIPENDO dataset is checked to see there is a closely matching row. If there are 7 or more matching columns, the CA125 value is added to a list. At the end of the PIPENDO dataset the list is counted and the most common value is used to fill in the missing value in the MAYO dataset.\n",
    "\n",
    "Pseudocode:\n",
    "- Select the columns that are used for the imputation\n",
    "- For every row in the MAYO dataset:\n",
    " - If the CA125 value is missing:\n",
    "  - Create an empty list\n",
    "  - For every row in the PIPENDO dataset:\n",
    "   - Create a counter\n",
    "   - For every column in the imputation columns:\n",
    "    - If the MAYO value is missing or the PIPENDO value is missing:\n",
    "     - skip to the next column\n",
    "    - If the MAYO value is the same as the PIPENDO value:\n",
    "     - Add 1 to the counter\n",
    "   - If the counter is 7 or higher:\n",
    "    - Add the CA125 value to the list\n",
    "  - Count the list\n",
    "  - If the list is empty:\n",
    "   - Skip to the next row\n",
    "  - Else:\n",
    "   - Fill in the most common CA125 value in the MAYO dataset"
   ],
   "metadata": {
    "collapsed": false
   },
   "id": "45d16c38a5392343"
  },
  {
   "cell_type": "code",
   "execution_count": null,
   "outputs": [],
   "source": [
    "imputation_columns = [\"ER\", \"PR\", \"p53\", \"L1CAM\", \"LVSI\", \"PreoperativeGrade\", \"PostoperativeGrade\", \"MyometrialInvasion\"] \n",
    "\n",
    "# If 3 of these are the same then fill in CA125 of PIPENDO in MAYO\n",
    "for i in range(len(df_MAYO)):\n",
    "    if pd.isna(df_MAYO.loc[i, \"CA125\"]):\n",
    "        ls = []\n",
    "    \n",
    "        for j in range(len(df_PIP)):\n",
    "            x = 0\n",
    "            for col in imputation_columns:\n",
    "                MAYO_value = df_MAYO.loc[i, col]\n",
    "                PIP_value = df_PIP.loc[j, col]\n",
    "                if pd.isna(MAYO_value) or pd.isna(PIP_value):\n",
    "                    continue\n",
    "                elif MAYO_value == PIP_value:\n",
    "                    x += 1\n",
    "            if x >= 7:\n",
    "                ls.append(df_PIP.loc[j, \"CA125\"])\n",
    "        \n",
    "        vlcounts = pd.Series(ls).value_counts(dropna=False)\n",
    "        \n",
    "        if len(vlcounts) == 0:\n",
    "            continue\n",
    "        else:\n",
    "            df_MAYO.loc[i, \"CA125\"] = vlcounts.index[0]\n"
   ],
   "metadata": {
    "collapsed": false
   },
   "id": "5f77a57318785c65"
  },
  {
   "cell_type": "code",
   "execution_count": null,
   "outputs": [],
   "source": [
    "df_MAYO.to_csv(\"../../0. Source_files/0.3. Imputed_data/Informed_imputation_CA125.csv\", index=False)"
   ],
   "metadata": {
    "collapsed": false
   },
   "id": "c4fdfcae2002e391"
  }
 ],
 "metadata": {
  "kernelspec": {
   "display_name": "Python 3",
   "language": "python",
   "name": "python3"
  },
  "language_info": {
   "codemirror_mode": {
    "name": "ipython",
    "version": 2
   },
   "file_extension": ".py",
   "mimetype": "text/x-python",
   "name": "python",
   "nbconvert_exporter": "python",
   "pygments_lexer": "ipython2",
   "version": "2.7.6"
  }
 },
 "nbformat": 4,
 "nbformat_minor": 5
}
