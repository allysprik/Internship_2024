{
 "cells": [
  {
   "cell_type": "markdown",
   "source": [
    "### Author: Ally Sprik\n",
    "### Last-updated: 25-02-2024\n",
    "\n",
    "Goal of this notebook is to explore data imputation with the MIDAS algorithm. A deep learning autoencoder that is able to handle both continuous and categorical data. The algorithm is able to generate multiple imputations for missing data. \n"
   ],
   "metadata": {
    "collapsed": false
   },
   "id": "53dcdb7e6ef4118f"
  },
  {
   "cell_type": "code",
   "execution_count": null,
   "id": "initial_id",
   "metadata": {
    "collapsed": true
   },
   "outputs": [],
   "source": [
    "import pandas as pd\n",
    "import numpy as np\n",
    "import matplotlib.pyplot as plt\n",
    "import seaborn as sns\n",
    "import MIDASpy as midas\n",
    "\n",
    "pd.options.mode.copy_on_write = True  # This will allow the code to run faster and keep Pandas happy. Technical detail: https://pandas.pydata.org/pandas-docs/stable/user_guide/copy_on_write.html#\n",
    "\n",
    "df = pd.read_csv('../../0. Source_files/0.2. Cleaned_data/Training_JAMA+Brno_model_cleaned.csv', sep=',')\n",
    "extra_cols = df[[\"Study_number\", \"Included_in_training_cohort\", \"Comorbidity_index\", \"Platelets_numeric\", \"CA125_PREOP\", \"Age\", \"BMI\"]].copy()\n",
    "df = df.drop([\"Study_number\", \"Included_in_training_cohort\", \"Comorbidity_index\", \"Platelets_numeric\", \"CA125_PREOP\", \"Age\", \"BMI\"], axis=1)\n",
    "\n",
    "for col in df.columns.values:\n",
    "    for i in range(len(df)):\n",
    "        if pd.isna(df[col][i]):\n",
    "            df.loc[i, col] = np.nan\n",
    "            \n",
    "encoded, cat_cols_list = midas.cat_conv(df)\n",
    "\n",
    "CUDA_VISIBLE_DEVICES=\"\""
   ]
  },
  {
   "cell_type": "markdown",
   "source": [
    "Set up and build the imputation mode\n",
    "\n",
    "The imputation model is a deep learning autoencoder that is able to handle both continuous and categorical data. The algorithm is able to generate multiple imputations for missing data.\n",
    "\n",
    "Parameters:\n",
    "- layer_structure: list of integers, the number of nodes in each layer of the autoencoder\n",
    "- vae_layer: boolean, whether to include a variational autoencoder layer\n",
    "- seed: int, random seed\n",
    "- input_drop: float, the dropout rate for the input layer\n",
    "- training_epochs: int, the number of epochs to train the model"
   ],
   "metadata": {
    "collapsed": false
   },
   "id": "742726529f42f8e"
  },
  {
   "cell_type": "code",
   "execution_count": null,
   "outputs": [],
   "source": [
    "imputer = midas.Midas(layer_structure=[256,256], vae_layer=True, seed=123, input_drop=0.75)\n",
    "imputer.build_model(encoded)\n",
    "imputer.train_model(training_epochs=15)"
   ],
   "metadata": {
    "collapsed": false
   },
   "id": "6a400212cdacac03"
  },
  {
   "cell_type": "markdown",
   "source": [
    "Impute the data"
   ],
   "metadata": {
    "collapsed": false
   },
   "id": "111699934a7bd5cd"
  },
  {
   "cell_type": "code",
   "execution_count": null,
   "outputs": [],
   "source": [
    "imputations = imputer.generate_samples(m=10).output_list"
   ],
   "metadata": {
    "collapsed": false
   },
   "id": "c9a737aefd02b570"
  },
  {
   "cell_type": "markdown",
   "source": [
    "Reapply the categorical labels\n",
    "\n",
    "Pseudocode:\n",
    "- Flatten the list of categorical columns\n",
    "- Create a list of the column names\n",
    "- for each imputation:\n",
    "    - for each categorical column:\n",
    "        - create a new column with the index of the maximum value\n",
    "        - drop the original categorical columns"
   ],
   "metadata": {
    "collapsed": false
   },
   "id": "1b46d45a56caa02f"
  },
  {
   "cell_type": "code",
   "execution_count": null,
   "outputs": [],
   "source": [
    "flat_cats = [cat for variable in cat_cols_list for cat in variable]\n",
    "categorical = df.columns.values\n",
    "\n",
    "for i in range(len(imputations)):\n",
    "    tmp_cat = [imputations[i][x].idxmax(axis=1) for x in cat_cols_list]\n",
    "    cat_df = pd.DataFrame({categorical[i]:tmp_cat[i] for i in range(len(categorical))})\n",
    "    imputations[i] = pd.concat([imputations[i], cat_df], axis = 1).drop(flat_cats, axis = 1)"
   ],
   "metadata": {
    "collapsed": false
   },
   "id": "bc789eb98e3af36f"
  },
  {
   "cell_type": "markdown",
   "source": [
    "Reapply the column names\n",
    "\n",
    "Pseudocode:\n",
    "- for each imputation:\n",
    "    - for each column:\n",
    "        - remove the column name prefix"
   ],
   "metadata": {
    "collapsed": false
   },
   "id": "8b80cea840e410f9"
  },
  {
   "cell_type": "code",
   "execution_count": null,
   "outputs": [],
   "source": [
    "for i in range(0,10):\n",
    "    imputation = imputations[i]\n",
    "    for col in imputation.columns.values:\n",
    "        for j in range(len(imputation)):\n",
    "            imputations.loc[i, col].loc[j] = imputation[col][j].removeprefix(col + '_')"
   ],
   "metadata": {
    "collapsed": false
   },
   "id": "49ccae6b72f098b7"
  },
  {
   "cell_type": "markdown",
   "source": [
    "Save the last imputation\n",
    "\n",
    "Psuedocode:\n",
    "- for each extra column:\n",
    "    - for each row:\n",
    "        - add the value back into the result dataframe - This keeps the extra columns in the final dataframe even though they were not imputed"
   ],
   "metadata": {
    "collapsed": false
   },
   "id": "a8377d0dc84b6c4b"
  },
  {
   "cell_type": "code",
   "execution_count": null,
   "outputs": [],
   "source": [
    "result = imputations[9]\n",
    "for col in extra_cols.columns.values:\n",
    "    for i in range(len(extra_cols)):\n",
    "        result.loc[i, col] = extra_cols[col][i]\n",
    "            \n",
    "result.to_csv('../../0. Source_files/0.3. Imputed_data/MIDAS_Imputed_TCGATraining_JAMA_Brno.csv', index=False)"
   ],
   "metadata": {
    "collapsed": false
   },
   "id": "b61d69e0df72daa2"
  }
 ],
 "metadata": {
  "kernelspec": {
   "display_name": "Python 3",
   "language": "python",
   "name": "python3"
  },
  "language_info": {
   "codemirror_mode": {
    "name": "ipython",
    "version": 2
   },
   "file_extension": ".py",
   "mimetype": "text/x-python",
   "name": "python",
   "nbconvert_exporter": "python",
   "pygments_lexer": "ipython2",
   "version": "2.7.6"
  }
 },
 "nbformat": 4,
 "nbformat_minor": 5
}
