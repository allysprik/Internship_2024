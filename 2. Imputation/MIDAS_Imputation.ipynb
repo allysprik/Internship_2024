{
 "cells": [
  {
   "cell_type": "markdown",
   "source": [
    "### Author: Ally Sprik\n",
    "### Last-updated: 25-02-2024\n",
    "\n",
    "Goal of this notebook is to explore data imputation with the MIDAS algorithm. A deep learning autoencoder that is able to handle both continuous and categorical data. The algorithm is able to generate multiple imputations for missing data. \n"
   ],
   "metadata": {
    "collapsed": false
   },
   "id": "53dcdb7e6ef4118f"
  },
  {
   "cell_type": "code",
   "execution_count": null,
   "id": "initial_id",
   "metadata": {
    "collapsed": true
   },
   "outputs": [],
   "source": [
    "import pandas as pd\n",
    "import numpy as np\n",
    "import matplotlib.pyplot as plt\n",
    "import seaborn as sns\n",
    "import MIDASpy as midas\n",
    "\n",
    "df = pd.read_csv('../0.1. Cleaned_data/Training_JAMA+Brno_model_cleaned.csv', sep=',')\n",
    "extra_cols = df[[\"Study_number\", \"Included_in_training_cohort\", \"Comorbidity_index\", \"Platelets_numeric\", \"CA125_PREOP\", \"Age\", \"BMI\"]].copy()\n",
    "df = df.drop([\"Study_number\", \"Included_in_training_cohort\", \"Comorbidity_index\", \"Platelets_numeric\", \"CA125_PREOP\", \"Age\", \"BMI\"], axis=1)\n",
    "for col in df.columns.values:\n",
    "    for i in range(len(df)):\n",
    "        if pd.isna(df[col][i]):\n",
    "            df[col][i] = np.nan\n",
    "            \n",
    "encoded, cat_cols_list = midas.cat_conv(df)\n",
    "\n",
    "CUDA_VISIBLE_DEVICES=\"\""
   ]
  },
  {
   "cell_type": "markdown",
   "source": [
    "Set up and build the imputation mode"
   ],
   "metadata": {
    "collapsed": false
   },
   "id": "742726529f42f8e"
  },
  {
   "cell_type": "code",
   "execution_count": null,
   "outputs": [],
   "source": [
    "imputer = midas.Midas(layer_structure=[256,256], vae_layer=True, seed=123, input_drop=0.75)\n",
    "imputer.build_model(encoded)\n",
    "imputer.train_model(training_epochs=15)"
   ],
   "metadata": {
    "collapsed": false
   },
   "id": "6a400212cdacac03"
  },
  {
   "cell_type": "markdown",
   "source": [
    "Impute the data"
   ],
   "metadata": {
    "collapsed": false
   },
   "id": "111699934a7bd5cd"
  },
  {
   "cell_type": "code",
   "execution_count": null,
   "outputs": [],
   "source": [
    "imputations = imputer.generate_samples(m=10).output_list"
   ],
   "metadata": {
    "collapsed": false
   },
   "id": "c9a737aefd02b570"
  },
  {
   "cell_type": "markdown",
   "source": [
    "Reapply the categorical labels"
   ],
   "metadata": {
    "collapsed": false
   },
   "id": "1b46d45a56caa02f"
  },
  {
   "cell_type": "code",
   "execution_count": null,
   "outputs": [],
   "source": [
    "flat_cats = [cat for variable in cat_cols_list for cat in variable]\n",
    "categorical = df.columns.values\n",
    "\n",
    "for i in range(len(imputations)):\n",
    "    tmp_cat = [imputations[i][x].idxmax(axis=1) for x in cat_cols_list]\n",
    "    cat_df = pd.DataFrame({categorical[i]:tmp_cat[i] for i in range(len(categorical))})\n",
    "    imputations[i] = pd.concat([imputations[i], cat_df], axis = 1).drop(flat_cats, axis = 1)"
   ],
   "metadata": {
    "collapsed": false
   },
   "id": "bc789eb98e3af36f"
  },
  {
   "cell_type": "markdown",
   "source": [
    "Reapply the column names"
   ],
   "metadata": {
    "collapsed": false
   },
   "id": "8b80cea840e410f9"
  },
  {
   "cell_type": "code",
   "execution_count": null,
   "outputs": [],
   "source": [
    "for i in range(0,10):\n",
    "    imputation = imputations[i]\n",
    "    for col in imputation.columns.values:\n",
    "        for j in range(len(imputation)):\n",
    "            imputations[i][col][j] = imputation[col][j].removeprefix(col + '_')"
   ],
   "metadata": {
    "collapsed": false
   },
   "id": "49ccae6b72f098b7"
  },
  {
   "cell_type": "markdown",
   "source": [
    "Save the last imputation"
   ],
   "metadata": {
    "collapsed": false
   },
   "id": "a8377d0dc84b6c4b"
  },
  {
   "cell_type": "code",
   "execution_count": null,
   "outputs": [],
   "source": [
    "result = imputations[9]\n",
    "for col in extra_cols.columns.values:\n",
    "    for i in range(len(extra_cols)):\n",
    "        result[col][i] = extra_cols[col][i]\n",
    "            \n",
    "result.to_csv('../0.2. Imputed_data/MIDAS_Imputed_TCGATraining_JAMA_Brno.csv', index=False)"
   ],
   "metadata": {
    "collapsed": false
   },
   "id": "b61d69e0df72daa2"
  }
 ],
 "metadata": {
  "kernelspec": {
   "display_name": "Python 3",
   "language": "python",
   "name": "python3"
  },
  "language_info": {
   "codemirror_mode": {
    "name": "ipython",
    "version": 2
   },
   "file_extension": ".py",
   "mimetype": "text/x-python",
   "name": "python",
   "nbconvert_exporter": "python",
   "pygments_lexer": "ipython2",
   "version": "2.7.6"
  }
 },
 "nbformat": 4,
 "nbformat_minor": 5
}
