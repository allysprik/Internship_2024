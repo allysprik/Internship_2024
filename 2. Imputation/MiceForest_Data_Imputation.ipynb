{
 "cells": [
  {
   "cell_type": "markdown",
   "source": [
    "### Author: Ally Sprik\n",
    "### Last-updated: 25-02-2024\n",
    "\n",
    "Goal of this notebook is to explore imputation with the MICE forest algorithm, which is a random forest based imputation method."
   ],
   "metadata": {
    "collapsed": false
   },
   "id": "6abd81987c0fb2f7"
  },
  {
   "cell_type": "code",
   "execution_count": 3,
   "id": "initial_id",
   "metadata": {
    "collapsed": true,
    "ExecuteTime": {
     "end_time": "2024-02-01T08:38:28.959554600Z",
     "start_time": "2024-02-01T08:38:26.895752Z"
    }
   },
   "outputs": [
    {
     "name": "stderr",
     "output_type": "stream",
     "text": [
      "2024-02-01 09:38:27.254368: I tensorflow/core/platform/cpu_feature_guard.cc:182] This TensorFlow binary is optimized to use available CPU instructions in performance-critical operations.\n",
      "To enable the following instructions: SSE4.1 SSE4.2 AVX AVX2 FMA, in other operations, rebuild TensorFlow with the appropriate compiler flags.\n"
     ]
    },
    {
     "data": {
      "text/plain": "'4.3.0'"
     },
     "execution_count": 3,
     "metadata": {},
     "output_type": "execute_result"
    }
   ],
   "source": [
    "import pandas as pd\n",
    "import numpy as np\n",
    "import matplotlib.pyplot as plt\n",
    "import seaborn as sns\n",
    "import miceforest as mf\n",
    "import random\n",
    "import sklearn.neighbors._base \n",
    "import sys\n",
    "sys.modules['sklearn.neighbors.base'] = sklearn.neighbors._base\n",
    "from sklearn.impute import KNNImputer\n",
    "import tensorflow as tf\n",
    "import lightgbm as lgb# Surpress warnings\n",
    "import warnings\n",
    "warnings.filterwarnings('ignore')\n"
   ]
  },
  {
   "cell_type": "code",
   "execution_count": 4,
   "outputs": [],
   "source": [
    "# https://github.com/AnotherSamWilson/miceforest\n",
    "# Read the data \n",
    "data = pd.read_csv('../0.1. Cleaned_data/TrainTCGA_subdag.csv')\n",
    "or_data= data.copy()\n"
   ],
   "metadata": {
    "collapsed": false,
    "ExecuteTime": {
     "end_time": "2024-02-01T08:38:28.969585Z",
     "start_time": "2024-02-01T08:38:28.955539700Z"
    }
   },
   "id": "1ee5bb614dcd1a6e"
  },
  {
   "cell_type": "markdown",
   "source": [
    "Select the data to be imputed"
   ],
   "metadata": {
    "collapsed": false
   },
   "id": "9d36af5dc67f8930"
  },
  {
   "cell_type": "code",
   "execution_count": 5,
   "outputs": [],
   "source": [
    "cols = [\"CT_or_MRI_LNM\", \"MRI_MI\", \"Platelets_bi\", \"CA125_PREOP_bi\", \"Grade_PREOP\", \"Cytology_bi\", \n",
    "\t\t  \"p53_expression_preop\", \"TP53_mutation\", \"L1CAM_expression_preop\", \"ER_expression_preop\", \"PR_expression_preop\", \n",
    "\t\t  \"F_POLE_mutation\", \"F_MSI_bi\", \"F_NSMP\", \"LNM_bi\", \"LNM_incl_followup_bi\", \"Grade\", \"MI_merged\", \"LVSI\", \n",
    "\t\t  \"FIGO_surgical\", \"Chemotherapy\", \"Radiotherapy\", \"Recurrence\", \"one_year_survival\", \"three_year_survival\", \"five_year_survival\"]\n",
    "data = data[cols]"
   ],
   "metadata": {
    "collapsed": false,
    "ExecuteTime": {
     "end_time": "2024-02-01T08:38:28.989644400Z",
     "start_time": "2024-02-01T08:38:28.967068400Z"
    }
   },
   "id": "c9da34b35a7f846e"
  },
  {
   "cell_type": "markdown",
   "source": [
    "Encode the data as categorical"
   ],
   "metadata": {
    "collapsed": false
   },
   "id": "b604c7a2545e57e0"
  },
  {
   "cell_type": "code",
   "execution_count": 6,
   "outputs": [
    {
     "data": {
      "text/plain": "CT_or_MRI_LNM             category\nMRI_MI                    category\nPlatelets_bi              category\nCA125_PREOP_bi            category\nGrade_PREOP               category\nCytology_bi               category\np53_expression_preop      category\nTP53_mutation             category\nL1CAM_expression_preop    category\nER_expression_preop       category\nPR_expression_preop       category\nF_POLE_mutation           category\nF_MSI_bi                  category\nF_NSMP                    category\nLNM_bi                    category\nLNM_incl_followup_bi      category\nGrade                     category\nMI_merged                 category\nLVSI                      category\nFIGO_surgical             category\nChemotherapy              category\nRadiotherapy              category\nRecurrence                category\none_year_survival         category\nthree_year_survival       category\nfive_year_survival        category\ndtype: object"
     },
     "execution_count": 6,
     "metadata": {},
     "output_type": "execute_result"
    }
   ],
   "source": [
    "# Using RF so no need to label encode\n",
    "# Make data categorical\n",
    "for column in data.columns:\n",
    "    data[column] = data[column].astype('category')"
   ],
   "metadata": {
    "collapsed": false,
    "ExecuteTime": {
     "end_time": "2024-02-01T08:38:29.010745500Z",
     "start_time": "2024-02-01T08:38:28.977616500Z"
    }
   },
   "id": "f3a934d0a0148235"
  },
  {
   "cell_type": "markdown",
   "source": [
    "define the imputation model"
   ],
   "metadata": {
    "collapsed": false
   },
   "id": "944fb32115d234a7"
  },
  {
   "cell_type": "code",
   "execution_count": 0,
   "outputs": [],
   "source": [
    "kds = mf.ImputationKernel(\n",
    "    data,\n",
    "    save_all_iterations=True,\n",
    "    random_state=123,\n",
    ")\n"
   ],
   "metadata": {
    "collapsed": false
   },
   "id": "9dfe230dbbd68532"
  },
  {
   "cell_type": "markdown",
   "source": [
    "Impute the data"
   ],
   "metadata": {
    "collapsed": false
   },
   "id": "fa6d7696616e06bb"
  },
  {
   "cell_type": "code",
   "execution_count": 0,
   "outputs": [],
   "source": [
    "\n",
    "kds.mice(50, verbose=True, device=\"cuda\")"
   ],
   "metadata": {
    "collapsed": false
   },
   "id": "eb0e2c9c1ac5064"
  },
  {
   "cell_type": "code",
   "execution_count": 7,
   "outputs": [
    {
     "name": "stdout",
     "output_type": "stream",
     "text": [
      "Initialized logger with name mice 1-50\n",
      "Dataset 0\n",
      "1  | five_year_survival | one_year_survival | Grade | FIGO_surgical"
     ]
    },
    {
     "ename": "KeyboardInterrupt",
     "evalue": "",
     "output_type": "error",
     "traceback": [
      "\u001B[0;31m---------------------------------------------------------------------------\u001B[0m",
      "\u001B[0;31mKeyboardInterrupt\u001B[0m                         Traceback (most recent call last)",
      "Cell \u001B[0;32mIn[7], line 9\u001B[0m\n\u001B[1;32m      1\u001B[0m \u001B[38;5;66;03m# Set-up the imputation model\u001B[39;00m\n\u001B[1;32m      2\u001B[0m kds \u001B[38;5;241m=\u001B[39m mf\u001B[38;5;241m.\u001B[39mImputationKernel(\n\u001B[1;32m      3\u001B[0m     data,\n\u001B[1;32m      4\u001B[0m     save_all_iterations\u001B[38;5;241m=\u001B[39m\u001B[38;5;28;01mTrue\u001B[39;00m,\n\u001B[1;32m      5\u001B[0m     random_state\u001B[38;5;241m=\u001B[39m\u001B[38;5;241m123\u001B[39m,\n\u001B[1;32m      6\u001B[0m )\n\u001B[0;32m----> 9\u001B[0m \u001B[43mkds\u001B[49m\u001B[38;5;241;43m.\u001B[39;49m\u001B[43mmice\u001B[49m\u001B[43m(\u001B[49m\u001B[38;5;241;43m50\u001B[39;49m\u001B[43m,\u001B[49m\u001B[43m \u001B[49m\u001B[43mverbose\u001B[49m\u001B[38;5;241;43m=\u001B[39;49m\u001B[38;5;28;43;01mTrue\u001B[39;49;00m\u001B[43m,\u001B[49m\u001B[43m \u001B[49m\u001B[43mdevice\u001B[49m\u001B[38;5;241;43m=\u001B[39;49m\u001B[38;5;124;43m\"\u001B[39;49m\u001B[38;5;124;43mcuda\u001B[39;49m\u001B[38;5;124;43m\"\u001B[39;49m\u001B[43m)\u001B[49m\n\u001B[1;32m     11\u001B[0m completed_data \u001B[38;5;241m=\u001B[39m kds\u001B[38;5;241m.\u001B[39mcomplete_data()\n\u001B[1;32m     13\u001B[0m completed_data\n",
      "File \u001B[0;32m~/anaconda3/envs/RadboudAI/lib/python3.9/site-packages/miceforest/ImputationKernel.py:1108\u001B[0m, in \u001B[0;36mImputationKernel.mice\u001B[0;34m(self, iterations, verbose, variable_parameters, compile_candidates, **kwlgb)\u001B[0m\n\u001B[1;32m   1106\u001B[0m logger\u001B[38;5;241m.\u001B[39mrecord_time(timed_event\u001B[38;5;241m=\u001B[39m\u001B[38;5;124m\"\u001B[39m\u001B[38;5;124mprepare_xy\u001B[39m\u001B[38;5;124m\"\u001B[39m, \u001B[38;5;241m*\u001B[39m\u001B[38;5;241m*\u001B[39mlog_context)\n\u001B[1;32m   1107\u001B[0m logger\u001B[38;5;241m.\u001B[39mset_start_time()\n\u001B[0;32m-> 1108\u001B[0m current_model \u001B[38;5;241m=\u001B[39m \u001B[43mtrain\u001B[49m\u001B[43m(\u001B[49m\n\u001B[1;32m   1109\u001B[0m \u001B[43m    \u001B[49m\u001B[43mparams\u001B[49m\u001B[38;5;241;43m=\u001B[39;49m\u001B[43mlgbpars\u001B[49m\u001B[43m,\u001B[49m\n\u001B[1;32m   1110\u001B[0m \u001B[43m    \u001B[49m\u001B[43mtrain_set\u001B[49m\u001B[38;5;241;43m=\u001B[39;49m\u001B[43mtrain_pointer\u001B[49m\u001B[43m,\u001B[49m\n\u001B[1;32m   1111\u001B[0m \u001B[43m    \u001B[49m\u001B[43mnum_boost_round\u001B[49m\u001B[38;5;241;43m=\u001B[39;49m\u001B[43mnum_iterations\u001B[49m\u001B[43m,\u001B[49m\n\u001B[1;32m   1112\u001B[0m \u001B[43m    \u001B[49m\u001B[43mcategorical_feature\u001B[49m\u001B[38;5;241;43m=\u001B[39;49m\u001B[43mfeature_cat_index\u001B[49m\u001B[43m,\u001B[49m\n\u001B[1;32m   1113\u001B[0m \u001B[43m\u001B[49m\u001B[43m)\u001B[49m\n\u001B[1;32m   1114\u001B[0m logger\u001B[38;5;241m.\u001B[39mrecord_time(timed_event\u001B[38;5;241m=\u001B[39m\u001B[38;5;124m\"\u001B[39m\u001B[38;5;124mtraining\u001B[39m\u001B[38;5;124m\"\u001B[39m, \u001B[38;5;241m*\u001B[39m\u001B[38;5;241m*\u001B[39mlog_context)\n\u001B[1;32m   1116\u001B[0m \u001B[38;5;28;01mif\u001B[39;00m save_model:\n",
      "File \u001B[0;32m~/anaconda3/envs/RadboudAI/lib/python3.9/site-packages/lightgbm/engine.py:276\u001B[0m, in \u001B[0;36mtrain\u001B[0;34m(params, train_set, num_boost_round, valid_sets, valid_names, feval, init_model, feature_name, categorical_feature, keep_training_booster, callbacks)\u001B[0m\n\u001B[1;32m    268\u001B[0m \u001B[38;5;28;01mfor\u001B[39;00m cb \u001B[38;5;129;01min\u001B[39;00m callbacks_before_iter:\n\u001B[1;32m    269\u001B[0m     cb(callback\u001B[38;5;241m.\u001B[39mCallbackEnv(model\u001B[38;5;241m=\u001B[39mbooster,\n\u001B[1;32m    270\u001B[0m                             params\u001B[38;5;241m=\u001B[39mparams,\n\u001B[1;32m    271\u001B[0m                             iteration\u001B[38;5;241m=\u001B[39mi,\n\u001B[1;32m    272\u001B[0m                             begin_iteration\u001B[38;5;241m=\u001B[39minit_iteration,\n\u001B[1;32m    273\u001B[0m                             end_iteration\u001B[38;5;241m=\u001B[39minit_iteration \u001B[38;5;241m+\u001B[39m num_boost_round,\n\u001B[1;32m    274\u001B[0m                             evaluation_result_list\u001B[38;5;241m=\u001B[39m\u001B[38;5;28;01mNone\u001B[39;00m))\n\u001B[0;32m--> 276\u001B[0m \u001B[43mbooster\u001B[49m\u001B[38;5;241;43m.\u001B[39;49m\u001B[43mupdate\u001B[49m\u001B[43m(\u001B[49m\u001B[43mfobj\u001B[49m\u001B[38;5;241;43m=\u001B[39;49m\u001B[43mfobj\u001B[49m\u001B[43m)\u001B[49m\n\u001B[1;32m    278\u001B[0m evaluation_result_list: List[_LGBM_BoosterEvalMethodResultType] \u001B[38;5;241m=\u001B[39m []\n\u001B[1;32m    279\u001B[0m \u001B[38;5;66;03m# check evaluation result.\u001B[39;00m\n",
      "File \u001B[0;32m~/anaconda3/envs/RadboudAI/lib/python3.9/site-packages/lightgbm/basic.py:3891\u001B[0m, in \u001B[0;36mBooster.update\u001B[0;34m(self, train_set, fobj)\u001B[0m\n\u001B[1;32m   3889\u001B[0m \u001B[38;5;28;01mif\u001B[39;00m \u001B[38;5;28mself\u001B[39m\u001B[38;5;241m.\u001B[39m__set_objective_to_none:\n\u001B[1;32m   3890\u001B[0m     \u001B[38;5;28;01mraise\u001B[39;00m LightGBMError(\u001B[38;5;124m'\u001B[39m\u001B[38;5;124mCannot update due to null objective function.\u001B[39m\u001B[38;5;124m'\u001B[39m)\n\u001B[0;32m-> 3891\u001B[0m _safe_call(\u001B[43m_LIB\u001B[49m\u001B[38;5;241;43m.\u001B[39;49m\u001B[43mLGBM_BoosterUpdateOneIter\u001B[49m\u001B[43m(\u001B[49m\n\u001B[1;32m   3892\u001B[0m \u001B[43m    \u001B[49m\u001B[38;5;28;43mself\u001B[39;49m\u001B[38;5;241;43m.\u001B[39;49m\u001B[43m_handle\u001B[49m\u001B[43m,\u001B[49m\n\u001B[1;32m   3893\u001B[0m \u001B[43m    \u001B[49m\u001B[43mctypes\u001B[49m\u001B[38;5;241;43m.\u001B[39;49m\u001B[43mbyref\u001B[49m\u001B[43m(\u001B[49m\u001B[43mis_finished\u001B[49m\u001B[43m)\u001B[49m\u001B[43m)\u001B[49m)\n\u001B[1;32m   3894\u001B[0m \u001B[38;5;28mself\u001B[39m\u001B[38;5;241m.\u001B[39m__is_predicted_cur_iter \u001B[38;5;241m=\u001B[39m [\u001B[38;5;28;01mFalse\u001B[39;00m \u001B[38;5;28;01mfor\u001B[39;00m _ \u001B[38;5;129;01min\u001B[39;00m \u001B[38;5;28mrange\u001B[39m(\u001B[38;5;28mself\u001B[39m\u001B[38;5;241m.\u001B[39m__num_dataset)]\n\u001B[1;32m   3895\u001B[0m \u001B[38;5;28;01mreturn\u001B[39;00m is_finished\u001B[38;5;241m.\u001B[39mvalue \u001B[38;5;241m==\u001B[39m \u001B[38;5;241m1\u001B[39m\n",
      "\u001B[0;31mKeyboardInterrupt\u001B[0m: "
     ]
    }
   ],
   "source": [
    "\n",
    "completed_data = kds.complete_data()"
   ],
   "metadata": {
    "collapsed": false,
    "ExecuteTime": {
     "end_time": "2024-02-01T08:39:28.711126200Z",
     "start_time": "2024-02-01T08:38:29.010745500Z"
    }
   },
   "id": "257083119fae1d34"
  },
  {
   "cell_type": "markdown",
   "source": [
    "Save the data"
   ],
   "metadata": {
    "collapsed": false
   },
   "id": "56d968c8a1a3b7ee"
  },
  {
   "cell_type": "code",
   "execution_count": null,
   "outputs": [],
   "source": [
    "# Save the data\n",
    "completed_data.to_csv(\"../0.2. Imputed_data/MCF-imputation-trainingdata.csv\")"
   ],
   "metadata": {
    "collapsed": false,
    "ExecuteTime": {
     "end_time": "2024-02-01T08:39:28.715644700Z",
     "start_time": "2024-02-01T08:39:28.713127Z"
    }
   },
   "id": "839bf0d6a90f138f"
  }
 ],
 "metadata": {
  "kernelspec": {
   "display_name": "Python 3",
   "language": "python",
   "name": "python3"
  },
  "language_info": {
   "codemirror_mode": {
    "name": "ipython",
    "version": 2
   },
   "file_extension": ".py",
   "mimetype": "text/x-python",
   "name": "python",
   "nbconvert_exporter": "python",
   "pygments_lexer": "ipython2",
   "version": "2.7.6"
  }
 },
 "nbformat": 4,
 "nbformat_minor": 5
}
