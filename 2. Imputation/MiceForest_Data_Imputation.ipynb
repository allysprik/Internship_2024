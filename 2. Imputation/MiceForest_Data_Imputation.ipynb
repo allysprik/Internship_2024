{
 "cells": [
  {
   "cell_type": "markdown",
   "source": [
    "### Author: Ally Sprik\n",
    "### Last-updated: 25-02-2024\n",
    "\n",
    "Goal of this notebook is to explore imputation with the MICE forest algorithm, which is a random forest based imputation method."
   ],
   "metadata": {
    "collapsed": false
   },
   "id": "6abd81987c0fb2f7"
  },
  {
   "cell_type": "code",
   "execution_count": null,
   "id": "initial_id",
   "metadata": {
    "collapsed": true
   },
   "outputs": [],
   "source": [
    "import pandas as pd\n",
    "import numpy as np\n",
    "import matplotlib.pyplot as plt\n",
    "import seaborn as sns\n",
    "import miceforest as mf\n",
    "import random\n",
    "import sklearn.neighbors._base \n",
    "import sys\n",
    "pd.options.mode.copy_on_write = True  # This will allow the code to run faster and keep Pandas happy. Technical detail: https://pandas.pydata.org/pandas-docs/stable/user_guide/copy_on_write.html#\n",
    "\n",
    "sys.modules['sklearn.neighbors.base'] = sklearn.neighbors._base\n",
    "from sklearn.impute import KNNImputer\n",
    "import tensorflow as tf\n",
    "import lightgbm as lgb# Surpress warnings\n",
    "import warnings\n",
    "warnings.filterwarnings('ignore')\n"
   ]
  },
  {
   "cell_type": "code",
   "execution_count": null,
   "outputs": [],
   "source": [
    "# https://github.com/AnotherSamWilson/miceforest\n",
    "# Read the data \n",
    "data = pd.read_csv('../../0. Source_files/0.2. Cleaned_data/TrainTCGA_subdag.csv')\n",
    "or_data= data.copy()\n"
   ],
   "metadata": {
    "collapsed": false
   },
   "id": "1ee5bb614dcd1a6e"
  },
  {
   "cell_type": "markdown",
   "source": [
    "Select the data to be imputed"
   ],
   "metadata": {
    "collapsed": false
   },
   "id": "9d36af5dc67f8930"
  },
  {
   "cell_type": "code",
   "execution_count": null,
   "outputs": [],
   "source": [
    "cols = [\"CT_or_MRI_LNM\", \"MRI_MI\", \"Platelets_bi\", \"CA125_PREOP_bi\", \"Grade_PREOP\", \"Cytology_bi\", \n",
    "\t\t  \"p53_expression_preop\", \"TP53_mutation\", \"L1CAM_expression_preop\", \"ER_expression_preop\", \"PR_expression_preop\", \n",
    "\t\t  \"F_POLE_mutation\", \"F_MSI_bi\", \"F_NSMP\", \"LNM_bi\", \"LNM_incl_followup_bi\", \"Grade\", \"MI_merged\", \"LVSI\", \n",
    "\t\t  \"FIGO_surgical\", \"Chemotherapy\", \"Radiotherapy\", \"Recurrence\", \"one_year_survival\", \"three_year_survival\", \"five_year_survival\"]\n",
    "\n",
    "data = data[cols]"
   ],
   "metadata": {
    "collapsed": false
   },
   "id": "c9da34b35a7f846e"
  },
  {
   "cell_type": "markdown",
   "source": [
    "Encode the data as categorical\n",
    "\n",
    "Pseudocode:\n",
    "- For each column in the data\n",
    "    - Encode the column as categorical"
   ],
   "metadata": {
    "collapsed": false
   },
   "id": "b604c7a2545e57e0"
  },
  {
   "cell_type": "code",
   "execution_count": null,
   "outputs": [],
   "source": [
    "# Using RF so no need to label encode\n",
    "# Make data categorical\n",
    "for column in data.columns:\n",
    "    data[column] = data[column].astype('category')"
   ],
   "metadata": {
    "collapsed": false
   },
   "id": "f3a934d0a0148235"
  },
  {
   "cell_type": "markdown",
   "source": [
    "define the imputation model"
   ],
   "metadata": {
    "collapsed": false
   },
   "id": "944fb32115d234a7"
  },
  {
   "cell_type": "code",
   "execution_count": null,
   "outputs": [],
   "source": [
    "kds = mf.ImputationKernel(\n",
    "    data,\n",
    "    save_all_iterations=True,\n",
    "    random_state=123,\n",
    ")\n"
   ],
   "metadata": {
    "collapsed": false
   },
   "id": "9dfe230dbbd68532"
  },
  {
   "cell_type": "markdown",
   "source": [
    "Impute the data\n",
    "\n",
    "Based on your configuration you can choose to use the CPU or GPU. The GPU is faster but not always available. Remove device=\"cuda\" to use the CPU"
   ],
   "metadata": {
    "collapsed": false
   },
   "id": "fa6d7696616e06bb"
  },
  {
   "cell_type": "code",
   "execution_count": null,
   "outputs": [],
   "source": [
    "\n",
    "kds.mice(50, verbose=True, device=\"cuda\")"
   ],
   "metadata": {
    "collapsed": false
   },
   "id": "eb0e2c9c1ac5064"
  },
  {
   "cell_type": "markdown",
   "source": [
    "Get the completed data, with no input it takes the last iteration"
   ],
   "metadata": {
    "collapsed": false
   },
   "id": "1317bef996aa3383"
  },
  {
   "cell_type": "code",
   "execution_count": null,
   "outputs": [],
   "source": [
    "completed_data = kds.complete_data()"
   ],
   "metadata": {
    "collapsed": false
   },
   "id": "257083119fae1d34"
  },
  {
   "cell_type": "markdown",
   "source": [
    "Save the data"
   ],
   "metadata": {
    "collapsed": false
   },
   "id": "56d968c8a1a3b7ee"
  },
  {
   "cell_type": "code",
   "execution_count": null,
   "outputs": [],
   "source": [
    "# Save the data\n",
    "completed_data.to_csv(\"../../0. Source_files/0.3. Imputed_data/MCF-imputation-trainingdata.csv\")"
   ],
   "metadata": {
    "collapsed": false
   },
   "id": "839bf0d6a90f138f"
  }
 ],
 "metadata": {
  "kernelspec": {
   "display_name": "Python 3",
   "language": "python",
   "name": "python3"
  },
  "language_info": {
   "codemirror_mode": {
    "name": "ipython",
    "version": 2
   },
   "file_extension": ".py",
   "mimetype": "text/x-python",
   "name": "python",
   "nbconvert_exporter": "python",
   "pygments_lexer": "ipython2",
   "version": "2.7.6"
  }
 },
 "nbformat": 4,
 "nbformat_minor": 5
}
