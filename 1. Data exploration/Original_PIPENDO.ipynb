{
 "cells": [
  {
   "cell_type": "markdown",
   "source": [
    "### Author: Ally Sprik\n",
    "### Last-updated: 25-02-2024\n",
    "\n",
    "Goal of this notebook is to compare between the most current version of the PIPENDO dataset and the version Casper used, since there seemed to be inconsistencies in the data.\n"
   ],
   "metadata": {
    "collapsed": false
   },
   "id": "be5557800dfbfbd4"
  },
  {
   "cell_type": "code",
   "execution_count": null,
   "id": "initial_id",
   "metadata": {
    "collapsed": true
   },
   "outputs": [],
   "source": [
    "import pandas as pd\n",
    "import numpy as np\n",
    "\n",
    "df = pd.read_excel(\"../0. Data/PIPENDO/PIPENDO_validation_set_manual_prediction_5YRS_v2_only_included.xlsx\")\n",
    "df_old = pd.read_csv(\"../0.1. Cleaned_data/Pipendo_selection_val.csv\")\n",
    "\n",
    "# Clean up labels\n",
    "df.replace({\"\":np.nan, \" \":np.nan, \"Na\":np.nan, \"NA\":np.nan, \"NAN\":np.nan, \"NaN\":np.nan}, inplace=True)\n",
    "df_old.replace({\"\":np.nan, \" \":np.nan, \"Na\":np.nan, \"NA\":np.nan, \"NAN\":np.nan, \"NaN\":np.nan}, inplace=True)"
   ]
  },
  {
   "cell_type": "markdown",
   "source": [
    "The following code selects the rows that have at least 3 of the following columns: ER, PR, L1CAM, p53. This is done to make sure that the data is not too sparse."
   ],
   "metadata": {
    "collapsed": false
   },
   "id": "6eb60a16d8773d1c"
  },
  {
   "cell_type": "code",
   "execution_count": null,
   "outputs": [],
   "source": [
    "x = []\n",
    "\n",
    "# Select only the rows that have at least 3 of ER PR L1CAM p53\n",
    "for i in range(len(df)):\n",
    "    y = 0\n",
    "    row = df.iloc[i]\n",
    "    \n",
    "    if not pd.isna(row['ER']):\n",
    "        y += 1\n",
    "    if not pd.isna(row['PR']):\n",
    "        y += 1\n",
    "    if not pd.isna(row['L1CAM']):\n",
    "        y += 1\n",
    "    if not pd.isna(row['p53']):\n",
    "        y += 1\n",
    "    \n",
    "    if y >= 3:\n",
    "        x.append(i)\n",
    "\n",
    "selected_df = df.iloc[x]"
   ],
   "metadata": {
    "collapsed": false
   },
   "id": "dbeb4ea69c125d21"
  },
  {
   "cell_type": "markdown",
   "source": [
    "The following code block create a binary column for the platelets, where 1 is for platelets >= 400 and 0 for platelets < 400."
   ],
   "metadata": {
    "collapsed": false
   },
   "id": "721d88630ba40d9c"
  },
  {
   "cell_type": "code",
   "execution_count": null,
   "outputs": [],
   "source": [
    "selected_df['platelets_bi'] = selected_df['Pl'].apply(lambda x: 1 if x >= 400 else ( 0 if x < 400 else np.nan))"
   ],
   "metadata": {
    "collapsed": false
   },
   "id": "38bd23f0e018d059"
  },
  {
   "cell_type": "markdown",
   "source": [
    "The following code renames the columns to make them correspond to model node names."
   ],
   "metadata": {
    "collapsed": false
   },
   "id": "f9ce2e02a96375e6"
  },
  {
   "cell_type": "code",
   "execution_count": null,
   "outputs": [],
   "source": [
    "selected_df.rename(columns={\n",
    "                'Therapy':'Therapy',\n",
    "                \"Primarytumor\":\"PreoperativeGrade\",\n",
    "                \"Histology\":\"PostoperativeGrade\",\n",
    "                \"platelets_bi\":\"Platelets\",\n",
    "                \"LVSIb\":\"LVSI\",\n",
    "                \"MI\":\"MyometrialInvasion\",\n",
    "                \"X1YR\":\"Survival1yr\",\n",
    "                \"X3YR\":\"Survival3yr\",\n",
    "                \"X5YR\":\"Survival5yr\",\n",
    "                }, inplace=True)\n"
   ],
   "metadata": {
    "collapsed": false
   },
   "id": "9aa2415b76c55ff3"
  },
  {
   "cell_type": "markdown",
   "source": [
    "Select the columns that are used in the model "
   ],
   "metadata": {
    "collapsed": false
   },
   "id": "41ccc8ed60dc8ddf"
  },
  {
   "cell_type": "code",
   "execution_count": null,
   "outputs": [],
   "source": [
    "data_selection = [\"PreoperativeGrade\",\n",
    "                  \"PostoperativeGrade\",\n",
    "                \"MyometrialInvasion\",\n",
    "                  \"Cytology\",\n",
    "                  \"Platelets\",\n",
    "                  \"ER\", \n",
    "                  \"PR\",\n",
    "                  \"L1CAM\",\n",
    "                  \"LVSI\",\n",
    "                  \"p53\",\n",
    "                  \"CA125\",\n",
    "                  \"CTMRI\",\n",
    "                  \"LNM\",\n",
    "                  \"Therapy\",\n",
    "                  \"Survival1yr\",\n",
    "                  \"Survival3yr\",\n",
    "                  \"Survival5yr\"]\n",
    "\n",
    "subdag = selected_df[data_selection]"
   ],
   "metadata": {
    "collapsed": false
   },
   "id": "7ccbcfcb9358e311"
  },
  {
   "cell_type": "markdown",
   "source": [
    "Replace the values in the columns to make them correspond to the model values"
   ],
   "metadata": {
    "collapsed": false
   },
   "id": "b5ff16a669242072"
  },
  {
   "cell_type": "code",
   "execution_count": null,
   "outputs": [],
   "source": [
    "subdag[\"PreoperativeGrade\"].replace({1:\"grade 1\",\n",
    "                                     2:\"grade 2\",\n",
    "                                     3:\"grade 3\"}, inplace=True)\n",
    "subdag[\"PostoperativeGrade\"].replace({1:\"grade 1\",\n",
    "                                     2:\"grade 2\",\n",
    "                                     3:\"grade 3\"}, inplace=True)\n",
    "subdag[\"MyometrialInvasion\"].replace({0:\"lt_50\",1:\"lt_50\",\n",
    "                                      2:\"ge_50\"}, inplace=True)\n",
    "subdag[\"Cytology\"].replace({0:\"benign\",\n",
    "                            1:\"malignant\"}, inplace=True)\n",
    "subdag[\"LVSI\"].replace({0:\"no\",\n",
    "                        1:\"yes\"}, inplace=True)\n",
    "subdag[\"ER\"].replace({1:\"positive\",\n",
    "                       0: \"negative\"}, inplace = True)\n",
    "subdag[\"PR\"].replace({1:\"positive\",\n",
    "                       0: \"negative\"}, inplace = True)\n",
    "subdag[\"L1CAM\"].replace({1:\"positive\",\n",
    "                       0: \"negative\"}, inplace = True)\n",
    "subdag[\"p53\"].replace({1:\"mutant\",\n",
    "                       0: \"wildtype\"}, inplace = True)\n",
    "subdag['CA125'].replace({0:\"lt_35\",\n",
    "                         1:\"ge_35\"}, inplace = True)\n",
    "subdag[\"Platelets\"].replace({0:\"lt_400\",\n",
    "                            1:\"ge_400\"}, inplace = True)\n",
    "subdag[\"CTMRI\"].replace({0:\"no\",\n",
    "                         1:\"yes\",},\n",
    "                        inplace=True)\n",
    "subdag[\"LNM\"].replace({0:\"no\",\n",
    "                       1:\"yes\"},\n",
    "                      inplace=True)\n",
    "subdag[\"Survival1yr\"].replace({1:\"no\",\n",
    "                               0:\"yes\"}, inplace=True)\n",
    "subdag[\"Survival3yr\"].replace({1:\"no\",\n",
    "                                 0:\"yes\"}, inplace=True)\n",
    "subdag[\"Survival5yr\"].replace({0:\"no\",\n",
    "                               1:\"yes\"}, inplace=True)\n",
    "subdag[\"Therapy\"].replace({0:\"no\", 1:\"chemotherapy\", 2:\"radiotherapy\", 3:\"chemoradiotherapy\"}, inplace=True)"
   ],
   "metadata": {
    "collapsed": false
   },
   "id": "97bd75f4a456df9f"
  },
  {
   "cell_type": "markdown",
   "source": [
    "The following code block creates the columns for the chemotherapy and radiotherapy, based on the Therapy column."
   ],
   "metadata": {
    "collapsed": false
   },
   "id": "fe3cd10db28d5974"
  },
  {
   "cell_type": "code",
   "execution_count": null,
   "outputs": [],
   "source": [
    "# Create chemo and radiotherapy columns from Therapy\n",
    "subdag[\"Chemotherapy\"] = np.nan\n",
    "subdag[\"Radiotherapy\"] = np.nan\n",
    "for i in range(len(subdag)):\n",
    "    row = subdag.iloc[i]\n",
    "    if row[\"Therapy\"] == \"chemotherapy\":\n",
    "        subdag.at[i, \"Chemotherapy\"] = 'yes'\n",
    "        subdag.at[i, \"Radiotherapy\"] = 'no'\n",
    "    elif row[\"Therapy\"] == \"radiotherapy\":\n",
    "        subdag.at[i, \"Chemotherapy\"] = 'no'\n",
    "        subdag.at[i, \"Radiotherapy\"] = 'yes'\n",
    "    elif row[\"Therapy\"] == \"chemoradiotherapy\":\n",
    "        subdag.at[i, \"Chemotherapy\"] = 'yes'\n",
    "        subdag.at[i, \"Radiotherapy\"] = 'yes'\n",
    "    else:\n",
    "        subdag.at[i, \"Chemotherapy\"] = 'no'\n",
    "        subdag.at[i, \"Radiotherapy\"] = 'no'"
   ],
   "metadata": {
    "collapsed": false
   },
   "id": "1610b2b696d30326"
  },
  {
   "cell_type": "code",
   "execution_count": null,
   "outputs": [],
   "source": [
    "subdag.to_csv(\"../0.1. Cleaned_data/Casper_PIPENDO_Cleaned.csv\")"
   ],
   "metadata": {
    "collapsed": false
   },
   "id": "c782de8a7c12aae8"
  }
 ],
 "metadata": {
  "kernelspec": {
   "display_name": "Python 3",
   "language": "python",
   "name": "python3"
  },
  "language_info": {
   "codemirror_mode": {
    "name": "ipython",
    "version": 2
   },
   "file_extension": ".py",
   "mimetype": "text/x-python",
   "name": "python",
   "nbconvert_exporter": "python",
   "pygments_lexer": "ipython2",
   "version": "2.7.6"
  }
 },
 "nbformat": 4,
 "nbformat_minor": 5
}
