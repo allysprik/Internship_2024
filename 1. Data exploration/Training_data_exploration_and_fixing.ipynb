{
 "cells": [
  {
   "cell_type": "markdown",
   "source": [
    "### Author: Ally Sprik\n",
    "### Last-updated: 25-02-2024\n",
    "\n",
    "Goal of this notebook is to explore the extended training set, fix some inconsistencies and to create a new dataset that is correct.\n",
    "\n"
   ],
   "metadata": {
    "collapsed": false
   },
   "id": "33b16787cff5d616"
  },
  {
   "cell_type": "code",
   "execution_count": null,
   "id": "initial_id",
   "metadata": {
    "collapsed": true
   },
   "outputs": [],
   "source": [
    "import pandas as pd\n",
    "import numpy as np\n",
    "\n",
    "# Extended dataset\n",
    "df = pd.read_spss('../0. Data/Trainingcohort(_wTCGA)/L1CAM_3_database_ENDORISK_JAMA_mergedv6.sav', convert_categoricals=False)\n",
    "df.replace({\"\": np.nan, \" \": np.nan, \"99\": np.nan, 999:np.nan, \"999.0\":np.nan, \"NA\": np.nan, \"NaN\":np.nan, \"<NA>\":np.nan}, inplace=True)\n",
    "\n",
    "# Deorecated dataset\n",
    "df_wrongTCGA = pd.read_csv(\"../0. Data/Trainingcohort(_wTCGA)/Deprecated/L1CAM_3_database_ENDORISK_JAMA_mergedv4.csv\", sep=\",\", na_values=(\"\",\" \",\"99\",\"NA\",  999, \"999.0\", \"<NA>\"))\n",
    "\n",
    "# Only molecular data\n",
    "df_OnlyMol = pd.read_spss(\"../0. Data/Trainingcohort(_wTCGA)/L1CAM_dataset_complete_final version_only complete molecular data.sav\")\n",
    "df_OnlyMol.replace({\"\": np.nan, \" \": np.nan, \"99\": np.nan, 999:np.nan, \"999.0\":np.nan, \"NA\": np.nan, \"NaN\":np.nan, \"<NA>\":np.nan}, inplace=True)\n",
    "\n",
    "# Original dataset\n",
    "df_original = pd.read_csv(\"../0. Data/Trainingcohort(_wTCGA)/Original_model_dataset.csv\", sep=\",\", na_values=(\"\",\" \",\"99\",\"NA\", \"<NA>\"))\n"
   ]
  },
  {
   "cell_type": "markdown",
   "source": [
    "The following codeblock is a standard codeblock to search for column names that contain a certain substring. If set to \"\", it will return all columns."
   ],
   "metadata": {
    "collapsed": false
   },
   "id": "a43351d4c7e0dc1e"
  },
  {
   "cell_type": "code",
   "execution_count": null,
   "outputs": [],
   "source": [
    "for column in df.columns:\n",
    "    if column.__contains__(\"FIGO\"):\n",
    "        print(column)"
   ],
   "metadata": {
    "collapsed": false
   },
   "id": "1b5b0092e85870cd"
  },
  {
   "cell_type": "markdown",
   "source": [
    "Drop the rows that are completely empty"
   ],
   "metadata": {
    "collapsed": false
   },
   "id": "fb9c6ddc00fcda3f"
  },
  {
   "cell_type": "code",
   "execution_count": null,
   "outputs": [],
   "source": [
    "df.dropna(axis=0, how=\"all\", inplace=True)"
   ],
   "metadata": {
    "collapsed": false
   },
   "id": "abf41b6467ecfa91"
  },
  {
   "cell_type": "markdown",
   "source": [
    "Check for duplicate study numbers and remove them from the dataset"
   ],
   "metadata": {
    "collapsed": false
   },
   "id": "57ca2dbbe19406a3"
  },
  {
   "cell_type": "code",
   "execution_count": null,
   "outputs": [],
   "source": [
    "study_numbers = df_wrongTCGA[\"Study_number\"].unique()\n",
    "\n",
    "df_Dupl = df[~df[\"Study_number\"].isin(study_numbers)]\n",
    "\n",
    "df.drop(df_Dupl.index, inplace=True)\n",
    "df.reset_index(drop=True, inplace=True)\n",
    "df\n"
   ],
   "metadata": {
    "collapsed": false
   },
   "id": "a62222d9bbe577f6"
  },
  {
   "cell_type": "markdown",
   "source": [
    "Fix labels in the TCGA molecular classification dataset, for consistency"
   ],
   "metadata": {
    "collapsed": false
   },
   "id": "c0892ddca8d6a3cc"
  },
  {
   "cell_type": "code",
   "execution_count": null,
   "outputs": [],
   "source": [
    "df_OnlyMol[\"TCGA\"].replace({\"Copy number low\":\"NSMP\", \"Copy number high\":\"p53\"}, inplace=True)\n",
    "df_OnlyMol[\"TCGA\"].value_counts(dropna=False)"
   ],
   "metadata": {
    "collapsed": false
   },
   "id": "3131cb9878e7d667"
  },
  {
   "cell_type": "markdown",
   "source": [
    "# Constructing a new dataset based on these datasets, columns it should have:\n",
    "\n",
    "- Study number                  (numeric)\n",
    "- Included in training cohort   (yes/no)\n",
    "- BMI                           (numeric)\n",
    "- CA125_PREOP                   (numeric)\n",
    "- CA125_PREOP_bi                (over or equal 35/under 35)\n",
    "- Platelets                     (numeric)\n",
    "- Platelets_bi                  (over or equal 400/under 400)\n",
    "- L1CAM_PREOP                   (positive/negative)\n",
    "- ER_PREOP                      (positive/negative)\n",
    "- PR_PREOP                      (positive/negative)\n",
    "- p53_PREOP                     (wildtype/mutant)\n",
    "- Grade_PREOP                   (1/2/3)\n",
    "- FIGO_clinical                 (I/IIA/IIB/IIIA/IIIB/IIIC/IVA/IVB)\n",
    "- FIGO_surgical                 (I/IIA/IIB/IIIA/IIIB/IIIC/IVA/IVB)\n",
    "- MSI_mutation                  (yes/no)\n",
    "- POLE_mutation                 (yes/no)\n",
    "- TP53_mutation                 (yes/no)\n",
    "- CTMRI                         (yes/no)\n",
    "- MRI_MI                        (yes/no)\n",
    "- LVSI                          (yes/no)\n",
    "- Cytology                      (malignant/benign)\n",
    "- LNM                           (yes/no)\n",
    "- LNM (inc. follow-up)          (yes/no)\n",
    "- Myometrial invasion           (yes/no)\n",
    "- Grade_POSTOP                  (1/2/3)\n",
    "- Recurrence_location           (local/regional/distant)\n",
    "- Recurrence                    (yes/no)\n",
    "- Chemotherapy                  (yes/no)\n",
    "- Radiotherapy                  (yes/no)\n",
    "- Chemoradiotherapy             (no/chemo/radio/chemoradio)\n",
    "- Death_by_EC                   (yes/no)\n",
    "- one_year_survival             (yes/no)\n",
    "- one_year_survival (DSS)       (yes/no)\n",
    "- three_year_survival           (yes/no)\n",
    "- three_year_survival (DSS)     (yes/no)\n",
    "- five_year_survival            (yes/no)\n",
    "- five_year_survival (DSS)      (yes/no)"
   ],
   "metadata": {
    "collapsed": false
   },
   "id": "96f6b5222f0388e8"
  },
  {
   "cell_type": "markdown",
   "source": [
    "Construct the dataset step by step selecting columns from the original datasets"
   ],
   "metadata": {
    "collapsed": false
   },
   "id": "66b21949bd17e12f"
  },
  {
   "cell_type": "code",
   "execution_count": null,
   "outputs": [],
   "source": [
    "## With normal columns\n",
    "df_constr = pd.DataFrame()\n",
    "# Metadata columns\n",
    "df_constr[\"Study_number\"] = df[\"Study_number\"]\n",
    "df_constr[\"Included_in_training_cohort\"] = df[\"included_endorisk\"].replace({1: \"yes\", 0: \"no\", np.nan: \"no\"})\n",
    "\n",
    "# Ensure that the columns are numeric\n",
    "df_constr[\"Age\"] = pd.to_numeric(df[\"age_diagnosis\"])\n",
    "df_constr[\"BMI\"] = pd.to_numeric(df[\"BMI\"])\n",
    "df_constr[\"Comorbidity_index\"] = df[\"Comorbidity_index\"]\n",
    "\n",
    "# Ensure that the columns are numeric and create a binary column for CA125\n",
    "df_constr[\"CA125_PREOP\"] = pd.to_numeric(df[\"CA125_PREOP\"])\n",
    "df_constr[\"CA125_PREOP_bi\"] = df[\"CA125_PREOP\"].apply(lambda x: \"ge_35\" if x >= 35 else (\"lt_35\" if x < 35 else np.nan))\n",
    "\n",
    "# Ensure that the columns are numeric and create a binary column for Platelets\n",
    "df_constr[\"Platelets\"] = pd.to_numeric(df[\"Platelets\"])\n",
    "df_constr[\"Platelets_bi\"] = df[\"Platelets\"].apply(lambda x: \"ge_400\" if x >= 400 else (\"lt_400\" if x < 400 else np.nan))\n",
    "\n",
    "# Fix the labels for the histochemical markers\n",
    "df_constr[\"L1CAM_PREOP\"] = df[\"L1CAM_expression_preop\"].replace({1: \"positive\", 0: \"negative\", np.nan: np.nan})\n",
    "df_constr[\"ER_PREOP\"] = df[\"ER_expression_preop\"].replace({1: \"positive\", 0: \"negative\", np.nan: np.nan})\n",
    "df_constr[\"PR_PREOP\"] = df[\"PR_expression_preop\"].replace({1: \"positive\", 0: \"negative\", np.nan: np.nan})\n",
    "df_constr[\"p53_PREOP\"] = df[\"p53_expression_preop\"].replace({\"overexpression\": \"mutant\", \"wildtype\": \"wildtype\", np.nan: np.nan})\n",
    "\n",
    "# Fix the labels for the PreoperativeGrade\n",
    "df_constr[\"Grade_PREOP\"] = df[\"Grade_PREOP\"].replace({\"grade 3 or non-endometrioid\": \"grade 3\", \"grade 2\": \"grade 2\", \"grade 1\": \"grade 1\", np.nan: np.nan})\n",
    "\n",
    "# Fix the labels for the FIGO stages\n",
    "df_constr[\"FIGO_clinical\"] = df[\"FIGO_clinical\"].replace({1: \"IA\", 2: \"IB\", 3: \"II\", 4: \"IIIA\", 5: \"IIIB\", 6: \"IIIC\", 7: \"IVA\", 8: \"IVB\", np.nan: np.nan})\n",
    "df_constr[\"FIGO_surgical\"] = df[\"FIGO_surgical\"].replace({1: \"IA\", 2: \"IB\", 3: \"II\", 4: \"IIIA\", 5: \"IIIB\", 6: \"IIIC\", 7: \"IVA\", 8: \"IVB\", np.nan: np.nan})\n",
    "\n",
    "# Create empty columns for the molecular data\n",
    "df_constr[\"MSI_mutation\"] = np.nan\n",
    "df_constr[\"POLE_mutation\"] = np.nan\n",
    "df_constr[\"TP53_mutation\"] = np.nan\n",
    "\n",
    "# Fix the labels for the CTMRI, MRI_MI, LVSI and Cytology\n",
    "df_constr[\"CTMRI\"] = df[\"CT_or_MRI_LNM\"].replace({\"lymphadenopathy\":\"yes\", \"no extra-uterine disease\": \"no\", np.nan: np.nan})\n",
    "df_constr[\"MRI_MI\"] = df[\"MRI_MI\"].replace({\"<50%\": \"lt_50\", \">50%\": \"ge_50\", np.nan: np.nan})\n",
    "df_constr[\"LVSI\"] = df[\"LVSI_bi1\"].replace({\"LVSI\": \"yes\", \"no LVSI\": \"no\", np.nan: np.nan})\n",
    "df_constr[\"Cytology\"] =  df[\"Cytology\"].astype(\"string\").replace({\"cytology, malignant cells present\": \"malignant\", \"cytology, no malignant cells\": \"benign\", \"cytology, unknown if malignant cells present\":np.nan, \"no cytology\":np.nan, np.nan: np.nan})\n",
    "\n",
    "# Select two LNM columns\n",
    "df_constr[\"LNM\"] = df[\"Positive_nodes_bi1\"]\n",
    "df_constr[\"LNM (inc. follow-up)\"] = df[\"Positive_nodes_including_followup_BI\"]\n",
    "\n",
    "# Fix the labels for the Myometrial invasion, PostoperativeGrade, Recurrence, Recurrence_location, Chemotherapy, Radiotherapy, Death_by_EC and Histology\n",
    "df_constr[\"Myometrial_invasion\"] = df[\"Myometrial_invasion_L\"].replace({\">=50%\": \"ge_50\", \"<50%\": \"lt_50\", \"no invasion\":\"lt_50\", np.nan: np.nan})\n",
    "df_constr[\"Grade_POSTOP\"] = df[\"Grade_postop\"].replace({3: \"grade 3\", 2: \"grade 2\", 1: \"grade 1\", np.nan: np.nan})\n",
    "df_constr[\"Recurrence\"] = df[\"Recurrence\"]\n",
    "df_constr[\"Recurrence_location\"] = df[\"Recurrence_location\"].replace({\"yes, distant\":\"distant\", \"yes, local\":\"local\", \"yes, regional\":\"regional\", np.nan: np.nan})\n",
    "df_constr[\"Chemotherapy\"] = df[\"Chemotherapy\"].replace({1:\"yes\", 0:\"no\", np.nan:np.nan})\n",
    "df_constr[\"Radiotherapy\"] = df[\"Radiotherapy\"].replace({\"VBT\":\"yes\", \"EBRT\":\"yes\", \"EBRT+VBT\":\"yes\", np.nan:np.nan, \"no\":\"no\", 2:\"yes\", 1:\"yes\", 3:\"yes\", 0:\"no\"})\n",
    "df_constr[\"Death_by_EC\"] = df[\"Death_by_EC\"]\n",
    "df_constr[\"Histology\"] = df[\"Histology_bi_PREOP\"] \n",
    "\n",
    "# Create empty columns for the survival and TCGA \n",
    "df_constr[\"Therapy\"] = np.nan\n",
    "df_constr[\"one_year_survival\"] = np.nan\n",
    "df_constr[\"one_year_survival (DSS)\"] = np.nan\n",
    "df_constr[\"three_year_survival\"] = np.nan\n",
    "df_constr[\"three_year_survival (DSS)\"] = np.nan\n",
    "df_constr[\"five_year_survival\"] = np.nan\n",
    "df_constr[\"five_year_survival (DSS)\"] = np.nan\n",
    "df_constr[\"TCGA\"] = np.nan\n",
    "\n",
    "# Reset the index\n",
    "df_constr.reset_index(drop=True, inplace=True)\n",
    "\n",
    "## Fill Therapy based on Chemotherapy and Radiotherapy\n",
    "for i in range(len(df_constr)):\n",
    "    if df_constr[\"Chemotherapy\"].iloc[i] == \"yes\" and df_constr[\"Radiotherapy\"][i] == \"yes\":\n",
    "        df_constr[\"Therapy\"][i] = \"chemoradiotherapy\"\n",
    "    elif df_constr[\"Chemotherapy\"][i] == \"yes\":\n",
    "        df_constr[\"Therapy\"][i] = \"chemotherapy\"\n",
    "    elif df_constr[\"Radiotherapy\"][i] == \"yes\":\n",
    "        df_constr[\"Therapy\"][i] = \"radiotherapy\"\n",
    "    elif pd.isna(df_constr[\"Chemotherapy\"][i]) or pd.isna(df_constr[\"Radiotherapy\"][i]):\n",
    "        df_constr[\"Therapy\"][i] = np.nan\n",
    "    else:\n",
    "        df_constr[\"Therapy\"][i] = \"no\"\n",
    "\n",
    "## Fill in Survivals\n",
    "df[\"Death_date\"] = pd.to_datetime(df[\"Death_date\"], errors=\"coerce\")\n",
    "df[\"Date_diagnosis\"] = pd.to_datetime(df[\"Date_diagnosis\"], errors=\"coerce\")\n",
    "df[\"Last_followup\"] = pd.to_datetime(df[\"Last_followup\"],  errors=\"coerce\")\n",
    "\n",
    "for i in range(len(df)):\n",
    "    Death_date = df[\"Death_date\"][i]\n",
    "    Date_diagnosis = df[\"Date_diagnosis\"][i]\n",
    "    Last_followup = df[\"Last_followup\"][i]\n",
    "    Death_by_EC = df[\"Death_by_EC\"][i]\n",
    "    \n",
    "    if pd.isna(Death_date) and pd.isna(Last_followup):\n",
    "        df_constr[\"one_year_survival\"][i] = np.nan\n",
    "        df_constr[\"one_year_survival (DSS)\"][i] = np.nan\n",
    "        df_constr[\"three_year_survival\"][i] = np.nan\n",
    "        df_constr[\"three_year_survival (DSS)\"][i] = np.nan\n",
    "        df_constr[\"five_year_survival\"][i] = np.nan\n",
    "        df_constr[\"five_year_survival (DSS)\"][i] = np.nan\n",
    "    elif not pd.isna(Death_date):\n",
    "        if (Death_date - Date_diagnosis).days >= 365:\n",
    "            df_constr[\"one_year_survival\"][i] = \"yes\"\n",
    "            df_constr[\"one_year_survival (DSS)\"][i] = \"yes\"    \n",
    "        else:\n",
    "            df_constr[\"one_year_survival\"][i] = \"no\"\n",
    "            if Death_by_EC == \"yes\":\n",
    "                df_constr[\"one_year_survival (DSS)\"][i] = \"no\"\n",
    "            else:\n",
    "                df_constr[\"one_year_survival (DSS)\"][i] = \"yes\"\n",
    "        \n",
    "        if (Death_date - Date_diagnosis).days >= 1095:\n",
    "            df_constr[\"three_year_survival\"][i] = \"yes\"\n",
    "            df_constr[\"three_year_survival (DSS)\"][i] = \"yes\"\n",
    "        else:\n",
    "            df_constr[\"three_year_survival\"][i] = \"no\"\n",
    "            if Death_by_EC == \"yes\":\n",
    "                df_constr[\"three_year_survival (DSS)\"][i] = \"no\"\n",
    "            else:\n",
    "                df_constr[\"three_year_survival (DSS)\"][i] = \"yes\"\n",
    "\n",
    "        if (Death_date - Date_diagnosis).days >= 1825:\n",
    "            df_constr[\"five_year_survival\"][i] = \"yes\"\n",
    "            df_constr[\"five_year_survival (DSS)\"][i] = \"yes\"\n",
    "        else:\n",
    "            df_constr[\"five_year_survival\"][i] = \"no\"\n",
    "            if Death_by_EC == \"yes\":\n",
    "                df_constr[\"five_year_survival (DSS)\"][i] = \"no\"\n",
    "            else:\n",
    "                df_constr[\"five_year_survival (DSS)\"][i] = \"yes\"\n",
    "                \n",
    "    elif not pd.isna(Last_followup):\n",
    "        if (Last_followup - Date_diagnosis).days >= 365:\n",
    "            df_constr[\"one_year_survival\"][i] = \"yes\"\n",
    "            df_constr[\"one_year_survival (DSS)\"][i] = \"yes\"    \n",
    "        else:\n",
    "            df_constr[\"one_year_survival\"][i] = \"no\"\n",
    "            if Death_by_EC == \"yes\":\n",
    "                df_constr[\"one_year_survival (DSS)\"][i] = \"no\"\n",
    "            else:\n",
    "                df_constr[\"one_year_survival (DSS)\"][i] = \"yes\"\n",
    "        \n",
    "        if (Last_followup - Date_diagnosis).days >= 1095:\n",
    "            df_constr[\"three_year_survival\"][i] = \"yes\"\n",
    "            df_constr[\"three_year_survival (DSS)\"][i] = \"yes\"\n",
    "        else:\n",
    "            df_constr[\"three_year_survival\"][i] = \"no\"\n",
    "            if Death_by_EC == \"yes\":\n",
    "                df_constr[\"three_year_survival (DSS)\"][i] = \"no\"\n",
    "            else:\n",
    "                df_constr[\"three_year_survival (DSS)\"][i] = \"yes\"\n",
    "\n",
    "        if (Last_followup - Date_diagnosis).days >= 1825:\n",
    "            df_constr[\"five_year_survival\"][i] = \"yes\"\n",
    "            df_constr[\"five_year_survival (DSS)\"][i] = \"yes\"\n",
    "        else:\n",
    "            df_constr[\"five_year_survival\"][i] = \"no\"\n",
    "            if Death_by_EC == \"yes\":\n",
    "                df_constr[\"five_year_survival (DSS)\"][i] = \"no\"\n",
    "            else:\n",
    "                df_constr[\"five_year_survival (DSS)\"][i] = \"yes\"\n",
    "    \n",
    "    else:\n",
    "        df_constr[\"one_year_survival\"][i] = np.nan\n",
    "        df_constr[\"one_year_survival (DSS)\"][i] = np.nan\n",
    "        df_constr[\"three_year_survival\"][i] = np.nan\n",
    "        df_constr[\"three_year_survival (DSS)\"][i] = np.nan\n",
    "        df_constr[\"five_year_survival\"][i] = np.nan\n",
    "        df_constr[\"five_year_survival (DSS)\"][i] = np.nan\n",
    "\n",
    "## Filling in the TCGA from the extra dataset\n",
    "df_OnlyMol[\"MSI_bi\"].replace({\"MSI stable\":\"no\", \"MSI\":\"yes\"}, inplace=True)\n",
    "\n",
    "# Fill in the TCGA data\n",
    "for i in range(len(df_OnlyMol)):\n",
    "    study_number = df_OnlyMol[\"Study_number\"][i]\n",
    "    row_index = df_constr.loc[df_constr[\"Study_number\"] == study_number].index\n",
    "    \n",
    "    df_constr[\"POLE_mutation\"][row_index] = df_OnlyMol[\"POLE_mutation\"][i]\n",
    "    df_constr[\"MSI_mutation\"][row_index] = df_OnlyMol[\"MSI_bi\"][i]\n",
    "    df_constr[\"TP53_mutation\"][row_index] = df_OnlyMol[\"TP53_mutation\"][i]\n",
    "    df_constr[\"TCGA\"][row_index] = df_OnlyMol[\"TCGA\"][i]\n",
    "    "
   ],
   "metadata": {
    "collapsed": false
   },
   "id": "ac80afddb3929ae5"
  },
  {
   "cell_type": "markdown",
   "source": [
    "For the patients that are present in the original dataset, insert the survival data from the original dataset, since something went wrong with the merging"
   ],
   "metadata": {
    "collapsed": false
   },
   "id": "f9a1191f9e143470"
  },
  {
   "cell_type": "code",
   "execution_count": null,
   "outputs": [],
   "source": [
    "# Insert the one, three, and five year survival from the original dataset on the correct patients\n",
    "x  =0\n",
    "for i in range(len(df_original)):\n",
    "    study_number = df_original[\"Study_number\"][i]\n",
    "    # Check if the study number is in the new dataset, if not throw an error\n",
    "    if not study_number in df_constr[\"Study_number\"].values:\n",
    "        print(\"Study number \" + str(study_number) + \" not found in the new dataset\")\n",
    "        continue\n",
    "    row_index = df_constr.loc[df_constr[\"Study_number\"] == study_number].index\n",
    "    \n",
    "    df_constr[\"one_year_survival\"][row_index] = df_original[\"one_year_survival\"][i]\n",
    "    df_constr[\"one_year_survival (DSS)\"][row_index] = df_original[\"one_year_survival\"][i]\n",
    "    df_constr[\"three_year_survival\"][row_index] = df_original[\"three_year_survival\"][i]\n",
    "    df_constr[\"three_year_survival (DSS)\"][row_index] = df_original[\"three_year_survival\"][i]\n",
    "    df_constr[\"five_year_survival\"][row_index] = df_original[\"five_year_survival\"][i]\n",
    "    df_constr[\"five_year_survival (DSS)\"][row_index] = df_original[\"five_year_survival\"][i]"
   ],
   "metadata": {
    "collapsed": false
   },
   "id": "bbeab9b1a2b90d3f"
  },
  {
   "cell_type": "markdown",
   "source": [
    "save the dataset"
   ],
   "metadata": {
    "collapsed": false
   },
   "id": "929df149b911d3ef"
  },
  {
   "cell_type": "code",
   "execution_count": null,
   "outputs": [],
   "source": [
    "df_constr.to_csv(\"../0. Data/Trainingcohort(_wTCGA)/Training+JAMA_Merged.csv\", sep=\",\", index=False)"
   ],
   "metadata": {
    "collapsed": false
   },
   "id": "78394107e669a1aa"
  },
  {
   "cell_type": "markdown",
   "source": [
    "# Creating a cleaned version for model use with the correct column names"
   ],
   "metadata": {
    "collapsed": false
   },
   "id": "a5e06b1c7afdc2b0"
  },
  {
   "cell_type": "markdown",
   "source": [
    "Copy the dataset and rename the columns"
   ],
   "metadata": {
    "collapsed": false
   },
   "id": "81fca33593c6249d"
  },
  {
   "cell_type": "code",
   "execution_count": null,
   "outputs": [],
   "source": [
    "df_constr_clean = df_constr.copy()\n",
    "\n",
    "df_constr_clean.rename(columns={\"Study_number\": \"Study_number\", \n",
    "                                \"Included_in_training_cohort\": \"Included_in_training_cohort\", \n",
    "                                \"Age\": \"Age\", \n",
    "                                \"BMI\": \"BMI\", \n",
    "                                \"Comorbidity_index\": \"Comorbidity_index\", \n",
    "                                \"CA125_PREOP\": \"CA125_PREOP\", \n",
    "                                \"CA125_PREOP_bi\": \"CA125\", \n",
    "                                \"Platelets\": \"Platelets_numeric\", \n",
    "                                \"Platelets_bi\": \"Platelets\", \n",
    "                                \"L1CAM_PREOP\": \"L1CAM\", \n",
    "                                \"ER_PREOP\": \"ER\", \n",
    "                                \"PR_PREOP\": \"PR\", \n",
    "                                \"p53_PREOP\": \"p53\", \n",
    "                                \"Grade_PREOP\": \"PreoperativeGrade\", \n",
    "                                \"FIGO_clinical\": \"FIGO_clinical\",\n",
    "                                \"FIGO_surgical\": \"FIGO_surgical\",\n",
    "                                \"MSI_mutation\": \"MSI\", \n",
    "                                \"POLE_mutation\": \"POLE\", \n",
    "                                \"TP53_mutation\": \"TP53\", \n",
    "                                \"CTMRI\": \"CTMRI\", \n",
    "                                \"MRI_MI\": \"MRI_MI\", \n",
    "                                \"LVSI\": \"LVSI\", \n",
    "                                \"Cytology\": \"Cytology\", \n",
    "                                \"LNM\": \"LNM\", \n",
    "                                \"LNM (inc. follow-up)\": \"LNM (inc. follow-up)\", \n",
    "                                \"Myometrial_invasion\": \"MyometrialInvasion\", \n",
    "                                \"Grade_POSTOP\": \"PostoperativeGrade\", \n",
    "                                \"Recurrence\": \"Recurrence\", \n",
    "                                \"Recurrence_location\": \"Recurrence_location\", \n",
    "                                \"Chemotherapy\": \"Chemotherapy\", \n",
    "                                \"Radiotherapy\": \"Radiotherapy\", \n",
    "                                \"Therapy\": \"Therapy\", \n",
    "                                \"Death_by_EC\": \"Death_by_EC\", \n",
    "                                \"one_year_survival\": \"one_year_survival (All)\", \n",
    "                                \"one_year_survival (DSS)\": \"Survival1yr\", \n",
    "                                \"three_year_survival\": \"three_year_survival (All)\", \n",
    "                                \"three_year_survival (DSS)\": \"Survival3yr\", \n",
    "                                \"five_year_survival\": \"five_year_survival (All)\", \n",
    "                                \"five_year_survival (DSS)\": \"Survival5yr\"}, inplace=True)\n"
   ],
   "metadata": {
    "collapsed": false
   },
   "id": "c01e8bb0d18eda94"
  },
  {
   "cell_type": "markdown",
   "source": [
    "# Compare df_constr_clean to df_original for the the columns, with the same study numbers"
   ],
   "metadata": {
    "collapsed": false
   },
   "id": "46872153b50f9bdb"
  },
  {
   "cell_type": "code",
   "execution_count": null,
   "outputs": [],
   "source": [
    "# Compare df_constr_clean to df_original\n",
    "study_nrs = df_original[\"Study_number\"].values\n",
    "df_c_select = df_constr_clean[df_constr_clean[\"Study_number\"].isin(study_nrs)]\n",
    "df_c_select.reset_index(drop=True, inplace=True)\n",
    "\n",
    "df_c_select = df_c_select[[\"CA125\", \"PR\",\"ER\", \"L1CAM\", \"p53\", \"PreoperativeGrade\", \"LNM\",\"PostoperativeGrade\", \"Survival1yr\", \"Survival3yr\", \"Survival5yr\"]]\n",
    "df_c_select.replace({\"negative\":0, \"positive\":1, \"wildtype\":0, \"mutant\":1\n",
    "                     ,\"lt_35\":0, \"ge_35\":1, \"lt_400\":0, \"ge_400\":1, \"lt_50\":0, \"ge_50\":1,\n",
    "                     \"no\":0, \"yes\":1, \"grade 1\":1, \"grade 2\":2, \"grade 3\":3}, inplace=True)\n",
    "\n",
    "column_pairs = [[\"CA125\", \"CA125_PREOP_bi\"], [\"ER\", \"ER_expression_preop\"], [\"PR\", \"PR_expression_preop\"], [\"L1CAM\", \"L1CAM_expression_preop\"], [\"p53\",\"p53_expression_preop\"], [\"PreoperativeGrade\",\"Grade_PREOP\"], [\"LNM\",\"LNM\"],[\"PostoperativeGrade\", \"Grade\"], [\"Survival1yr\", \"one_year_survival\"], [\"Survival3yr\", \"three_year_survival\"], [\"Survival5yr\", \"five_year_survival\"]]\n",
    "\n",
    "changes = 0\n",
    "# Check if all columns are the same\n",
    "for i in range(len(df_c_select)):\n",
    "    for pairs in column_pairs:\n",
    "        contr_column = pairs[0]\n",
    "        orig_column = pairs[1]\n",
    "        if pd.isna(df_c_select[contr_column].iloc[i]) and pd.isna(df_original[orig_column].iloc[i]):\n",
    "            continue\n",
    "        elif float(df_c_select[contr_column].iloc[i]) != float(df_original[orig_column].iloc[i]):\n",
    "            df_c_select[contr_column].iloc[i] = df_original[orig_column].iloc[i]\n",
    "            print(\"Difference found in \" + contr_column + \" and \" + orig_column + \" at index \" + str(i))\n",
    "            print(df_c_select[contr_column].iloc[i])\n",
    "            print(df_original[orig_column].iloc[i])\n",
    "            print(\"\\n\")\n",
    "            changes += 1\n",
    "\n",
    "print(\"Total changes: \" + str(changes))"
   ],
   "metadata": {
    "collapsed": false
   },
   "id": "c1bcafcadec31cad"
  },
  {
   "cell_type": "markdown",
   "source": [
    "Fix labels in the df_constr_clean dataset"
   ],
   "metadata": {
    "collapsed": false
   },
   "id": "27303e46d279918"
  },
  {
   "cell_type": "code",
   "execution_count": null,
   "outputs": [],
   "source": [
    "# Revert to the labels of the original dataset\n",
    "df_c_select[\"CA125\"].replace({0:\"lt_35\", 1:\"ge_35\"}, inplace=True)\n",
    "df_c_select[\"ER\"].replace({0:\"negative\", 1:\"positive\"}, inplace=True)\n",
    "df_c_select[\"PR\"].replace({0:\"negative\", 1:\"positive\"}, inplace=True)\n",
    "df_c_select[\"L1CAM\"].replace({0:\"negative\", 1:\"positive\"}, inplace=True)\n",
    "df_c_select[\"p53\"].replace({0:\"wildtype\", 1:\"mutant\"}, inplace=True)\n",
    "df_c_select[\"PreoperativeGrade\"].replace({1:\"grade 1\", 2:\"grade 2\", 3:\"grade 3\"}, inplace=True)\n",
    "df_c_select[\"LNM\"].replace({0:\"no\", 1:\"yes\"}, inplace=True)\n",
    "df_c_select[\"PostoperativeGrade\"].replace({1:\"grade 1\", 2:\"grade 2\", 3:\"grade 3\"}, inplace=True)\n",
    "df_c_select[\"Survival1yr\"].replace({0:\"no\", 1:\"yes\"}, inplace=True)\n",
    "df_c_select[\"Survival3yr\"].replace({0:\"no\", 1:\"yes\"}, inplace=True)\n",
    "df_c_select[\"Survival5yr\"].replace({0:\"no\", 1:\"yes\"}, inplace=True)\n",
    "\n",
    "for column in df_c_select.columns:\n",
    "    for i in range (len(df_c_select)):\n",
    "        nr = study_nrs[i]\n",
    "        try:\n",
    "            df_constr_clean.loc[df_constr_clean[\"Study_number\"] == nr, column] = df_c_select[column].iloc[i]\n",
    "        except:\n",
    "            print(\"Error at index \" + str(i) + \" with column \" + column)\n",
    "            print(df_c_select[column].iloc[i])\n",
    "            print(\"\\n\")\n"
   ],
   "metadata": {
    "collapsed": false
   },
   "id": "9ffbeabbf71f407d"
  },
  {
   "cell_type": "markdown",
   "source": [
    "Fix more labels in the df_constr_clean dataset"
   ],
   "metadata": {
    "collapsed": false
   },
   "id": "1120a12ce9e66a10"
  },
  {
   "cell_type": "code",
   "execution_count": null,
   "outputs": [],
   "source": [
    "df_constr_clean[\"Recurrence\"].replace({0:\"no\", 1:\"yes\"}, inplace=True)\n",
    "df_constr_clean[\"Recurrence_location\"].replace({0:\"no\", 1:\"local\", 2:\"regional\", 3:\"distant\"}, inplace=True)\n",
    "df_constr_clean[\"MyometrialInvasion\"].replace({0:\"lt_50\", 1:\"lt_50\", 2:\"ge_50\"}, inplace=True)\n",
    "df_constr_clean[\"Chemotherapy\"].replace({0:\"no\", 1:\"yes\"}, inplace=True)\n",
    "df_constr_clean[\"Radiotherapy\"].replace({0:\"no\", 1:\"yes\"}, inplace=True)\n",
    "df_constr_clean[\"MRI_MI\"].replace({1:\"lt_50\", 2:\"ge_50\"}, inplace=True)\n",
    "df_constr_clean[\"CTMRI\"].replace({0:\"no\", 1:\"yes\"}, inplace=True)\n",
    "df_constr_clean[\"LVSI\"].replace({0:\"no\", 1:\"yes\"}, inplace=True)\n",
    "df_constr_clean[\"LNM (inc. follow-up)\"].replace({0:\"no\", 1:\"yes\"}, inplace=True)\n",
    "df_constr_clean[\"Histology\"].replace({1:\"endometrioid\", 2:\"non-endometrioid\"}, inplace=True)\n",
    "df_constr_clean[\"Death_by_EC\"].replace({0:\"no\", 1:\"yes\"}, inplace=True)\n",
    "df_constr_clean[\"Cytology\"].replace({0:\"benign\", 1:\"benign\", 2:\"malignant\", 3:\"malignant\", \"0.0\":\"benign\", \"1.0\":\"benign\", \"2.0\":\"malignant\", \"3.0\":\"malignant\", \"<NA>\":np.nan}, inplace=True)"
   ],
   "metadata": {
    "collapsed": false
   },
   "id": "4f117a445bf9d59f"
  },
  {
   "cell_type": "markdown",
   "source": [
    "Designate the FIGO_surgical column as the FIGO column"
   ],
   "metadata": {
    "collapsed": false
   },
   "id": "b383602e2b2c1f3e"
  },
  {
   "cell_type": "code",
   "execution_count": null,
   "outputs": [],
   "source": [
    "df_constr_clean.rename(columns={\"FIGO_surgical\": \"FIGO\"}, inplace=True)"
   ],
   "metadata": {
    "collapsed": false
   },
   "id": "3afb4ea383637e92"
  },
  {
   "cell_type": "markdown",
   "source": [
    "Save the cleaned dataset"
   ],
   "metadata": {
    "collapsed": false
   },
   "id": "d02edb1973df6cb0"
  },
  {
   "cell_type": "code",
   "execution_count": null,
   "outputs": [],
   "source": [
    "df_constr_clean.to_csv(\"../0.1. Cleaned_data/Training+TCGA+JAMA_cleaned.csv\", sep=\",\", index=False)\n"
   ],
   "metadata": {
    "collapsed": false
   },
   "id": "9585002090175ce"
  },
  {
   "cell_type": "markdown",
   "source": [
    "Calculate the sensitivity and specificity of the MRI_MI prediction of Myometrial invasion"
   ],
   "metadata": {
    "collapsed": false
   },
   "id": "e7ca69dad26d897f"
  },
  {
   "cell_type": "code",
   "execution_count": null,
   "outputs": [],
   "source": [
    "cross_table = pd.crosstab(df_constr_clean[\"MyometrialInvasion\"], df_constr_clean[\"MRI_MI\"], margins=True)\n",
    "\n",
    "# Sensitivity = TP / (TP + FN)\n",
    "# Specificity = TN / (TN + FP)\n",
    "TP = cross_table[\"ge_50\"][\"ge_50\"]\n",
    "FN = cross_table[\"ge_50\"][\"lt_50\"]\n",
    "TN = cross_table[\"lt_50\"][\"lt_50\"]\n",
    "FP = cross_table[\"lt_50\"][\"ge_50\"]\n",
    "\n",
    "sensitivity = TP / (TP + FN)\n",
    "specificity = TN / (TN + FP)\n",
    "\n",
    "print(\"Sensitivity: \" + str(sensitivity))\n",
    "print(\"Specificity: \" + str(specificity))"
   ],
   "metadata": {
    "collapsed": false
   },
   "id": "dd16c28aecd3de78"
  }
 ],
 "metadata": {
  "kernelspec": {
   "display_name": "Python 3",
   "language": "python",
   "name": "python3"
  },
  "language_info": {
   "codemirror_mode": {
    "name": "ipython",
    "version": 2
   },
   "file_extension": ".py",
   "mimetype": "text/x-python",
   "name": "python",
   "nbconvert_exporter": "python",
   "pygments_lexer": "ipython2",
   "version": "2.7.6"
  }
 },
 "nbformat": 4,
 "nbformat_minor": 5
}
