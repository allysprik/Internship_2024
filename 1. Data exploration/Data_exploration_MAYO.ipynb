{
 "cells": [
  {
   "cell_type": "markdown",
   "source": [
    "### Author: Ally Sprik\n",
    "### Last-updated: 25-02-2024\n",
    "\n",
    "Goal of this notebook is to explore the MAYO dataset and clean it for further analysis.\n",
    "\n"
   ],
   "metadata": {
    "collapsed": false
   },
   "id": "30119e22f3e3afa9"
  },
  {
   "cell_type": "code",
   "execution_count": null,
   "id": "initial_id",
   "metadata": {
    "collapsed": true
   },
   "outputs": [],
   "source": [
    "import numpy as np\n",
    "import pandas as pd\n",
    "\n",
    "# Load in two datasets to compare the columns, the incl. biomarkers dataset should be the correct one, but we're still doubting if the MAYO dataset is correct.\n",
    "df1 = pd.read_spss('../0. Data/MAYO/MAYO cohort 22-9-2023inclbiomarkers.sav')\n",
    "# Fix the labels for NaN values\n",
    "df1.replace({99: np.nan, 'Unknown':np.nan, 'Grade 1':1, 'Grade 2':2, 'Grade 3':3}, inplace=True)\n",
    "\n",
    "df2 = pd.read_csv('../0. Data/MAYO/MAYO cohort 22-9-2023.csv', sep=';')"
   ]
  },
  {
   "cell_type": "markdown",
   "source": [
    "The following codeblock is a standard codeblock to search for column names that contain a certain substring. If set to \"\", it will return all columns."
   ],
   "metadata": {
    "collapsed": false
   },
   "id": "766bc520dd61cf37"
  },
  {
   "cell_type": "code",
   "execution_count": null,
   "outputs": [],
   "source": [
    "for col in df1.columns:\n",
    "\tif col.__contains__('micro'):\n",
    "\t\tprint(col)"
   ],
   "metadata": {
    "collapsed": false
   },
   "id": "32b2df5aa8a9f7fd"
  },
  {
   "cell_type": "markdown",
   "source": [
    "Create a new column that does not include itc metastasis as metastasis"
   ],
   "metadata": {
    "collapsed": false
   },
   "id": "b0c61a411dfe6fce"
  },
  {
   "cell_type": "code",
   "execution_count": null,
   "outputs": [],
   "source": [
    "df1['LNM_micromacro'] = df1['Metastasis_macro_micro_itc'].apply(lambda x: np.nan if pd.isna(x) else ('yes' if x == 'Macrometastasis' or x == 'Micrometastasis' else 'no'))"
   ],
   "metadata": {
    "collapsed": false
   },
   "id": "36f1575dc38612fd"
  },
  {
   "cell_type": "markdown",
   "source": [
    "Check what columns are in the incl. biomarkers dataset, but not in the other dataset"
   ],
   "metadata": {
    "collapsed": false
   },
   "id": "23a9afb63bccf7c1"
  },
  {
   "cell_type": "code",
   "execution_count": null,
   "outputs": [],
   "source": [
    "for column in df1.columns:\n",
    "\tif column not in df2.columns:\n",
    "\t\tprint(column)"
   ],
   "metadata": {
    "collapsed": false
   },
   "id": "f57d32188cd5db59"
  },
  {
   "cell_type": "markdown",
   "source": [
    "Added columns: \n",
    "ER_preop_perc_def\n",
    "ER_preop_def_bi\n",
    "PR_preop_perc_def\n",
    "PR_preop_def_bi\n",
    "L1CAM_preop_def\n",
    "p53_preop_def"
   ],
   "metadata": {
    "collapsed": false
   },
   "id": "da8f8e84c46101dc"
  },
  {
   "cell_type": "markdown",
   "source": [
    "Copy df1 to df for easier reference, since we will only use the incl. biomarkers dataset"
   ],
   "metadata": {
    "collapsed": false
   },
   "id": "45b5cfc1b967c953"
  },
  {
   "cell_type": "code",
   "execution_count": null,
   "outputs": [],
   "source": [
    "df = df1"
   ],
   "metadata": {
    "collapsed": false
   },
   "id": "51b1250b9adccc77"
  },
  {
   "cell_type": "markdown",
   "source": [
    "The following codeblock drops the Study number and Study ID columns, as they are not relevant for the analysis.\n",
    "It also drops the rows that are completely empty."
   ],
   "metadata": {
    "collapsed": false
   },
   "id": "683b4c60658f6b89"
  },
  {
   "cell_type": "code",
   "execution_count": null,
   "outputs": [],
   "source": [
    "# Drop all rows with all NaN values\n",
    "df.drop(columns=['Studynumber', 'StudyID'], inplace=True)\n",
    "df = df.dropna(how='all', axis=0)\n",
    "df"
   ],
   "metadata": {
    "collapsed": false
   },
   "id": "61b2be209dd0ab6"
  },
  {
   "cell_type": "markdown",
   "source": [
    "The following codeblock creates a new column that tries to asses risk level based on the preoperative grade, PR and p53 status."
   ],
   "metadata": {
    "collapsed": false
   },
   "id": "975d7115acd4f8ab"
  },
  {
   "cell_type": "code",
   "execution_count": null,
   "outputs": [],
   "source": [
    "df['Risk_level_PREOP'] = np.nan\n",
    "df['Risk_level_PREOP'] = df['Risk_level_PREOP'].astype(object)\n",
    "for i in range(len(df)):\n",
    "\tif pd.isna(df['Preoperative_grade'][i]):\n",
    "\t\tdf['Risk_level_PREOP'][i] = 'Unknown'\n",
    "\telif df['Preoperative_grade'].values[i] == 1:\n",
    "\t\tdf['Risk_level_PREOP'][i] = 'Low'\n",
    "\telif df['Preoperative_grade'].values[i] == 3:\n",
    "\t\tdf['Risk_level_PREOP'][i] = 'High'\n",
    "\telif df['Preoperative_grade'].values[i] == 2:\n",
    "\t\tif df['PR_preop_def_bi'].values[i] == 1:\n",
    "\t\t\tdf['Risk_level_PREOP'][i] = 'High'\n",
    "\t\telse:\n",
    "\t\t\tif df['p53_preop_def'].values[i] == 1:\n",
    "\t\t\t\tdf['Risk_level_PREOP'][i] = 'High'\n",
    "\t\t\telse:\n",
    "\t\t\t\tdf['Risk_level_PREOP'][i] = 'Low'\n",
    "\telse:\n",
    "\t\tdf['Risk_level_PREOP'][i] = 'Unknown'\n"
   ],
   "metadata": {
    "collapsed": false
   },
   "id": "9c99ea41f690079c"
  },
  {
   "cell_type": "markdown",
   "source": [
    "The following codeblock creates a new column that tries to asses risk level based on the postoperative grade, PR and p53 status."
   ],
   "metadata": {
    "collapsed": false
   },
   "id": "f98446478930c5d2"
  },
  {
   "cell_type": "code",
   "execution_count": null,
   "outputs": [],
   "source": [
    "df['Risk_level_POSTOP'] = np.nan\n",
    "df['Risk_level_POSTOP'] = df['Risk_level_POSTOP'].astype(object)\n",
    "\n",
    "for i in range(len(df)):\n",
    "\tif pd.isna(df['Postoperative_grade'][i]):\n",
    "\t\tdf['Risk_level_POSTOP'][i] = 'Unknown'\n",
    "\telif df['Postoperative_grade'].values[i] == 1:\n",
    "\t\tdf['Risk_level_POSTOP'][i] = 'Low'\n",
    "\telif df['Postoperative_grade'].values[i] == 3:\n",
    "\t\tdf['Risk_level_POSTOP'][i] = 'High'\n",
    "\telif df['Postoperative_grade'].values[i] == 2:\n",
    "\t\tif df['PR_preop_def_bi'].values[i] > 0:\n",
    "\t\t\tdf['Risk_level_POSTOP'][i] = 'High'\n",
    "\t\telse:\n",
    "\t\t\tif df['p53_preop_def'].values[i] > 0:\n",
    "\t\t\t\tdf['Risk_level_POSTOP'][i] = 'High'\n",
    "\t\t\telse:\n",
    "\t\t\t\tdf['Risk_level_POSTOP'][i] = 'Low'\n",
    "\telse:\n",
    "\t\tdf['Risk_level_PREOP'][i] = 'Unknown'\n"
   ],
   "metadata": {
    "collapsed": false
   },
   "id": "f07ca52b1a40303"
  },
  {
   "cell_type": "markdown",
   "source": [
    "The following codeblock creates a new column that tries to asses risk level based on only PR and p53 status and CA-125."
   ],
   "metadata": {
    "collapsed": false
   },
   "id": "e9e5e291ae1da7f8"
  },
  {
   "cell_type": "code",
   "execution_count": null,
   "outputs": [],
   "source": [
    "df['Risk_level_BM'] = np.nan\n",
    "df['Risk_level_BM'] = df['Risk_level_BM'].astype(object)\n",
    "\n",
    "for i in range(len(df)):\n",
    "\tif df['PR_preop_def_bi'].values[i] == 1:\n",
    "\t\tdf['Risk_level_BM'][i] = 'High'\n",
    "\telif df['p53_preop_def'].values[i] == 1:\n",
    "\t\tdf['Risk_level_BM'][i] = 'High'\n",
    "\telif df['CA_125_pos_neg'].values[i] == 1:\n",
    "\t\tdf['Risk_level_BM'][i] = 'High'\n",
    "\telif df['p53_preop_def'].values[i] == 0 or df['PR_preop_def_bi'].values[i] == 0 or \\\n",
    "\t\t\tdf['CA_125_pos_neg'].values[i] == 0:\n",
    "\t\tdf['Risk_level_BM'][i] = 'Low'\n",
    "\telse:\n",
    "\t\tdf['Risk_level_BM'][i] = 'Unknown'\n"
   ],
   "metadata": {
    "collapsed": false
   },
   "id": "7c4b8699e880a4c7"
  },
  {
   "cell_type": "markdown",
   "source": [
    "The following codeblock creates a new column that tries to asses risk level based on the TCGA classification."
   ],
   "metadata": {
    "collapsed": false
   },
   "id": "1cf05c13c81be93e"
  },
  {
   "cell_type": "code",
   "execution_count": null,
   "outputs": [],
   "source": [
    "df['Risk_level_TCGA'] = np.nan\n",
    "df['Risk_level_TCGA'] = df['Risk_level_TCGA'].astype(object)\n",
    "\n",
    "for i in range(len(df)):\n",
    "\tif df['MSI_POLE_TP53_NSMP'].values[i] == 2:\n",
    "\t\tdf['Risk_level_TCGA'][i] = 'Low'\n",
    "\telif df['MSI_POLE_TP53_NSMP'].values[i] == 1 or df['MSI_POLE_TP53_NSMP'].values[i] == 4:\n",
    "\t\tdf['Risk_level_TCGA'][i] = 'Medium'\n",
    "\telif df['MSI_POLE_TP53_NSMP'].values[i] == 3:\n",
    "\t\tdf['Risk_level_TCGA'][i] = 'High'\n",
    "\telse:\n",
    "\t\tdf['Risk_level_TCGA'][i] = 'Unknown'\n",
    "\n"
   ],
   "metadata": {
    "collapsed": false
   },
   "id": "a8a3eaa3154930a2"
  },
  {
   "cell_type": "markdown",
   "source": [
    "The following codeblock creates a new column that tries to asses risk level based on the TCGA classification with the biomarkers, if missing, it will use only biomarkers."
   ],
   "metadata": {
    "collapsed": false
   },
   "id": "98ff598d112da114"
  },
  {
   "cell_type": "code",
   "execution_count": null,
   "outputs": [],
   "source": [
    "df['Risk_level_TCGA_BM'] = np.nan\n",
    "df['Risk_level_TCGA_BM'] = df['Risk_level_TCGA_BM'].astype(object)\n",
    "\n",
    "for i in range(len(df)):\n",
    "\tif df['MSI_POLE_TP53_NSMP'].values[i] == 2:\n",
    "\t\tdf['Risk_level_TCGA_BM'][i] = 'Low'\n",
    "\telif df['MSI_POLE_TP53_NSMP'].values[i] == 3:\n",
    "\t\tdf['Risk_level_TCGA_BM'][i] = 'High'\n",
    "\telif df['MSI_POLE_TP53_NSMP'].values[i] == 1 or df['MSI_POLE_TP53_NSMP'].values[i] == 4:\n",
    "\t\tif df['PR_preop_def_bi'].values[i] == 1:\n",
    "\t\t\tdf['Risk_level_TCGA_BM'][i] = 'High'\n",
    "\t\telif df['p53_preop_def'].values[i] == 1:\n",
    "\t\t\tdf['Risk_level_TCGA_BM'][i] = 'High'\n",
    "\t\telif df['CA_125_pos_neg'].values[i] == 1:\n",
    "\t\t\tdf['Risk_level_TCGA_BM'][i] = 'High'\n",
    "\t\telif df['p53_preop_def'].values[i] == 0 or df['PR_preop_def_bi'].values[i] == 0 or \\\n",
    "\t\t\t\tdf['CA_125_pos_neg'].values[i] == 0:\n",
    "\t\t\tdf['Risk_level_TCGA_BM'][i] = 'Low'\n",
    "\t\telse:\n",
    "\t\t\tdf['Risk_level_TCGA_BM'][i] = 'Unknown'\n",
    "\telse:\n",
    "\t\tif df['PR_preop_def_bi'].values[i] == 1:\n",
    "\t\t\tdf['Risk_level_TCGA_BM'][i] = 'High'\n",
    "\t\telif df['p53_preop_def'].values[i] == 1:\n",
    "\t\t\tdf['Risk_level_TCGA_BM'][i] = 'High'\n",
    "\t\telif df['CA_125_pos_neg'].values[i] == 1:\n",
    "\t\t\tdf['Risk_level_TCGA_BM'][i] = 'High'\n",
    "\t\telif df['p53_preop_def'].values[i] == 0 or df['PR_preop_def_bi'].values[i] == 0 or \\\n",
    "\t\t\t\tdf['CA_125_pos_neg'].values[i] == 0:\n",
    "\t\t\tdf['Risk_level_TCGA_BM'][i] = 'Low'\n",
    "\t\telse:\n",
    "\t\t\tdf['Risk_level_TCGA_BM'][i] = 'Unknown'\n"
   ],
   "metadata": {
    "collapsed": false
   },
   "id": "72f5cd6da47576f0"
  },
  {
   "cell_type": "markdown",
   "source": [
    "The following codeblock creates a new column that tries to asses risk level based on the TCGA classification, if missing, it will use biomarkers."
   ],
   "metadata": {
    "collapsed": false
   },
   "id": "b935932c8407e447"
  },
  {
   "cell_type": "code",
   "execution_count": null,
   "outputs": [],
   "source": [
    "df['Risk_level_TCGA_BMNaN'] = np.nan\n",
    "df['Risk_level_TCGA_BMNaN'] = df['Risk_level_TCGA_BMNaN'].astype(object)\n",
    "\n",
    "for i in range(len(df)):\n",
    "\tif df['MSI_POLE_TP53_NSMP'].values[i] == 2:\n",
    "\t\tdf['Risk_level_TCGA_BMNaN'][i] = 'Low'\n",
    "\telif df['MSI_POLE_TP53_NSMP'].values[i] == 1:\n",
    "\t\tdf['Risk_level_TCGA_BMNaN'][i] = 'Medium'\n",
    "\telif df['MSI_POLE_TP53_NSMP'].values[i] == 3:\n",
    "\t\tdf['Risk_level_TCGA_BMNaN'][i] = 'High'\n",
    "\telif df['MSI_POLE_TP53_NSMP'].values[i] == 4:\n",
    "\t\tdf['Risk_level_TCGA_BMNaN'][i] = 'Medium'\n",
    "\telse:\n",
    "\t\tif df['PR_preop_def_bi'].values[i] == 1:\n",
    "\t\t\tdf['Risk_level_TCGA_BMNaN'][i] = 'High'\n",
    "\t\telif df['p53_preop_def'].values[i] == 1:\n",
    "\t\t\tdf['Risk_level_TCGA_BMNaN'][i] = 'High'\n",
    "\t\telif df['CA_125_pos_neg'].values[i] == 1:\n",
    "\t\t\tdf['Risk_level_TCGA_BMNaN'][i] = 'High'\n",
    "\t\telif df['p53_preop_def'].values[i] == 0 or df['PR_preop_def_bi'].values[i] == 0 or \\\n",
    "\t\t\t\tdf['CA_125_pos_neg'].values[i] == 0:\n",
    "\t\t\tdf['Risk_level_TCGA_BMNaN'][i] = 'Low'\n",
    "\t\telse:\n",
    "\t\t\tdf['Risk_level_TCGA_BMNaN'][i] = 'Unknown'\n"
   ],
   "metadata": {
    "collapsed": false
   },
   "id": "73e371b7a8805cc9"
  },
  {
   "cell_type": "markdown",
   "source": [
    "save the dataframe to a csv file"
   ],
   "metadata": {
    "collapsed": false
   },
   "id": "ff89345d0c777330"
  },
  {
   "cell_type": "code",
   "execution_count": null,
   "outputs": [],
   "source": [
    "df.to_csv('../0.1. Cleaned_data/MAYO_with_risk_levels.csv')"
   ],
   "metadata": {
    "collapsed": false
   },
   "id": "6209700900c1d565"
  },
  {
   "cell_type": "markdown",
   "source": [
    "Create a subset of the data for model use"
   ],
   "metadata": {
    "collapsed": false
   },
   "id": "bdd2284b5126dc4b"
  },
  {
   "cell_type": "code",
   "execution_count": null,
   "outputs": [],
   "source": [
    "df = pd.read_csv('../0.1. Cleaned_data/MAYO_with_risk_levels.csv')"
   ],
   "metadata": {
    "collapsed": false
   },
   "id": "eb83a0a9c32e6b19"
  },
  {
   "cell_type": "markdown",
   "source": [
    "Generate survival columns based on the days from diagnosis to last follow-up"
   ],
   "metadata": {
    "collapsed": false
   },
   "id": "1da336881b5f9da7"
  },
  {
   "cell_type": "code",
   "execution_count": null,
   "outputs": [],
   "source": [
    "df[\"one_year_survival\"] = df[\"Days_from_diagnosis_to_lastfollowup_mayo\"].apply(lambda x: 1 if x >= 365 else (np.nan if pd.isna(x) else 0))\n",
    "df[\"three_year_survival\"] = df[\"Days_from_diagnosis_to_lastfollowup_mayo\"].apply(lambda x: 1 if x >= 1095 else (np.nan if pd.isna(x) else 0))\n",
    "df[\"five_year_survival\"] = df[\"Days_from_diagnosis_to_lastfollowup_mayo\"].apply(lambda x: 1 if x >= 1825 else (np.nan if pd.isna(x) else 0))\n"
   ],
   "metadata": {
    "collapsed": false
   },
   "id": "de176cdb824a5eb0"
  },
  {
   "cell_type": "markdown",
   "source": [
    "Create radiotherapy and chemotherapy columns from the adjuvant therapy column"
   ],
   "metadata": {
    "collapsed": false
   },
   "id": "9bf86de36b20046b"
  },
  {
   "cell_type": "code",
   "execution_count": null,
   "outputs": [],
   "source": [
    "df[\"Radiotherapy\"] = df[\"Adjuvant_therapy\"].apply(lambda x: 1 if x == \"Radiotherapy\" else (1 if x == \"Chemoradiotherapy\" else(np.nan if pd.isna(x) else 0)))\n",
    "df[\"Chemotherapy\"] = df[\"Adjuvant_therapy\"].apply(lambda x: 1 if x == \"Chemotherapy\" else (1 if x == \"Chemoradiotherapy\" else(np.nan if pd.isna(x) else 0)))"
   ],
   "metadata": {
    "collapsed": false
   },
   "id": "1d1440c0c3dd8658"
  },
  {
   "cell_type": "markdown",
   "source": [
    "Create binary columns for the LVSI and platelets"
   ],
   "metadata": {
    "collapsed": false
   },
   "id": "5900423ae47063df"
  },
  {
   "cell_type": "code",
   "execution_count": null,
   "outputs": [],
   "source": [
    "df[\"LVSI_bi\"] = df[\"LVSI\"].apply(lambda x: 1 if x == \"Invasion\" else (np.nan if pd.isna(x) else (np.nan if x == \"Not mentioned\" else 0)))\n",
    "df[\"platelets_bi\"] = df[\"Preoperative_platelets_serumlevel\"].apply(lambda x: 1 if x >= 400 else (np.nan if pd.isna(x) else 0))"
   ],
   "metadata": {
    "collapsed": false
   },
   "id": "ce0d1403d1792f31"
  },
  {
   "cell_type": "markdown",
   "source": [
    "Create a binary column from CT_MRI"
   ],
   "metadata": {
    "collapsed": false
   },
   "id": "ee7ce8d964121f37"
  },
  {
   "cell_type": "code",
   "execution_count": null,
   "outputs": [],
   "source": [
    "df[\"CT_MRI\"] = np.nan\n",
    "for i in range(len(df)):\n",
    "\tif df[\"Enlarged_LN_CT\"].values[i] == \"Lymphadenopathy\" or df[\"Enlarged_LN_MRI\"].values[i] == \"Lymphadenopathy\":\n",
    "\t\tdf[\"CT_MRI\"][i] = 1\n",
    "\telif df[\"Enlarged_LN_CT\"].values[i] == \"No metastasis\" and df[\"Enlarged_LN_MRI\"].values[i] == \"No metastasis\":\n",
    "\t\tdf[\"CT_MRI\"][i] = 0\n",
    "\telse:\n",
    "\t\tdf[\"CT_MRI\"][i] = np.nan\n",
    "\t\t"
   ],
   "metadata": {
    "collapsed": false
   },
   "id": "49621e4006fb5589"
  },
  {
   "cell_type": "markdown",
   "source": [
    "# Make a subset of the data"
   ],
   "metadata": {
    "collapsed": false
   },
   "id": "46dcaa35fa096fdb"
  },
  {
   "cell_type": "code",
   "execution_count": null,
   "outputs": [],
   "source": [
    "selectionCols = [\"ER_preop_def_bi\", \"PR_preop_def_bi\", \"L1CAM_preop_def\", \"p53_preop_def\",\n",
    "\t\t\t\t \"POLE\", \"MSI_MRR\", \"TP53\", \"CA_125_pos_neg\", \"MI_MRI\", \"platelets_bi\", \"CT_MRI\", \n",
    "\t\t\t\t \"Preoperative_grade\", \"LNM_LNDorSLN\", \"Postoperative_grade\", \"Postoperative_MI\",\"Preoperative_FIGOstage\", \n",
    "\t\t\t\t \"one_year_survival\", \"three_year_survival\", \"five_year_survival\", \"Radiotherapy\", \"Chemotherapy\", \"Recurrence\", \n",
    "\t\t\t\t \"LVSI_bi\", \"LNM_micromacro\"]\n",
    "\n",
    "df_subdag = df[selectionCols]"
   ],
   "metadata": {
    "collapsed": false
   },
   "id": "c91b53a227adba97"
  },
  {
   "cell_type": "markdown",
   "source": [
    "Rename the columns for model use and consistency"
   ],
   "metadata": {
    "collapsed": false
   },
   "id": "422b034f3a6f700"
  },
  {
   "cell_type": "code",
   "execution_count": null,
   "outputs": [],
   "source": [
    "df_subdag.rename(columns={\n",
    "\t\"CT_MRI\":\"CTMRI\",\n",
    "\t\"platelets_bi\":\"Platelets\",\n",
    "\t\"CA_125_pos_neg\":\"CA125\",\n",
    "\t\"ER_preop_def_bi\":\"ER\",\n",
    "\t\"PR_preop_def_bi\":\"PR\",\n",
    "\t\"p53_preop_def\":\"p53\",\n",
    "\t\"TP53\":\"TP53\",\n",
    "\t\"L1CAM_preop_def\":\"L1CAM\",\n",
    "\t\"POLE\":\"POLE\",\n",
    "\t\"MSI_MRR\":\"MSI\",\n",
    "\t\"LNM_LNDorSLN\":\"LNM\",\n",
    "\t\"MI_MRI\":\"MRI_MI\",\n",
    "\t\"Preoperative_grade\":\"PreoperativeGrade\",\n",
    "\t\"Postoperative_grade\":\"PostoperativeGrade\",\n",
    "\t\"Postoperative_MI\":\"MyometrialInvasion\",\n",
    "\t\"Preoperative_FIGOstage\":\"FIGO\",\n",
    "\t\"one_year_survival\":\"Survival1yr\",\n",
    "\t\"three_year_survival\":\"Survival3yr\",\n",
    "\t\"five_year_survival\":\"Survival5yr\",\n",
    "\t\"Radiotherapy\":\"Radiotherapy\",\n",
    "\t\"Chemotherapy\":\"Chemotherapy\",\n",
    "\t\"Recurrence\":\"Recurrence\",\n",
    "\t\"LVSI_bi\":\"LVSI\"\n",
    "}, inplace=True)\n"
   ],
   "metadata": {
    "collapsed": false
   },
   "id": "5650df1f0c054f83"
  },
  {
   "cell_type": "markdown",
   "source": [
    "Replace numerical groups with the correct labels"
   ],
   "metadata": {
    "collapsed": false
   },
   "id": "9c87afc0ef209d8b"
  },
  {
   "cell_type": "code",
   "execution_count": null,
   "outputs": [],
   "source": [
    "df_subdag[\"Platelets\"].replace({1:\"ge_400\", 0:\"lt_400\"}, inplace=True)\n",
    "\n",
    "df_subdag[\"CA125\"].replace({\"Positive\":\"ge_35\", \"Negative\":\"lt_35\"}, inplace=True)\n",
    "\n",
    "df_subdag[\"CTMRI\"].replace({1:\"yes\", 0:\"no\"}, inplace=True)\n",
    "\n",
    "df_subdag[\"ER\"].replace({1:\"positive\", 0:\"negative\"}, inplace=True)\n",
    "\n",
    "df_subdag[\"PR\"].replace({1:\"positive\", 0:\"negative\"}, inplace=True)\n",
    "\n",
    "df_subdag[\"p53\"].replace({1:\"mutant\", 0:\"wildtype\"}, inplace=True)\n",
    "\n",
    "df_subdag[\"TP53\"].replace({\"No\":\"mutant\", \"Yes\":\"wildtype\"}, inplace=True)\n",
    "\n",
    "df_subdag[\"L1CAM\"].replace({1:\"positive\", 0:\"negative\"}, inplace=True)\n",
    "\n",
    "df_subdag[\"POLE\"].replace({\"No\":\"no\", \"Yes\":\"yes\"}, inplace=True)\n",
    "\n",
    "df_subdag[\"MSI\"].replace({\"Stable\":\"no\", \"Unstable\":\"yes\"}, inplace=True)\n",
    "\n",
    "df_subdag[\"LNM\"].replace({\"No\":\"no\", \"Yes\":\"yes\"}, inplace=True)\n",
    "\n",
    "df_subdag[\"MRI_MI\"].replace({\"<50%\":\"lt_50\", \">50%\":\"ge_50\", \"Not assessed\":np.nan}, inplace=True)\n",
    "\n",
    "df_subdag[\"PreoperativeGrade\"].replace({1:\"grade 1\", 2:\"grade 2\", 3:\"grade 3\"}, inplace=True)\n",
    "\n",
    "df_subdag[\"PostoperativeGrade\"].replace({1:\"grade 1\", 2:\"grade 2\", 3:\"grade 3\"}, inplace=True)\n",
    "\n",
    "df_subdag[\"MyometrialInvasion\"].replace({\"No\":\"lt_50\", \"Yes\":\"ge_50\", \"<50%\":\"lt_50\", \"No invasion\":\"lt_50\", \">50%\":\"ge_50\"}, inplace=True)\n",
    "\n",
    "df_subdag[\"Radiotherapy\"].replace({1:\"yes\", 0:\"no\"}, inplace=True)\n",
    "\n",
    "df_subdag[\"Chemotherapy\"].replace({1:\"yes\", 0:\"no\"}, inplace=True)\n",
    "\n",
    "df_subdag[\"Recurrence\"].replace({\"Yes\":\"yes\", \"No\":\"no\"}, inplace=True)\n",
    "\n",
    "df_subdag[\"LVSI\"].replace({1:\"yes\", 0:\"no\"}, inplace=True)\n",
    "\n",
    "df_subdag[\"Survival1yr\"].replace({1:\"yes\", 0:\"no\"}, inplace=True)\n",
    "\n",
    "df_subdag[\"Survival3yr\"].replace({1:\"yes\", 0:\"no\"}, inplace=True)\n",
    "\n",
    "df_subdag[\"Survival5yr\"].replace({1:\"yes\", 0:\"no\"}, inplace=True)"
   ],
   "metadata": {
    "collapsed": false
   },
   "id": "410db5bca0042917"
  },
  {
   "cell_type": "code",
   "execution_count": null,
   "outputs": [],
   "source": [
    "# TP53 not in subdag\n",
    "df_subdag.drop(columns=[\"TP53\"], inplace=True)"
   ],
   "metadata": {
    "collapsed": false
   },
   "id": "1ddbfb90f2a24e86"
  },
  {
   "cell_type": "markdown",
   "source": [
    "Make an informed imputation for the Cytology column, otherwise the bnlearn imputation will not work, only for testing purposes"
   ],
   "metadata": {
    "collapsed": false
   },
   "id": "e1954191e31ce118"
  },
  {
   "cell_type": "code",
   "execution_count": null,
   "outputs": [],
   "source": [
    "df_subdag[\"Cytology\"] = np.nan\n",
    "# Informed imputation of two values so bnlearn will accept it\n",
    "df_subdag[\"Cytology\"].iloc[277] = \"malignant\"\n",
    "df_subdag[\"Cytology\"].iloc[240] = \"benign\""
   ],
   "metadata": {
    "collapsed": false
   },
   "id": "7267fcd9de9acdb"
  },
  {
   "cell_type": "markdown",
   "source": [
    "drop all rows that are completely empty"
   ],
   "metadata": {
    "collapsed": false
   },
   "id": "479bdb321a13c66"
  },
  {
   "cell_type": "code",
   "execution_count": null,
   "outputs": [],
   "source": [
    "df_subdag.dropna(axis=0, how=\"all\", inplace=True)"
   ],
   "metadata": {
    "collapsed": false
   },
   "id": "fb923911e47de5d"
  },
  {
   "cell_type": "markdown",
   "source": [
    "save the dataframe to a csv file"
   ],
   "metadata": {
    "collapsed": false
   },
   "id": "43129b8d08f24fb2"
  },
  {
   "cell_type": "code",
   "execution_count": null,
   "outputs": [],
   "source": [
    "df_subdag.to_csv('../0.1. Cleaned_data/MAYO_subdag.csv', index=False)"
   ],
   "metadata": {
    "collapsed": false
   },
   "id": "d968dc2069a70cd8"
  }
 ],
 "metadata": {
  "kernelspec": {
   "display_name": "Python 3",
   "language": "python",
   "name": "python3"
  },
  "language_info": {
   "codemirror_mode": {
    "name": "ipython",
    "version": 2
   },
   "file_extension": ".py",
   "mimetype": "text/x-python",
   "name": "python",
   "nbconvert_exporter": "python",
   "pygments_lexer": "ipython2",
   "version": "2.7.6"
  }
 },
 "nbformat": 4,
 "nbformat_minor": 5
}
