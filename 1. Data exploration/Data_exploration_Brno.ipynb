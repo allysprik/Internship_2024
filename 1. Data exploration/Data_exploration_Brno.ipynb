{
 "cells": [
  {
   "cell_type": "markdown",
   "source": [
    "### Author: Ally Sprik\n",
    "### Last-updated: 25-02-2024\n",
    "\n",
    "Goal of this notebook is to generate explore the Brno dataset and generate a cleaned dataset that can be used for model training and testing."
   ],
   "metadata": {
    "collapsed": false
   },
   "id": "b35cc35049cf9b7e"
  },
  {
   "cell_type": "code",
   "execution_count": null,
   "id": "initial_id",
   "metadata": {
    "collapsed": true
   },
   "outputs": [],
   "source": [
    "import numpy as np\n",
    "import pandas as pd\n",
    "\n",
    "df = pd.read_csv(\"../0. Data/Brno/Brno_dataset.csv\", parse_dates=True)\n",
    "# Fix NaN values\n",
    "df.replace([\"?\", \"NaN\", \"NA\", \"Na\", \" \", \"\", \"X\"], np.nan, inplace=True)\n",
    "# View the dataframe\n",
    "df"
   ]
  },
  {
   "cell_type": "markdown",
   "source": [
    "The following codeblock is a standard codeblock to search for column names that contain a certain substring. If set to \"\", it will return all columns."
   ],
   "metadata": {
    "collapsed": false
   },
   "id": "5cc6b5feefdf1e73"
  },
  {
   "cell_type": "code",
   "execution_count": null,
   "outputs": [],
   "source": [
    "for col in df.columns:\n",
    "    if col.__contains__(\"\"):\n",
    "        print(col)"
   ],
   "metadata": {
    "collapsed": false
   },
   "id": "7d14eb1eee6d7984"
  },
  {
   "cell_type": "markdown",
   "source": [
    "The following codeblock is used to generate the 1 and 3 year survival columns."
   ],
   "metadata": {
    "collapsed": false
   },
   "id": "d2c91441162f2779"
  },
  {
   "cell_type": "code",
   "execution_count": null,
   "outputs": [],
   "source": [
    "# Create Survival1yr and Survival3yr columns\n",
    "df[\"Survival1yr\"] = np.nan\n",
    "df[\"Survival3yr\"] = np.nan\n",
    "\n",
    "# Loop through the dataframe and calculate the survival1yr and survival3yr columns\n",
    "for i in range(len(df[\"Survival1yr\"])):\n",
    "    \n",
    "    # If the death date or date of diagnosis is missing, set the survival1yr and survival3yr to nan\n",
    "    if pd.isna(df[\"Death_Date\"][i]) or pd.isna(df[\"Date_Diagnosis\"][i]):\n",
    "        df[\"Survival1yr\"][i] = np.nan\n",
    "        df[\"Survival3yr\"][i] = np.nan\n",
    "        continue\n",
    "    \n",
    "    # Convert the date of diagnosis and date of death\n",
    "    date_of_diagnosis = pd.to_datetime(df[\"Date_Diagnosis\"][i])\n",
    "    date_of_death = pd.to_datetime(df[\"Death_Date\"][i])\n",
    "    \n",
    "    # Calculate the difference in years between the date of diagnosis and date of death\n",
    "    if (date_of_death.year - date_of_diagnosis.year) >= 3:\n",
    "        df[\"Survival3yr\"][i] = \"yes\"\n",
    "        df[\"Survival1yr\"][i] = \"yes\"\n",
    "    elif (date_of_death.year - date_of_diagnosis.year) >= 1:\n",
    "        df[\"Survival1yr\"][i] = \"yes\"\n",
    "        df[\"Survival3yr\"][i] = \"no\"\n",
    "    else:\n",
    "        df[\"Survival1yr\"][i] = \"no\"\n",
    "        df[\"Survival3yr\"][i] = \"no\""
   ],
   "metadata": {
    "collapsed": false
   },
   "id": "2a99afa6c953a52e"
  },
  {
   "cell_type": "markdown",
   "source": [
    "The following codeblock is used to clean the data, placing it in a format that is clear and easy to use for the model."
   ],
   "metadata": {
    "collapsed": false
   },
   "id": "4d5c6c0be4bc8d66"
  },
  {
   "cell_type": "code",
   "execution_count": null,
   "outputs": [],
   "source": [
    "# Start translating all the columns\n",
    "# Make sure the BMI column is numeric\n",
    "df[\"BMI\"] = pd.to_numeric(df[\"BMI\"])\n",
    "# Change the FIGO_Clinical and FIGO_Surgical from numeric to the associated string of FIGO stage\n",
    "df[\"FIGO_Clinical\"].replace({1:\"IA\", 2:\"IB\", 3: \"II\", 4:\"IIIA\", 5:\"IIIB\", 6:\"IIIC\", 7:\"IVA\", 8:\"IVB\", \"99\":np.nan, 99:np.nan, 0:np.nan, \"0\":np.nan}, inplace=True)\n",
    "df[\"FIGO_Surgical\"].replace({1:\"IA\", 2:\"IB\", 3: \"II\", 4:\"IIIA\", 5:\"IIIB\", 6:\"IIIC\", 7:\"IVA\", 8:\"IVB\", \"99\":np.nan, 99:np.nan, 0:np.nan, \"0\":np.nan}, inplace=True)\n",
    "# Fix the labels in the MI by US column\n",
    "df[\"MI by US\"].replace({1:\"lt_50\", 2:\"ge_50\", \"99\":np.nan, 99:np.nan, \"5\":np.nan, \"3\":np.nan, \"0\":np.nan, 5:np.nan, 3:np.nan, 0:np.nan}, inplace=True)\n",
    "# Fix the labels in the preoperative CA 125 column and ensure it is numeric\n",
    "df[\"Preoperative CA 125\"].replace({\"NO\":np.nan}, inplace=True)\n",
    "df[\"Preoperative CA 125\"] = pd.to_numeric(df[\"Preoperative CA 125\"])\n",
    "# Create a binary column for the preoperative CA 125\n",
    "df[\"CA125_bi\"] = np.nan\n",
    "df[\"CA125_bi\"][df[\"Preoperative CA 125\"] < 35] = \"lt_35\"\n",
    "df[\"CA125_bi\"][df[\"Preoperative CA 125\"] >= 35] = \"ge_35\"\n",
    "df[\"CA125_bi\"][df[\"Preoperative CA 125\"].isnull()] = np.nan\n",
    "\n",
    "# Fix the labels in thrombocytosis\n",
    "df[\"Trombocytosis\"].replace({1:\"ge_400\", 0:\"lt_400\", \"99\":np.nan, 99:np.nan}, inplace=True)\n",
    "# Fix the labels in the cytology column\n",
    "df[\"Cytology\"].replace({1:\"benign\", 2:\"malignant\", 0:np.nan, \"99\":np.nan, 99:np.nan}, inplace=True)\n",
    "# Fix the labels in the symptomatology column\n",
    "df[\"Symptomatology\"].replace({1:\"yes\", 0:\"no\", \"99\":np.nan, 99:np.nan}, inplace=True)\n",
    "# Fix the labels in the pelvic lymphadenectomy and paraaortal lymphadenectomy columns\n",
    "df[\"Pelvic lymphadenectomy\"].replace({1:\"yes\", 0:\"no\", \"99\":np.nan, 99:np.nan}, inplace=True)\n",
    "df[\"Paraaortal lymphadenectomy\"].replace({1:\"yes\", 0:\"no\", \"99\":np.nan, 99:np.nan}, inplace=True)\n",
    "# Fix the labels in the histology column\n",
    "df[\"Histology\"].replace({\"A\":\"endometrioid\", \"B\":\"serous\", \"C\":\"clear cell\", \"D\":\"mucinous\", \"E\":\"carcinosarcoma\", \"F\":\"undifferentiated\", \"99\":np.nan, 99:np.nan}, inplace=True)\n",
    "# Fix the labels in the grade preop and grade postop columns\n",
    "df[\"Grade preop\"].replace({\"1\":\"grade 1\", \"LG\":\"grade 2\", \"2\":\"grade 2\", \"HG\":\"grade 3\", \"3\":\"grade 3\", \"99\":np.nan, 99:np.nan}, inplace=True)\n",
    "df[\"Grade postop\"].replace({\"1\":\"grade 1\", \"LG\":\"grade 2\", \"2\":\"grade 2\", \"HG\":\"grade 3\", \"3\":\"grade 3\", \"99\":np.nan, 99:np.nan}, inplace=True)\n",
    "# Fix the labels in the MI column\n",
    "df[\"MI\"].replace({1:\"lt_50\", 0:\"lt_50\", 2:\"ge_50\", \"99\":np.nan, 99:np.nan}, inplace=True)\n",
    "# Fix the labels in the cervix column\n",
    "df[\"Cervix\"].replace({1:\"endocervical glands\", 0:\"no\", 2:\"stroma\", \"99\":np.nan, 99:np.nan}, inplace=True)\n",
    "# Fix the labels in the LVSI column\n",
    "df[\"LVSI\"].replace({\"0\":\"no\", \"1\":\"yes\", \"2\":\"yes\",\"focal\":\"no\",\"99\":np.nan, 99:np.nan}, inplace=True)\n",
    "# Change L1CAM from a percentage to a binary column\n",
    "for i in range(len(df[\"L1CAM\"])):\n",
    "    try:\n",
    "        if type(df[\"L1CAM\"][i]) != float and df[\"L1CAM\"][i].__contains__(\"%\"):\n",
    "            df[\"L1CAM\"][i] = df[\"L1CAM\"][i].replace(\"%\", \"\")\n",
    "        value = pd.to_numeric(df[\"L1CAM\"][i])\n",
    "        if value >= 10:\n",
    "            df[\"L1CAM\"][i] = \"positive\"\n",
    "        else:\n",
    "            df[\"L1CAM\"][i] = \"negative\"\n",
    "    except:\n",
    "        if df[\"L1CAM\"][i].__contains__(\"pos\"):\n",
    "            df[\"L1CAM\"][i] = \"positive\"\n",
    "        elif df[\"L1CAM\"][i].__contains__(\"po\"):\n",
    "            df[\"L1CAM\"][i] = \"positive\"\n",
    "        elif df[\"L1CAM\"][i].__contains__(\"neg\"):\n",
    "            df[\"L1CAM\"][i] = \"negative\"\n",
    "\n",
    "# Change ER from a percentage to a binary column\n",
    "for i in range(len(df[\"ER\"])):\n",
    "    try: # Try to convert the value to a number, if not possible enter the except block (in the case of a range)\n",
    "        if type(df[\"ER\"][i]) != float and df[\"ER\"][i].__contains__(\"%\"):\n",
    "            df[\"ER\"][i] = df[\"ER\"][i].replace(\"%\", \"\")\n",
    "        value = pd.to_numeric(df[\"ER\"][i])\n",
    "        if value >= 10:\n",
    "            df[\"ER\"][i] = \"positive\"\n",
    "        else:\n",
    "            df[\"ER\"][i] = \"negative\"\n",
    "    except: # Extract the low number from the range and convert it to a number, then check if it is above 10\n",
    "        if df[\"ER\"][i].__contains__(\"-\"):\n",
    "            substring = df[\"ER\"][i].split(\"-\")\n",
    "            low_nr = pd.to_numeric(substring[0])\n",
    "            if low_nr >= 10:\n",
    "                df[\"ER\"][i] = \"positive\"\n",
    "            else:\n",
    "                df[\"ER\"][i] = \"negative\"\n",
    "                \n",
    "# Change PR from a percentage to a binary column\n",
    "for i in range(len(df[\"PR\"])):\n",
    "    try: # Try to convert the value to a number, if not possible enter the except block (in the case of a range)\n",
    "        if type(df[\"PR\"][i]) != float and df[\"PR\"][i].__contains__(\"%\"):\n",
    "            df[\"PR\"][i] = df[\"PR\"][i].replace(\"%\", \"\")\n",
    "        value = pd.to_numeric(df[\"PR\"][i])\n",
    "        if value >= 10:\n",
    "            df[\"PR\"][i] = \"positive\"\n",
    "        else:\n",
    "            df[\"PR\"][i] = \"negative\"\n",
    "    except: # Extract the low number from the range and convert it to a number, then check if it is above 10\n",
    "        if df[\"PR\"][i].__contains__(\"-\"):\n",
    "            substring = df[\"PR\"][i].split(\"-\")\n",
    "            low_nr = pd.to_numeric(substring[0])\n",
    "            if low_nr >= 10:\n",
    "                df[\"PR\"][i] = \"positive\"\n",
    "            else:\n",
    "                df[\"PR\"][i] = \"negative\"\n",
    "\n",
    "# Fix the labels in the p53 column\n",
    "df[\"p53\"].replace({\"WT\":\"wildtype\", \"MUT\":\"mutant\", \"99\":np.nan, 99:np.nan}, inplace=True)\n",
    "# Fix the nan labels in the Mol. Cl. column\n",
    "df[\"Mol. Cl.\"].replace({0:np.nan, \"0\":np.nan, 99:np.nan, \"99\":np.nan}, inplace=True)\n",
    "# Extract the TP53, MSI, NSMP, POLE from the Mol. Cl. column\n",
    "df[\"TP53\"] = df[\"Mol. Cl.\"].apply(lambda x: np.nan if pd.isna(x) else (\"yes\" if x.__contains__(\"p53\") else\"no\"))\n",
    "df[\"MSI\"] = df[\"Mol. Cl.\"].apply(lambda x: np.nan if pd.isna(x) else (\"yes\" if x.__contains__(\"MMR\") else\"no\"))\n",
    "df[\"NSMP\"] = df[\"Mol. Cl.\"].apply(lambda x: np.nan if pd.isna(x) else (\"yes\" if x.__contains__(\"NSMP\") else\"no\"))\n",
    "df[\"POLE\"] = df[\"Mol. Cl.\"].apply(lambda x: np.nan if pd.isna(x) else (\"yes\" if x.__contains__(\"POLE\") else\"no\"))\n",
    "# Fix the labels in the SNB and positive SNB columns\n",
    "df[\"SNB\"].replace({0:\"no\", 1:\"yes\", \"99\":np.nan, 99:np.nan}, inplace=True)\n",
    "df[\"Positive SNB\"].replace({0:\"no\", 1:\"yes\", \"99\":np.nan, 99:np.nan}, inplace=True)\n",
    "# Ensure the Lymph nodes total column is numeric\n",
    "df[\"Lymph nodes total\"] = pd.to_numeric(df[\"Lymph nodes total\"])\n",
    "df[\"Number of positive nodes\"] = pd.to_numeric(df[\"Number of positive nodes\"])\n",
    "# Fix the labels in the positive lymph node column\n",
    "df[\"Positive lymph node\"].replace({0:\"no\", 1:\"yes\", \"99\":np.nan, 99:np.nan}, inplace=True)\n",
    "# Fix the labels in the localisation of LNM column\n",
    "df[\"localisation of LNM\"].replace({0:np.nan, 1:\"pelvic\", 2:\"paraaortal\", 3:\"both\", \"99\":np.nan, 99:np.nan}, inplace=True)\n",
    "\n",
    "# Fix the labels in the radiotherapy, chemotherapy and chemoradiotherapy columns\n",
    "df[\"Radiotherapy\"].replace({0:\"no\", 1:\"yes\", 2:\"yes\",3:\"yes\",4:\"yes\", \"99\":np.nan, 99:np.nan}, inplace=True)\n",
    "df[\"Chemotherapy\"].replace({0:\"no\", 1:\"yes\", 2:\"yes\",3:\"yes\",4:\"yes\", \"99\":np.nan, 99:np.nan}, inplace=True)\n",
    "df[\"Chemoradiotherapy\"].replace({0:\"no\", 1:\"yes\", 2:\"yes\",3:\"yes\",4:\"yes\", \"99\":np.nan, 99:np.nan}, inplace=True)\n",
    "\n",
    "# Create a therapy column that combines the radiotherapy, chemotherapy and chemoradiotherapy columns\n",
    "df[\"Therapy\"] = np.nan\n",
    "for i in range(len(df[\"Therapy\"])):\n",
    "    if pd.isna(df[\"Chemoradiotherapy\"][i]) and pd.isna(df[\"Chemotherapy\"][i]) and pd.isna(df[\"Radiotherapy\"][i]):\n",
    "        df[\"Therapy\"][i] = np.nan\n",
    "    elif df[\"Chemoradiotherapy\"][i] == \"yes\":\n",
    "        df[\"Therapy\"][i] = \"chemoradiotherapy\"\n",
    "    elif df[\"Chemotherapy\"][i] == \"yes\":\n",
    "        df[\"Therapy\"][i] = \"chemotherapy\"\n",
    "    elif df[\"Radiotherapy\"][i] == \"yes\":\n",
    "        df[\"Therapy\"][i] = \"radiotherapy\"\n",
    "    else:\n",
    "        df[\"Therapy\"][i] = \"no\"\n",
    "\n",
    "# Fix the labels in the recurrence columns\n",
    "df[\"1.Recurrence\"].replace({0:\"no\", 1:\"yes\", \"99\":np.nan, 99:np.nan}, inplace=True)\n",
    "df[\"1. Recurrence_Local\"].replace({0:\"no\", 1:\"yes\", \"99\":np.nan, 99:np.nan}, inplace=True)\n",
    "df[\"1. Recurrence_Regional\"].replace({0:\"no\", 1:\"yes\", \"99\":np.nan, 99:np.nan}, inplace=True)\n",
    "df[\"1. Recurrence_Distant\"].replace({0:\"no\", 1:\"yes\", \"99\":np.nan, 99:np.nan}, inplace=True)\n",
    "\n",
    "# Create a binary column for the histology\n",
    "df[\"Histology_bi\"] = df[\"Histology\"].apply(lambda x: np.nan if pd.isna(x) else (\"endometrioid\" if x == \"endometrioid\" else \"non-endometrioid\"))\n",
    "\n",
    "# Create a column that combines the recurrence columns\n",
    "df[\"Recurrence_location\"]  = np.nan\n",
    "for i in range(len(df[\"Recurrence_location\"])):\n",
    "    if df[\"1. Recurrence_Local\"][i] == \"yes\":\n",
    "        df[\"Recurrence_location\"][i] = \"local\"\n",
    "    elif df[\"1. Recurrence_Regional\"][i] == \"yes\":\n",
    "        df[\"Recurrence_location\"][i] = \"regional\"\n",
    "    elif df[\"1. Recurrence_Distant\"][i] == \"yes\":\n",
    "        df[\"Recurrence_location\"][i] = \"distant\"\n",
    "    elif df[\"1.Recurrence\"][i] == \"no\" and df[\"1. Recurrence_Local\"][i] == \"no\" and df[\"1. Recurrence_Regional\"][i] == \"no\" and df[\"1. Recurrence_Distant\"][i] == \"no\":\n",
    "        df[\"Recurrence_location\"][i] = \"no\"\n",
    "    else:\n",
    "        df[\"Recurrence_location\"][i] = np.nan\n",
    "\n",
    "# Fix the labels in the ENDORISK LNM, ENDORISK FU, LNM reality, Surv5y reality and Death of EC? columns\n",
    "df[\"ENDORISK LNM\"].replace({0:\"no\", 1:\"yes\", \"99\":np.nan, 99:np.nan}, inplace=True)\n",
    "df[\"ENDORISK FU\"].replace({0:\"no\", 1:\"yes\", \"99\":np.nan, 99:np.nan}, inplace=True)\n",
    "df[\"LNM reality\"].replace({0:\"no\", 1:\"yes\", \"99\":np.nan, 99:np.nan}, inplace=True)\n",
    "df[\"Surv5y reality\"].replace({0:\"no\", 1:\"yes\", \"99\":np.nan, 99:np.nan}, inplace=True)\n",
    "df[\"Death of EC?\"].replace({0:\"no\", 1:\"yes\", \"99\":np.nan, 99:np.nan}, inplace=True)"
   ],
   "metadata": {
    "collapsed": false
   },
   "id": "92c34c23c0dcd99"
  },
  {
   "cell_type": "markdown",
   "source": [
    "save the full cleaned dataset"
   ],
   "metadata": {
    "collapsed": false
   },
   "id": "3e1aac73c58072d2"
  },
  {
   "cell_type": "code",
   "execution_count": null,
   "outputs": [],
   "source": [
    "df.to_csv(\"../0.1. Cleaned_data/Cleaned_Brno_full.csv\", index=False)"
   ],
   "metadata": {
    "collapsed": false
   },
   "id": "da89c6a64d6acb0e"
  },
  {
   "cell_type": "markdown",
   "source": [
    "Select the following columns for a manageable dataset"
   ],
   "metadata": {
    "collapsed": false
   },
   "id": "e5855f1b3161c4d8"
  },
  {
   "cell_type": "code",
   "execution_count": null,
   "outputs": [],
   "source": [
    "select_columns = [\"Patient_Number\", \"BMI\", \"Patient´s age\", \"FIGO_Clinical\", \"FIGO_Surgical\", \"MI by US\", \"MI\", \"Cytology\", \"Histology_bi\", \"CA125_bi\", \"Trombocytosis\", \"LVSI\", \"L1CAM\", \"ER\", \"PR\", \"p53\", \"Grade preop\", \"Grade postop\", \"Radiotherapy\", \"Chemotherapy\", \"Therapy\", \"1.Recurrence\", \"Recurrence_location\", \"TP53\", \"MSI\", \"POLE\", \"ENDORISK LNM\", \"ENDORISK FU\", \"LNM reality\", \"Survival1yr\", \"Survival3yr\", \"Surv5y reality\", \"Death of EC?\", \"Positive lymph node\"]\n",
    "\n",
    "select_df = df[select_columns].copy()"
   ],
   "metadata": {
    "collapsed": false
   },
   "id": "42ccdb38fe889932"
  },
  {
   "cell_type": "markdown",
   "source": [
    "The following codeblock renames the columns to the values used in the model and more readable names."
   ],
   "metadata": {
    "collapsed": false
   },
   "id": "bd444533248a397"
  },
  {
   "cell_type": "code",
   "execution_count": null,
   "outputs": [],
   "source": [
    "select_df.rename(columns={\n",
    "    \"Patient´s age\":\"Age\",\n",
    "    \"FIGO_Clinical\":\"FIGO_clinical\",\n",
    "    \"FIGO_Surgical\":\"FIGO_surgical\",\n",
    "    \"MI by US\":\"MRI_MI\",\n",
    "    \"MI\":\"MyometrialInvasion\",\n",
    "    \"Cytology\":\"Cytology\",\n",
    "    \"Histology_bi\":\"Histology\",\n",
    "    \"CA125_bi\":\"CA125\",\n",
    "    \"Trombocytosis\":\"Platelets\",\n",
    "    \"LVSI\":\"LVSI\",\n",
    "    \"L1CAM\":\"L1CAM\",\n",
    "    \"ER\":\"ER\",\n",
    "    \"PR\":\"PR\",\n",
    "    \"p53\":\"p53\",\n",
    "    \"Grade preop\":\"PreoperativeGrade\",\n",
    "    \"Grade postop\":\"PostoperativeGrade\",\n",
    "    \"Radiotherapy\":\"Radiotherapy\",\n",
    "    \"Chemotherapy\":\"Chemotherapy\",\n",
    "    \"Therapy\":\"Therapy\",\n",
    "    \"1.Recurrence\":\"Recurrence\",\n",
    "    \"Recurrence_location\":\"Recurrence_location\",\n",
    "    \"TP53\":\"TP53\",\n",
    "    \"MSI\":\"MSI\",\n",
    "    \"POLE\":\"POLE\",\n",
    "    \"ENDORISK LNM\":\"ENDORISK_LNM\",\n",
    "    \"ENDORISK FU\":\"ENDORISK_FU\",\n",
    "    \"LNM reality\":\"LNM\",\n",
    "    \"Surv5y reality\":\"Survival5yr\",\n",
    "    \"Death of EC?\":\"Death_by_EC\",\n",
    "    #\"Positive lymph node\":\"LNM\"\n",
    "}, inplace=True)\n",
    "\n",
    "# Fix the labels in the LNM column\n",
    "select_df[\"LNM\"].replace({0:\"no\", 1:\"yes\", \"99\":np.nan, 99:np.nan, \"0\":\"no\", \"1\":\"yes\", \"ITC\":\"no\", \"micrometastasis\":\"yes\"}, inplace=True)\n",
    "select_df"
   ],
   "metadata": {
    "collapsed": false
   },
   "id": "d4cf8aa5804f08d0"
  },
  {
   "cell_type": "code",
   "execution_count": null,
   "outputs": [],
   "source": [
    "# Check if survival5yr is disease specific\n",
    "for i in range(len(select_df[\"Survival5yr\"])):\n",
    "    if select_df[\"Survival5yr\"][i] == \"no\" and select_df[\"Death_by_EC\"][i] == \"yes\":\n",
    "        select_df[\"Survival5yr\"][i] = \"no\"\n",
    "    else: # If not consistent, print the and make it survived\n",
    "        select_df[\"Survival5yr\"][i] = \"yes\"\n",
    "        print(\"inconsistent at index: \", i)"
   ],
   "metadata": {
    "collapsed": false
   },
   "id": "185795af2c0d1724"
  },
  {
   "cell_type": "code",
   "execution_count": null,
   "outputs": [],
   "source": [
    "# Complete\n",
    "select_df.to_csv(\"../0.1. Cleaned_data/Cleaned_Brno_model_complete.csv\", index=False)"
   ],
   "metadata": {
    "collapsed": false
   },
   "id": "4d887923735dd505"
  }
 ],
 "metadata": {
  "kernelspec": {
   "display_name": "Python 3",
   "language": "python",
   "name": "python3"
  },
  "language_info": {
   "codemirror_mode": {
    "name": "ipython",
    "version": 2
   },
   "file_extension": ".py",
   "mimetype": "text/x-python",
   "name": "python",
   "nbconvert_exporter": "python",
   "pygments_lexer": "ipython2",
   "version": "2.7.6"
  }
 },
 "nbformat": 4,
 "nbformat_minor": 5
}
