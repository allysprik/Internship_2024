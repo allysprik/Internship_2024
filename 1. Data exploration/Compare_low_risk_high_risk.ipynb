{
 "cells": [
  {
   "cell_type": "markdown",
   "source": [
    "### Author: Ally Sprik\n",
    "### Last-updated: 25-02-2024\n",
    "\n",
    "Goal of this notebook is to explore the risk groups I had defined at the beginning of the internship through the other data exploration notebooks.\n",
    "\n"
   ],
   "metadata": {
    "collapsed": false
   },
   "id": "7a499cc4ea0e4133"
  },
  {
   "cell_type": "code",
   "execution_count": null,
   "id": "initial_id",
   "metadata": {
    "collapsed": true
   },
   "outputs": [],
   "source": [
    "import pandas as pd\n",
    "import numpy as np\n",
    "import matplotlib.pyplot as plt\n",
    "import seaborn as sns\n",
    "\n",
    "Training = pd.read_csv('../Cleaned_data/Training_TCGA_Risk_levels.csv')\n",
    "MAYO = pd.read_csv('../Cleaned_data/MAYO_with_risk_levels.csv')\n",
    "PIP = pd.read_csv('../Cleaned_data/Pipendo_with_risk_levels.csv')\n",
    "Tubingen = pd.read_csv('../Cleaned_data/Tubingen_risk_groups.csv')\n",
    "\n",
    "columns = ['Risk_level_PREOP', 'Risk_level_POSTOP', 'Risk_level_BM']\n"
   ]
  },
  {
   "cell_type": "markdown",
   "source": [
    "Compare the risk levels through a bar graph for all datasets"
   ],
   "metadata": {
    "collapsed": false
   },
   "id": "f4a066a56368137e"
  },
  {
   "cell_type": "code",
   "execution_count": null,
   "outputs": [],
   "source": [
    "# Compare them in a bar plot side by side and in the same bar plot for the same column, normalized\n",
    "# Create 3 subplots to display side by side\n",
    "\n",
    "\n",
    "plt.figure(figsize=(10, 10))\n",
    "PreOP = pd.DataFrame({'Training': Training['Risk_level_PREOP'].value_counts(normalize=True)*100,\n",
    "                      'MAYO': MAYO['Risk_level_PREOP'].value_counts(normalize=True)*100,\n",
    "                      'PIP': PIP['Risk_level_PREOP'].value_counts(normalize=True)*100,\n",
    "                      'Tubingen': Tubingen['Risk_level_PREOP'].value_counts(normalize=True)*100})\n",
    "PreOP.plot.bar()\n",
    "plt.title('Risk level distribution through PREOP grade and biomarkers')\n",
    "plt.ylabel('Normalized value counts (%)')\n",
    "plt.ylim([0, 100])\n",
    "         \n",
    "plt.figure(figsize=(10, 10))\n",
    "\n",
    "PostOp = pd.DataFrame({'Training': Training['Risk_level_POSTOP'].value_counts(normalize=True)*100,\n",
    "                      'MAYO': MAYO['Risk_level_POSTOP'].value_counts(normalize=True)*100,\n",
    "                      'PIP': PIP['Risk_level_POSTOP'].value_counts(normalize=True)*100,\n",
    "                       'Tubingen': Tubingen['Risk_level_POSTOP'].value_counts(normalize=True)*100})\n",
    "PostOp.plot.bar()\n",
    "\n",
    "plt.title('Risk level distribution through POSTOP grade and biomarkers')\n",
    "plt.ylabel('Normalized value counts (%)')\n",
    "plt.ylim([0, 100])\n",
    "\n",
    "plt.figure(figsize=(10, 10))\n",
    "Mol = pd.DataFrame({'Training': Training['Risk_level_BM'].value_counts(normalize=True)*100,\n",
    "                      'MAYO': MAYO['Risk_level_BM'].value_counts(normalize=True)*100,\n",
    "                      'PIP': PIP['Risk_level_BM'].value_counts(normalize=True)*100,\n",
    "                    'Tubingen': Tubingen['Risk_level_BM'].value_counts(normalize=True)*100})\n",
    "Mol.plot.bar()\n",
    "\n",
    "plt.title('Risk level distribution through biomarker analysis')\n",
    "plt.ylabel('Normalized value counts (%)')\n",
    "plt.ylim([0, 100])\n",
    "\n",
    "    \n",
    "plt.rcParams['figure.dpi'] = 150"
   ],
   "metadata": {
    "collapsed": false
   },
   "id": "506dd4bcf85e0f80"
  },
  {
   "cell_type": "markdown",
   "source": [
    "Compare the risk levels within the extended training dataset."
   ],
   "metadata": {
    "collapsed": false
   },
   "id": "d7c6ff39affadf5d"
  },
  {
   "cell_type": "code",
   "execution_count": null,
   "outputs": [],
   "source": [
    "# Compare the risk levels within Training dataset seperated on risk level in the same bar plot\n",
    "cols = ['Risk_level_PREOP', 'Risk_level_POSTOP', 'Risk_level_BM', 'Risk_level_TCGA']\n",
    "\n",
    "data = pd.DataFrame(\n",
    "    {'Risk_level_PREOP': Training['Risk_level_PREOP'].value_counts(normalize=True)*100,\n",
    "     'Risk_level_POSTOP': Training['Risk_level_POSTOP'].value_counts(normalize=True)*100,\n",
    "     'Risk_level_BM': Training['Risk_level_BM'].value_counts(normalize=True)*100,\n",
    "     'Risk_level_TCGA': Training['Risk_level_TCGA'].value_counts(normalize=True)*100,\n",
    "     'Risk_level_TCGA_BMNaN' : Training['Risk_level_TCGA_BMNaN'].value_counts(normalize=True)*100,\n",
    "     'Risk_level_TCGA_BM' : Training['Risk_level_TCGA_BM'].value_counts(normalize=True)*100,\n",
    "     })\n",
    "\n",
    "data.plot.bar()\n",
    "plt.ylim([0, 100])\n",
    "plt.ylabel('Normalized value counts (%)')\n",
    "plt.title('Risk level distribution in Training dataset (N=952)')\n"
   ],
   "metadata": {
    "collapsed": false
   },
   "id": "808e74b62b6d591a"
  },
  {
   "cell_type": "markdown",
   "source": [
    "Compare the risk levels within the tubingen dataset."
   ],
   "metadata": {
    "collapsed": false
   },
   "id": "908dd6e29b7a2ab7"
  },
  {
   "cell_type": "code",
   "execution_count": null,
   "outputs": [],
   "source": [
    "# Do the same for tubingen\n",
    "cols = ['Risk_level_PREOP', 'Risk_level_POSTOP', 'Risk_level_BM', 'Risk_level_TCGA']\n",
    "\n",
    "fig, axes = plt.subplots(1,1, figsize=(10, 10))\n",
    "data = pd.DataFrame(\n",
    "    {'Risk_level_PREOP': Tubingen['Risk_level_PREOP'].value_counts(normalize=True)*100,\n",
    "     'Risk_level_POSTOP': Tubingen['Risk_level_POSTOP'].value_counts(normalize=True)*100,\n",
    "     'Risk_level_BM': Tubingen['Risk_level_BM'].value_counts(normalize=True)*100,\n",
    "     'Risk_level_TCGA': Tubingen['Risk_level_TCGA'].value_counts(normalize=True)*100,\n",
    "     'Risk_level_TCGA_BMNaN' : Tubingen['Risk_level_TCGA_BMNaN'].value_counts(normalize=True)*100,\n",
    "     'Risk_level_TCGA_BM' : Tubingen['Risk_level_TCGA_BM'].value_counts(normalize=True)*100,\n",
    "     })\n",
    "N = len(Tubingen)\n",
    "data.plot.bar(ax=axes)\n",
    "plt.ylim([0, 100])\n",
    "plt.ylabel('Normalized value counts (%)')\n",
    "plt.title(f'Risk level distribution in Tubingen dataset (N={N})')"
   ],
   "metadata": {
    "collapsed": false
   },
   "id": "ae65bf6f153aa7d2"
  },
  {
   "cell_type": "markdown",
   "source": [
    "Compare the risk levels within the MAYO dataset."
   ],
   "metadata": {
    "collapsed": false
   },
   "id": "da43c57592b39cf"
  },
  {
   "cell_type": "code",
   "execution_count": null,
   "outputs": [],
   "source": [
    "# And for MAYO\n",
    "cols = ['Risk_level_PREOP', 'Risk_level_POSTOP', 'Risk_level_BM', 'Risk_level_TCGA']\n",
    "\n",
    "fig, axes = plt.subplots(1,1, figsize=(10, 10))\n",
    "data = pd.DataFrame(\n",
    "    {'Risk_level_PREOP': MAYO['Risk_level_PREOP'].value_counts(normalize=True)*100,\n",
    "     'Risk_level_POSTOP': MAYO['Risk_level_POSTOP'].value_counts(normalize=True)*100,\n",
    "     'Risk_level_BM': MAYO['Risk_level_BM'].value_counts(normalize=True)*100,\n",
    "     'Risk_level_TCGA': MAYO['Risk_level_TCGA'].value_counts(normalize=True)*100,\n",
    "     'Risk_level_TCGA_BMNaN' : MAYO['Risk_level_TCGA_BMNaN'].value_counts(normalize=True)*100,\n",
    "     'Risk_level_TCGA_BM' : MAYO['Risk_level_TCGA_BM'].value_counts(normalize=True)*100,\n",
    "     })\n",
    "N = len(MAYO)\n",
    "data.plot.bar(ax=axes)\n",
    "plt.ylim([0, 100])\n",
    "plt.ylabel('Normalized value counts (%)')\n",
    "plt.title(f'Risk level distribution in MAYO dataset (N={N})')"
   ],
   "metadata": {
    "collapsed": false
   },
   "id": "885804eb42c8591a"
  },
  {
   "cell_type": "markdown",
   "source": [
    "Create crosstables for the risk groups in the training dataset"
   ],
   "metadata": {
    "collapsed": false
   },
   "id": "2af2f80fcf96d0cd"
  },
  {
   "cell_type": "code",
   "execution_count": null,
   "outputs": [],
   "source": [
    "# Crosstable for Risk_level_TCGA_BM and RISK_level_POSTOP in the training dataset\n",
    "\n",
    "crosstab = pd.crosstab(Training['Risk_level_TCGA_BM'], Training['Risk_level_POSTOP'], normalize=True)*100\n",
    "crosstab = crosstab.reindex(['Low', 'High', 'Unknown'], axis='columns')\n",
    "sns.heatmap(crosstab, annot=True, cmap='Oranges', fmt='.1f', vmin=0, vmax=40)\n",
    "\n",
    "plt.title('Risk level distribution in Training dataset (N=952)')\n",
    "plt.ylabel('Risk level TCGA and BM')\n",
    "plt.xlabel('Risk level Postoperative grade and BM')"
   ],
   "metadata": {
    "collapsed": false
   },
   "id": "b1cf95f4523232f9"
  },
  {
   "cell_type": "markdown",
   "source": [
    "Generic code block to search for a column name"
   ],
   "metadata": {
    "collapsed": false
   },
   "id": "d0eb8a9cebb39b94"
  },
  {
   "cell_type": "code",
   "execution_count": null,
   "outputs": [],
   "source": [
    "for col in Training.columns:\n",
    "    if 'TCGA' in col:\n",
    "        print(col)"
   ],
   "metadata": {
    "collapsed": false
   },
   "id": "1a40e2b508f72ee2"
  },
  {
   "cell_type": "markdown",
   "source": [
    "Make a binary column for LNM_final_bi for all datasets"
   ],
   "metadata": {
    "collapsed": false
   },
   "id": "f555c0fd7daf4823"
  },
  {
   "cell_type": "code",
   "execution_count": null,
   "outputs": [],
   "source": [
    "Training['LNM_final_bi'] = Training['LNM_incl_followup_bi'].replace({0: 'No', 1: 'Yes'})\n",
    "Tubingen['LNM_final_bi'] = Tubingen['LNM_obs'].replace({'negative': 'No', 'positive': 'Yes'})\n",
    "MAYO['LNM_final_bi'] = MAYO['LNM_LNDorSLN'].replace({0: 'No', 1: 'Yes'})\n",
    "PIP['LNM_final_bi'] = PIP['Pathology_Lymphnodes'].replace({'No Pathology Nodes': 'No', 'Nodes involved': 'Yes', np.nan:'Unknown'})\n"
   ],
   "metadata": {
    "collapsed": false
   },
   "id": "1e53a29ec18695f7"
  },
  {
   "cell_type": "markdown",
   "source": [
    "Crosstable for LNM_final_bi and Risk_level_TCGA_BM for all datasets"
   ],
   "metadata": {
    "collapsed": false
   },
   "id": "7d8c15f015b11e65"
  },
  {
   "cell_type": "code",
   "execution_count": null,
   "outputs": [],
   "source": [
    "# Crosstab for LNM_final_bi and Risk_level_TCGA_BM for all datasets\n",
    "\n",
    "# Training\n",
    "plt.figure()\n",
    "L = len(Training['LNM_final_bi'].dropna())\n",
    "crosstab = pd.crosstab(Training['LNM_final_bi'], Training['Risk_level_TCGA_BMNaN'], normalize=True)*100\n",
    "crosstab = crosstab.reindex(['No', 'Yes'])\n",
    "crosstab = crosstab.reindex(['Low', 'Medium', 'High'], axis='columns')\n",
    "sns.heatmap(crosstab, annot=True, cmap='Oranges', fmt='.1f', vmin=0, vmax=40)\n",
    "\n",
    "plt.title(f'Risk level distribution in Training dataset N={L}')\n",
    "plt.ylabel('Lymph node metastasis')\n",
    "plt.xlabel('Risk level TCGA and BM')\n",
    "\n",
    "# Tubingen\n",
    "plt.figure()\n",
    "L = len(Tubingen)\n",
    "crosstab = pd.crosstab(Tubingen['LNM_final_bi'], Tubingen['Risk_level_TCGA_BMNaN'], normalize=True)*100\n",
    "crosstab = crosstab.reindex(['No', 'Yes'])\n",
    "crosstab = crosstab.reindex(['Low', 'Medium', 'High'], axis='columns')\n",
    "sns.heatmap(crosstab, annot=True, cmap='Oranges', fmt='.1f', vmin=0, vmax=40)\n",
    "\n",
    "plt.title(f'Risk level distribution in Tubingen dataset N={L}')\n",
    "plt.ylabel('Lymph node metastasis')\n",
    "plt.xlabel('Risk level TCGA and BM')\n",
    "\n",
    "# MAYO\n",
    "plt.figure()\n",
    "L = len(MAYO)\n",
    "crosstab = pd.crosstab(MAYO['LNM_final_bi'], MAYO['Risk_level_TCGA_BMNaN'], normalize=True)*100\n",
    "crosstab = crosstab.reindex(['No', 'Yes'])\n",
    "crosstab = crosstab.reindex(['Low', 'Medium', 'High'], axis='columns')\n",
    "sns.heatmap(crosstab, annot=True, cmap='Oranges', fmt='.1f', vmin=0, vmax=40)\n",
    "\n",
    "plt.title(f'Risk level distribution in MAYO dataset N={L}')\n",
    "plt.ylabel('Lymph node metastasis')\n",
    "plt.xlabel('Risk level TCGA and BM')\n",
    "\n"
   ],
   "metadata": {
    "collapsed": false
   },
   "id": "daf5014f76d6ee03"
  }
 ],
 "metadata": {
  "kernelspec": {
   "display_name": "Python 3",
   "language": "python",
   "name": "python3"
  },
  "language_info": {
   "codemirror_mode": {
    "name": "ipython",
    "version": 2
   },
   "file_extension": ".py",
   "mimetype": "text/x-python",
   "name": "python",
   "nbconvert_exporter": "python",
   "pygments_lexer": "ipython2",
   "version": "2.7.6"
  }
 },
 "nbformat": 4,
 "nbformat_minor": 5
}
