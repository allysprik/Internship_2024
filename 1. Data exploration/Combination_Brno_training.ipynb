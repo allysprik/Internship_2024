{
 "cells": [
  {
   "cell_type": "markdown",
   "source": [
    "### Author: Ally Sprik\n",
    "### Last-updated: 25-02-2024\n",
    "\n",
    "Goal of this notebook is to combine the training data with the Brno data. This is done to create a complete dataset for the model. The Brno data is cleaned in the notebook \"Data_exploration_Brno\" and the training data is cleaned in the notebook \"Training_data_exploration_and_fixing\". The combined dataset is saved as \"Training_JAMA+Brno_model_complete_cleaned.csv\".\n",
    "\n"
   ],
   "metadata": {
    "collapsed": false
   },
   "id": "c3112ebb7c8e7c47"
  },
  {
   "cell_type": "code",
   "execution_count": null,
   "id": "initial_id",
   "metadata": {
    "collapsed": true
   },
   "outputs": [],
   "source": [
    "import numpy as np\n",
    "import pandas as pd\n",
    "\n",
    "df_train = pd.read_csv(\"../0.1. Cleaned_data/Training+TCGA+JAMA_cleaned.csv\")\n",
    "df_brno = pd.read_csv(\"../0.1. Cleaned_data/Cleaned_Brno_model_complete.csv\")"
   ]
  },
  {
   "cell_type": "markdown",
   "source": [
    "Check what columns are not in both"
   ],
   "metadata": {
    "collapsed": false
   },
   "id": "9c80d2d35ee14055"
  },
  {
   "cell_type": "code",
   "execution_count": null,
   "outputs": [],
   "source": [
    "df_train.columns.difference(df_brno.columns)"
   ],
   "metadata": {
    "collapsed": false
   },
   "id": "7674b568d6fc1227"
  },
  {
   "cell_type": "markdown",
   "source": [
    "Drop metadata columns from the Brno data"
   ],
   "metadata": {
    "collapsed": false
   },
   "id": "79c80dafbbee334b"
  },
  {
   "cell_type": "code",
   "execution_count": null,
   "outputs": [],
   "source": [
    "df_brno.drop(columns=[\"ENDORISK_LNM\", \"ENDORISK_FU\"], inplace=True)"
   ],
   "metadata": {
    "collapsed": false
   },
   "id": "ab916ab2acbcecb8"
  },
  {
   "cell_type": "markdown",
   "source": [
    "Concate the two datasets"
   ],
   "metadata": {
    "collapsed": false
   },
   "id": "c59390c0f5bb79f1"
  },
  {
   "cell_type": "code",
   "execution_count": null,
   "outputs": [],
   "source": [
    "df_com = pd.concat([df_train, df_brno], axis=0, ignore_index=True, sort=False)\n",
    "df_com                                                                                                                          "
   ],
   "metadata": {
    "collapsed": false
   },
   "id": "1e16dea8ffdb0590"
  },
  {
   "cell_type": "code",
   "execution_count": null,
   "outputs": [],
   "source": [
    "## Check if there are any numberical values left and print the columns, to see if something needs labeling\n",
    "df_com.select_dtypes(include=np.number).columns.tolist()"
   ],
   "metadata": {
    "collapsed": false
   },
   "id": "9fa5de2dbc9d2f9f"
  },
  {
   "cell_type": "markdown",
   "source": [
    "Rename the FIGO_surgical column to FIGO"
   ],
   "metadata": {
    "collapsed": false
   },
   "id": "e7c224c8a41dfc51"
  },
  {
   "cell_type": "code",
   "execution_count": null,
   "outputs": [],
   "source": [
    "df_com.rename(columns={\"FIGO_surgical\": \"FIGO\"}, inplace=True)"
   ],
   "metadata": {
    "collapsed": false
   },
   "id": "a0a8cfb20ab52618"
  },
  {
   "cell_type": "code",
   "execution_count": null,
   "outputs": [],
   "source": [
    "df_com.to_csv(\"../0.1. Cleaned_data/Training_JAMA+Brno_model_complete_cleaned.csv\", index=False)"
   ],
   "metadata": {
    "collapsed": false
   },
   "id": "8a88f9e4eb1fdec8"
  }
 ],
 "metadata": {
  "kernelspec": {
   "display_name": "Python 3",
   "language": "python",
   "name": "python3"
  },
  "language_info": {
   "codemirror_mode": {
    "name": "ipython",
    "version": 2
   },
   "file_extension": ".py",
   "mimetype": "text/x-python",
   "name": "python",
   "nbconvert_exporter": "python",
   "pygments_lexer": "ipython2",
   "version": "2.7.6"
  }
 },
 "nbformat": 4,
 "nbformat_minor": 5
}
