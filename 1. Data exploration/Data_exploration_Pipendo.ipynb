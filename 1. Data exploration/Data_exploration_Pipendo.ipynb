{
 "cells": [
  {
   "cell_type": "markdown",
   "source": [
    "### Author: Ally Sprik\n",
    "### Last-updated: 25-02-2024\n",
    "\n",
    "Goal of this notebook is to explore the PIPENDO dataset, some inconsistencies were present with the dataset casper used."
   ],
   "metadata": {
    "collapsed": false
   },
   "id": "858ed6077f1813fb"
  },
  {
   "cell_type": "code",
   "execution_count": null,
   "id": "initial_id",
   "metadata": {
    "collapsed": true
   },
   "outputs": [],
   "source": [
    "import numpy as np\n",
    "import pandas as pd\n",
    "\n",
    "df2 = pd.read_spss('../0. Data/PIPENDO/PIPENDO compleet opgeschoond.sav')\n",
    "df = pd.read_spss('../0. Data/PIPENDO/PIPENDO_voor_ENDORISK.sav')\n",
    "key = pd.read_spss('../0. Data/PIPENDO/PIPENDO_key.sav')\n",
    "df_v1 = pd.read_spss('../0. Data/PIPENDO/pipendo start met elkerliek zonder extra variabele.sav')\n"
   ]
  },
  {
   "cell_type": "markdown",
   "source": [
    "Rename columns so it is easier to work with and more consistent across the datasets"
   ],
   "metadata": {
    "collapsed": false
   },
   "id": "ffd0b2d4b59b1236"
  },
  {
   "cell_type": "code",
   "execution_count": null,
   "outputs": [],
   "source": [
    " # Grade is the preop grade, grade_uterus is the postop grade\n",
    "df['Grade_PREOP_new'] = df['Grade']\n",
    "df['Grade_POSTOP_new'] = df['Grade_uterus']"
   ],
   "metadata": {
    "collapsed": false
   },
   "id": "feed6299cadb64b2"
  },
  {
   "cell_type": "markdown",
   "source": [
    "Fix up the column and create a table for the counts to compare to the paper"
   ],
   "metadata": {
    "collapsed": false
   },
   "id": "5b9fcec2c47098ce"
  },
  {
   "cell_type": "code",
   "execution_count": null,
   "outputs": [],
   "source": [
    "df['Grade_POSTOP_new'] = df['Grade_POSTOP_new'].astype(object)\n",
    "df['Grade_POSTOP_new'].replace({'unknown': np.nan, 99.0: np.nan}, inplace=True)\n",
    "pd.DataFrame([df['Grade_POSTOP_new'].value_counts(dropna=False).astype(int), round(df['Grade_POSTOP_new'].value_counts(normalize=True),2)])"
   ],
   "metadata": {
    "collapsed": false
   },
   "id": "d3b80584af2ae0df"
  },
  {
   "cell_type": "markdown",
   "source": [
    "Fix up the column and create a table for the counts to compare to the paper"
   ],
   "metadata": {
    "collapsed": false
   },
   "id": "606ab1f6bc30d126"
  },
  {
   "cell_type": "code",
   "execution_count": null,
   "outputs": [],
   "source": [
    "df['Grade_PREOP_new'] = df['Grade_PREOP_new'].astype(object)\n",
    "df['Grade_PREOP_new'].replace({'unknown': np.nan, 'missing': np.nan}, inplace=True)\n",
    "pd.DataFrame([df['Grade_PREOP_new'].value_counts(dropna=False).astype(int), round(df['Grade_PREOP_new'].value_counts(normalize=True),3)*100])\n"
   ],
   "metadata": {
    "collapsed": false
   },
   "id": "f368671691c66268"
  },
  {
   "cell_type": "markdown",
   "source": [
    "Find all the complete cases"
   ],
   "metadata": {
    "collapsed": false
   },
   "id": "d9ef13362bf0d4b2"
  },
  {
   "cell_type": "code",
   "execution_count": null,
   "outputs": [],
   "source": [
    "complete_cases = df.dropna(inplace=False)\n",
    "complete_cases"
   ],
   "metadata": {
    "collapsed": false
   },
   "id": "b02c98ca916b26f9"
  },
  {
   "cell_type": "markdown",
   "source": [
    "Create a table for the counts of ER "
   ],
   "metadata": {
    "collapsed": false
   },
   "id": "f8ddf9202f8d697a"
  },
  {
   "cell_type": "code",
   "execution_count": null,
   "outputs": [],
   "source": [
    "pd.DataFrame([df['ER_expression_PREOP'].value_counts(dropna=False).astype(int), round(df['ER_expression_PREOP'].value_counts(normalize=True),3)*100])"
   ],
   "metadata": {
    "collapsed": false
   },
   "id": "ad2edd6fa742e0ab"
  },
  {
   "cell_type": "markdown",
   "source": [
    "Create a table for the counts of PR"
   ],
   "metadata": {
    "collapsed": false
   },
   "id": "173bb944366d6cda"
  },
  {
   "cell_type": "code",
   "execution_count": null,
   "outputs": [],
   "source": [
    "pd.DataFrame([df['PR_expression_PREOP'].value_counts(dropna=False).astype(int), round(df['PR_expression_PREOP'].value_counts(normalize=True),3)*100])"
   ],
   "metadata": {
    "collapsed": false
   },
   "id": "4b96341a144722e2"
  },
  {
   "cell_type": "markdown",
   "source": [
    "The following codeblock is a standard codeblock to search for column names that contain a certain substring. If set to \"\", it will return all columns."
   ],
   "metadata": {
    "collapsed": false
   },
   "id": "ca45b85a5b15e15"
  },
  {
   "cell_type": "code",
   "execution_count": null,
   "outputs": [],
   "source": [
    "for column in df.columns:\n",
    "    if column.__contains__('CT'):\n",
    "        print(column)"
   ],
   "metadata": {
    "collapsed": false
   },
   "id": "39b83cb4b37a7d6a"
  },
  {
   "cell_type": "markdown",
   "source": [
    "Generate risk levels per patient preoperatively, based on biomarkers and grade"
   ],
   "metadata": {
    "collapsed": false
   },
   "id": "be800ce7e6f298bb"
  },
  {
   "cell_type": "code",
   "execution_count": null,
   "outputs": [],
   "source": [
    "df['Risk_level_PREOP'] = np.nan\n",
    "df['Risk_level_PREOP'] = df['Risk_level_PREOP'].astype(object)\n",
    "for i in range(len(df)):\n",
    "\tif pd.isna(df['Grade_PREOP'][i]):\n",
    "\t\tdf['Risk_level_PREOP'][i] = 'Unknown'\n",
    "\telif df['Grade_PREOP'].values[i] == 'grade 1':\n",
    "\t\tdf['Risk_level_PREOP'][i] = 'Low'\n",
    "\telif df['Grade_PREOP'].values[i] == 'grade 3 or non-endometrioid':\n",
    "\t\tdf['Risk_level_PREOP'][i] = 'High'\n",
    "\telif df['Grade_PREOP'].values[i] == 'grade 2':\n",
    "\t\tif df['PR_expression_PREOP'].values[i] == '<10%':\n",
    "\t\t\tdf['Risk_level_PREOP'][i] = 'High'\n",
    "\t\telse:\n",
    "\t\t\tif df['p53_expression_PREOP'].values[i] == 'overexpression':\n",
    "\t\t\t\tdf['Risk_level_PREOP'][i] = 'High'\n",
    "\t\t\telse:\n",
    "\t\t\t\tdf['Risk_level_PREOP'][i] = 'Low'\n",
    "\telse:\n",
    "\t\tdf['Risk_level_PREOP'][i] = 'Unknown'\n"
   ],
   "metadata": {
    "collapsed": false
   },
   "id": "6b5af78af5777fb5"
  },
  {
   "cell_type": "markdown",
   "source": [
    "Generate risk levels per patient postoperatively, based on biomarkers and grade"
   ],
   "metadata": {
    "collapsed": false
   },
   "id": "f2830aca0cd85748"
  },
  {
   "cell_type": "code",
   "execution_count": null,
   "outputs": [],
   "source": [
    "df['Risk_level_POSTOP'] = np.nan\n",
    "df['Risk_level_POSTOP'] = df['Risk_level_POSTOP'].astype(object)\n",
    "\n",
    "for i in range(len(df)):\n",
    "    if df['Grade'].values[i] == 'unkown' or df['Grade'].values[i] == 'missing':\n",
    "        df['Risk_level_POSTOP'][i] = 'Unknown'\n",
    "    elif df['Grade'].values[i] == '1':\n",
    "        df['Risk_level_POSTOP'][i] = 'Low'\n",
    "    elif df['Grade'].values[i] == '3':\n",
    "        df['Risk_level_POSTOP'][i] = 'High'\n",
    "    elif df['Grade'].values[i] == '2' or df['Grade'].values[i] == 'other (sarcoma)':\n",
    "\t    if df['PR_expression_PREOP'].values[i] == '<10%':\n",
    "\t\t    df['Risk_level_PREOP'][i] = 'High'\n",
    "\t    else:\n",
    "\t\t    if df['p53_expression_PREOP'].values[i] == 'overexpression':\n",
    "\t\t\t    df['Risk_level_PREOP'][i] = 'High'\n",
    "\t\t    else:\n",
    "\t\t\t    df['Risk_level_PREOP'][i] = 'Low'\n",
    "    else:\n",
    "        df['Risk_level_PREOP'][i] = 'Unknown'\n"
   ],
   "metadata": {
    "collapsed": false
   },
   "id": "5a51d1b2fd48c51b"
  },
  {
   "cell_type": "markdown",
   "source": [
    "Generate risk levels per patient based on biomarkers"
   ],
   "metadata": {
    "collapsed": false
   },
   "id": "e70413e701d26118"
  },
  {
   "cell_type": "code",
   "execution_count": null,
   "outputs": [],
   "source": [
    "df['Risk_level_BM'] = np.nan\n",
    "df['Risk_level_BM'] = df['Risk_level_BM'].astype(object)\n",
    "\n",
    "for i in range(len(df)):\n",
    "\tif df['PR_expression_PREOP'].values[i] == '<10%':\n",
    "\t\tdf['Risk_level_BM'][i] = 'High'\n",
    "\telif df['p53_expression_PREOP'].values[i] == 'overexpression':\n",
    "\t\tdf['Risk_level_BM'][i] = 'High'\n",
    "\telif df['CA125_PREOP_bi'].values[i] == '=/>35 U/mL (=abnormal)':\n",
    "\t\tdf['Risk_level_BM'][i] = 'High'\n",
    "\telif df['p53_expression_PREOP'].values[i] == 'wildtype' or df['PR_expression_PREOP'].values[i] == '>10%, unclear percentage' or \\\n",
    "\t\t\tdf['CA125_PREOP_bi'].values[i] == '<35 U/mL (=normal)':\n",
    "\t\tdf['Risk_level_BM'][i] = 'Low'\n",
    "\telse:\n",
    "\t\tdf['Risk_level_BM'][i] = 'Unknown'\n"
   ],
   "metadata": {
    "collapsed": false
   },
   "id": "5ee4012030344828"
  },
  {
   "cell_type": "markdown",
   "source": [
    "### Data cleaning"
   ],
   "metadata": {
    "collapsed": false
   },
   "id": "6c3c6ad9cf1a3323"
  },
  {
   "cell_type": "markdown",
   "source": [
    "Select the PIPENDO patients, they have to have Preoperative grade and at least 3 molecular biomarkers and 1 clinical peroperative maker, for consistency with Casper Reijnen"
   ],
   "metadata": {
    "collapsed": false
   },
   "id": "da08ad71b1e4beb2"
  },
  {
   "cell_type": "markdown",
   "source": [
    "dataframe 1"
   ],
   "metadata": {
    "collapsed": false
   },
   "id": "c382a7b6b8340bd2"
  },
  {
   "cell_type": "code",
   "execution_count": null,
   "outputs": [],
   "source": [
    "x = [] \n",
    "# Check if they have at least three of the molecular biomarkers: ER, PR, p53, L1CAM\n",
    "for i in range(len(df)):\n",
    "\trow = df.iloc[i]\n",
    "\tcount = 0\n",
    "\tif not pd.isna(row['ER_expression_PREOP']):\n",
    "\t\tcount += 1\n",
    "\tif not pd.isna(row['PR_expression_PREOP']):\n",
    "\t\tcount += 1\n",
    "\tif not pd.isna(row['p53_expression_PREOP']):\n",
    "\t\tcount += 1\n",
    "\tif not pd.isna(row['L1CAM_expression_PREOP']):\n",
    "\t\tcount += 1\n",
    "\tif count < 3:\n",
    "\t\tx.append(i)\n",
    "\n",
    "df = df.drop(df.index[x])"
   ],
   "metadata": {
    "collapsed": false
   },
   "id": "d253b48f1eab8dc1"
  },
  {
   "cell_type": "markdown",
   "source": [
    "dataframe 2"
   ],
   "metadata": {
    "collapsed": false
   },
   "id": "17c23110f02e10a5"
  },
  {
   "cell_type": "code",
   "execution_count": null,
   "outputs": [],
   "source": [
    "df = df.dropna(subset=['Grade_rev_PREOP_with_unknown'])\n",
    "\n",
    "x = []\n",
    "# Check if they have at least three of the molecular biomarkers: ER, PR, p53, L1CAM\n",
    "for i in range(len(df2)):\n",
    "\trow = df2.iloc[i]\n",
    "\tcount = 0\n",
    "\tif not pd.isna(row['ER']):\n",
    "\t\tcount += 1\n",
    "\tif not pd.isna(row['PR']):\n",
    "\t\tcount += 1\n",
    "\tif not pd.isna(row['p53']):\n",
    "\t\tcount += 1\n",
    "\tif not pd.isna(row['L1CAM']):\n",
    "\t\tcount += 1\n",
    "\tif count < 3:\n",
    "\t\tx.append(i)\n",
    "\n",
    "df2 = df2.drop(df2.index[x])\n"
   ],
   "metadata": {
    "collapsed": false
   },
   "id": "e82d49644943cf83"
  },
  {
   "cell_type": "markdown",
   "source": [
    "Merge the two dataframes, on study number"
   ],
   "metadata": {
    "collapsed": false
   },
   "id": "b833c7818f0c5b1d"
  },
  {
   "cell_type": "code",
   "execution_count": null,
   "outputs": [],
   "source": [
    "# Merge the two dataframes\n",
    "df_merge = df.merge(df2, how='left', left_on='Study_number_OC', right_on='RecordId')\n",
    "df_merge"
   ],
   "metadata": {
    "collapsed": false
   },
   "id": "999e52f2dd7c3b9b"
  },
  {
   "cell_type": "markdown",
   "source": [
    "Create binary column for platelets, change CT_result to normal and abnormal, and create a column for the postoperative grade"
   ],
   "metadata": {
    "collapsed": false
   },
   "id": "e8fe0f9a62fb1b20"
  },
  {
   "cell_type": "code",
   "execution_count": null,
   "outputs": [],
   "source": [
    "df_merge['Platelets_bi'] = df_merge['Platelets'].apply(lambda x: 1 if x >= 400 else (0 if x < 400 else np.nan))\n",
    "\n",
    "df_merge['CT_result'].replace({'no extra uterine disease': 'normal', 'inconclusive':'normal', 'lymph node metastasis suspected':'abnormal', 'distant metastasis suspected': 'abnormal', 'lymph node and distant metastasis suspected':'abnormal'}, inplace=True)\n",
    "\n",
    "df_merge['Grade_postop'] = df_merge['Grade_hyst_rev_tri_y'].apply(lambda x: x if not pd.isna(x) else df_merge['Grade_uterus_y'])\n"
   ],
   "metadata": {
    "collapsed": false
   },
   "id": "445468b03d6fefdc"
  },
  {
   "cell_type": "markdown",
   "source": [
    "Select the columns that are relevant for the analysis"
   ],
   "metadata": {
    "collapsed": false
   },
   "id": "8618e3281ccc6468"
  },
  {
   "cell_type": "code",
   "execution_count": null,
   "outputs": [],
   "source": [
    "df_selection = df_merge[['Grade_rev_PREOP_with_unknown_y', 'ER', 'PR', 'L1CAM', 'p53', 'CA_125_ELEV_bi', 'Platelets_bi', 'CT_result', 'Lymph_nodes', 'Dood_EC_bi_x']]"
   ],
   "metadata": {
    "collapsed": false
   },
   "id": "b64b9eb03105ed9e"
  },
  {
   "cell_type": "markdown",
   "source": [
    "# Check if the columns are correct\n",
    "- Grade_rev_PREOP_with_unknown_y is correct\n",
    "- ER is correct\n",
    "- PR is correct\n",
    "- L1CAM is correct\n",
    "- p53 is correct\n",
    "- CA_125_ELEV_bi is correct\n",
    "- Platelets_bi is wrong\n",
    "- CT_result is wrong\n",
    "- Dood EC_bi is wrong --> has to be 330, is 337\n",
    "- Lymph_nodes are unclear"
   ],
   "metadata": {
    "collapsed": false
   },
   "id": "e3acde5c282108b1"
  },
  {
   "cell_type": "code",
   "execution_count": null,
   "outputs": [],
   "source": [
    "df.to_csv('../0.1. Cleaned_data/Pipendo_with_risk_levels.csv')\n",
    "df_selection.to_csv('../0.1. Cleaned_data/Pipendo_selection_val.csv')"
   ],
   "metadata": {
    "collapsed": false
   },
   "id": "2ca9302412684823"
  },
  {
   "cell_type": "markdown",
   "source": [
    "# Since there are still some inconsistencies, check the Casper_PIPENDO notebook for a comparison, and use that PIPENDO dataset"
   ],
   "metadata": {
    "collapsed": false
   },
   "id": "75511f448477188b"
  }
 ],
 "metadata": {
  "kernelspec": {
   "display_name": "Python 3",
   "language": "python",
   "name": "python3"
  },
  "language_info": {
   "codemirror_mode": {
    "name": "ipython",
    "version": 2
   },
   "file_extension": ".py",
   "mimetype": "text/x-python",
   "name": "python",
   "nbconvert_exporter": "python",
   "pygments_lexer": "ipython2",
   "version": "2.7.6"
  }
 },
 "nbformat": 4,
 "nbformat_minor": 5
}
