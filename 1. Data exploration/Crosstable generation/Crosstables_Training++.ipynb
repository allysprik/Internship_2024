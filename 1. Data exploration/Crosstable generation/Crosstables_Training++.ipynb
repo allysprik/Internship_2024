{
 "cells": [
  {
   "cell_type": "markdown",
   "source": [
    "### Author: Ally Sprik\n",
    "### Last-updated: 25-02-2024\n",
    "\n",
    "Goal of this notebook is to generate crosstables for the training dataset\n",
    "\n"
   ],
   "metadata": {
    "collapsed": false
   },
   "id": "7ec15403ae531e9b"
  },
  {
   "cell_type": "code",
   "execution_count": null,
   "id": "c22bfab8eb29ce86",
   "metadata": {
    "collapsed": false
   },
   "outputs": [],
   "source": [
    "import pandas as pd\n",
    "import numpy as np \n",
    "import matplotlib.pyplot as plt\n",
    "import seaborn as sns \n",
    "from matplotlib_inline.backend_inline import set_matplotlib_formats\n",
    "\n",
    "dfTCGA = pd.read_csv('../../0.1. Cleaned_data/Training+TCGA+JAMA_cleaned.csv')\n",
    "\n",
    "# Create a more manageable dataset\n",
    "columns = ['PostoperativeGrade', 'PreoperativeGrade', 'PR', 'p53', 'CA125', 'MSI', 'POLE',\n",
    "           'LNM', \"MRI_MI\", \"MyometrialInvasion\"]\n",
    "\n",
    "selection = dfTCGA[columns]\n",
    "# Set the output format for the plots and the dpi\n",
    "set_matplotlib_formats('png', 'pdf')\n",
    "plt.rcParams['figure.dpi'] = 150\n",
    "sns.set_style('darkgrid')\n"
   ]
  },
  {
   "cell_type": "markdown",
   "source": [
    "The code below generated the crosstable between the pre-and postoperative grade. The crosstable is normalized to show the percentage of the total number of patients in each category. The crosstable is then plotted as a heatmap using seaborn. "
   ],
   "metadata": {
    "collapsed": false
   },
   "id": "9ff90edde948d667"
  },
  {
   "cell_type": "code",
   "execution_count": null,
   "outputs": [],
   "source": [
    "# Count the number of patients\n",
    "N = len(selection[['PreoperativeGrade', 'PostoperativeGrade']].dropna())\n",
    "\n",
    "# generate the crosstable\n",
    "crosstab = (pd.crosstab(selection['PreoperativeGrade'], selection['PostoperativeGrade'], normalize=True) * 100).round(1)\n",
    "\n",
    "# Sort the crosstable\n",
    "crosstab.sort_values('PreoperativeGrade', ascending=False, inplace=True)\n",
    "\n",
    "# Generate the heatmap\n",
    "x = sns.heatmap(crosstab, annot=True, fmt='.1f', cmap='Oranges', vmin=0, vmax=40) \\\n",
    "    .set_title(f'Correlation between pre- and post-op grade [%] (N = {N})')\n",
    "\n",
    "# Set the plot labels\n",
    "plt.ylabel('Pre-op grade')\n",
    "plt.xlabel('Post-op grade')\n"
   ],
   "metadata": {
    "collapsed": true
   },
   "id": "initial_id"
  },
  {
   "cell_type": "markdown",
   "source": [
    "The code below generated the crosstable between the PR and postoperative grade was performed. following the same steps as above."
   ],
   "metadata": {
    "collapsed": false
   },
   "id": "8c43f3c674a49fb5"
  },
  {
   "cell_type": "code",
   "execution_count": null,
   "outputs": [],
   "source": [
    "# Count the number of patients\n",
    "N = len(selection[['PR', 'PostoperativeGrade']].dropna())\n",
    "\n",
    "# Correct the labels if necessary\n",
    "selection['PR'].replace({1: 'Negative', 0: 'Positive'}, inplace=True)\n",
    "\n",
    "# generate the crosstable\n",
    "crosstab = (pd.crosstab(selection['PR'], selection['PostoperativeGrade'], normalize=True) * 100).round(1)\n",
    "\n",
    "# Plot the heatmap\n",
    "x = sns.heatmap(crosstab, annot=True, fmt='g', cmap='Oranges', vmin=0, vmax=40) \\\n",
    "    .set_title(f'Correlation between PR expression and post-op grade [%] (N = {N})')\n",
    "# Set the plot labels\n",
    "plt.ylabel('PR expression pre-op')\n",
    "\n"
   ],
   "metadata": {
    "collapsed": false
   },
   "id": "a7399f42503c6b7e"
  },
  {
   "cell_type": "markdown",
   "source": [
    "The code below generated the crosstable between the p53 and postoperative grade was performed. following the same steps as above."
   ],
   "metadata": {
    "collapsed": false
   },
   "id": "166efc631031e5d8"
  },
  {
   "cell_type": "code",
   "execution_count": null,
   "outputs": [],
   "source": [
    "# Count the number of patients\n",
    "N = len(selection[['p53', 'PostoperativeGrade']].dropna())\n",
    "\n",
    "# Correct the labels if necessary\n",
    "selection['p53'].replace({1: 'Mutant', 0: 'Wildtype'}, inplace=True)\n",
    "\n",
    "# Generate the crosstable and plot the heatmap\n",
    "sns.heatmap((pd.crosstab(selection['p53'], selection['PostoperativeGrade'], normalize=True) * 100).round(1),\n",
    "            annot=True, fmt='g', cmap='Oranges', vmin=0, vmax=40) \\\n",
    "    .set_title(f'Correlation between p53 expression and post-op PostoperativeGrade [%] (N = {N})')\n",
    "\n",
    "# Set the plot labels\n",
    "plt.ylabel('p53 expression pre-op')\n",
    "\n"
   ],
   "metadata": {
    "collapsed": false
   },
   "id": "63cd03eab566841a"
  },
  {
   "cell_type": "markdown",
   "source": [
    "The code below generated the crosstable between the CA125 and postoperative grade was performed. following the same steps as above."
   ],
   "metadata": {
    "collapsed": false
   },
   "id": "d1c3cbe6b06b7cc1"
  },
  {
   "cell_type": "code",
   "execution_count": null,
   "outputs": [],
   "source": [
    "# Count the number of patients\n",
    "N = len(selection[['CA125', 'PostoperativeGrade']].dropna())\n",
    "\n",
    "# Correct the labels if necessary\n",
    "selection['CA125'].replace({1: '> 35', 0: '=< 35'}, inplace=True)\n",
    "\n",
    "# generate the crosstable\n",
    "crosstab = (pd.crosstab(selection['CA125'], selection['PostoperativeGrade'], normalize=True) * 100).round(1)\n",
    "# Sort the crosstable\n",
    "crosstab.sort_values('CA125', ascending=False, inplace=True)\n",
    "\n",
    "# Generate the heatmap\n",
    "sns.heatmap(crosstab, annot=True, fmt='g', cmap='Oranges', vmin=0, vmax=40) \\\n",
    "    .set_title(f'Correlation between CA125 and post-op PostoperativeGrade [%] (N = {N})')\n",
    "\n",
    "# Set the plot labels\n",
    "plt.ylabel('CA125 level pre-op')\n",
    "\n"
   ],
   "metadata": {
    "collapsed": false
   },
   "id": "e8933192d2a1345"
  },
  {
   "cell_type": "markdown",
   "source": [
    "The code below generates a TCGA column according to clinical guidelines"
   ],
   "metadata": {
    "collapsed": false
   },
   "id": "aea2fa7ae4b4bbdb"
  },
  {
   "cell_type": "code",
   "execution_count": null,
   "outputs": [],
   "source": [
    "# Create F_TCGA column from the 3 columns with the TCGA molecular classification\n",
    "# Following order: MSI, POLE, p53, NSMP\n",
    "\n",
    "for i in range(len(selection)):\n",
    "    if pd.isna(selection['MSI'][i]) and pd.isna(selection['POLE'][i]) and pd.isna(selection['p53'][i]):\n",
    "        selection.at[i, 'F_TCGA'] = np.nan\n",
    "    elif selection['MSI'][i] == 'yes':\n",
    "        selection.at[i, 'F_TCGA'] = 'MSI'\n",
    "    elif selection['POLE'][i] == 'yes':\n",
    "        selection.at[i, 'F_TCGA'] = 'POLE'\n",
    "    elif selection['p53'][i] == 'mutant':\n",
    "        selection.at[i, 'F_TCGA'] = 'p53'\n",
    "    else:\n",
    "        selection.at[i, 'F_TCGA'] = 'NSMP'"
   ],
   "metadata": {
    "collapsed": false
   },
   "id": "6dc4abe2942288c0"
  },
  {
   "cell_type": "markdown",
   "source": [
    "The code below generated the crosstable between the TCGA molecular classification and LNM was performed. following the same steps as above."
   ],
   "metadata": {
    "collapsed": false
   },
   "id": "894cd5f703022e90"
  },
  {
   "cell_type": "code",
   "execution_count": null,
   "outputs": [],
   "source": [
    "# Count the number of patients\n",
    "N = len(selection[['F_TCGA', 'LNM']].dropna())\n",
    "\n",
    "# Correct the labels if necessary\n",
    "selection['F_TCGA'].replace({1: 'POLE', \"MSI\": 'MMRd', 3: 'p53', 4: 'NSMP'}, inplace=True)\n",
    "selection['LNM'].replace({1: 'Yes', 0: 'No'}, inplace=True)\n",
    "\n",
    "# generate the crosstable\n",
    "crosstab = (pd.crosstab(selection['F_TCGA'],selection['LNM'], normalize=True) * 100).round(1)\n",
    "crosstab = crosstab.reindex(['p53', 'MMRd',  'POLE', 'NSMP'], axis=0)\n",
    "\n",
    "# Set the figure size\n",
    "plt.figure(figsize=(5,5))\n",
    "\n",
    "# Generate the heatmap\n",
    "x = sns.heatmap(crosstab, annot=True, fmt='g', cmap='Oranges', vmin=0, vmax=40) \\\n",
    "    .set_title(f'Training correlation between TCGA molecular\\n classification and lymph node metastasis [%] (N = {N})')\n",
    "\n",
    "# Set the plot labels\n",
    "plt.ylabel('TCGA molecular classification')\n",
    "plt.xlabel('Lymph node metastasis')    \n"
   ],
   "metadata": {
    "collapsed": false
   },
   "id": "61139cdf23a1de12"
  },
  {
   "cell_type": "markdown",
   "source": [
    "The code below generated the crosstable between the MRI_MI and Myometrial invasion was performed. following the same steps as above."
   ],
   "metadata": {
    "collapsed": false
   },
   "id": "6ba830170660a529"
  },
  {
   "cell_type": "code",
   "execution_count": null,
   "outputs": [],
   "source": [
    "# Count the number of patients\n",
    "N = len(selection[['MRI_MI', 'MyometrialInvasion']].dropna())\n",
    "\n",
    "# generate the crosstable\n",
    "crosstab = (pd.crosstab(selection['MRI_MI'], selection['MyometrialInvasion'], normalize=True) * 100).round(1)\n",
    "\n",
    "# reindex both column and rows to have the same order lt_50, ge_50\n",
    "crosstab = crosstab.reindex(['ge_50', 'lt_50'])\n",
    "crosstab = crosstab.reindex(['lt_50', 'ge_50'], axis=1)\n",
    "# Fixing label\n",
    "crosstab.rename(columns={'lt_50': '< 50', 'ge_50': '>= 50'}, index={'lt_50': '< 50', 'ge_50': '>= 50'}, inplace=True)\n",
    "# Generate the heatmap\n",
    "x = sns.heatmap(crosstab, annot=True, fmt='g', cmap='Oranges', vmin=0, vmax=40) \\\n",
    "    .set_title(f'Correlation between MRI_MI and\\n myometrial invasion [%] (N = {N})')\n",
    "\n",
    "# Set the plot labels\n",
    "plt.ylabel('MRI_MI')\n",
    "plt.xlabel('Myometrial invasion')\n",
    "\n"
   ],
   "metadata": {
    "collapsed": false
   },
   "id": "8269d4e074d6b11b"
  }
 ],
 "metadata": {
  "kernelspec": {
   "display_name": "Python 3",
   "language": "python",
   "name": "python3"
  },
  "language_info": {
   "codemirror_mode": {
    "name": "ipython",
    "version": 2
   },
   "file_extension": ".py",
   "mimetype": "text/x-python",
   "name": "python",
   "nbconvert_exporter": "python",
   "pygments_lexer": "ipython2",
   "version": "2.7.6"
  }
 },
 "nbformat": 4,
 "nbformat_minor": 5
}
