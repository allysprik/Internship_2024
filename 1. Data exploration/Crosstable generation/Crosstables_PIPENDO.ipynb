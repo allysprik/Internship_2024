{
 "cells": [
  {
   "cell_type": "markdown",
   "source": [
    "### Author: Ally Sprik\n",
    "### Last-updated: 25-02-2024\n",
    "\n",
    "Goal of this notebook is to generate crosstables for the dataset from PIPENDO\n",
    "\n"
   ],
   "metadata": {
    "collapsed": false
   },
   "id": "b6b654b662f26f04"
  },
  {
   "cell_type": "code",
   "execution_count": null,
   "id": "initial_id",
   "metadata": {
    "collapsed": true
   },
   "outputs": [],
   "source": [
    "from matplotlib_inline.backend_inline import set_matplotlib_formats\n",
    "from matplotlib import pyplot as plt\n",
    "import seaborn as sns\n",
    "import pandas as pd\n",
    "import numpy as np\n",
    "\n",
    "df = pd.read_csv('../../Cleaned_data/Pipendo_with_risk_levels.csv')\n",
    "\n",
    "df['Grade'].replace({'unknown': np.nan, 'missing': np.nan}, inplace=True)\n",
    "\n",
    "# Create a more manageable dataframe\n",
    "selection = df[['Grade_PREOP_new', 'Grade_POSTOP_new', 'p53_expression_PREOP', 'PR_expression_PREOP', 'CA125_PREOP_bi']]\n",
    "\n",
    "# Set the output format for the plots and the dpi\n",
    "set_matplotlib_formats('png', 'pdf')\n",
    "plt.rcParams['figure.dpi'] = 150\n",
    "sns.set_style('darkgrid')\n",
    "\n"
   ]
  },
  {
   "cell_type": "markdown",
   "source": [
    "The code below generated the crosstable between the pre-and postoperative grade. The crosstable is normalized to show the percentage of the total number of patients in each category. The crosstable is then plotted as a heatmap using seaborn. "
   ],
   "metadata": {
    "collapsed": false
   },
   "id": "c4b6db4dcde8fd52"
  },
  {
   "cell_type": "code",
   "execution_count": null,
   "outputs": [],
   "source": [
    "# Count the number of patients\n",
    "N = len(selection[['Grade_PREOP_new', 'Grade_POSTOP_new']].dropna())\n",
    "\n",
    "# Replace the grade 3 or non-endometrioid with grade 3\n",
    "selection['Grade_PREOP_new'].replace({'grade 3 or non-endometrioid': 'grade 3'}, inplace=True)\n",
    "\n",
    "# Create the crosstable\n",
    "crosstab = (pd.crosstab(selection['Grade_PREOP_new'], selection['Grade_POSTOP_new'], normalize=True) * 100).round(1)\n",
    "\n",
    "# Sort the crosstable\n",
    "crosstab.sort_values('Grade_PREOP_new', ascending=False, inplace=True)\n",
    "\n",
    "# Plot the crosstable as a heatmap\n",
    "x = sns.heatmap(crosstab, annot=True, fmt='g', cmap='Oranges', vmin=0, vmax=40) \\\n",
    "    .set_title(f'Correlation between pre- and post-op grade [%] (N = {N})')\n",
    "\n",
    "# Set the labels\n",
    "plt.ylabel('Pre-op grade')\n",
    "plt.xlabel('Post-op grade')\n",
    "\n"
   ],
   "metadata": {
    "collapsed": false
   },
   "id": "85f54bec5c7a2ad0"
  },
  {
   "cell_type": "markdown",
   "source": [
    "The code below generated the crosstable between the PR and postoperative grade was performed. following the same steps as above."
   ],
   "metadata": {
    "collapsed": false
   },
   "id": "71ea0153da3bbfe"
  },
  {
   "cell_type": "code",
   "execution_count": null,
   "outputs": [],
   "source": [
    "N = len(selection[['PR_expression_PREOP', 'Grade_POSTOP_new']].dropna())\n",
    "\n",
    "selection['PR_expression_PREOP'].replace({'<10%': 'Negative', '>10%, unclear percentage': 'Positive'}, inplace=True)\n",
    "\n",
    "crosstab = (pd.crosstab(selection['PR_expression_PREOP'], selection['Grade_POSTOP_new'], normalize=True) * 100).round(1)\n",
    "\n",
    "x = sns.heatmap(crosstab, annot=True, fmt='g', cmap='Oranges', vmin=0, vmax=40) \\\n",
    "    .set_title(f'Correlation between PR expression and post-op grade [%] (N = {N})')\n",
    "plt.ylabel('PR expression pre-op')\n",
    "plt.xlabel('Post-op grade')\n"
   ],
   "metadata": {
    "collapsed": false
   },
   "id": "bd2215a635fc8695"
  },
  {
   "cell_type": "markdown",
   "source": [
    "The code below generated the crosstable between the p53 and postoperative grade was performed. following the same steps as above."
   ],
   "metadata": {
    "collapsed": false
   },
   "id": "7b188ae959909574"
  },
  {
   "cell_type": "code",
   "execution_count": null,
   "outputs": [],
   "source": [
    "N = len(selection[['p53_expression_PREOP', 'Grade_POSTOP_new']].dropna())\n",
    "\n",
    "selection['p53_expression_PREOP'].replace({'overexpression': 'Mutant', 'wildtype': 'Wildtype'}, inplace=True)\n",
    "sns.heatmap(\n",
    "    (pd.crosstab(selection['p53_expression_PREOP'], selection['Grade_POSTOP_new'], normalize=True) * 100).round(1),\n",
    "    annot=True, fmt='g', cmap='Oranges', vmin=0, vmax=40) \\\n",
    "    .set_title(f'Correlation between p53 expression and post-op grade [%] (N = {N})')\n",
    "\n",
    "plt.ylabel('p53 expression pre-op')\n",
    "plt.xlabel('Post-op grade')\n"
   ],
   "metadata": {
    "collapsed": false
   },
   "id": "ee8d7be38d02edf"
  },
  {
   "cell_type": "markdown",
   "source": [
    "The code below generated the crosstable between the CA125 and postoperative grade was performed. following the same steps as above."
   ],
   "metadata": {
    "collapsed": false
   },
   "id": "dbaeff311a2ae1af"
  },
  {
   "cell_type": "code",
   "execution_count": null,
   "outputs": [],
   "source": [
    "N = len(selection[['CA125_PREOP_bi', 'Grade_POSTOP_new']].dropna())\n",
    "\n",
    "selection['CA125_PREOP_bi'].replace({'<35 U/mL (=normal)': '< 35', '=/>35 U/mL (=abnormal)': '>= 35'}, inplace=True)\n",
    "\n",
    "crosstab = (pd.crosstab(selection['CA125_PREOP_bi'], selection['Grade_POSTOP_new'], normalize=True) * 100).round(1)\n",
    "crosstab.sort_values('CA125_PREOP_bi', ascending=False, inplace=True)\n",
    "\n",
    "sns.heatmap(crosstab, annot=True, fmt='g', cmap='Oranges', vmin=0, vmax=40) \\\n",
    "    .set_title(f'Correlation between CA125 and post-op grade [%] (N = {N})')\n",
    "\n",
    "plt.ylabel('CA125 level pre-op')\n",
    "plt.xlabel('Post-op grade')"
   ],
   "metadata": {
    "collapsed": false
   },
   "id": "2757ba867d2a829f"
  }
 ],
 "metadata": {
  "kernelspec": {
   "display_name": "Python 3",
   "language": "python",
   "name": "python3"
  },
  "language_info": {
   "codemirror_mode": {
    "name": "ipython",
    "version": 2
   },
   "file_extension": ".py",
   "mimetype": "text/x-python",
   "name": "python",
   "nbconvert_exporter": "python",
   "pygments_lexer": "ipython2",
   "version": "2.7.6"
  }
 },
 "nbformat": 4,
 "nbformat_minor": 5
}
