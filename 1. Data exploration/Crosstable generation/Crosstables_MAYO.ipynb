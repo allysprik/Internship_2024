{
 "cells": [
  {
   "cell_type": "markdown",
   "source": [
    "### Author: Ally Sprik\n",
    "### Last-updated: 25-02-2024\n",
    "\n",
    "Goal of this notebook is to generate crosstables for the dataset from MAYO, rochester"
   ],
   "metadata": {
    "collapsed": false
   },
   "id": "cebc6177d41081d1"
  },
  {
   "cell_type": "code",
   "execution_count": null,
   "id": "d40aefbb41fcea53",
   "metadata": {
    "collapsed": false
   },
   "outputs": [],
   "source": [
    "from matplotlib_inline.backend_inline import set_matplotlib_formats\n",
    "from matplotlib import pyplot as plt\n",
    "import seaborn as sns\n",
    "import pandas as pd\n",
    "import numpy as np\n",
    "\n",
    "df = pd.read_csv('../../Cleaned_data/MAYO_with_risk_levels.csv')\n",
    "\n",
    "# Create a smaller more manageable dataframe\n",
    "selection = df[['Preoperative_grade', 'p53_preop_def', 'PR_preop_def_bi', 'CA_125_pos_neg', 'Postoperative_grade',\n",
    "                'MSI_POLE_TP53_NSMP', 'LNM_LNDorSLN']]\n",
    "# Replace some values\n",
    "for column in selection.columns:\n",
    "    print(column)\n",
    "    df[column].replace({9: np.nan, '9': np.nan}, inplace=True)\n",
    "\n",
    "# Set the format for printed figures, and set the figure dpi\n",
    "set_matplotlib_formats('png', 'pdf')\n",
    "plt.rcParams['figure.dpi'] = 150\n",
    "# Set the seaborn style for the plots\n",
    "sns.set_style('darkgrid')\n"
   ]
  },
  {
   "cell_type": "markdown",
   "source": [
    "The code below generated the crosstable between the pre-and postoperative grade. The crosstable is normalized to show the percentage of the total number of patients in each category. The crosstable is then plotted as a heatmap using seaborn. \n"
   ],
   "metadata": {
    "collapsed": false
   },
   "id": "8862b04401f9c254"
  },
  {
   "cell_type": "code",
   "execution_count": null,
   "outputs": [],
   "source": [
    "# Count the number of patients\n",
    "N = len(selection[['Preoperative_grade', 'Postoperative_grade']].dropna())\n",
    "\n",
    "# Generate the crosstable\n",
    "crosstab = (pd.crosstab(selection['Preoperative_grade'], selection['Postoperative_grade'], normalize=True) * 100).round(\n",
    "    1)\n",
    "\n",
    "# Sort the crosstable\n",
    "crosstab.sort_values('Preoperative_grade', ascending=False, inplace=True)\n",
    "\n",
    "# Plot the crosstable as a heatmap\n",
    "x = sns.heatmap(crosstab, annot=True, fmt='g', cmap='Oranges', vmin=0, vmax=40) \\\n",
    "    .set_title(f'Correlation between pre- and post-op grade [%] (N = {N})')\n",
    "\n",
    "# Set the labels for the axes\n",
    "plt.ylabel('Pre-op grade')\n",
    "plt.xlabel('Post-op grade')\n",
    "\n",
    "\n"
   ],
   "metadata": {
    "collapsed": true
   },
   "id": "initial_id"
  },
  {
   "cell_type": "markdown",
   "source": [
    "The code below generated the crosstable between the PR marker and Postoperative grade."
   ],
   "metadata": {
    "collapsed": false
   },
   "id": "975f7a270d815fa3"
  },
  {
   "cell_type": "code",
   "execution_count": null,
   "outputs": [],
   "source": [
    "selection.index = selection.index.astype(int)\n",
    "# Correct labels\n",
    "selection['PR_preop_def_bi'].replace({' ': np.nan, '9': np.nan, 0: 'Negative', 1: 'Positive', 2: 'Negative'},\n",
    "                                     inplace=True)\n",
    "#  Count the number of patients\n",
    "N = len(selection[['PR_preop_def_bi', 'Postoperative_grade']].dropna())\n",
    "\n",
    "# Generate the crosstable\n",
    "crosstab = (pd.crosstab(selection['PR_preop_def_bi'], selection['Postoperative_grade'], normalize=True) * 100).round(1)\n",
    "\n",
    "# Plot the crosstable as a heatmap\n",
    "x = sns.heatmap(crosstab, annot=True, fmt='g', cmap='Oranges', vmin=0, vmax=40) \\\n",
    "    .set_title(f'Correlation between PR expression and post-op grade [%] (N = {N})')\n",
    "\n",
    "# Set the labels for the axes\n",
    "plt.ylabel('PR expression pre-op')\n",
    "plt.xlabel('Post-op grade')\n",
    "\n"
   ],
   "metadata": {
    "collapsed": false
   },
   "id": "dd8eaeef0f58aa6a"
  },
  {
   "cell_type": "markdown",
   "source": [
    "The code below generated the crosstable between the p53 marker and Postoperative grade. following the same steps as above."
   ],
   "metadata": {
    "collapsed": false
   },
   "id": "8edf7b25fb5c8881"
  },
  {
   "cell_type": "code",
   "execution_count": null,
   "outputs": [],
   "source": [
    "selection['p53_preop_def'].replace({' ': np.nan, '9': np.nan, 0: 'Wildtype', 1: 'Mutant'},\n",
    "                                      inplace=True)\n",
    "N = len(selection[['p53_preop_def', 'Postoperative_grade']].dropna())\n",
    "\n",
    "sns.heatmap(\n",
    "    (pd.crosstab(selection['p53_preop_def'], selection['Postoperative_grade'], normalize=True) * 100).round(1),\n",
    "    annot=True, fmt='g', cmap='Oranges', vmin=0, vmax=40) \\\n",
    "    .set_title(f'Correlation between p53 expression and post-op grade [%] (N = {N})')\n",
    "\n",
    "plt.ylabel('p53 expression pre-op')\n",
    "\n"
   ],
   "metadata": {
    "collapsed": false
   },
   "id": "3cf992e771317086"
  },
  {
   "cell_type": "markdown",
   "source": [
    "The code below generated the crosstable between the CA125 marker and Postoperative grade. following the same steps as above."
   ],
   "metadata": {
    "collapsed": false
   },
   "id": "7b2aa5a9e3e6a13f"
  },
  {
   "cell_type": "code",
   "execution_count": null,
   "outputs": [],
   "source": [
    "selection['CA_125_pos_neg'].replace({'9': np.nan, 9: np.nan, 1: '< 35', 0: '>= 35'}, inplace=True)\n",
    "\n",
    "N = len(selection[['CA_125_pos_neg', 'Postoperative_grade']].dropna())\n",
    "\n",
    "crosstab = (pd.crosstab(selection['CA_125_pos_neg'], selection['Postoperative_grade'], normalize=True) * 100).round(1)\n",
    "crosstab.sort_values('CA_125_pos_neg', ascending=False, inplace=True)\n",
    "\n",
    "sns.heatmap(crosstab, annot=True, fmt='g', cmap='Oranges', vmin=0, vmax=40) \\\n",
    "    .set_title(f'Correlation between CA125 and post-op grade [%] (N = {N})')\n",
    "\n",
    "plt.ylabel('CA125 level pre-op')\n",
    "plt.xlabel('Post-op grade')\n"
   ],
   "metadata": {
    "collapsed": false
   },
   "id": "851cd65a3ae6f0eb"
  },
  {
   "cell_type": "markdown",
   "source": [
    "The code below generated the crosstable between the TCGA molecular classification and LNM. following the same steps as above."
   ],
   "metadata": {
    "collapsed": false
   },
   "id": "91fa5f926e871db"
  },
  {
   "cell_type": "code",
   "execution_count": null,
   "outputs": [],
   "source": [
    "selection['MSI_POLE_TP53_NSMP'].replace({9: np.nan, '9': np.nan, 1: 'MSI', 2: 'POLE', 3: 'p53', 4: 'NSMP'},\n",
    "                                        inplace=True)\n",
    "selection['MSI_POLE_TP53_NSMP'].value_counts(dropna=False)\n",
    "\n",
    "N = len(selection[['MSI_POLE_TP53_NSMP', 'LNM_LNDorSLN']].dropna())\n",
    "selection['LNM_LNDorSLN'].replace({0: 'No', 1: 'Yes'}, inplace=True)\n",
    "crosstab = (pd.crosstab(selection['MSI_POLE_TP53_NSMP'], selection['LNM_LNDorSLN'], normalize=True) * 100).round(1)\n",
    "\n",
    "crosstab = crosstab.reindex(['TP53', 'MSI/MMR', 'POLE', 'NSMP'])\n",
    "\n",
    "sns.heatmap(crosstab, annot=True, fmt='g', cmap='Oranges', vmin=0, vmax=40) \\\n",
    "    .set_title(f'Correlation between MSI, POLE, P53 and NSMP \\n and lymph node metastasis [%] (N = {N})')\n",
    "\n",
    "plt.ylabel('TCGA molecular classification')\n",
    "plt.xlabel('Lymph node metastasis')"
   ],
   "metadata": {
    "collapsed": false
   },
   "id": "a3fc359b267b5635"
  },
  {
   "cell_type": "markdown",
   "source": [
    "The code below generated the crosstable between the TCGA molecular classification and LNM where lympadenectomy was performed. following the same steps as above."
   ],
   "metadata": {
    "collapsed": false
   },
   "id": "a53b2f54de4ebb90"
  },
  {
   "cell_type": "code",
   "execution_count": null,
   "outputs": [],
   "source": [
    "# Correlation between TCGA molecular classification and LNM where lympadenectomy was performed\n",
    "N = len(selection[['MSI_POLE_TP53_NSMP', 'LNM_LNDorSLN']].dropna())\n",
    "\n",
    "selection['LNM_LNDorSLN'].replace({0: 'No', 1: 'Yes'}, inplace=True)\n",
    "crosstab = (pd.crosstab(selection['MSI_POLE_TP53_NSMP'], selection['LNM_LNDorSLN'], normalize=True) * 100).round(1)\n",
    "\n",
    "crosstab = crosstab.reindex(['TP53', 'MSI/MMR', 'POLE', 'NSMP'])\n",
    "\n",
    "sns.heatmap(crosstab, annot=True, fmt='g', cmap='Oranges', vmin=0, vmax=40) \\\n",
    "    .set_title(f'Correlation between MSI, POLE, P53 and NSMP and LNM,\\n Lymphadenectomy (all) [%] (N = {N})')\n",
    "\n",
    "plt.ylabel('TCGA molecular classification')\n",
    "plt.xlabel('Lymph node metastasis')\n"
   ],
   "metadata": {
    "collapsed": false
   },
   "id": "6352a7a9fe6756ec"
  }
 ],
 "metadata": {
  "kernelspec": {
   "display_name": "Python 3",
   "language": "python",
   "name": "python3"
  },
  "language_info": {
   "codemirror_mode": {
    "name": "ipython",
    "version": 2
   },
   "file_extension": ".py",
   "mimetype": "text/x-python",
   "name": "python",
   "nbconvert_exporter": "python",
   "pygments_lexer": "ipython2",
   "version": "2.7.6"
  }
 },
 "nbformat": 4,
 "nbformat_minor": 5
}
