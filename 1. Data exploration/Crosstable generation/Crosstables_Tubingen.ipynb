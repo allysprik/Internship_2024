{
 "cells": [
  {
   "cell_type": "markdown",
   "source": [
    "### Author: Ally Sprik\n",
    "### Last-updated: 25-02-2024\n",
    "\n",
    "Goal of this notebook is to generate crosstables for the dataset from Tubingen\n",
    "\n"
   ],
   "metadata": {
    "collapsed": false
   },
   "id": "26d4ff74c7468dc4"
  },
  {
   "cell_type": "code",
   "execution_count": null,
   "id": "52fd1f3a1352cc05",
   "metadata": {
    "collapsed": false
   },
   "outputs": [],
   "source": [
    "from matplotlib_inline.backend_inline import set_matplotlib_formats\n",
    "import matplotlib.pyplot as plt\n",
    "import seaborn as sns\n",
    "import pandas as pd\n",
    "import numpy as np\n",
    "\n",
    "df = pd.read_csv('../../Cleaned_data/Tubingen_risk_groups.csv', index_col=0)\n",
    "\n",
    "# rename some labels\n",
    "df['MolClass'].replace({'MMRd' : 'MSI', 'p53abn' : 'p53'}, inplace=True)\n",
    "\n",
    "# select a more manageable subset of the data\n",
    "selection = df[\n",
    "    ['Grade_POSTOP', 'Grade_PREOP', 'PR_PREOP', 'p53_PREOP', 'Pre-operative CA-125 level ', 'MolClass', 'LNM_obs']]\n",
    "\n",
    "# Set the output format for the plots and the dpi\n",
    "set_matplotlib_formats('png', 'pdf')\n",
    "plt.rcParams['figure.dpi'] = 150\n",
    "# Set style\n",
    "sns.set_style('darkgrid')\n"
   ]
  },
  {
   "cell_type": "markdown",
   "source": [
    "The code below generated the crosstable between the pre-and postoperative grade. The crosstable is normalized to show the percentage of the total number of patients in each category. The crosstable is then plotted as a heatmap using seaborn.  "
   ],
   "metadata": {
    "collapsed": false
   },
   "id": "d05b5a21c731846f"
  },
  {
   "cell_type": "code",
   "execution_count": null,
   "outputs": [],
   "source": [
    "# Count the number of patients in the selection\n",
    "N = len(selection[['Grade_PREOP', 'Grade_POSTOP']].dropna())\n",
    "\n",
    "# Create the crosstable\n",
    "crosstab = (pd.crosstab(selection['Grade_PREOP'], selection['Grade_POSTOP'], normalize=True) * 100).round(1)\n",
    "\n",
    "# Sort the crosstable\n",
    "crosstab.sort_values('Grade_PREOP', ascending=False, inplace=True)\n",
    "\n",
    "# Plot the crosstable as a heatmap\n",
    "x = sns.heatmap(crosstab, annot=True, fmt='g', cmap='Oranges', vmin=0, vmax=40) \\\n",
    "    .set_title(f'Correlation between pre- and post-op grade [%] (N = {N})')\n",
    "\n",
    "# Set the labels\n",
    "plt.ylabel('Pre-op grade')\n",
    "plt.xlabel('Post-op grade')\n",
    "\n"
   ],
   "metadata": {
    "collapsed": true
   },
   "id": "initial_id"
  },
  {
   "cell_type": "markdown",
   "source": [
    "The code below generated the crosstable between the PR and postoperative grade was performed. following the same steps as above."
   ],
   "metadata": {
    "collapsed": false
   },
   "id": "bcc97d4df02ec025"
  },
  {
   "cell_type": "code",
   "execution_count": null,
   "outputs": [],
   "source": [
    "# Count the number of patients in the selection\n",
    "N = len(selection[['PR_PREOP', 'Grade_POSTOP']].dropna())\n",
    "\n",
    "# Replace the numerical values with the corresponding labels\n",
    "selection['PR_PREOP'].replace({0: 'Negative', 1: 'Positive'}, inplace=True)\n",
    "\n",
    "# Create the crosstable\n",
    "crosstab = (pd.crosstab(selection['PR_PREOP'], selection['Grade_POSTOP'], normalize=True) * 100).round(1)\n",
    "\n",
    "# Create the heatmap\n",
    "x = sns.heatmap(crosstab, annot=True, fmt='g', cmap='Oranges', vmin=0, vmax=40) \\\n",
    "    .set_title(f'Correlation between PR expression and post-op grade [%] (N = {N})')\n",
    "\n",
    "# Set the labels\n",
    "plt.ylabel('PR expression pre-op')\n",
    "plt.xlabel('Post-op grade')\n"
   ],
   "metadata": {
    "collapsed": false
   },
   "id": "817c2ab584b0edb2"
  },
  {
   "cell_type": "markdown",
   "source": [
    "The code below generated the crosstable between the p53 and postoperative grade was performed. following the same steps as above."
   ],
   "metadata": {
    "collapsed": false
   },
   "id": "a12887be35930e81"
  },
  {
   "cell_type": "code",
   "execution_count": null,
   "outputs": [],
   "source": [
    "# Count the number of patients in the selection\n",
    "N = len(selection[['p53_PREOP', 'Grade_POSTOP']].dropna())\n",
    "\n",
    "# Replace the numerical values with the corresponding labels\n",
    "selection['p53_PREOP'].replace({1: 'Mutant', 0: 'Wildtype'}, inplace=True)\n",
    "\n",
    "# Create the crosstable and plot the heatmap\n",
    "sns.heatmap((pd.crosstab(selection['p53_PREOP'], selection['Grade_POSTOP'], normalize=True) * 100).round(1), annot=True,\n",
    "            fmt='g', cmap='Oranges', vmin=0, vmax=40) \\\n",
    "    .set_title(f'Correlation between p53 expression and post-op grade [%] (N = {N})')\n",
    "\n",
    "# Set the labels\n",
    "plt.ylabel('p53 expression pre-op')\n",
    "\n"
   ],
   "metadata": {
    "collapsed": false
   },
   "id": "b4a4cbfb70d3a937"
  },
  {
   "cell_type": "markdown",
   "source": [
    "The code below generated the crosstable between the CA125 and postoperative grade was performed. following the same steps as above."
   ],
   "metadata": {
    "collapsed": false
   },
   "id": "829bf1837e19465c"
  },
  {
   "cell_type": "code",
   "execution_count": null,
   "outputs": [],
   "source": [
    "# Count the number of patients in the selection\n",
    "N = len(selection[['Pre-operative CA-125 level ', 'Grade_POSTOP']].dropna())\n",
    "\n",
    "# Create the crosstable\n",
    "crosstab = (pd.crosstab(selection['Pre-operative CA-125 level '], selection['Grade_POSTOP'],\n",
    "                        normalize=True) * 100).round(1)\n",
    "\n",
    "# Sort the crosstable\n",
    "crosstab.sort_values('Pre-operative CA-125 level ', ascending=False, inplace=True)\n",
    "\n",
    "# Plot the heatmap\n",
    "sns.heatmap(crosstab, annot=True, fmt='g', cmap='Oranges', vmin=0, vmax=40) \\\n",
    "    .set_title(f'Correlation between CA125 and post-op grade [%] (N = {N})')\n",
    "\n",
    "# Set the labels\n",
    "plt.ylabel('CA125 level pre-op')\n",
    "plt.xlabel('Post-op grade')\n"
   ],
   "metadata": {
    "collapsed": false
   },
   "id": "1b7c3d8cc7999828"
  },
  {
   "cell_type": "markdown",
   "source": [
    "The code below generated the crosstable between the molecular classification and LNM was performed. following the same steps as above."
   ],
   "metadata": {
    "collapsed": false
   },
   "id": "1ca2e19f1bbf5668"
  },
  {
   "cell_type": "code",
   "execution_count": null,
   "outputs": [],
   "source": [
    "# Count the number of patients in the selection\n",
    "N = len(selection[['MolClass', 'LNM_obs']].dropna())\n",
    "\n",
    "# Create the crosstable\n",
    "crosstab = (pd.crosstab(selection['MolClass'], selection['LNM_obs'], normalize=True)*100).round(1)\n",
    "# Sort the crosstable\n",
    "crosstab = crosstab.reindex(['p53', 'MSI', 'NSMP', 'POLE'])\n",
    "\n",
    "# Plot the heatmap\n",
    "x = sns.heatmap(crosstab, annot=True, fmt='g', cmap='Oranges', vmin=0, vmax=40)\\\n",
    "\t.set_title(f'Correlation between DNA mutation and \\n lymph node metastasis [%] (N = {N})')\n",
    "\n",
    "# Set the labels\n",
    "plt.ylabel('TCGA molecular classification')\n",
    "plt.xlabel('LNM')\n"
   ],
   "metadata": {
    "collapsed": false
   },
   "id": "cc7ecfa13add388c"
  }
 ],
 "metadata": {
  "kernelspec": {
   "display_name": "Python 3",
   "language": "python",
   "name": "python3"
  },
  "language_info": {
   "codemirror_mode": {
    "name": "ipython",
    "version": 2
   },
   "file_extension": ".py",
   "mimetype": "text/x-python",
   "name": "python",
   "nbconvert_exporter": "python",
   "pygments_lexer": "ipython2",
   "version": "2.7.6"
  }
 },
 "nbformat": 4,
 "nbformat_minor": 5
}
