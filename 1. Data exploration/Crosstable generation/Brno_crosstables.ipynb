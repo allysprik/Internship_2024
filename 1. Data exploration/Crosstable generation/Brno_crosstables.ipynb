{
 "cells": [
  {
   "cell_type": "markdown",
   "source": [
    "### Author: Ally Sprik\n",
    "### Last-updated: 25-02-2024\n",
    "\n",
    "Goal of this notebook is to generate crosstables for the dataset from Brno"
   ],
   "metadata": {
    "collapsed": false
   },
   "id": "4fcda30982770873"
  },
  {
   "cell_type": "code",
   "execution_count": null,
   "id": "initial_id",
   "metadata": {
    "collapsed": true
   },
   "outputs": [],
   "source": [
    "from matplotlib_inline.backend_inline import set_matplotlib_formats\n",
    "import numpy as np\n",
    "import matplotlib.pyplot as plt\n",
    "import pandas as pd\n",
    "import seaborn as sns\n",
    "\n",
    "\n",
    "df = pd.read_csv(\"../../0.1. Cleaned_data/Cleaned_Brno_model_complete.csv\")\n",
    "\n",
    "set_matplotlib_formats('png', 'pdf') # Sets the output of the images to PNG, making them able to be copied\n",
    "plt.rcParams['figure.dpi'] = 150\n"
   ]
  },
  {
   "cell_type": "markdown",
   "source": [
    "Code block below implements the TCGA variables into a single variable according to the clinical guidelines."
   ],
   "metadata": {
    "collapsed": false
   },
   "id": "e1f1f79681fbf913"
  },
  {
   "cell_type": "code",
   "execution_count": null,
   "outputs": [],
   "source": [
    "# Create a combined TCGA algorithm column\n",
    "df['TCGA'] = np.nan\n",
    "\n",
    "for i in range(len(df)):\n",
    "    if pd.isna(df['MSI'][i]) and pd.isna(df['POLE'][i]) and pd.isna(df['p53'][i]):\n",
    "        df.at[i, 'TCGA'] = np.nan\n",
    "    elif df['MSI'][i] == 'yes':\n",
    "        df.at[i, 'TCGA'] = 'MSI'\n",
    "    elif df['POLE'][i] == 'yes':\n",
    "        df.at[i, 'TCGA'] = 'POLE'\n",
    "    elif df['p53'][i] == 'mutant':\n",
    "        df.at[i, 'TCGA'] = 'p53'\n",
    "    else:\n",
    "        df.at[i, 'TCGA'] = 'NSMP'\n"
   ],
   "metadata": {
    "collapsed": false
   },
   "id": "f061d906badd387e"
  },
  {
   "cell_type": "markdown",
   "source": [
    "The code below generated the crosstable between the TCGA groups and lymph node metastasis"
   ],
   "metadata": {
    "collapsed": false
   },
   "id": "57e8c73eef4dd16b"
  },
  {
   "cell_type": "code",
   "execution_count": null,
   "outputs": [],
   "source": [
    "# Set a figure size, sometimes good to play with for presentations and papers.\n",
    "plt.figure(figsize=(5,5))\n",
    "# Calculate the amount of rows that have an entry in both TCGA and LNM\n",
    "N = len(df[['TCGA', 'LNM']].dropna())\n",
    "# Create the crosstable, normalised and rounded.\n",
    "crosstab = (pd.crosstab( df['TCGA'],df['LNM'], normalize=True) * 100).round(1)\n",
    "# Reindex to create the order you'd like, axis designated the x(1) or y(0)-axis\n",
    "crosstab = crosstab.reindex(['p53', 'MSI', 'POLE', 'NSMP'], axis=0)\n",
    "# Since in this dataset, after the clinical TCGA classification there are no people with a POLE classification, fill up the empty spaces with 0 so they are still displayed.\n",
    "crosstab = crosstab.fillna(0)\n",
    "# Plot a SNS heatmap\n",
    "x = sns.heatmap(crosstab, annot=True, fmt='g', cmap='Oranges', vmin=0, vmax=40) \\\n",
    "    .set_title(f'Brno correlation between TCGA molecular\\n classification and lymph node metastasis [%] (N = {N})')\n",
    "# Plot labels\n",
    "plt.ylabel('TCGA molecular classification')\n",
    "plt.xlabel('Lymph node metastasis')    \n"
   ],
   "metadata": {
    "collapsed": false
   },
   "id": "7052077c30801402"
  },
  {
   "cell_type": "markdown",
   "source": [
    "The following code block generates the crosstable and heatmap for US_MI (called MRI_MI in the dataset here since it is the cleaned dataset for plugging in the model) and myometrial invasion"
   ],
   "metadata": {
    "collapsed": false
   },
   "id": "87bd670d7f4798bf"
  },
  {
   "cell_type": "code",
   "execution_count": null,
   "outputs": [],
   "source": [
    "# Crosstable US_MI and Myometrial invasion\n",
    "N = len(df[['MRI_MI', 'MyometrialInvasion']].dropna())\n",
    "crosstab = (pd.crosstab(df['MRI_MI'], df['MyometrialInvasion'], normalize=True) * 100).round(1)\n",
    "# Reindex values\n",
    "crosstab = crosstab.reindex(['ge_50', 'lt_50'])\n",
    "crosstab = crosstab.reindex(['lt_50', 'ge_50'], axis=1)\n",
    "# Create better labels\n",
    "crosstab.rename(columns={'lt_50': '< 50', 'ge_50': '>= 50'}, index={'lt_50': '< 50', 'ge_50': '>= 50'}, inplace=True)\n",
    "# Seaborn heatmap\n",
    "x = sns.heatmap(crosstab, annot=True, fmt='g', cmap='Oranges', vmin=0, vmax=40) \\\n",
    "    .set_title(f'Correlation between US_MI and\\n myometrial invasion [%] (N = {N})')\n",
    "\n",
    "# Plot labels\n",
    "plt.ylabel('US_MI')\n",
    "plt.xlabel('Myometrial invasion')\n",
    "\n"
   ],
   "metadata": {
    "collapsed": false
   },
   "id": "fdfe7c802b728e87"
  }
 ],
 "metadata": {
  "kernelspec": {
   "display_name": "Python 3",
   "language": "python",
   "name": "python3"
  },
  "language_info": {
   "codemirror_mode": {
    "name": "ipython",
    "version": 2
   },
   "file_extension": ".py",
   "mimetype": "text/x-python",
   "name": "python",
   "nbconvert_exporter": "python",
   "pygments_lexer": "ipython2",
   "version": "2.7.6"
  }
 },
 "nbformat": 4,
 "nbformat_minor": 5
}
