{
 "cells": [
  {
   "cell_type": "markdown",
   "source": [
    "### Author: Ally Sprik\n",
    "### Last-updated: 25-02-2024\n",
    "\n",
    "Goal of this notebook is to examine the correlation of BMI to other variables and risk groups \n",
    "\n"
   ],
   "metadata": {
    "collapsed": false
   },
   "id": "5fce5aec539c61cb"
  },
  {
   "cell_type": "code",
   "execution_count": null,
   "id": "initial_id",
   "metadata": {
    "collapsed": true
   },
   "outputs": [],
   "source": [
    "import pandas as pd\n",
    "import numpy as np\n",
    "import matplotlib.pyplot as plt\n",
    "import seaborn as sns\n",
    "\n",
    "df_train = pd.read_csv('../0.1. Cleaned_data/Training_TCGA_Risk_levels.csv')\n",
    "df_MAYO = pd.read_csv('../0.1. Cleaned_data/MAYO_with_risk_levels.csv')\n",
    "df_PIP = pd.read_csv('../0.1. Cleaned_data/Pipendo_with_risk_levels.csv')"
   ]
  },
  {
   "cell_type": "markdown",
   "source": [
    "Select the following columns in each dataset and rename them to be the same\n",
    "- BMI\n",
    "- Preoperative grade\n",
    "- Postoperative grade\n",
    "- PR\n",
    "- ER \n",
    "- L1CAM\n",
    "- P53"
   ],
   "metadata": {
    "collapsed": false
   },
   "id": "5cf0d02ce3036cd5"
  },
  {
   "cell_type": "code",
   "execution_count": null,
   "outputs": [],
   "source": [
    "Train_cols = [\"BMI\", \"Grade_PREOP\", \"Grade\", \"p53_expression_preop\", \"ER_expression_preop\", \"PR_expression_preop\", \"L1CAM_expression_preop\"]\n",
    "Mayo_cols = [\"BMI\", \"Preoperative_grade\", \"Postoperative_grade\", \"p53_preop_def\", \"ER_preop_def_bi\", \"PR_preop_def_bi\", \"L1CAM_preop_def\"]\n",
    "Pip_cols = [\"BMI\", \"Rev_preop_grade\", \"Final_diagnosis_grade\", \"p53_expression_PREOP\", \"ER_expression_PREOP\", \"PR_expression_PREOP\", \"L1CAM_expression_PREOP\"]\n",
    "\n",
    "df_train = df_train[Train_cols]\n",
    "df_train = df_train.rename(columns={\"Grade_PREOP\": \"Preop_Grade\", \"Grade\":\"Postop_grade\", \"p53_expression_preop\":\"p53\", \"ER_expression_preop\":\"ER\", \"PR_expression_preop\": \"PR\", \"L1CAM_expression_preop\": \"L1CAM\"})\n",
    "\n",
    "df_MAYO = df_MAYO[Mayo_cols]\n",
    "df_MAYO = df_MAYO.rename(columns={\"Preoperative_grade\": \"Preop_Grade\", \"Postoperative_grade\": \"Postop_grade\", \"p53_preop_def\": \"p53\", \"ER_preop_def_bi\": \"ER\", \"PR_preop_def_bi\": \"PR\", \"L1CAM_preop_def\": \"L1CAM\"})\n",
    "\n",
    "df_PIP = df_PIP[Pip_cols]\n",
    "df_PIP = df_PIP.rename(columns={\"Rev_preop_grade\": \"Preop_Grade\", \"Final_diagnosis_grade\": \"Postop_grade\", \"p53_expression_PREOP\": \"p53\", \"ER_expression_PREOP\": \"ER\", \"PR_expression_PREOP\": \"PR\", \"L1CAM_expression_PREOP\": \"L1CAM\"})\n",
    "\n"
   ],
   "metadata": {
    "collapsed": false
   },
   "id": "a7d023588f8ab019"
  },
  {
   "cell_type": "markdown",
   "source": [
    "The following code deals with the BMI columns by using regular expressions to extract the value"
   ],
   "metadata": {
    "collapsed": false
   },
   "id": "bf88e7221af8cd30"
  },
  {
   "cell_type": "code",
   "execution_count": null,
   "outputs": [],
   "source": [
    "import re \n",
    "p = re.compile(r'(\\d+),(\\d+)')\n",
    "df_train['BMI'] = df_train['BMI'].apply(lambda x: p.sub(r'\\1.\\2', x) if isinstance(x, str) else x)\n",
    "df_train['BMI'] = pd.to_numeric(df_train['BMI'], errors='coerce')\n",
    "\n",
    "# Make sure all the categories are the same over the datasets \n",
    "df_train[\"BMI\"] = df_train[\"BMI\"].astype(float)\n",
    "df_MAYO[\"BMI\"] = df_MAYO[\"BMI\"].astype(float)\n",
    "df_PIP[\"BMI\"] = df_PIP[\"BMI\"].astype(float)\n"
   ],
   "metadata": {
    "collapsed": false
   },
   "id": "924a9068c2dd3426"
  },
  {
   "cell_type": "markdown",
   "source": [
    "The following code encodes labels into numerical categories"
   ],
   "metadata": {
    "collapsed": false
   },
   "id": "3bc7f984cccb906"
  },
  {
   "cell_type": "code",
   "execution_count": null,
   "outputs": [],
   "source": [
    "df_PIP[\"Preop_Grade\"].replace({\"grade 1\":1, \"grade 2\":2, \"grade 3\":3, 5:np.nan, 18:np.nan}, inplace=True)\n",
    "df_PIP[\"Postop_grade\"].replace({\"I\":1, \"II\":2, \"III\":3}, inplace=True)\n",
    "df_PIP[\"p53\"].replace({\"wildtype\":0, \"overexpression\":1}, inplace=True)\n",
    "df_PIP[\"ER\"].replace({\">10%, unclear percentage\":1, \"<10%\":0}, inplace=True)\n",
    "df_PIP[\"PR\"].replace({\">10%, unclear percentage\":1, \"<10%\":0}, inplace=True)\n",
    "df_PIP[\"L1CAM\"].replace({\"<10%\":0, \"=/> 10%\":1}, inplace=True)\n",
    "\n",
    "# Force all as float\n",
    "df_train = df_train.astype(float)\n",
    "df_MAYO = df_MAYO.astype(float)\n",
    "df_PIP = df_PIP.astype(float)\n"
   ],
   "metadata": {
    "collapsed": false
   },
   "id": "7f9afbac624c126c"
  },
  {
   "cell_type": "markdown",
   "source": [
    "Selecting only the low postoperativegrade patients, since this is the population that is interesting "
   ],
   "metadata": {
    "collapsed": false
   },
   "id": "5233d62e16d0580e"
  },
  {
   "cell_type": "code",
   "execution_count": null,
   "outputs": [],
   "source": [
    "# Select grade 1 and 2 only\n",
    "df_train = df_train[df_train[\"Postop_grade\"] != 3]\n",
    "df_MAYO = df_MAYO[df_MAYO[\"Postop_grade\"] != 3]\n",
    "df_PIP = df_PIP[df_PIP[\"Postop_grade\"] != 3]\n"
   ],
   "metadata": {
    "collapsed": false
   },
   "id": "d1549cce92b64a8e"
  },
  {
   "cell_type": "markdown",
   "source": [
    "Create BMI categories"
   ],
   "metadata": {
    "collapsed": false
   },
   "id": "2f000989b473bd8f"
  },
  {
   "cell_type": "code",
   "execution_count": null,
   "outputs": [],
   "source": [
    "# Divide BMI into 3 categories\n",
    "df_train[\"BMI_cat\"] = df_train[\"BMI\"].apply(lambda x: \"<25\" if x < 25 else (\">=25 and <30\" if x < 30 else \">=30\"))\n",
    "df_MAYO[\"BMI_cat\"] = df_MAYO[\"BMI\"].apply(lambda x: \"<25\" if x < 25 else (\">=25 and <30\" if x < 30 else \">=30\"))\n",
    "df_PIP[\"BMI_cat\"] = df_PIP[\"BMI\"].apply(lambda x: \"<25\" if x < 25 else (\">=25 and <30\" if x < 30 else \">=30\"))\n",
    "\n",
    "# Drop the original BMI and pre and postop grades\n",
    "df_train.drop(columns=[\"BMI\", \"Postop_grade\", \"Preop_Grade\"], inplace=True)"
   ],
   "metadata": {
    "collapsed": false
   },
   "id": "efbc40eadaaa821d"
  },
  {
   "cell_type": "markdown",
   "source": [
    "The following code created bar charts per category of BMI in the training set"
   ],
   "metadata": {
    "collapsed": false
   },
   "id": "29bfe7660fe3bc9"
  },
  {
   "cell_type": "code",
   "execution_count": null,
   "outputs": [],
   "source": [
    "# Define a dataframe for only the <25 group, with the counts for the histochemical markers\n",
    "df_train_low = df_train[df_train[\"BMI_cat\"] == \"<25\"].drop(columns=[\"BMI_cat\"]).replace({0:\"Normal\", 1:\"Abnormal\"})\n",
    "df_train_low_plot = pd.DataFrame([\n",
    "    df_train_low[\"p53\"].value_counts(dropna=False),\n",
    "    df_train_low[\"ER\"].value_counts(dropna=False),\n",
    "    df_train_low[\"PR\"].value_counts(dropna=False),\n",
    "    df_train_low[\"L1CAM\"].value_counts(dropna=False)\n",
    "    ], index=[\"p53\", \"ER\", \"PR\", \"L1CAM\"]).T\n",
    "\n",
    "# Define a dataframe for the >25 <30 group with the counts for the histochemical markers\n",
    "df_train_mid = df_train[df_train[\"BMI_cat\"] == \">=25 and <30\"].drop(columns=[\"BMI_cat\"]).replace({0:\"Normal\", 1:\"Abnormal\"})\n",
    "df_train_mid_plot = pd.DataFrame([\n",
    "    df_train_mid[\"p53\"].value_counts(dropna=False),\n",
    "    df_train_mid[\"ER\"].value_counts(dropna=False),\n",
    "    df_train_mid[\"PR\"].value_counts(dropna=False),\n",
    "    df_train_mid[\"L1CAM\"].value_counts(dropna=False)\n",
    "    ], index=[\"p53\", \"ER\", \"PR\", \"L1CAM\"]).T\n",
    "\n",
    "# Define a dataframe for the >30 group with teh counts for the histochemical markers\n",
    "df_train_high = df_train[df_train[\"BMI_cat\"] == \">=30\"].drop(columns=[\"BMI_cat\"]).replace({0:\"Low\", 1:\"High\"})\n",
    "df_train_high_plot = pd.DataFrame([\n",
    "    df_train_high[\"p53\"].value_counts(dropna=False),\n",
    "    df_train_high[\"ER\"].value_counts(dropna=False),\n",
    "    df_train_high[\"PR\"].value_counts(dropna=False),\n",
    "    df_train_high[\"L1CAM\"].value_counts(dropna=False)\n",
    "    ], index=[\"p53\", \"ER\", \"PR\", \"L1CAM\"]).T\n",
    "\n",
    "# Plot the generated dataframes.\n",
    "fig, ax = plt.subplots(1,3, figsize=(20,10))\n",
    "# Reindex the dataframes to make sure the order is the same for all plots\n",
    "\n",
    "df_train_low_plot.reindex([\"Normal\", \"Abnormal\", np.nan]).plot(kind=\"bar\", ax=ax[0], rot=0, title=\"BMI < 25\")\n",
    "df_train_mid_plot.reindex([\"Normal\", \"Abnormal\", np.nan]).plot(kind=\"bar\", ax=ax[1], rot=0, title=\"BMI >= 25 and < 30\")\n",
    "df_train_high_plot.reindex([\"Low\", \"High\", np.nan]).plot(kind=\"bar\", ax=ax[2], rot=0, title=\"BMI >= 30\")\n"
   ],
   "metadata": {
    "collapsed": false
   },
   "id": "3321776f4aa8fb41"
  },
  {
   "cell_type": "markdown",
   "source": [
    "The following code created bar charts per category of BMI in the MAYO set"
   ],
   "metadata": {
    "collapsed": false
   },
   "id": "e3ba5da51845b0"
  },
  {
   "cell_type": "code",
   "execution_count": null,
   "outputs": [],
   "source": [
    "# Create bar charts to show the distribution of all expression parameters \n",
    "# Define the dataframe with only the <25 group, with the counts for the histochemical markers\n",
    "df_MAYO_low = df_MAYO[df_MAYO[\"BMI_cat\"] == \"<25\"].drop(columns=[\"BMI_cat\"]).replace({1:\"Normal\", 0:\"Abnormal\"})\n",
    "df_MAYO_low[\"p53\"].replace({\"Abnormal\":\"Normal\", \"Normal\":\"Abnormal\"}, inplace=True)\n",
    "df_MAYO_low[\"L1CAM\"].replace({\"Abnormal\":\"Normal\", \"Normal\":\"Abnormal\"}, inplace=True)\n",
    "# Create a dataframe with the counts for the histochemical markers\n",
    "df_MAYO_low_plot = pd.DataFrame([\n",
    "    df_MAYO_low[\"p53\"].value_counts(dropna=False),\n",
    "    df_MAYO_low[\"ER\"].value_counts(dropna=False),\n",
    "    df_MAYO_low[\"PR\"].value_counts(dropna=False),\n",
    "    df_MAYO_low[\"L1CAM\"].value_counts(dropna=False)\n",
    "    ], index=[\"p53\", \"ER\", \"PR\", \"L1CAM\"]).T\n",
    "\n",
    "# Define the dataframe with only the >25 <30 group, with the counts for the histochemical markers\n",
    "df_MAYO_mid = df_MAYO[df_MAYO[\"BMI_cat\"] == \">=25 and <30\"].drop(columns=[\"BMI_cat\"]).replace({1:\"Normal\", 0:\"Abnormal\"})\n",
    "df_MAYO_mid[\"p53\"].replace({\"Abnormal\":\"Normal\", \"Normal\":\"Abnormal\"}, inplace=True)\n",
    "df_MAYO_mid[\"L1CAM\"].replace({\"Abnormal\":\"Normal\", \"Normal\":\"Abnormal\"}, inplace=True)\n",
    "\n",
    "# Create a dataframe with the counts for the histochemical markers\n",
    "df_MAYO_mid_plot = pd.DataFrame([\n",
    "    df_MAYO_mid[\"p53\"].value_counts(dropna=False),\n",
    "    df_MAYO_mid[\"ER\"].value_counts(dropna=False),\n",
    "    df_MAYO_mid[\"PR\"].value_counts(dropna=False),\n",
    "    df_MAYO_mid[\"L1CAM\"].value_counts(dropna=False)\n",
    "    ], index=[\"p53\", \"ER\", \"PR\", \"L1CAM\"]).T\n",
    "\n",
    "# Define the dataframe with only the >30 group, with the counts for the histochemical markers\n",
    "df_MAYO_high = df_MAYO[df_MAYO[\"BMI_cat\"] == \">=30\"].drop(columns=[\"BMI_cat\"]).replace({1:\"Normal\", 0:\"Abnormal\"})\n",
    "df_MAYO_high[\"p53\"].replace({\"Abnormal\":\"Normal\", \"Normal\":\"Abnormal\"}, inplace=True)\n",
    "df_MAYO_high[\"L1CAM\"].replace({\"Abnormal\":\"Normal\", \"Normal\":\"Abnormal\"}, inplace=True)\n",
    "\n",
    "# Create a dataframe with the counts for the histochemical markers\n",
    "df_MAYO_high_plot = pd.DataFrame([\n",
    "    df_MAYO_high[\"p53\"].value_counts(dropna=False),\n",
    "    df_MAYO_high[\"ER\"].value_counts(dropna=False),\n",
    "    df_MAYO_high[\"PR\"].value_counts(dropna=False),\n",
    "    df_MAYO_high[\"L1CAM\"].value_counts(dropna=False)\n",
    "    ], index=[\"p53\", \"ER\", \"PR\", \"L1CAM\"]).T\n",
    "\n",
    "# Plot the generated dataframes.\n",
    "fig, ax = plt.subplots(1,3, figsize=(20,10))\n",
    "# Reindex the dataframes to make sure the order is the same for all plots\n",
    "df_MAYO_low_plot.reindex([\"Normal\", \"Abnormal\", np.nan]).plot(kind=\"bar\", ax=ax[0], rot=0, title=\"BMI < 25\")\n",
    "df_MAYO_mid_plot.reindex([\"Normal\", \"Abnormal\", np.nan]).plot(kind=\"bar\", ax=ax[1], rot=0, title=\"BMI >= 25 and < 30\")\n",
    "df_MAYO_high_plot.reindex([\"Normal\", \"Abnormal\", np.nan]).plot(kind=\"bar\", ax=ax[2], rot=0, title=\"BMI >= 30\")\n",
    "\n"
   ],
   "metadata": {
    "collapsed": false
   },
   "id": "4c2293d0236c3c72"
  },
  {
   "cell_type": "markdown",
   "source": [
    "The following code created bar charts per category of BMI in the PIPENDO set"
   ],
   "metadata": {
    "collapsed": false
   },
   "id": "cee8b38752e6d9c3"
  },
  {
   "cell_type": "code",
   "execution_count": null,
   "outputs": [],
   "source": [
    "# Create bar charts to show the distribution of all expression parameters\n",
    "# Define the dataframe with only the <25 group, with the counts for the histochemical markers\n",
    "df_PIP_low = df_PIP[df_PIP[\"BMI_cat\"] == \"<25\"].drop(columns=[\"BMI_cat\"]).replace({1:\"Normal\", 0:\"Abnormal\"})\n",
    "df_PIP_low[\"p53\"].replace({\"Abnormal\":\"Normal\", \"Normal\":\"Abnormal\"}, inplace=True)\n",
    "df_PIP_low[\"L1CAM\"].replace({\"Abnormal\":\"Normal\", \"Normal\":\"Abnormal\"}, inplace=True)\n",
    "\n",
    "# Create a dataframe with the counts for the histochemical markers\n",
    "df_PIP_low_plot = pd.DataFrame([\n",
    "    df_PIP_low[\"p53\"].value_counts(dropna=False),\n",
    "    df_PIP_low[\"ER\"].value_counts(dropna=False),\n",
    "    df_PIP_low[\"PR\"].value_counts(dropna=False),\n",
    "    df_PIP_low[\"L1CAM\"].value_counts(dropna=False)\n",
    "    ], index=[\"p53\", \"ER\", \"PR\", \"L1CAM\"]).T\n",
    "\n",
    "# Define the dataframe with only the >25 <30 group, with the counts for the histochemical markers\n",
    "df_PIP_mid = df_PIP[df_PIP[\"BMI_cat\"] == \">=25 and <30\"].drop(columns=[\"BMI_cat\"]).replace({1:\"Normal\", 0:\"Abnormal\"})\n",
    "df_PIP_mid[\"p53\"].replace({\"Abnormal\":\"Normal\", \"Normal\":\"Abnormal\"}, inplace=True)\n",
    "df_PIP_mid[\"L1CAM\"].replace({\"Abnormal\":\"Normal\", \"Normal\":\"Abnormal\"}, inplace=True)\n",
    "\n",
    "# Create a dataframe with the counts for the histochemical markers\n",
    "df_PIP_mid_plot = pd.DataFrame([\n",
    "    df_PIP_mid[\"p53\"].value_counts(dropna=False),\n",
    "    df_PIP_mid[\"ER\"].value_counts(dropna=False),\n",
    "    df_PIP_mid[\"PR\"].value_counts(dropna=False),\n",
    "    df_PIP_mid[\"L1CAM\"].value_counts(dropna=False)\n",
    "    ], index=[\"p53\", \"ER\", \"PR\", \"L1CAM\"]).T\n",
    "\n",
    "# Define the dataframe with only the >30 group, with the counts for the histochemical markers\n",
    "df_PIP_high = df_PIP[df_PIP[\"BMI_cat\"] == \">=30\"].drop(columns=[\"BMI_cat\"]).replace({1:\"Normal\", 0:\"Abnormal\"})\n",
    "df_PIP_high[\"p53\"].replace({\"Abnormal\":\"Normal\", \"Normal\":\"Abnormal\"}, inplace=True)\n",
    "df_PIP_high[\"L1CAM\"].replace({\"Abnormal\":\"Normal\", \"Normal\":\"Abnormal\"}, inplace=True)\n",
    "\n",
    "# Create a dataframe with the counts for the histochemical markers\n",
    "df_PIP_high_plot = pd.DataFrame([\n",
    "    df_PIP_high[\"p53\"].value_counts(dropna=False),\n",
    "    df_PIP_high[\"ER\"].value_counts(dropna=False),\n",
    "    df_PIP_high[\"PR\"].value_counts(dropna=False),\n",
    "    df_PIP_high[\"L1CAM\"].value_counts(dropna=False)\n",
    "    ], index=[\"p53\", \"ER\", \"PR\", \"L1CAM\"]).T\n",
    "\n",
    "# Plot the generated dataframes.\n",
    "fig, ax = plt.subplots(1,3, figsize=(20,10))\n",
    "# Reindex the dataframes to make sure the order is the same for all plots\n",
    "df_PIP_low_plot.reindex([\"Normal\", \"Abnormal\", np.nan]).plot(kind=\"bar\", ax=ax[0], rot=0, title=\"BMI < 25\")\n",
    "df_PIP_mid_plot.reindex([\"Normal\", \"Abnormal\", np.nan]).plot(kind=\"bar\", ax=ax[1], rot=0, title=\"BMI >= 25 and < 30\")\n",
    "df_PIP_high_plot.reindex([\"Normal\", \"Abnormal\", np.nan]).plot(kind=\"bar\", ax=ax[2], rot=0, title=\"BMI >= 30\")"
   ],
   "metadata": {
    "collapsed": false
   },
   "id": "370a9c6f4c8f4f18"
  }
 ],
 "metadata": {
  "kernelspec": {
   "display_name": "Python 3",
   "language": "python",
   "name": "python3"
  },
  "language_info": {
   "codemirror_mode": {
    "name": "ipython",
    "version": 2
   },
   "file_extension": ".py",
   "mimetype": "text/x-python",
   "name": "python",
   "nbconvert_exporter": "python",
   "pygments_lexer": "ipython2",
   "version": "2.7.6"
  }
 },
 "nbformat": 4,
 "nbformat_minor": 5
}
