{
 "cells": [
  {
   "cell_type": "markdown",
   "source": [
    "### Author: Ally Sprik\n",
    "### Last-updated: 25-02-2024\n",
    "\n",
    "Goal of this notebook is to explore the original training dataset used by Reijnen et al. (2020) and to prepare it for further analysis."
   ],
   "metadata": {
    "collapsed": false
   },
   "id": "361a95fda2497515"
  },
  {
   "cell_type": "code",
   "execution_count": null,
   "id": "initial_id",
   "metadata": {
    "collapsed": true
   },
   "outputs": [],
   "source": [
    "import numpy as np\n",
    "import pandas as pd\n",
    "\n",
    "df = pd.read_spss(\"../0. Data/Trainingcohort(_wTCGA)/Original_model_dataset.sav\")\n",
    "# fix NaN labels\n",
    "df.replace({\"\":np.nan,\" \":np.nan,\"99\":np.nan,\"NA\":np.nan},inplace=True)\n",
    "# drop columns that are not useful for the current analysis\n",
    "for x in df.columns.values:\n",
    "    if x.__contains__(\"Comorbidity\") | x.__contains__('ESMO') | x.__contains__('filter') | x.__contains__('_20') | x.__contains__('_30') | x.__contains__('_40') | x.__contains__('_50'):\n",
    "        df.drop(x,axis=1,inplace=True)"
   ]
  },
  {
   "cell_type": "markdown",
   "source": [
    "Create a binary LNM column based on the 'Positive_nodes_including_followup' column"
   ],
   "metadata": {
    "collapsed": false
   },
   "id": "2f5fd1f040432cf6"
  },
  {
   "cell_type": "code",
   "execution_count": null,
   "outputs": [],
   "source": [
    "df['LNM'] = df['Positive_nodes_including_followup'].apply(lambda x: 1 if x == 'yes, confirmed by lymphadenectomy' \n",
    "                                                          else(0 if x == 'no, confirmed by lymphadenectomy' else np.nan))\n",
    "df['LNM'].value_counts(dropna=False)"
   ],
   "metadata": {
    "collapsed": false
   },
   "id": "71b24b26b97f21eb"
  },
  {
   "cell_type": "markdown",
   "source": [
    "There was an error in survival, it is assumed it was because the labels were switched. The labels are switched back to the correct labels."
   ],
   "metadata": {
    "collapsed": false
   },
   "id": "3b2e2d977346278d"
  },
  {
   "cell_type": "code",
   "execution_count": null,
   "outputs": [],
   "source": [
    "# switch yes/no labels for three year survival and five year survival\n",
    "df['three_year_survival'].replace({'yes':0,'no':1},inplace=True)\n",
    "df['five_year_survival'].replace({'yes':0,'no':1},inplace=True)\n",
    "\n",
    "df['three_year_survival'].replace({1:'yes',0:'no'},inplace=True)\n",
    "df['five_year_survival'].replace({1:'yes',0:'no'},inplace=True)"
   ],
   "metadata": {
    "collapsed": false
   },
   "id": "9885120fc0033163"
  },
  {
   "cell_type": "markdown",
   "source": [
    "The following codeblock is a standard codeblock to search for column names that contain a certain substring. If set to \"\", it will return all columns."
   ],
   "metadata": {
    "collapsed": false
   },
   "id": "f63e180d13577cbd"
  },
  {
   "cell_type": "code",
   "execution_count": null,
   "outputs": [],
   "source": [
    "for x in df.columns.values:\n",
    "    if x.__contains__(\"PREOP\"):\n",
    "        print(x)"
   ],
   "metadata": {
    "collapsed": false
   },
   "id": "b8a4971f8af4fd42"
  },
  {
   "cell_type": "markdown",
   "source": [
    "See the grade distribution"
   ],
   "metadata": {
    "collapsed": false
   },
   "id": "3dcf624435b41b87"
  },
  {
   "cell_type": "code",
   "execution_count": null,
   "outputs": [],
   "source": [
    "df['Grade'].value_counts(dropna=False)"
   ],
   "metadata": {
    "collapsed": false
   },
   "id": "11b25ddeab24239b"
  },
  {
   "cell_type": "markdown",
   "source": [
    "See the ER expression distribution"
   ],
   "metadata": {
    "collapsed": false
   },
   "id": "968a67c3e178bd08"
  },
  {
   "cell_type": "code",
   "execution_count": null,
   "outputs": [],
   "source": [
    "df[\"ER_expression_preop\"].value_counts(dropna=False)"
   ],
   "metadata": {
    "collapsed": false
   },
   "id": "f0d08ddd0898b518"
  },
  {
   "cell_type": "markdown",
   "source": [
    "Replace the string labels with numerical labels"
   ],
   "metadata": {
    "collapsed": false
   },
   "id": "db08fcc3bfb75745"
  },
  {
   "cell_type": "code",
   "execution_count": null,
   "outputs": [],
   "source": [
    "df.replace({\n",
    "    \"yes\":1,\n",
    "    \"no\":0,\n",
    "    \"positive\":1,\n",
    "    \"negative\":0,\n",
    "    \"wildtype\":0,\n",
    "    \"overexpression\":1,\n",
    "    \"Radiotherapy\":1,\n",
    "    \"Chemotherapy\":2,\n",
    "    \"Chemoradiation\":3,\n",
    "    \"no invasion\":0,\n",
    "    \"<50%\":0,\n",
    "    \">=50%\":1,\n",
    "    'no extra-uterine disease':0,\n",
    "    \"lymphadenopathy\":1,\n",
    "    \"no LVSI\":0,\n",
    "    \"LVSI\":1,\n",
    "    'not mentioned in the report':np.nan,\n",
    "    'not elevated':0,\n",
    "    'elevated':1,\n",
    "    'grade 1':1,\n",
    "    'grade 2':2,\n",
    "    'grade 3 or non-endometrioid':3,\n",
    "    'no trombocytosis':0,\n",
    "    'trombocytosis':1,\n",
    "    'no malignant cells':0,\n",
    "    'malignant cells':1,\n",
    "    'yes, local':1,\n",
    "    'yes, regional':2,\n",
    "    'yes, distant':3,\n",
    "}, inplace=True)"
   ],
   "metadata": {
    "collapsed": false
   },
   "id": "960b1ebd0471f113"
  },
  {
   "cell_type": "markdown",
   "source": [
    "Save the dataframe to a csv file"
   ],
   "metadata": {
    "collapsed": false
   },
   "id": "6a3c330ad00ca4a"
  },
  {
   "cell_type": "code",
   "execution_count": null,
   "outputs": [],
   "source": [
    "df.to_csv(\"../0. Data/Trainingcohort(_wTCGA)/Original_model_dataset.csv\",index=False)"
   ],
   "metadata": {
    "collapsed": false
   },
   "id": "665306f473d4a60e"
  }
 ],
 "metadata": {
  "kernelspec": {
   "display_name": "Python 3",
   "language": "python",
   "name": "python3"
  },
  "language_info": {
   "codemirror_mode": {
    "name": "ipython",
    "version": 2
   },
   "file_extension": ".py",
   "mimetype": "text/x-python",
   "name": "python",
   "nbconvert_exporter": "python",
   "pygments_lexer": "ipython2",
   "version": "2.7.6"
  }
 },
 "nbformat": 4,
 "nbformat_minor": 5
}
