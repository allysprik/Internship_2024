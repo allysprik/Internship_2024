{
 "cells": [
  {
   "cell_type": "markdown",
   "source": [
    "### Author: Ally Sprik\n",
    "### Last-updated: 25-02-2024\n",
    "\n",
    "Goal of this notebook is to explore and clean the Tubingen dataset\n",
    "\n"
   ],
   "metadata": {
    "collapsed": false
   },
   "id": "1ad3a39fa64dfde0"
  },
  {
   "cell_type": "code",
   "execution_count": null,
   "id": "initial_id",
   "metadata": {
    "collapsed": true
   },
   "outputs": [],
   "source": [
    "import numpy as np\n",
    "import pandas as pd\n",
    "\n",
    "df = pd.read_excel('../0. Data/Tubingen/Data_ENDORISK_Validation_MolCLass_TUE.xlsx')"
   ]
  },
  {
   "cell_type": "code",
   "execution_count": null,
   "outputs": [],
   "source": [
    "df['Adjuvant therapy'].value_counts(dropna=False)"
   ],
   "metadata": {
    "collapsed": false
   },
   "id": "74efb898f9ed310d"
  },
  {
   "cell_type": "markdown",
   "source": [
    "Create month to follow up column"
   ],
   "metadata": {
    "collapsed": false
   },
   "id": "d0744518e08f419"
  },
  {
   "cell_type": "code",
   "execution_count": null,
   "outputs": [],
   "source": [
    "# create months to follow up\n",
    "df['months_to_follow_up'] = (df['Date last Follow-Up'] - df['date_of_dx']).dt.days / 30.5"
   ],
   "metadata": {
    "collapsed": false
   },
   "id": "b4f2ff1e91c9dcda"
  },
  {
   "cell_type": "markdown",
   "source": [
    "Change the column names of _cure to preop en _he to postop, for clarity"
   ],
   "metadata": {
    "collapsed": false
   },
   "id": "8e013834309bfce"
  },
  {
   "cell_type": "code",
   "execution_count": null,
   "outputs": [],
   "source": [
    "# Change column names all _cur = Preop, all _he = Postop\n",
    "for column in df.columns:\n",
    "\tif column.__contains__('_cur'):\n",
    "\t\tdf.rename(columns={column: column.replace('_cur', '_PREOP')}, inplace=True)\n",
    "\telif column.__contains__('_he'):\n",
    "\t\tdf.rename(columns={column: column.replace('_he', '_POSTOP')}, inplace=True)\n"
   ],
   "metadata": {
    "collapsed": false
   },
   "id": "d059d8a149ab5fc"
  },
  {
   "cell_type": "markdown",
   "source": [
    "Correct the labels of the histochemical columns\t"
   ],
   "metadata": {
    "collapsed": false
   },
   "id": "598cfd2033248a15"
  },
  {
   "cell_type": "code",
   "execution_count": null,
   "outputs": [],
   "source": [
    "# Replace 2 with 1 for L1CAM, PR, ER, and P53\n",
    "df['L1CAM_PREOP'].replace(2, 1, inplace=True)\n",
    "df['L1CAM_POSTOP'].replace(2, 1, inplace=True)\n",
    "df['PR_PREOP'].replace(2, 1, inplace=True)\n",
    "df['PR_POSTOP'].replace(2, 1, inplace=True)\n",
    "df['ER_PREOP'].replace(2, 1, inplace=True)\n",
    "df['ER_POSTOP'].replace(2, 1, inplace=True)\n",
    "df['p53_PREOP'].replace(2, 1, inplace=True)\n",
    "df['p53_POSTOP'].replace(2, 1, inplace=True)\n"
   ],
   "metadata": {
    "collapsed": false
   },
   "id": "549e5c052ebcebe8"
  },
  {
   "cell_type": "markdown",
   "source": [
    "Parse the date columns to datetime so they can be used"
   ],
   "metadata": {
    "collapsed": false
   },
   "id": "c5d041e124c75ee9"
  },
  {
   "cell_type": "code",
   "execution_count": null,
   "outputs": [],
   "source": [
    "df['dob'] = pd.to_datetime(df['dob'], format='%Y-%m-%d')\n",
    "df['date_of_dx'] = pd.to_datetime(df['date_of_dx'], format='%Y-%m-%d')\n",
    "df['Date last Follow-Up'] = pd.to_datetime(df['Date last Follow-Up'], format='%Y-%m-%d')\n",
    "\n",
    "df['age_at_dx'] = (df['date_of_dx'] - df['dob']).dt.days / 365.25"
   ],
   "metadata": {
    "collapsed": false
   },
   "id": "861e1f74b5f070f4"
  },
  {
   "cell_type": "markdown",
   "source": [
    "Generate a histogram for the age at diagnosis"
   ],
   "metadata": {
    "collapsed": false
   },
   "id": "3c34435bded543c5"
  },
  {
   "cell_type": "code",
   "execution_count": null,
   "outputs": [],
   "source": [
    "# Plot histogram of age\n",
    "import matplotlib.pyplot as plt\n",
    "import seaborn as sns\n",
    "\n",
    "sns.histplot(df['age_at_dx'], bins=20)"
   ],
   "metadata": {
    "collapsed": false
   },
   "id": "3bca774da7563bcc"
  },
  {
   "cell_type": "markdown",
   "source": [
    "Create a table with the counts and percentages of peroperative grade "
   ],
   "metadata": {
    "collapsed": false
   },
   "id": "dd3105a08487223f"
  },
  {
   "cell_type": "code",
   "execution_count": null,
   "outputs": [],
   "source": [
    "pd.DataFrame([df['Grade_PREOP'].value_counts(dropna=False), round(df['Grade_PREOP'].value_counts(normalize=True)*100, 1)])"
   ],
   "metadata": {
    "collapsed": false
   },
   "id": "bf4ab51d4bb3b524"
  },
  {
   "cell_type": "markdown",
   "source": [
    "Create a table with the counts and percentages of ER status"
   ],
   "metadata": {
    "collapsed": false
   },
   "id": "66ec3eac1d731d7f"
  },
  {
   "cell_type": "code",
   "execution_count": null,
   "outputs": [],
   "source": [
    "df['ER_PREOP'].replace(2, 1, inplace=True)\n",
    "pd.DataFrame([df['ER_PREOP'].value_counts(dropna=False),round(df['ER_PREOP'].value_counts(dropna=True, normalize=True) * 100,1)])"
   ],
   "metadata": {
    "collapsed": false
   },
   "id": "c4497a7287e7637d"
  },
  {
   "cell_type": "markdown",
   "source": [
    "Create a table with the counts and percentages of PR status"
   ],
   "metadata": {
    "collapsed": false
   },
   "id": "4b7533537b38891f"
  },
  {
   "cell_type": "code",
   "execution_count": null,
   "outputs": [],
   "source": [
    "df['PR_PREOP'].replace(2, 1, inplace=True)\n",
    "pd.DataFrame([df['PR_PREOP'].value_counts(dropna=False),\n",
    "\t\t\t  round(df['PR_PREOP'].value_counts(dropna=True, normalize=True) * 100, 1)])"
   ],
   "metadata": {
    "collapsed": false
   },
   "id": "912f67c801b72e15"
  },
  {
   "cell_type": "markdown",
   "source": [
    "Create a binary column for the preoperative CA-125 level"
   ],
   "metadata": {
    "collapsed": false
   },
   "id": "6549c597568539e0"
  },
  {
   "cell_type": "code",
   "execution_count": null,
   "outputs": [],
   "source": [
    "# Replace everything below 35 with <35 and everything above 35 with >35\n",
    "df['CA125_bi'] = df['Pre-operative CA-125 level '].apply(lambda x: '<=35' if x <=35 else ('>35' if x > 35  else x))\n",
    "df['CA125_bi'].value_counts(dropna=False)"
   ],
   "metadata": {
    "collapsed": false
   },
   "id": "c6d7a4eb61a8d793"
  },
  {
   "cell_type": "markdown",
   "source": [
    "Create a binary column for the preoperative platelet count"
   ],
   "metadata": {
    "collapsed": false
   },
   "id": "117eaa3405d5b620"
  },
  {
   "cell_type": "code",
   "execution_count": null,
   "outputs": [],
   "source": [
    "df['Pre-operative platelet count '] = df['Pre-operative platelet count '].apply(lambda x: '<400' if x <400 else ('>=400' if x >= 400  else x))\n",
    "df['Pre-operative platelet count '].value_counts(dropna=False)"
   ],
   "metadata": {
    "collapsed": false
   },
   "id": "fdeea1304c5900cb"
  },
  {
   "cell_type": "markdown",
   "source": [
    "Create a risk level column for the preoperative risk level based on the preoperative grade, PR, and p53"
   ],
   "metadata": {
    "collapsed": false
   },
   "id": "40abda6ba7d7b94e"
  },
  {
   "cell_type": "code",
   "execution_count": null,
   "outputs": [],
   "source": [
    "df['Risk_level_PREOP'] = np.nan\n",
    "df['Risk_level_PREOP'] = df['Risk_level_PREOP'].astype(object)\n",
    "\n",
    "for i in range(len(df)):\n",
    "\tif pd.isna(df['Grade_PREOP'][i]):\n",
    "\t\tdf['Risk_level_PREOP'][i] = 'Unknown'\n",
    "\telif df['Grade_PREOP'].values[i] == 'Grade 1':\n",
    "\t\tdf['Risk_level_PREOP'][i] = 'Low'\n",
    "\telif df['Grade_PREOP'].values[i] == 'Grade 3':\n",
    "\t\tdf['Risk_level_PREOP'][i] = 'High'\n",
    "\telif df['Grade_PREOP'].values[i] == 'Grade 2':\n",
    "\t\tif df['PR_PREOP'].values[i] == 0:\n",
    "\t\t\tdf['Risk_level_PREOP'][i] = 'High'\n",
    "\t\telse:\n",
    "\t\t\tif df['p53_POSTOP'].values[i] == 1:\n",
    "\t\t\t\tdf['Risk_level_PREOP'][i] = 'High'\n",
    "\t\t\telse:\n",
    "\t\t\t\tdf['Risk_level_PREOP'][i] = 'Low'\n",
    "\telse:\n",
    "\t\tdf['Risk_level_PREOP'][i] = 'Unknown'\n"
   ],
   "metadata": {
    "collapsed": false
   },
   "id": "d1211a7dc278e91e"
  },
  {
   "cell_type": "markdown",
   "source": [
    "Create a risk level column for the postoperative risk level based on the postoperative grade, PR, and p53"
   ],
   "metadata": {
    "collapsed": false
   },
   "id": "a54ac554b5e5a5ea"
  },
  {
   "cell_type": "code",
   "execution_count": null,
   "outputs": [],
   "source": [
    "df['Risk_level_POSTOP'] = np.nan\n",
    "df['Risk_level_POSTOP'] = df['Risk_level_POSTOP'].astype(object)\n",
    "\n",
    "for i in range(len(df)):\n",
    "    if pd.isna(df['Grade_POSTOP'][i]):\n",
    "        df['Risk_level_POSTOP'][i] = 'Unknown'\n",
    "    elif df['Grade_POSTOP'].values[i] == 'Grade 1':\n",
    "        df['Risk_level_POSTOP'][i] = 'Low'\n",
    "    elif df['Grade_POSTOP'].values[i] == 'Grade 3':\n",
    "        df['Risk_level_POSTOP'][i] = 'High'\n",
    "    elif df['Grade_POSTOP'].values[i] == 'Grade 2':\n",
    "        if df['PR_POSTOP'].values[i] == 0:\n",
    "            df['Risk_level_POSTOP'][i] = 'High'\n",
    "        else:\n",
    "            if df['p53_POSTOP'].values[i] == 'Mutated':\n",
    "                df['Risk_level_POSTOP'][i] = 'High'\n",
    "            else:\n",
    "                df['Risk_level_POSTOP'][i] = 'Low'\n",
    "    else:\n",
    "        df['Risk_level_PREOP'][i] = 'Unknown'\n",
    "\n"
   ],
   "metadata": {
    "collapsed": false
   },
   "id": "ce170f80aad57e60"
  },
  {
   "cell_type": "markdown",
   "source": [
    "Create a risk level column for the postoperative risk level based on the only biomarkers"
   ],
   "metadata": {
    "collapsed": false
   },
   "id": "6dcd565427aecd89"
  },
  {
   "cell_type": "code",
   "execution_count": null,
   "outputs": [],
   "source": [
    "df['Risk_level_BM'] = np.nan\n",
    "df['Risk_level_BM'] = df['Risk_level_BM'].astype(object)\n",
    "\n",
    "for i in range(len(df)):\n",
    "\tif df['PR_PREOP'].values[i] == 0:\n",
    "\t\tdf['Risk_level_BM'][i] = 'High'\n",
    "\telif df['p53_PREOP'].values[i] == 'Mutated':\n",
    "\t\tdf['Risk_level_BM'][i] = 'High'\n",
    "\telif df['Pre-operative CA-125 level '].values[i] == '>35':\n",
    "\t\tdf['Risk_level_BM'][i] = 'High'\n",
    "\telif df['p53_PREOP'].values[i] == 'Wildtype' or df['PR_PREOP'].values[i] > 0 or \\\n",
    "\t\t\tdf['Pre-operative CA-125 level '].values[i] == '<=35':\n",
    "\t\tdf['Risk_level_BM'][i] = 'Low'\n",
    "\telse:\n",
    "\t\tdf['Risk_level_BM'][i] = 'Unknown'\n"
   ],
   "metadata": {
    "collapsed": false
   },
   "id": "75d92235c704570c"
  },
  {
   "cell_type": "markdown",
   "source": [
    "Create risk groups based on the TCGA classification"
   ],
   "metadata": {
    "collapsed": false
   },
   "id": "83b17c2a311138df"
  },
  {
   "cell_type": "markdown",
   "source": [
    "Create a risk level column for the TCGA risk level based on the TCGA classification"
   ],
   "metadata": {
    "collapsed": false
   },
   "id": "1335174680c7a0b6"
  },
  {
   "cell_type": "code",
   "execution_count": null,
   "outputs": [],
   "source": [
    "df['Risk_level_TCGA'] = np.nan\n",
    "df['Risk_level_TCGA'] = df['Risk_level_TCGA'].astype(object)\n",
    "\n",
    "for i in range(len(df)):\n",
    "\tif df['MolClass'].values[i] == 'POLE':\n",
    "\t\tdf['Risk_level_TCGA'][i] = 'Low'\n",
    "\telif df['MolClass'].values[i] == 'MSI' or df['MolClass'].values[i] == 'NSMP':\n",
    "\t\tdf['Risk_level_TCGA'][i] = 'Medium'\n",
    "\telif df['MolClass'].values[i] == 'p53':\n",
    "\t\tdf['Risk_level_TCGA'][i] = 'High'\n",
    "\telse:\n",
    "\t\tdf['Risk_level_TCGA'][i] = 'Unknown'\n"
   ],
   "metadata": {
    "collapsed": false
   },
   "id": "dd5398dc5db09587"
  },
  {
   "cell_type": "markdown",
   "source": [
    "Create a risk level column for the TCGA risk level based on the TCGA classification, but with Biomarkers as a further definition"
   ],
   "metadata": {
    "collapsed": false
   },
   "id": "3115d39fd6168047"
  },
  {
   "cell_type": "code",
   "execution_count": null,
   "outputs": [],
   "source": [
    "df['Risk_level_TCGA_BM'] = np.nan\n",
    "df['Risk_level_TCGA_BM'] = df['Risk_level_TCGA_BM'].astype(object)\n",
    "\n",
    "for i in range(len(df)):\n",
    "\tif df['MolClass'].values[i] == 'POLE':\n",
    "\t\tdf['Risk_level_TCGA_BM'][i] = 'Low'\n",
    "\telif df['MolClass'].values[i] == 'p53':\n",
    "\t\tdf['Risk_level_TCGA_BM'][i] = 'High'\n",
    "\telif df['MolClass'].values[i] == 'NSMP' or df['MolClass'].values[i] == 'MSI':\n",
    "\t\tif df['PR_PREOP'].values[i] == 0:\n",
    "\t\t\tdf['Risk_level_TCGA_BM'][i] = 'High'\n",
    "\t\telif df['p53_PREOP'].values[i] == 'Mutated':\n",
    "\t\t\tdf['Risk_level_TCGA_BM'][i] = 'High'\n",
    "\t\telif df['Pre-operative CA-125 level '].values[i] == '>35':\n",
    "\t\t\tdf['Risk_level_TCGA_BM'][i] = 'High'\n",
    "\t\telif df['p53_PREOP'].values[i] == 'Wildtype' or df['PR_PREOP'].values[i] > 0 or \\\n",
    "\t\t\t\tdf['Pre-operative CA-125 level '].values[i] == '<=35':\n",
    "\t\t\tdf['Risk_level_TCGA_BM'][i] = 'Low'\n",
    "\t\telse:\n",
    "\t\t\tdf['Risk_level_TCGA_BM'][i] = 'Unknown'\n",
    "\telse:\n",
    "\t\tif df['PR_PREOP'].values[i] == 0:\n",
    "\t\t\tdf['Risk_level_TCGA_BM'][i] = 'High'\n",
    "\t\telif df['p53_PREOP'].values[i] == 'Mutated':\n",
    "\t\t\tdf['Risk_level_TCGA_BM'][i] = 'High'\n",
    "\t\telif df['Pre-operative CA-125 level '].values[i] == '>35':\n",
    "\t\t\tdf['Risk_level_TCGA_BM'][i] = 'High'\n",
    "\t\telif df['p53_PREOP'].values[i] == 'Wildtype' or df['PR_PREOP'].values[i] > 0 or \\\n",
    "\t\t\t\tdf['Pre-operative CA-125 level '].values[i] == '<=35':\n",
    "\t\t\tdf['Risk_level_TCGA_BM'][i] = 'Low'\n",
    "\t\telse:\n",
    "\t\t\tdf['Risk_level_TCGA_BM'][i] = 'Unknown'\n"
   ],
   "metadata": {
    "collapsed": false
   },
   "id": "28a86cd4353c0538"
  },
  {
   "cell_type": "markdown",
   "source": [
    "Create a risk level column for the TCGA risk level based on the TCGA classification, but with Biomarkers used only in unkown situations"
   ],
   "metadata": {
    "collapsed": false
   },
   "id": "c47e4533f9a5cae6"
  },
  {
   "cell_type": "code",
   "execution_count": null,
   "outputs": [],
   "source": [
    "df['Risk_level_TCGA_BMNaN'] = np.nan\n",
    "df['Risk_level_TCGA_BMNaN'] = df['Risk_level_TCGA_BMNaN'].astype(object)\n",
    "\n",
    "for i in range(len(df)):\n",
    "\tif df['MolClass'].values[i] == 'POLE':\n",
    "\t\tdf['Risk_level_TCGA_BMNaN'][i] = 'Low'\n",
    "\telif df['MolClass'].values[i] == 'MSI' or df['MolClass'].values[i] == 'NSMP':\n",
    "\t\tdf['Risk_level_TCGA_BMNaN'][i] = 'Medium'\n",
    "\telif df['MolClass'].values[i] == 'p53':\n",
    "\t\tdf['Risk_level_TCGA_BMNaN'][i] = 'High'\n",
    "\telse:\n",
    "\t\tif df['PR_PREOP'].values[i] == 0:\n",
    "\t\t\tdf['Risk_level_TCGA_BMNaN'][i] = 'High'\n",
    "\t\telif df['p53_PREOP'].values[i] == 'Mutated':\n",
    "\t\t\tdf['Risk_level_TCGA_BMNaN'][i] = 'High'\n",
    "\t\telif df['Pre-operative CA-125 level '].values[i] == '>35':\n",
    "\t\t\tdf['Risk_level_TCGA_BMNaN'][i] = 'High'\n",
    "\t\telif df['p53_PREOP'].values[i] == 'Wildtype' or df['PR_PREOP'].values[i] > 0 or \\\n",
    "\t\t\t\tdf['Pre-operative CA-125 level '].values[i] == '<=35':\n",
    "\t\t\tdf['Risk_level_TCGA_BMNaN'][i] = 'Low'\n",
    "\t\telse:\n",
    "\t\t\tdf['Risk_level_TCGA_BMNaN'][i] = 'Unknown'\n"
   ],
   "metadata": {
    "collapsed": false
   },
   "id": "3552757183583f1f"
  },
  {
   "cell_type": "markdown",
   "source": [
    "Combine the ER PR L1CAM and P53 into one pre and postop column per marker for complete marker columns, to match the paper values"
   ],
   "metadata": {
    "collapsed": false
   },
   "id": "bc9b1384d964d85e"
  },
  {
   "cell_type": "code",
   "execution_count": null,
   "outputs": [],
   "source": [
    "# Combine ER PR L1CAM and P53 into one pre and postop column per marker\n",
    "# First check preop, if not there take postop\n",
    "\n",
    "df['ER_compl'] = np.nan\n",
    "df['PR_compl'] = np.nan\n",
    "df['L1CAM_compl'] = np.nan\n",
    "df['p53_compl'] = np.nan\n",
    "\n",
    "for i in range(len(df)):\n",
    "\tif not pd.isna(df['ER_PREOP'].values[i]):\n",
    "\t\tdf['ER_compl'][i] = df['ER_PREOP'].values[i]\n",
    "\telif not pd.isna(df['ER_POSTOP'].values[i]):\n",
    "\t\tdf['ER_compl'][i] = df['ER_POSTOP'].values[i]\n",
    "\t\n",
    "\tif not pd.isna(df['PR_PREOP'].values[i]):\n",
    "\t\tdf['PR_compl'][i] = df['PR_PREOP'].values[i]\n",
    "\telif not pd.isna(df['PR_POSTOP'].values[i]):\n",
    "\t\tdf['PR_compl'][i] = df['PR_POSTOP'].values[i]\n",
    "\t\n",
    "\tif not pd.isna(df['L1CAM_PREOP'].values[i]):\n",
    "\t\tdf['L1CAM_compl'][i] = df['L1CAM_PREOP'].values[i]\n",
    "\telif not pd.isna(df['L1CAM_POSTOP'].values[i]):\n",
    "\t\tdf['L1CAM_compl'][i] = df['L1CAM_POSTOP'].values[i]\n",
    "\t\n",
    "\tif not pd.isna(df['p53_PREOP'].values[i]):\n",
    "\t\tdf['p53_compl'][i] = df['p53_PREOP'].values[i]\n",
    "\telif not pd.isna(df['p53_POSTOP'].values[i]):\n",
    "\t\tdf['p53_compl'][i] = df['p53_POSTOP'].values[i]\n",
    "\t\n"
   ],
   "metadata": {
    "collapsed": false
   },
   "id": "9d3b78431a278d0c"
  },
  {
   "cell_type": "code",
   "execution_count": null,
   "outputs": [],
   "source": [
    "df.to_csv('../0.1. Cleaned_data/Tubingen_risk_groups.csv', index=False)"
   ],
   "metadata": {
    "collapsed": false
   },
   "id": "c0f0c04055250aca"
  },
  {
   "cell_type": "markdown",
   "source": [
    "# Creating validation dataset with IHC data\n",
    "Use IHC data to further define the MSI and MolClass columns, since the categories hide some information"
   ],
   "metadata": {
    "collapsed": false
   },
   "id": "47363dc070a4b774"
  },
  {
   "cell_type": "code",
   "execution_count": null,
   "outputs": [],
   "source": [
    "import pandas as pd \n",
    "import numpy as np\n",
    "import matplotlib.pyplot as plt\n",
    "\n",
    "df = pd.read_csv('../0.1. Cleaned_data/Tubingen_risk_groups.csv')\n",
    "df2 = pd.read_excel('../0. Data/Tubingen/Data_ENDORISK_Validation_MolCLass_TUE_IHC.xlsx')"
   ],
   "metadata": {
    "collapsed": false
   },
   "id": "b89dc64a7f8fe4ab"
  },
  {
   "cell_type": "markdown",
   "source": [
    "Check how many df2 patients are double"
   ],
   "metadata": {
    "collapsed": false
   },
   "id": "cf7a439ec19bb172"
  },
  {
   "cell_type": "code",
   "execution_count": null,
   "outputs": [],
   "source": [
    "# find the double patient id entries in df2 and make them in a list\n",
    "patient_ids = df2['patient_id'].value_counts(dropna=False)[df2['patient_id'].value_counts(dropna=False) > 1].index.tolist()\n",
    "len(patient_ids)"
   ],
   "metadata": {
    "collapsed": false
   },
   "id": "34b2ad7de14a65c8"
  },
  {
   "cell_type": "markdown",
   "source": [
    "From df2 drop the patients who have a double entry in patient_id, drop the one with the least information (more 'Unk')"
   ],
   "metadata": {
    "collapsed": false
   },
   "id": "51ee791d3973d37f"
  },
  {
   "cell_type": "code",
   "execution_count": null,
   "outputs": [],
   "source": [
    "# From DF2 drop the patients who have a double entry in patient_id, drop the one with the least information (more 'Unk')\n",
    "cols = ['mlh1_ihc', 'msh2_ihc', 'msh6_ihc', 'pms2_ihc']\n",
    "\n",
    "for id in patient_ids:\n",
    "    rows = df2[df2['patient_id'] == id]\n",
    "    \n",
    "    i = 0 # surgery row\n",
    "    j = 0 # biopsy row\n",
    "    \n",
    "    row_surg = rows[rows['tissue_src'] == 'surgery']\n",
    "    row_biop = rows[rows['tissue_src'] == 'biopsy']\n",
    "\n",
    "    for i in range(len(cols)):\n",
    "        column = cols[i]\n",
    "        if row_surg[column].values[0] == 'Unk':\n",
    "            i += 1\n",
    "            j += 0\n",
    "        if row_biop[column].values[0] == 'Unk':\n",
    "            i += 0\n",
    "            j += 1\n",
    "    \n",
    "    if i > j:\n",
    "        df2 = df2.drop(row_surg.index)\n",
    "    elif j > i:\n",
    "        df2 = df2.drop(row_biop.index)\n",
    "    else:\n",
    "        df2 = df2.drop(row_biop.index)\n",
    "            "
   ],
   "metadata": {
    "collapsed": false
   },
   "id": "45d8b65a97e4c4a1"
  },
  {
   "cell_type": "markdown",
   "source": [
    "Sort both df and df2 by ascending patient_id and reset the index for comparison"
   ],
   "metadata": {
    "collapsed": false
   },
   "id": "cf10c4bce1997f3a"
  },
  {
   "cell_type": "code",
   "execution_count": null,
   "outputs": [],
   "source": [
    "\n",
    "# Sort both df and df2 by ascending patient_id\n",
    "df = df.sort_values(by=['Patient ID (L1CAM ID)'])\n",
    "df2 = df2.sort_values(by=['patient_id'])\n",
    "\n",
    "# Reset the index of both df and df2\n",
    "df = df.reset_index(drop=True)\n",
    "df2 = df2.reset_index(drop=True)\n"
   ],
   "metadata": {
    "collapsed": false
   },
   "id": "aec4559be7010c61"
  },
  {
   "cell_type": "markdown",
   "source": [
    "Check if the patient_id's are the same in both df and df2"
   ],
   "metadata": {
    "collapsed": false
   },
   "id": "802ff27534261c38"
  },
  {
   "cell_type": "code",
   "execution_count": null,
   "outputs": [],
   "source": [
    "# Check if the patient_id's are the same in both df and df2\n",
    "for i in range(len(df)):\n",
    "    if df.iloc[i]['Patient ID (L1CAM ID)'] != df2.iloc[i]['patient_id']:\n",
    "        print('Error: patient_id not the same')\n",
    "        break"
   ],
   "metadata": {
    "collapsed": false
   },
   "id": "62639ff9eeb721"
  },
  {
   "cell_type": "markdown",
   "source": [
    "Going through the dataframes, check if the MSI columns are the same in both dataframes, otherwise correct them"
   ],
   "metadata": {
    "collapsed": false
   },
   "id": "9da13e6e1092c3ce"
  },
  {
   "cell_type": "code",
   "execution_count": null,
   "outputs": [],
   "source": [
    "# Create a new column in df2 with the four ihc classes combined into one MMR MSI column\n",
    "df['MSI'] = np.nan\n",
    "\n",
    "for i in range(len(df2)):\n",
    "    row = df2.iloc[i]\n",
    "    if df2.iloc[i]['patient_id'] != df.iloc[i]['Patient ID (L1CAM ID)']:\n",
    "        print('Error: patient_id not the same')\n",
    "        break\n",
    "\n",
    "    valuemlh1 = row['mlh1_ihc']\n",
    "    valuemsh2= row['msh2_ihc']\n",
    "    valuemsh6 = row['msh6_ihc']\n",
    "    valuepms2 = row['pms2_ihc']\n",
    "    \n",
    "    if valuemlh1 == \"loss\":\n",
    "        df['MSI'][i] = 'instable'\n",
    "    elif valuemsh2 == \"loss\":\n",
    "        df['MSI'][i] = 'instable'\n",
    "    elif valuemsh6 == \"loss\":\n",
    "        df['MSI'][i] = 'instable'\n",
    "    elif valuepms2 == \"loss\":\n",
    "        df['MSI'][i] = 'instable'\n",
    "    elif valuemlh1 == 'Unk' and valuemsh2 == 'Unk' and valuemsh6 == 'Unk' and valuepms2 == 'Unk':\n",
    "        df['MSI'][i] = 'unknown'\n",
    "    elif valuemlh1 == 'intact' or valuemsh2 == 'intact' or valuemsh6 == 'intact' or valuepms2 == 'intact':\n",
    "        df['MSI'][i] = 'stable'\n",
    "    else:\n",
    "        print('Error: MSI not found at ', i)\n",
    "        break\n"
   ],
   "metadata": {
    "collapsed": false
   },
   "id": "d9da081c0d6e9d2c"
  },
  {
   "cell_type": "markdown",
   "source": [
    "Now this data is known the individual TCGA classes can be combined"
   ],
   "metadata": {
    "collapsed": false
   },
   "id": "d288be0405fbf7ed"
  },
  {
   "cell_type": "code",
   "execution_count": null,
   "outputs": [],
   "source": [
    "# Divide MolClass column into the categories: 'MSI', 'P53', 'POLE', 'NSMP', 'unknown'\n",
    "df['POLE'] = 'no'\n",
    "df['P53'] = 'no'\n",
    "df['NSMP'] = 'no'\n",
    "\n",
    "x = 0\n",
    "for i in range(len(df)):\n",
    "    value = df.iloc[i]['MolClass']\n",
    "    \n",
    "    if value == \"\" or value == \" \" or value == \"unknown\":\n",
    "        df['POLE'] = np.nan\n",
    "        df['P53'] = np.nan\n",
    "        df['NSMP'] = np.nan\n",
    "    elif value == 'POLE':\n",
    "        df['POLE'][i] = 'yes'\n",
    "    elif value == 'p53abn':\n",
    "        df['P53'][i] = 'yes'\n",
    "    elif value == 'NSMP':\n",
    "        df['NSMP'][i] = 'NSMP'\n",
    "    elif value == 'MMRd':\n",
    "        if df.iloc[i]['MSI'] == 'instable':\n",
    "            continue\n",
    "        elif df.iloc[i]['MSI'] == 'stable':\n",
    "            print('Error: MMRd but not MSI instable, at index: ', i)\n",
    "            print('Keeping MMRd')\n",
    "            df['MSI'][i] = 'instable'\n",
    "\t\n"
   ],
   "metadata": {
    "collapsed": false
   },
   "id": "d7b1ac18d434e4f6"
  },
  {
   "cell_type": "markdown",
   "source": [
    "Check the one that throws an error, indeed there was a mistake here we heard later"
   ],
   "metadata": {
    "collapsed": false
   },
   "id": "1395a9fe2c5dbabc"
  },
  {
   "cell_type": "code",
   "execution_count": null,
   "outputs": [],
   "source": [
    "df.iloc[231]"
   ],
   "metadata": {
    "collapsed": false
   },
   "id": "c1291f4c35aa81b6"
  },
  {
   "cell_type": "markdown",
   "source": [
    "Create a five year survival column"
   ],
   "metadata": {
    "collapsed": false
   },
   "id": "77f5c6d2c82ea3bf"
  },
  {
   "cell_type": "code",
   "execution_count": null,
   "outputs": [],
   "source": [
    "df['date_of_dx'] = pd.to_datetime(df['date_of_dx'])\n",
    "df['Date last Follow-Up'] = pd.to_datetime(df['Date last Follow-Up'])\n",
    "\n",
    "df['five_year_survival'] = 'yes'\n",
    "        \n",
    "for i in range(len(df)):\n",
    "    if df['DSS'].values[i] == 'Endometrial carcinoma':\n",
    "        df['five_year_survival'][i] = 'no'\n",
    "    elif df['DSS'].values[i] == 'Other':\n",
    "        df['five_year_survival'][i] = 'yes'\n",
    "    else:\n",
    "        if df['Vitalstatus last Follow-Up'].values[i] == 'Dead' and df['Date last Follow-Up'][i].year - df['date_of_dx'][i].year < 5:\n",
    "            df['five_year_survival'][i] = 'yes'\n",
    "        elif df['Vitalstatus last Follow-Up'].values[i] == 'Alive' and df['Date last Follow-Up'][i].year - df['date_of_dx'][i].year > 5:\n",
    "            df['five_year_survival'][i] = 'yes'\n",
    "        else:\n",
    "            df['five_year_survival'][i] = np.nan\n"
   ],
   "metadata": {
    "collapsed": false
   },
   "id": "7d5d42a5bd46fb92"
  },
  {
   "cell_type": "markdown",
   "source": [
    "Correct the column names to match the model"
   ],
   "metadata": {
    "collapsed": false
   },
   "id": "69ff6ecfc272d23b"
  },
  {
   "cell_type": "code",
   "execution_count": null,
   "outputs": [],
   "source": [
    "df.rename(columns={\n",
    "\t'Grade_PREOP': 'PreoperativeGrade',\n",
    "\t'Grade_POSTOP': 'PostoperativeGrade',\n",
    "    'MSI': 'MSI',\n",
    "\t'POLE': 'POLE',\n",
    "\t'P53':'TP53', # Correctly name the P53 column to the gene name\n",
    "    'p53_compl': 'p53', # IHC p53, which should be used (for now)\n",
    "    'ER_compl':'ER',\n",
    "    'PR_compl':'PR',\n",
    "    'L1CAM_compl':'L1CAM',\n",
    "    'Pre-operative platelet count ':'Platelets',\n",
    "\t'Myometrial invasion':'MyometrialInvasion',\n",
    "\t'LNM_obs':'LNM',\n",
    "\t'CA125_bi':'CA125',\n",
    "\t\"Adjuvant therapy\":'Therapy',\n",
    "\t\"Reucrrence\":'Recurrence',\n",
    "\t'five_year_survival':'Survival5yr',\n",
    "}, inplace=True)"
   ],
   "metadata": {
    "collapsed": false
   },
   "id": "d57e06c994381cac"
  },
  {
   "cell_type": "markdown",
   "source": [
    "Replace the labels in the columns with the correct labels"
   ],
   "metadata": {
    "collapsed": false
   },
   "id": "b66ba5571cd238ff"
  },
  {
   "cell_type": "code",
   "execution_count": null,
   "outputs": [],
   "source": [
    "#  Replace the values in the columns with the correct labels\n",
    "df.replace({'Grade 1': 'grade 1', 'Grade 2': 'grade 2', 'Grade 3': 'grade 3'}, inplace=True)\n",
    "df['MSI'].replace({\"instable\":\"yes\", \"stable\":\"no\"}, inplace=True)\n",
    "df['POLE'].replace({\"yes\":\"yes\", \"no\":\"no\"}, inplace=True)\n",
    "df['p53'].replace({\"Mutated\":\"mutant\", \"Wildtype\":\"wildtype\"}, inplace=True)\n",
    "df['CA125'].replace({\"<=35\":\"lt_35\", \">35\":\"ge_35\"}, inplace=True)\n",
    "df['ER'].replace({1:\"positive\", 0:\"negative\"}, inplace=True)\n",
    "df['PR'].replace({1:\"positive\", 0:\"negative\"}, inplace=True)\n",
    "df['L1CAM'].replace({1:\"positive\", 0:\"negative\"}, inplace=True)\n",
    "df['Platelets'].replace({\"<400\":\"lt_400\", \">=400\":\"ge_400\"}, inplace=True)\n",
    "df['MyometrialInvasion'].replace({\"No invasion\":\"lt_50\",\"<50%\":\"lt_50\", \">50%\":\"ge_50\"}, inplace=True)\n",
    "df['Therapy'].replace({\"RTx\":\"radiotherapy\", \"CTx\":\"chemotherapy\", \"both\":\"chemoradiotherapy\", \"Both\":\"chemoradiotherapy\", np.nan:\"none\"}, inplace=True)\n",
    "df['LNM'].replace({\"negative\":\"no\", \"positive\":\"yes\"}, inplace=True)\n",
    "df['Histology'] = df['Histotype'].apply(lambda x: 'endometrioid' if x == 'Endometrioid' else (np.nan if pd.isna(x) else 'non-endometrioid'))\n",
    "df"
   ],
   "metadata": {
    "collapsed": false
   },
   "id": "53408d1ebd25827"
  },
  {
   "cell_type": "markdown",
   "source": [
    "Create a column for the chemotherapy and radiotherapy from the therapy column"
   ],
   "metadata": {
    "collapsed": false
   },
   "id": "7242b0167b781edd"
  },
  {
   "cell_type": "code",
   "execution_count": null,
   "outputs": [],
   "source": [
    "# Create Chemo and radiotherapy columns from Therapy\n",
    "df[\"Chemotherapy\"] = np.nan\n",
    "df[\"Radiotherapy\"] = np.nan\n",
    "\n",
    "for i in range(len(df)):\n",
    "\tif df['Therapy'].values[i] == 'chemotherapy':\n",
    "\t\tdf['Chemotherapy'][i] = 'yes'\n",
    "\t\tdf['Radiotherapy'][i] = 'no'\n",
    "\telif df['Therapy'].values[i] == 'radiotherapy':\n",
    "\t\tdf['Chemotherapy'][i] = 'no'\n",
    "\t\tdf['Radiotherapy'][i] = 'yes'\n",
    "\telif df['Therapy'].values[i] == 'chemoradiotherapy':\n",
    "\t\tdf['Chemotherapy'][i] = 'yes'\n",
    "\t\tdf['Radiotherapy'][i] = 'yes'\n",
    "\telif df['Therapy'].values[i] == 'none':\n",
    "\t\tdf['Chemotherapy'][i] = 'no'\n",
    "\t\tdf['Radiotherapy'][i] = 'no'\n",
    "\telse:\n",
    "\t\tdf['Chemotherapy'][i] = np.nan\n",
    "\t\tdf['Radiotherapy'][i] = np.nan"
   ],
   "metadata": {
    "collapsed": false
   },
   "id": "2fe5421a9ed4b671"
  },
  {
   "cell_type": "markdown",
   "source": [
    "save the dataframe"
   ],
   "metadata": {
    "collapsed": false
   },
   "id": "12566c214caac8de"
  },
  {
   "cell_type": "code",
   "execution_count": null,
   "outputs": [],
   "source": [
    "df.to_csv('../0.1. Cleaned_data/Tubingen_Validation_wMSI.csv', index=False)\n"
   ],
   "metadata": {
    "collapsed": false
   },
   "id": "62206b516ad0784a"
  }
 ],
 "metadata": {
  "kernelspec": {
   "display_name": "Python 3",
   "language": "python",
   "name": "python3"
  },
  "language_info": {
   "codemirror_mode": {
    "name": "ipython",
    "version": 2
   },
   "file_extension": ".py",
   "mimetype": "text/x-python",
   "name": "python",
   "nbconvert_exporter": "python",
   "pygments_lexer": "ipython2",
   "version": "2.7.6"
  }
 },
 "nbformat": 4,
 "nbformat_minor": 5
}
