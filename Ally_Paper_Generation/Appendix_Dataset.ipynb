{
 "cells": [
  {
   "cell_type": "markdown",
   "source": [
    "### Author: Ally Sprik\n",
    "### Last-updated: 25-02-2024\n",
    "\n",
    "Goal of this notebook is to generate results for my paper, in specific retrieving information about the cohorts and the distribution of the variables in the cohorts. This will be used to generate the tables in the paper."
   ],
   "metadata": {
    "collapsed": false
   },
   "id": "4e7fa1c2e193864e"
  },
  {
   "cell_type": "code",
   "execution_count": null,
   "id": "initial_id",
   "metadata": {
    "collapsed": true
   },
   "outputs": [],
   "source": [
    "import numpy as np\n",
    "import pandas as pd\n",
    "\n",
    "pd.options.mode.copy_on_write = True  # This will allow the code to run faster and keep Pandas happy. Technical detail: https://pandas.pydata.org/pandas-docs/stable/user_guide/copy_on_write.html#\n",
    "\n",
    "df_763 = pd.read_csv('../../../0. Source_files/0.2. Cleaned_data/Training+TCGA+JAMA_cleaned.csv')\n",
    "df_763 = df_763[df_763['Included_in_training_cohort'] == 'yes']\n",
    "df_952 = pd.read_csv('../../../0. Source_files/0.2. Cleaned_data/Training+TCGA+JAMA_cleaned.csv')\n",
    "df_brno = pd.read_csv('../../../0. Source_files/0.2. Cleaned_data/Cleaned_Brno_model_complete.csv')\n",
    "df_tubingen = pd.read_csv('../../../0. Source_files/0.2. Cleaned_data/Tubingen_Validation_wMSI.csv')"
   ]
  },
  {
   "cell_type": "markdown",
   "source": [
    "Printing out the column statistics for each cohort"
   ],
   "metadata": {
    "collapsed": false
   },
   "id": "f64006299a61222a"
  },
  {
   "cell_type": "code",
   "execution_count": null,
   "outputs": [],
   "source": [
    "# N for each cohort\n",
    "print('763:', df_763.shape[0])\n",
    "print('952:', df_952.shape[0])\n",
    "print('Brno:', df_brno.shape[0])\n",
    "print('Tubingen:', df_tubingen.shape[0])\n"
   ],
   "metadata": {
    "collapsed": false
   },
   "id": "55c71098ae44c711"
  },
  {
   "cell_type": "code",
   "execution_count": null,
   "outputs": [],
   "source": [
    "# Average Age with std for each cohort, rounded to 2 decimal places\n",
    "print('763:', round(df_763['Age'].mean(),2), round(df_763['Age'].std(),2))\n",
    "print('952:', round(df_952['Age'].mean(),2), round(df_952['Age'].std(),2))\n",
    "print('Brno:', round(df_brno['Age'].mean(),2), round(df_brno['Age'].std(),2))\n",
    "print('Tubingen:', round(df_tubingen['age_at_dx'].mean(),2), round(df_tubingen['age_at_dx'].std(),2))"
   ],
   "metadata": {
    "collapsed": false
   },
   "id": "1ca0cbee7933ec36"
  },
  {
   "cell_type": "code",
   "execution_count": null,
   "outputs": [],
   "source": [
    "# PreoperativeGrade counts with both number and percentage for each cohort, rounded to 2 decimal places\n",
    "print('763:', df_763['PreoperativeGrade'].value_counts(dropna=False), df_763['PreoperativeGrade'].value_counts(normalize=True).mul(100).round(2))\n",
    "print('952:', df_952['PreoperativeGrade'].value_counts(dropna=False), df_952['PreoperativeGrade'].value_counts(normalize=True).mul(100).round(2))\n",
    "print('Brno:', df_brno['PreoperativeGrade'].value_counts(dropna=False), df_brno['PreoperativeGrade'].value_counts(normalize=True).mul(100).round(2))\n",
    "print('Tubingen:', df_tubingen['PreoperativeGrade'].value_counts(dropna=False), df_tubingen['PreoperativeGrade'].value_counts(normalize=True).mul(100).round(2))\n"
   ],
   "metadata": {
    "collapsed": false
   },
   "id": "ddcb7146cea2d559"
  },
  {
   "cell_type": "code",
   "execution_count": null,
   "outputs": [],
   "source": [
    "# ER status counts with both number and percentage for each cohort, rounded to 2 decimal places\n",
    "print('763:', df_763['ER'].value_counts(dropna=False), df_763['ER'].value_counts(normalize=True).mul(100).round(2))\n",
    "print('952:', df_952['ER'].value_counts(dropna=False), df_952['ER'].value_counts(normalize=True).mul(100).round(2))\n",
    "print('Brno:', df_brno['ER'].value_counts(dropna=False), df_brno['ER'].value_counts(normalize=True).mul(100).round(2))\n",
    "print('Tubingen:', df_tubingen['ER'].value_counts(dropna=False), df_tubingen['ER'].value_counts(normalize=True).mul(100).round(2))"
   ],
   "metadata": {
    "collapsed": false
   },
   "id": "7c661c932066ac9e"
  },
  {
   "cell_type": "code",
   "execution_count": null,
   "outputs": [],
   "source": [
    "# PR status counts with both number and percentage for each cohort, rounded to 2 decimal places\n",
    "print('763:', df_763['PR'].value_counts(dropna=False), df_763['PR'].value_counts(normalize=True).mul(100).round(2))\n",
    "print('952:', df_952['PR'].value_counts(dropna=False), df_952['PR'].value_counts(normalize=True).mul(100).round(2))\n",
    "print('Brno:', df_brno['PR'].value_counts(dropna=False), df_brno['PR'].value_counts(normalize=True).mul(100).round(2))\n",
    "print('Tubingen:', df_tubingen['PR'].value_counts(dropna=False), df_tubingen['PR'].value_counts(normalize=True).mul(100).round(2))"
   ],
   "metadata": {
    "collapsed": false
   },
   "id": "508ab1ac74753b1d"
  },
  {
   "cell_type": "code",
   "execution_count": null,
   "outputs": [],
   "source": [
    "# L1CAM status counts with both number and percentage for each cohort, rounded to 2 decimal places\n",
    "print('763:', df_763['L1CAM'].value_counts(dropna=False), df_763['L1CAM'].value_counts(normalize=True).mul(100).round(2))\n",
    "print('952:', df_952['L1CAM'].value_counts(dropna=False), df_952['L1CAM'].value_counts(normalize=True).mul(100).round(2))\n",
    "print('Brno:', df_brno['L1CAM'].value_counts(dropna=False), df_brno['L1CAM'].value_counts(normalize=True).mul(100).round(2))\n",
    "print('Tubingen:', df_tubingen['L1CAM'].value_counts(dropna=False), df_tubingen['L1CAM'].value_counts(normalize=True).mul(100).round(2))"
   ],
   "metadata": {
    "collapsed": false
   },
   "id": "96a6da39266b7a7b"
  },
  {
   "cell_type": "code",
   "execution_count": null,
   "outputs": [],
   "source": [
    "# p53 status counts with both number and percentage for each cohort, rounded to 2 decimal places\n",
    "print('763:', df_763['p53'].value_counts(dropna=False), df_763['p53'].value_counts(normalize=True).mul(100).round(2))\n",
    "print('952:', df_952['p53'].value_counts(dropna=False), df_952['p53'].value_counts(normalize=True).mul(100).round(2))\n",
    "print('Brno:', df_brno['p53'].value_counts(dropna=False), df_brno['p53'].value_counts(normalize=True).mul(100).round(2))\n",
    "print('Tubingen:', df_tubingen['p53'].value_counts(dropna=False), df_tubingen['p53'].value_counts(normalize=True).mul(100).round(2))"
   ],
   "metadata": {
    "collapsed": false
   },
   "id": "a92319b8fad72bb1"
  },
  {
   "cell_type": "code",
   "execution_count": null,
   "outputs": [],
   "source": [
    "# CA125 status counts with both number and percentage for each cohort, rounded to 2 decimal places\n",
    "print('763:', df_763['CA125'].value_counts(dropna=False), df_763['CA125'].value_counts(normalize=True).mul(100).round(2))\n",
    "print('952:', df_952['CA125'].value_counts(dropna=False), df_952['CA125'].value_counts(normalize=True).mul(100).round(2))\n",
    "print('Brno:', df_brno['CA125'].value_counts(dropna=False), df_brno['CA125'].value_counts(normalize=True).mul(100).round(2))\n",
    "print('Tubingen:', df_tubingen['CA125'].value_counts(dropna=False), df_tubingen['CA125'].value_counts(normalize=True).mul(100).round(2))\n"
   ],
   "metadata": {
    "collapsed": false
   },
   "id": "772b9011e3ba4dba"
  },
  {
   "cell_type": "code",
   "execution_count": null,
   "outputs": [],
   "source": [
    "# Platelets counts with both number and percentage for each cohort, rounded to 2 decimal places\n",
    "print('763:', df_763['Platelets'].value_counts(dropna=False), df_763['Platelets'].value_counts(normalize=True).mul(100).round(2))\n",
    "print('952:', df_952['Platelets'].value_counts(dropna=False), df_952['Platelets'].value_counts(normalize=True).mul(100).round(2))\n",
    "print('Brno:', df_brno['Platelets'].value_counts(dropna=False), df_brno['Platelets'].value_counts(normalize=True).mul(100).round(2))\n",
    "print('Tubingen:', df_tubingen['Platelets'].value_counts(dropna=False), df_tubingen['Platelets'].value_counts(normalize=True).mul(100).round(2))"
   ],
   "metadata": {
    "collapsed": false
   },
   "id": "f0a6df3b6455c36b"
  },
  {
   "cell_type": "code",
   "execution_count": null,
   "outputs": [],
   "source": [
    "# MSI status counts with both number and percentage for each cohort, rounded to 2 decimal places\n",
    "print('763:', df_763['MSI'].value_counts(dropna=False), df_763['MSI'].value_counts(normalize=True).mul(100).round(2))\n",
    "print('952:', df_952['MSI'].value_counts(dropna=False), df_952['MSI'].value_counts(normalize=True).mul(100).round(2))\n",
    "print('Brno:', df_brno['MSI'].value_counts(dropna=False), df_brno['MSI'].value_counts(normalize=True).mul(100).round(2))\n",
    "print('Tubingen:', df_tubingen['MSI'].value_counts(dropna=False), df_tubingen['MSI'].value_counts(normalize=True).mul(100).round(2))"
   ],
   "metadata": {
    "collapsed": false
   },
   "id": "cb35210395a61379"
  },
  {
   "cell_type": "code",
   "execution_count": null,
   "outputs": [],
   "source": [
    "# POLE status counts with both number and percentage for each cohort, rounded to 2 decimal places\n",
    "print('763:', df_763['POLE'].value_counts(dropna=False), df_763['POLE'].value_counts(normalize=True).mul(100).round(2))\n",
    "print('952:', df_952['POLE'].value_counts(dropna=False), df_952['POLE'].value_counts(normalize=True).mul(100).round(2))\n",
    "print('Brno:', df_brno['POLE'].value_counts(dropna=False), df_brno['POLE'].value_counts(normalize=True).mul(100).round(2))\n",
    "print('Tubingen:', df_tubingen['POLE'].value_counts(dropna=False), df_tubingen['POLE'].value_counts(normalize=True).mul(100).round(2))"
   ],
   "metadata": {
    "collapsed": false
   },
   "id": "a6723f6ebeba1030"
  },
  {
   "cell_type": "code",
   "execution_count": null,
   "outputs": [],
   "source": [
    "# MRI_MI status counts with both number and percentage for each cohort, rounded to 2 decimal places\n",
    "print('763:', df_763['MRI_MI'].value_counts(dropna=False), df_763['MRI_MI'].value_counts(normalize=True).mul(100).round(2))\n",
    "print('952:', df_952['MRI_MI'].value_counts(dropna=False), df_952['MRI_MI'].value_counts(normalize=True).mul(100).round(2))\n",
    "print('Brno:', df_brno['MRI_MI'].value_counts(dropna=False), df_brno['MRI_MI'].value_counts(normalize=True).mul(100).round(2))\n",
    "# print('Tubingen:', df_tubingen['MRI_MI'].value_counts(dropna=False), df_tubingen['MRI_MI'].value_counts(normalize=True).mul(100).round(2)) Doesn't have it\n"
   ],
   "metadata": {
    "collapsed": false
   },
   "id": "b2a46b3de615548d"
  },
  {
   "cell_type": "code",
   "execution_count": null,
   "outputs": [],
   "source": [
    "# Cytology, counts with both number and percentage for each cohort, rounded to 2 decimal places\n",
    "print('763:', df_763['Cytology'].value_counts(dropna=False), df_763['Cytology'].value_counts(normalize=True).mul(100).round(2))\n",
    "print('952:', df_952['Cytology'].value_counts(dropna=False), df_952['Cytology'].value_counts(normalize=True).mul(100).round(2))\n",
    "print('Brno:', df_brno['Cytology'].value_counts(dropna=False), df_brno['Cytology'].value_counts(normalize=True).mul(100).round(2))\n",
    "# print('Tubingen:', df_tubingen['Cytology'].value_counts(dropna=False), df_tubingen['Cytology'].value_counts(normalize=True).mul(100).round(2)) - Doesnt seem to have it\n"
   ],
   "metadata": {
    "collapsed": false
   },
   "id": "d9a5f51f72af02"
  },
  {
   "cell_type": "code",
   "execution_count": null,
   "outputs": [],
   "source": [
    "# Histology counts with both number and percentage for each cohort, rounded to 2 decimal places\n",
    "print('763:', df_763['Histology'].value_counts(dropna=False), df_763['Histology'].value_counts(normalize=True).mul(100).round(2))\n",
    "print('952:', df_952['Histology'].value_counts(dropna=False), df_952['Histology'].value_counts(normalize=True).mul(100).round(2))\n",
    "print('Brno:', df_brno['Histology'].value_counts(dropna=False), df_brno['Histology'].value_counts(normalize=True).mul(100).round(2))\n",
    "print('Tubingen:', df_tubingen['Histology'].value_counts(dropna=False), df_tubingen['Histology'].value_counts(normalize=True).mul(100).round(2))\n"
   ],
   "metadata": {
    "collapsed": false
   },
   "id": "c2b9268bee075560"
  },
  {
   "cell_type": "code",
   "execution_count": null,
   "outputs": [],
   "source": [
    "# MyometrialInvasion status counts with both number and percentage for each cohort, rounded to 2 decimal places\n",
    "print('763:', df_763['MyometrialInvasion'].value_counts(dropna=False), df_763['MyometrialInvasion'].value_counts(normalize=True).mul(100).round(2))\n",
    "print('952:', df_952['MyometrialInvasion'].value_counts(dropna=False), df_952['MyometrialInvasion'].value_counts(normalize=True).mul(100).round(2))\n",
    "print('Brno:', df_brno['MyometrialInvasion'].value_counts(dropna=False), df_brno['MyometrialInvasion'].value_counts(normalize=True).mul(100).round(2))\n",
    "print('Tubingen:', df_tubingen['MyometrialInvasion'].value_counts(dropna=False), df_tubingen['MyometrialInvasion'].value_counts(normalize=True).mul(100).round(2))\n"
   ],
   "metadata": {
    "collapsed": false
   },
   "id": "fb6752e82fceb65f"
  },
  {
   "cell_type": "code",
   "execution_count": null,
   "outputs": [],
   "source": [
    "# PostoperativeGrade status counts with both number and percentage for each cohort, rounded to 2 decimal places\n",
    "print('763:', df_763['PostoperativeGrade'].value_counts(dropna=False), df_763['PostoperativeGrade'].value_counts(normalize=True).mul(100).round(2))\n",
    "print('952:', df_952['PostoperativeGrade'].value_counts(dropna=False), df_952['PostoperativeGrade'].value_counts(normalize=True).mul(100).round(2))\n",
    "print('Brno:', df_brno['PostoperativeGrade'].value_counts(dropna=False), df_brno['PostoperativeGrade'].value_counts(normalize=True).mul(100).round(2))\n",
    "print('Tubingen:', df_tubingen['PostoperativeGrade'].value_counts(dropna=False), df_tubingen['PostoperativeGrade'].value_counts(normalize=True).mul(100).round(2))\n"
   ],
   "metadata": {
    "collapsed": false
   },
   "id": "3ddac23ca0623631"
  },
  {
   "cell_type": "code",
   "execution_count": null,
   "outputs": [],
   "source": [
    "# FIGO_stage status counts with both number and percentage for each cohort, rounded to 2 decimal places, sorted\n",
    "print('763:', df_763['FIGO'].value_counts(dropna=False).sort_index(), df_763['FIGO'].value_counts(normalize=True).mul(100).round(2).sort_index())\n",
    "print('952:', df_952['FIGO'].value_counts(dropna=False).sort_index(), df_952['FIGO'].value_counts(normalize=True).mul(100).round(2).sort_index())\n",
    "print('Brno:', df_brno['FIGO_surgical'].value_counts(dropna=False).sort_index(), df_brno['FIGO_surgical'].value_counts(normalize=True).mul(100).round(2).sort_index())\n",
    "print('Tubingen:', df_tubingen['FIGO Stage'].value_counts(dropna=False).sort_index(), df_tubingen['FIGO Stage'].value_counts(normalize=True).mul(100).round(2).sort_index())"
   ],
   "metadata": {
    "collapsed": false
   },
   "id": "33e8cfdf5bd6103e"
  },
  {
   "cell_type": "code",
   "execution_count": null,
   "outputs": [],
   "source": [
    "# LVSI status counts with both number and percentage for each cohort, rounded to 2 decimal places\n",
    "print('763:', df_763['LVSI'].value_counts(dropna=False), df_763['LVSI'].value_counts(normalize=True).mul(100).round(2))\n",
    "print('952:', df_952['LVSI'].value_counts(dropna=False), df_952['LVSI'].value_counts(normalize=True).mul(100).round(2))\n",
    "print('Brno:', df_brno['LVSI'].value_counts(dropna=False), df_brno['LVSI'].value_counts(normalize=True).mul(100).round(2))\n",
    "print('Tubingen:', df_tubingen['LVSI'].value_counts(dropna=False), df_tubingen['LVSI'].value_counts(normalize=True).mul(100).round(2))\n"
   ],
   "metadata": {
    "collapsed": false
   },
   "id": "fbda19643bf8d620"
  },
  {
   "cell_type": "code",
   "execution_count": null,
   "outputs": [],
   "source": [
    "# LNM status counts with both number and percentage for each cohort, rounded to 2 decimal places\n",
    "print('763:', df_763['LNM'].value_counts(dropna=False), df_763['LNM'].value_counts(normalize=True).mul(100).round(2))\n",
    "print('952:', df_952['LNM'].value_counts(dropna=False), df_952['LNM'].value_counts(normalize=True).mul(100).round(2))\n",
    "print('Brno:', df_brno['LNM'].value_counts(dropna=False), df_brno['LNM'].value_counts(normalize=True).mul(100).round(2))\n",
    "print('Tubingen:', df_tubingen['LNM'].value_counts(dropna=False), df_tubingen['LNM'].value_counts(normalize=True).mul(100).round(2))\n"
   ],
   "metadata": {
    "collapsed": false
   },
   "id": "484eafb80d84333e"
  },
  {
   "cell_type": "code",
   "execution_count": null,
   "outputs": [],
   "source": [
    "# Survival5yr status counts with both number and percentage for each cohort, rounded to 2 decimal places\n",
    "print('763:', df_763['Survival5yr'].value_counts(dropna=False), df_763['Survival5yr'].value_counts(normalize=True).mul(100).round(2))\n",
    "print('952:', df_952['Survival5yr'].value_counts(dropna=False), df_952['Survival5yr'].value_counts(normalize=True).mul(100).round(2))\n",
    "print('Brno:', df_brno['Survival5yr'].value_counts(dropna=False), df_brno['Survival5yr'].value_counts(normalize=True).mul(100).round(2))\n",
    "print('Tubingen:', df_tubingen['Survival5yr'].value_counts(dropna=False), df_tubingen['Survival5yr'].value_counts(normalize=True).mul(100).round(2))\n"
   ],
   "metadata": {
    "collapsed": false
   },
   "id": "f612c5dcf00f9b44"
  },
  {
   "cell_type": "code",
   "execution_count": null,
   "outputs": [],
   "source": [
    "# Therapy status counts with both number and percentage for each cohort, rounded to 2 decimal places sorted\n",
    "print('763:', df_763['Therapy'].value_counts(dropna=False).sort_index(), df_763['Therapy'].value_counts(normalize=True).mul(100).round(2).sort_index())\n",
    "print('952:', df_952['Therapy'].value_counts(dropna=False).sort_index(), df_952['Therapy'].value_counts(normalize=True).mul(100).round(2).sort_index())\n",
    "print('Brno:', df_brno['Therapy'].value_counts(dropna=False).sort_index(), df_brno['Therapy'].value_counts(normalize=True).mul(100).round(2).sort_index())\n",
    "print('Tubingen:', df_tubingen['Therapy'].value_counts(dropna=False).sort_index(), df_tubingen['Therapy'].value_counts(normalize=True).mul(100).round(2).sort_index())\n"
   ],
   "metadata": {
    "collapsed": false
   },
   "id": "cf42cc62fb955c42"
  }
 ],
 "metadata": {
  "kernelspec": {
   "display_name": "Python 3",
   "language": "python",
   "name": "python3"
  },
  "language_info": {
   "codemirror_mode": {
    "name": "ipython",
    "version": 2
   },
   "file_extension": ".py",
   "mimetype": "text/x-python",
   "name": "python",
   "nbconvert_exporter": "python",
   "pygments_lexer": "ipython2",
   "version": "2.7.6"
  }
 },
 "nbformat": 4,
 "nbformat_minor": 5
}
