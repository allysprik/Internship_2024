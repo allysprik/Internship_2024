{
 "cells": [
  {
   "cell_type": "markdown",
   "source": [
    "### Author: Ally Sprik\n",
    "### Last-updated: 25-02-2024\n",
    "\n",
    "Goal of this notebook is to generate results for my paper, in specific a comparison between the original model and the model with basic changes. The results will be presented in a ROC curve and the AUC will be calculated. The data used for this comparison is the Brno and Tubingen data. The data is cleaned and the models are fitted. The fitted models are used to generate the probabilities for the LNM and Survival. The probabilities are used to generate the ROC curves and calculate the AUC"
   ],
   "metadata": {
    "collapsed": false
   },
   "id": "d9d785d76450b8d"
  },
  {
   "cell_type": "code",
   "execution_count": null,
   "id": "initial_id",
   "metadata": {
    "collapsed": true
   },
   "outputs": [],
   "source": [
    "import pandas as pd\n",
    "import numpy as np\n",
    "import pyAgrum as gum\n",
    "import pyAgrum.lib.notebook as gnb\n",
    "from collections import Counter\n",
    "\n",
    "origineel_net = gum.loadBN(\"../0.3. Original_Casper_files/Results/Casper_fitted_763.net\")\n",
    "WOPlat = gum.loadBN(\"../3. Model/Fitted_Networks/R_WP_original_763.net\")\n",
    "\n",
    "df_brno = pd.read_csv(\"../0.1. Cleaned_data/Cleaned_Brno_model_complete.csv\")\n",
    "df_tubingen = pd.read_csv(\"../0.1. Cleaned_data/Tubingen_Validation_wMSI.csv\")"
   ]
  },
  {
   "cell_type": "code",
   "execution_count": null,
   "outputs": [],
   "source": [
    "# Get the SVG code by using gnb.getBN, for more customisability\n",
    "#gnb.showBN(origineel_net)\n",
    "#gnb.getBN(origineel_net)"
   ],
   "metadata": {
    "collapsed": false
   },
   "id": "6a90229fb45aa888"
  },
  {
   "cell_type": "code",
   "execution_count": null,
   "outputs": [],
   "source": [
    "df_brno_LNM = df_brno.dropna(subset=[\"LNM\"])\n",
    "df_brno_surv = df_brno.dropna(subset=[\"Survival5yr\"])\n",
    "LNM_target_brno = df_brno_LNM[\"LNM\"].replace({\"yes\": 1, \"no\": 0})\n",
    "Surv_target_brno = df_brno_surv[\"Survival5yr\"].replace({\"yes\": 1, \"no\": 0})\n",
    "\n",
    "df_tubingen_LNM = df_tubingen.dropna(subset=[\"LNM\"])\n",
    "df_tubingen_surv = df_tubingen.dropna(subset=[\"Survival5yr\"])\n",
    "LNM_target_tubingen = df_tubingen_LNM[\"LNM\"].replace({\"yes\": 1, \"no\": 0})\n",
    "Surv_target_tubingen = df_tubingen_surv[\"Survival5yr\"].replace({\"yes\": 1, \"no\": 0})"
   ],
   "metadata": {
    "collapsed": false
   },
   "id": "dbfcb7e93701540"
  },
  {
   "cell_type": "code",
   "execution_count": null,
   "outputs": [],
   "source": [
    "def getProbabilities(model, evidence_LNM, evidence_Surv, Surv=\"Survival5yr\", samples=100):\n",
    "    ls_result_LNM = []\n",
    "    ls_result_Surv = []\n",
    "\n",
    "    #for i in range(1, samples):\n",
    "    resultsLNM = []\n",
    "    resultsSurvival = []\n",
    "    net = gum.LazyPropagation(model)\n",
    "    net.getNumberOfThreads()\n",
    "    net.setNumberOfThreads(10)\n",
    "\n",
    "    for j in range(len(evidence_LNM)):\n",
    "        evidencerow = evidence_LNM.iloc[j]\n",
    "        evidencerow = evidencerow.dropna().to_dict()\n",
    "\n",
    "        try:\n",
    "            net.setEvidence(evidencerow)\n",
    "\n",
    "            net.makeInference()\n",
    "\n",
    "            resultLNM = net.posterior(\"LNM\")\n",
    "\n",
    "            resultsLNM.append(resultLNM)\n",
    "        except Exception as error:\n",
    "            print(\"Error at row regarding LNM\", j)\n",
    "            print(error)\n",
    "\n",
    "            resultsLNM.append(resultLNM)\n",
    "\n",
    "    for j in range(len(evidence_Surv)):\n",
    "        evidencerow = evidence_Surv.iloc[j]\n",
    "        evidencerow = evidencerow.dropna().to_dict()\n",
    "\n",
    "        try:\n",
    "            net.setEvidence(evidencerow)\n",
    "\n",
    "            net.makeInference()\n",
    "\n",
    "            resultSurvival = net.posterior(\"Survival5yr\")\n",
    "\n",
    "            resultsSurvival.append(resultSurvival)\n",
    "        except Exception as error:\n",
    "            print(\"Error at row regarding Survival\", j)\n",
    "            print(error)\n",
    "\n",
    "            resultsSurvival.append(resultSurvival)\n",
    "\n",
    "    return resultsLNM, resultsSurvival\n",
    "\n",
    "\n",
    "def getProbResults(results, target):\n",
    "    res = []\n",
    "\n",
    "    for i in range(len(results)):\n",
    "        res.append(results[i][target])\n",
    "    return pd.DataFrame(res)\n",
    "\n",
    "\n"
   ],
   "metadata": {
    "collapsed": false
   },
   "id": "6c4416ea1ba1dedb"
  },
  {
   "cell_type": "code",
   "execution_count": null,
   "outputs": [],
   "source": [
    "from sklearn.metrics import roc_curve, f1_score\n",
    "# Find the accuracy, roc auc, precision and recall for the results and the targets data\n",
    "from sklearn.metrics import accuracy_score, roc_auc_score, precision_score, recall_score, confusion_matrix, log_loss, \\\n",
    "    brier_score_loss\n",
    "\n",
    "\n",
    "def getSlimMetrics(results, targets):\n",
    "    if not len(results) == len(targets):\n",
    "        raise Exception('Results and targets are not the same length. Results:', len(results), ' Targets:',\n",
    "                        len(targets))\n",
    "\n",
    "    # Get ROC AUC, Log Loss, Brier, and N Predicted/N Observed\n",
    "    curve = roc_curve(targets, results, pos_label=1)\n",
    "    ROC = round(roc_auc_score(targets, results), 4)\n",
    "    LL = round(log_loss(targets, results), 4)\n",
    "    Brier = round(brier_score_loss(targets, results), 4)\n",
    "    N_pred = results.sum()[0]\n",
    "    N_obs = int(targets.sum())\n",
    "    N_br = f\"{int(N_pred)}/{int(N_obs)}\"\n",
    "    Ratio = round(N_pred / N_obs, 4)\n",
    "\n",
    "    x = pd.DataFrame([ROC, LL, Brier, N_br, Ratio],\n",
    "                     index=[\"ROC AUC\", \"Log Loss\", \"Brier\", \"N Predicted/N Observed\", \"Ratio\"])\n",
    "    return x"
   ],
   "metadata": {
    "collapsed": false
   },
   "id": "a12f6cb9579a5aeb"
  },
  {
   "cell_type": "code",
   "execution_count": null,
   "outputs": [],
   "source": [
    "# Select evidences and get the probabilities\n",
    "evidence_columns = [\"ER\", \"PR\", \"p53\", \"L1CAM\", \"CA125\", \"Platelets\", \"Cytology\", \"MRI_MI\", \"MSI\", \"POLE\", \"PreoperativeGrade\"]\n",
    "\n",
    "or_net_nodes = origineel_net.names()\n",
    "wo_net_nodes = WOPlat.names()\n",
    "# select evidences present in both nodes and evidence columns\n",
    "evi_or_net_brno = [x for x in evidence_columns if x in or_net_nodes and x in df_brno.columns]\n",
    "evi_or_net_tubingen = [x for x in evidence_columns if x in or_net_nodes and x in df_tubingen.columns]\n",
    "\n",
    "evi_wo_net_brno = [x for x in evidence_columns if x in wo_net_nodes and x in df_brno.columns]\n",
    "evi_wo_net_tubingen = [x for x in evidence_columns if x in wo_net_nodes and x in df_tubingen.columns]\n"
   ],
   "metadata": {
    "collapsed": false
   },
   "id": "25ff791ca036e98"
  },
  {
   "cell_type": "code",
   "execution_count": null,
   "outputs": [],
   "source": [
    "\n",
    "or_net_Brno_LNM, or_net_Brno_Surv = getProbabilities(origineel_net, df_brno_LNM[evi_or_net_brno], df_brno_surv[evi_or_net_brno])\n",
    "or_net_Tubingen_LNM, or_net_Tubingen_Surv = getProbabilities(origineel_net, df_tubingen_LNM[evi_or_net_tubingen], df_tubingen_surv[evi_or_net_tubingen])\n",
    "\n",
    "wo_net_Brno_LNM, wo_net_Brno_Surv = getProbabilities(WOPlat, df_brno_LNM[evi_wo_net_brno], df_brno_surv[evi_wo_net_brno])\n",
    "wo_net_Tubingen_LNM, wo_net_Tubingen_Surv = getProbabilities(WOPlat, df_tubingen_LNM[evi_wo_net_tubingen], df_tubingen_surv[evi_wo_net_tubingen])\n",
    "\n",
    "# Probabilities extract\n",
    "or_net_Brno_LNM_res = getProbResults(or_net_Brno_LNM, 1)\n",
    "or_net_Brno_Surv_res = getProbResults(or_net_Brno_Surv, 1)\n",
    "\n",
    "or_net_Tubingen_LNM_res = getProbResults(or_net_Tubingen_LNM, 1)\n",
    "or_net_Tubingen_Surv_res = getProbResults(or_net_Tubingen_Surv, 1)\n",
    "\n",
    "wo_net_Brno_LNM_res = getProbResults(wo_net_Brno_LNM, 1)\n",
    "wo_net_Brno_Surv_res = getProbResults(wo_net_Brno_Surv, 1)\n",
    "\n",
    "wo_net_Tubingen_LNM_res = getProbResults(wo_net_Tubingen_LNM, 1)\n",
    "wo_net_Tubingen_Surv_res = getProbResults(wo_net_Tubingen_Surv, 1)\n"
   ],
   "metadata": {
    "collapsed": false
   },
   "id": "cfa18d5f11e35854"
  },
  {
   "cell_type": "code",
   "execution_count": null,
   "outputs": [],
   "source": [
    "# Create ROC curves for the LNM and Survival predictions\n",
    "from matplotlib_inline.backend_inline import set_matplotlib_formats\n",
    "import matplotlib.pyplot as plt\n",
    "import seaborn as sns\n",
    "\n",
    "# Set the style\n",
    "sns.set_style(\"whitegrid\")\n",
    "# Set the output as png\n",
    "set_matplotlib_formats('png', 'pdf')\n",
    "plt.rcParams['figure.dpi'] = 150\n",
    "\n",
    "# Create the ROC curves\n",
    "fpr_or_net_Brno_LNM, tpr_or_net_Brno_LNM, _ = roc_curve(LNM_target_brno, or_net_Brno_LNM_res)\n",
    "fpr_or_net_Brno_Surv, tpr_or_net_Brno_Surv, _ = roc_curve(Surv_target_brno, or_net_Brno_Surv_res)\n",
    "\n",
    "fpr_or_net_Tubingen_LNM, tpr_or_net_Tubingen_LNM, _ = roc_curve(LNM_target_tubingen, or_net_Tubingen_LNM_res)\n",
    "fpr_or_net_Tubingen_Surv, tpr_or_net_Tubingen_Surv, _ = roc_curve(Surv_target_tubingen, or_net_Tubingen_Surv_res)\n",
    "\n",
    "fpr_wo_net_Brno_LNM, tpr_wo_net_Brno_LNM, _ = roc_curve(LNM_target_brno, wo_net_Brno_LNM_res)\n",
    "fpr_wo_net_Brno_Surv, tpr_wo_net_Brno_Surv, _ = roc_curve(Surv_target_brno, wo_net_Brno_Surv_res)\n",
    "\n",
    "fpr_wo_net_Tubingen_LNM, tpr_wo_net_Tubingen_LNM, _ = roc_curve(LNM_target_tubingen, wo_net_Tubingen_LNM_res)\n",
    "fpr_wo_net_Tubingen_Surv, tpr_wo_net_Tubingen_Surv, _ = roc_curve(Surv_target_tubingen, wo_net_Tubingen_Surv_res)\n",
    "\n",
    "# Create the plot\n",
    "\n",
    "plot, ax = plt.subplots(1, 1, figsize=(5, 5))\n",
    "\n",
    "# Plot the LNM ROC curves, AUC scores in legend, and diagonal line\n",
    "ax.plot(fpr_or_net_Brno_LNM, tpr_or_net_Brno_LNM, label=f\"Original model (AUC = {round(roc_auc_score(LNM_target_brno, or_net_Brno_LNM_res), 2)})\")\n",
    "ax.plot(fpr_wo_net_Brno_LNM, tpr_wo_net_Brno_LNM, label=f\"New model with changes (AUC = {round(roc_auc_score(LNM_target_brno, wo_net_Brno_LNM_res), 2)})\")\n",
    "\n",
    "ax.plot([0, 1], [0, 1], 'k--')\n",
    "ax.set_xlabel('False Positive Rate')\n",
    "ax.set_ylabel('True Positive Rate')\n",
    "ax.set_title('LNM Brno')\n",
    "ax.legend(loc=\"lower right\")\n",
    "\n",
    "plot, ax = plt.subplots(1, 1, figsize=(5, 5))\n",
    "ax.plot(fpr_or_net_Tubingen_LNM, tpr_or_net_Tubingen_LNM, label=f\"Original model (AUC = {round(roc_auc_score(LNM_target_tubingen, or_net_Tubingen_LNM_res), 2)})\")\n",
    "ax.plot(fpr_wo_net_Tubingen_LNM, tpr_wo_net_Tubingen_LNM, label=f\"New model with changes (AUC = {round(roc_auc_score(LNM_target_tubingen, wo_net_Tubingen_LNM_res), 2)})\")\n",
    "\n",
    "ax.plot([0, 1], [0, 1], 'k--')\n",
    "ax.set_xlabel('False Positive Rate')\n",
    "ax.set_ylabel('True Positive Rate')\n",
    "ax.set_title('LNM Tubingen')\n",
    "ax.legend(loc=\"lower right\")\n",
    "\n",
    "# Plot the Survival ROC curves, AUC scores in legend, and diagonal line\n",
    "plot, ax = plt.subplots(1, 1, figsize=(5, 5))\n",
    "ax.plot(fpr_or_net_Brno_Surv, tpr_or_net_Brno_Surv, label=f\"Original model (AUC = {round(roc_auc_score(Surv_target_brno, or_net_Brno_Surv_res), 2)})\")\n",
    "ax.plot(fpr_wo_net_Brno_Surv, tpr_wo_net_Brno_Surv, label=f\"New model with changes (AUC = {round(roc_auc_score(Surv_target_brno, wo_net_Brno_Surv_res), 2)})\")\n",
    "\n",
    "ax.plot([0, 1], [0, 1], 'k--')\n",
    "ax.set_xlabel('False Positive Rate')\n",
    "ax.set_ylabel('True Positive Rate')\n",
    "ax.set_title('Survival Brno')\n",
    "ax.legend(loc=\"lower right\")\n",
    "\n",
    "plot, ax = plt.subplots(1, 1, figsize=(5, 5))\n",
    "\n",
    "ax.plot(fpr_or_net_Tubingen_Surv, tpr_or_net_Tubingen_Surv, label=f\"Original model (AUC = {round(roc_auc_score(Surv_target_tubingen, or_net_Tubingen_Surv_res), 2)})\")\n",
    "ax.plot(fpr_wo_net_Tubingen_Surv, tpr_wo_net_Tubingen_Surv, label=f\"Model with changes (AUC = {round(roc_auc_score(Surv_target_tubingen, wo_net_Tubingen_Surv_res), 2)})\")\n",
    "\n",
    "ax.plot([0, 1], [0, 1], 'k--')\n",
    "ax.set_xlabel('False Positive Rate')\n",
    "ax.set_ylabel('True Positive Rate')\n",
    "ax.set_title('Survival Tubingen')\n",
    "ax.legend(loc=\"lower right\")\n",
    "\n",
    "\n"
   ],
   "metadata": {
    "collapsed": false
   },
   "id": "adaa6fe84138e5b"
  },
  {
   "cell_type": "markdown",
   "source": [
    "# When using the whole evidence set"
   ],
   "metadata": {
    "collapsed": false
   },
   "id": "c93ae68c9efffd9d"
  },
  {
   "cell_type": "code",
   "execution_count": null,
   "outputs": [],
   "source": [
    "# Complete evidence set\n",
    "evidence_columns = [\"ER\", \"PR\", \"p53\", \"L1CAM\", \"CA125\", \"Platelets\", \"Cytology\", \"MRI_MI\", \"MSI\", \"POLE\", \"PostoperativeGrade\", \"MyometrialInvasion\", \"LVSI\", \"Therapy\", \"Chemotherapy\", \"Radiotherapy\"]\n",
    "# network specific evidence\n",
    "or_net_nodes = origineel_net.names()\n",
    "wo_net_nodes = WOPlat.names()\n",
    "\n",
    "# select evidences present in both nodes and evidence columns\n",
    "evi_or_net_brno = [x for x in evidence_columns if x in or_net_nodes and x in df_brno.columns]\n",
    "evi_or_net_tubingen = [x for x in evidence_columns if x in or_net_nodes and x in df_tubingen.columns]\n",
    "\n",
    "evi_wo_net_brno = [x for x in evidence_columns if x in wo_net_nodes and x in df_brno.columns]\n",
    "evi_wo_net_tubingen = [x for x in evidence_columns if x in wo_net_nodes and x in df_tubingen.columns]\n"
   ],
   "metadata": {
    "collapsed": false
   },
   "id": "971b4615711f266a"
  },
  {
   "cell_type": "code",
   "execution_count": null,
   "outputs": [],
   "source": [
    "# Get probabilities\n",
    "or_net_Brno_LNM, or_net_Brno_Surv = getProbabilities(origineel_net, df_brno_LNM[evi_or_net_brno], df_brno_surv[evi_or_net_brno])\n",
    "or_net_Tubingen_LNM, or_net_Tubingen_Surv = getProbabilities(origineel_net, df_tubingen_LNM[evi_or_net_tubingen], df_tubingen_surv[evi_or_net_tubingen])\n",
    "\n",
    "wo_net_Brno_LNM, wo_net_Brno_Surv = getProbabilities(WOPlat, df_brno_LNM[evi_wo_net_brno], df_brno_surv[evi_wo_net_brno])\n",
    "wo_net_Tubingen_LNM, wo_net_Tubingen_Surv = getProbabilities(WOPlat, df_tubingen_LNM[evi_wo_net_tubingen], df_tubingen_surv[evi_wo_net_tubingen])\n",
    "\n",
    "# Probabilities extract\n",
    "or_net_Brno_LNM_res = getProbResults(or_net_Brno_LNM, 1)\n",
    "or_net_Brno_Surv_res = getProbResults(or_net_Brno_Surv, 1)\n",
    "\n",
    "or_net_Tubingen_LNM_res = getProbResults(or_net_Tubingen_LNM, 1)\n",
    "or_net_Tubingen_Surv_res = getProbResults(or_net_Tubingen_Surv, 1)\n",
    "\n",
    "wo_net_Brno_LNM_res = getProbResults(wo_net_Brno_LNM, 1) \n",
    "wo_net_Brno_Surv_res = getProbResults(wo_net_Brno_Surv, 1)\\\n",
    "\n",
    "wo_net_Tubingen_LNM_res = getProbResults(wo_net_Tubingen_LNM, 1)\n",
    "wo_net_Tubingen_Surv_res = getProbResults(wo_net_Tubingen_Surv, 1)\n"
   ],
   "metadata": {
    "collapsed": false
   },
   "id": "57a80a11534e500d"
  },
  {
   "cell_type": "code",
   "execution_count": null,
   "outputs": [],
   "source": [
    "# Create ROC curves for the Survival predictions\n",
    "from matplotlib_inline.backend_inline import set_matplotlib_formats\n",
    "import matplotlib.pyplot as plt\n",
    "import seaborn as sns\n",
    "\n",
    "# get ROC\n",
    "fpr_or_net_Brno_Surv, tpr_or_net_Brno_Surv, _ = roc_curve(Surv_target_brno, or_net_Brno_Surv_res)\n",
    "\n",
    "fpr_or_net_Tubingen_Surv, tpr_or_net_Tubingen_Surv, _ = roc_curve(Surv_target_tubingen, or_net_Tubingen_Surv_res)\n",
    "\n",
    "fpr_wo_net_Brno_Surv, tpr_wo_net_Brno_Surv, _ = roc_curve(Surv_target_brno, wo_net_Brno_Surv_res)\n",
    "\n",
    "fpr_wo_net_Tubingen_Surv, tpr_wo_net_Tubingen_Surv, _ = roc_curve(Surv_target_tubingen, wo_net_Tubingen_Surv_res)\n",
    "\n",
    "# Create the plot\n",
    "fig, ax = plt.subplots(1,2, figsize=(10, 4))\n",
    "\n",
    "# Plot the Survival ROC curves, AUC scores in legend, and diagonal line\n",
    "ax[0].plot(fpr_or_net_Brno_Surv, tpr_or_net_Brno_Surv, label=f\"Original Casper (AUC = {round(roc_auc_score(Surv_target_brno, or_net_Brno_Surv_res), 2)})\")\n",
    "ax[0].plot(fpr_wo_net_Brno_Surv, tpr_wo_net_Brno_Surv, label=f\"WOPlat (AUC = {round(roc_auc_score(Surv_target_brno, wo_net_Brno_Surv_res), 2)})\")\n",
    "\n",
    "ax[0].plot([0,1], [0,1], 'k--')\n",
    "ax[0].set_xlabel('False Positive Rate')\n",
    "ax[0].set_ylabel('True Positive Rate')\n",
    "ax[0].set_title('Survival Brno')\n",
    "ax[0].legend(loc=\"lower right\")\n",
    "\n",
    "ax[1].plot(fpr_or_net_Tubingen_Surv, tpr_or_net_Tubingen_Surv, label=f\"Original Casper (AUC = {round(roc_auc_score(Surv_target_tubingen, or_net_Tubingen_Surv_res), 2)})\")\n",
    "ax[1].plot(fpr_wo_net_Tubingen_Surv, tpr_wo_net_Tubingen_Surv, label=f\"WOPlat (AUC = {round(roc_auc_score(Surv_target_tubingen, wo_net_Tubingen_Surv_res), 2)})\")\n",
    "\n",
    "ax[1].plot([0,1], [0,1], 'k--')\n",
    "ax[1].set_xlabel('False Positive Rate')\n",
    "ax[1].set_ylabel('True Positive Rate')\n",
    "ax[1].set_title('Survival Tubingen')\n",
    "ax[1].legend(loc=\"lower right\")\n"
   ],
   "metadata": {
    "collapsed": false
   },
   "id": "51e3eb93db1eee8a"
  }
 ],
 "metadata": {
  "kernelspec": {
   "display_name": "Python 3",
   "language": "python",
   "name": "python3"
  },
  "language_info": {
   "codemirror_mode": {
    "name": "ipython",
    "version": 2
   },
   "file_extension": ".py",
   "mimetype": "text/x-python",
   "name": "python",
   "nbconvert_exporter": "python",
   "pygments_lexer": "ipython2",
   "version": "2.7.6"
  }
 },
 "nbformat": 4,
 "nbformat_minor": 5
}
