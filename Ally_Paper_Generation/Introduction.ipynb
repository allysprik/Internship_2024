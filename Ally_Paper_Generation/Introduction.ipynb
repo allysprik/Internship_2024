{
 "cells": [
  {
   "cell_type": "markdown",
   "source": [
    "### Author: Ally Sprik\n",
    "### Last-updated: 25-02-2024\n",
    "\n",
    "This notebook is used to generate SVG code for the different networks\n",
    "as well as an example network for the demonstration of the network"
   ],
   "metadata": {
    "collapsed": false
   },
   "id": "c98897a34ab0c9ca"
  },
  {
   "cell_type": "code",
   "execution_count": null,
   "id": "initial_id",
   "metadata": {
    "collapsed": true
   },
   "outputs": [],
   "source": [
    "import pandas as pd\n",
    "import numpy as np\n",
    "import pyAgrum as gum\n",
    "import pyAgrum.lib.notebook as gnb\n",
    "from collections import Counter\n",
    "\n",
    "origineel_net = gum.loadBN(\"../0.3. Original_Casper_files/Results/Casper_fitted_952.net\")\n",
    "net = gum.loadBN(\"../3. Model/Fitted_Networks/R_WP_all_952.net\")\n"
   ]
  },
  {
   "cell_type": "code",
   "execution_count": null,
   "outputs": [],
   "source": [
    "# Get SVG code of the original network\n",
    "gnb.getBN(origineel_net)"
   ],
   "metadata": {
    "collapsed": false
   },
   "id": "26882509d3267561"
  },
  {
   "cell_type": "code",
   "execution_count": null,
   "outputs": [],
   "source": [
    "# Get SVG code of the new network\n",
    "gnb.getBN(net)"
   ],
   "metadata": {
    "collapsed": false
   },
   "id": "f8d457027501b4f7"
  },
  {
   "cell_type": "code",
   "execution_count": null,
   "outputs": [],
   "source": [
    "# Generate the basic example network where Lung cancer is dependent on smoking, age, BMI, assuming all are independent\n",
    "# and the probability of lung cancer is 0.1\n",
    "bn = gum.BayesNet()\n",
    "lung_cancer = bn.add(gum.LabelizedVariable(\"Lung_cancer\", \"yes/no\", ['yes', 'no']))\n",
    "smoking = bn.add(gum.LabelizedVariable(\"Smoking\", \"yes/no\", ['yes', 'no']))\n",
    "age = bn.add(gum.LabelizedVariable(\"Age\", \"old/young\", ['<65', '>=65']))\n",
    "bmi = bn.add(gum.LabelizedVariable(\"BMI\", \"normal/overweight\", ['<30', '>=30']))\n",
    "\n",
    "bn.addArc(smoking, lung_cancer)\n",
    "bn.addArc(age, lung_cancer)\n",
    "bn.addArc(bmi, lung_cancer)\n",
    "\n",
    "bn.cpt(smoking)[:] = [0.5, 0.5]\n",
    "bn.cpt(age)[:] = [0.5, 0.5]\n",
    "bn.cpt(bmi)[:] = [0.5, 0.5]\n",
    "\n",
    "bn.cpt(lung_cancer)[{\"Smoking\": \"yes\", \"Age\": \"<65\", \"BMI\": \"<30\"}] = [0.9, 0.1]\n",
    "bn.cpt(lung_cancer)[{\"Smoking\": \"yes\", \"Age\": \"<65\", \"BMI\": \">=30\"}] = [0.8, 0.2]\n",
    "bn.cpt(lung_cancer)[{\"Smoking\": \"yes\", \"Age\": \">=65\", \"BMI\": \"<30\"}] = [0.7, 0.3]\n",
    "bn.cpt(lung_cancer)[{\"Smoking\": \"yes\", \"Age\": \">=65\", \"BMI\": \">=30\"}] = [0.6, 0.4]\n",
    "bn.cpt(lung_cancer)[{\"Smoking\": \"no\", \"Age\": \"<65\", \"BMI\": \"<30\"}] = [0.1, 0.9]\n",
    "bn.cpt(lung_cancer)[{\"Smoking\": \"no\", \"Age\": \"<65\", \"BMI\": \">=30\"}] = [0.2, 0.8]\n",
    "bn.cpt(lung_cancer)[{\"Smoking\": \"no\", \"Age\": \">=65\", \"BMI\": \"<30\"}] = [0.3, 0.7]\n",
    "bn.cpt(lung_cancer)[{\"Smoking\": \"no\", \"Age\": \">=65\", \"BMI\": \">=30\"}] = [0.4, 0.6]\n",
    "\n",
    "# Showbn with cpts\n",
    "bn.generateCPTs()\n",
    "\n",
    "gnb.getInference(bn, evs={})"
   ],
   "metadata": {
    "collapsed": false
   },
   "id": "bd2e77fcbbf45fa5"
  },
  {
   "cell_type": "code",
   "execution_count": null,
   "outputs": [],
   "source": [
    "\n",
    "bn=gum.fastBN(\"Location -> Pollution->Lung Cancer<-Smoking<-Age->Lung Cancer <- Toxin exposure <- Age\")\n",
    "gnb.showBN(bn)"
   ],
   "metadata": {
    "collapsed": false
   },
   "id": "b8758c84023c7e4c"
  }
 ],
 "metadata": {
  "kernelspec": {
   "display_name": "Python 3",
   "language": "python",
   "name": "python3"
  },
  "language_info": {
   "codemirror_mode": {
    "name": "ipython",
    "version": 2
   },
   "file_extension": ".py",
   "mimetype": "text/x-python",
   "name": "python",
   "nbconvert_exporter": "python",
   "pygments_lexer": "ipython2",
   "version": "2.7.6"
  }
 },
 "nbformat": 4,
 "nbformat_minor": 5
}
