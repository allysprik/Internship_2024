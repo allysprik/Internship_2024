{
 "cells": [
  {
   "cell_type": "markdown",
   "source": [
    "### Author: Ally Sprik\n",
    "### Last-updated: 25-02-2024\n",
    "\n",
    "Goal of this notebook is to evaluate the different evidence sets and their ROC curves and AUC scores.\n"
   ],
   "metadata": {
    "collapsed": false
   },
   "id": "213b152f94d84be0"
  },
  {
   "cell_type": "code",
   "execution_count": null,
   "id": "initial_id",
   "metadata": {
    "collapsed": true
   },
   "outputs": [],
   "source": [
    "import pandas as pd\n",
    "import numpy as np\n",
    "import pyAgrum as gum\n",
    "import pyAgrum.lib.notebook as gnb\n",
    "from collections import Counter\n",
    "\n",
    "\n",
    "pd.options.mode.copy_on_write = True  # This will allow the code to run faster and keep Pandas happy. Technical detail: https://pandas.pydata.org/pandas-docs/stable/user_guide/copy_on_write.html#\n",
    "\n",
    "origineel_net = gum.loadBN(\"../../../0. Source_files/0.4. Original_Casper_files/Results/Casper_fitted_952.net\")\n",
    "net = gum.loadBN(\"../../1.3. Model/Fitted_Networks/R_WP_all_952.net\")\n",
    "\n",
    "\n",
    "\n",
    "df_brno = pd.read_csv(\"../../../0. Source_files/0.2. Cleaned_data/Cleaned_Brno_model_complete.csv\")"
   ]
  },
  {
   "cell_type": "markdown",
   "source": [
    "Data preparation"
   ],
   "metadata": {
    "collapsed": false
   },
   "id": "1b673b3f42869483"
  },
  {
   "cell_type": "code",
   "execution_count": null,
   "outputs": [],
   "source": [
    "df_brno_LNM = df_brno.dropna(subset=[\"LNM\"]).reset_index(drop=True)\n",
    "df_brno_surv = df_brno.dropna(subset=[\"Survival5yr\"]).reset_index(drop=True)\n",
    "LNM_target_brno = df_brno_LNM[\"LNM\"].replace({\"yes\": 1, \"no\": 0})\n",
    "Surv_target_brno = df_brno_surv[\"Survival5yr\"].replace({\"yes\": 1, \"no\": 0})\n",
    "\n"
   ],
   "metadata": {
    "collapsed": false
   },
   "id": "dbfcb7e93701540"
  },
  {
   "cell_type": "markdown",
   "source": [
    "Pseudocode:\n",
    "- Create a function that takes a model, evidence for LNM and evidence for Survival as input\n",
    "    - Create an empty list for the results\n",
    "    - For each row in the evidence for LNM\n",
    "        - Get the evidence for the row\n",
    "        - Set the evidence in the model\n",
    "        - Make the inference\n",
    "        - Get the posterior for LNM\n",
    "        - Append the result to the list\n",
    "    - For each row in the evidence for Survival\n",
    "        - Get the evidence for the row\n",
    "        - Set the evidence in the model\n",
    "        - Make the inference\n",
    "        - Get the posterior for Survival\n",
    "        - Append the result to the list\n",
    "    - Return the list\n"
   ],
   "metadata": {
    "collapsed": false
   },
   "id": "76e29d12418cddce"
  },
  {
   "cell_type": "code",
   "execution_count": null,
   "outputs": [],
   "source": [
    "def getProbabilities(model, evidence_LNM, evidence_Surv, Surv = \"Survival5yr\", samples = 100):\n",
    "    ls_result_LNM = []\n",
    "    ls_result_Surv = []\n",
    "    \n",
    "    #for i in range(1, samples):\n",
    "    resultsLNM = []\n",
    "    resultsSurvival = []\n",
    "    net = gum.LazyPropagation(model)\n",
    "    net.getNumberOfThreads()\n",
    "    net.setNumberOfThreads(10)\n",
    "    \n",
    "    for j in range(len(evidence_LNM)):\n",
    "        evidencerow = evidence_LNM.iloc[j]\n",
    "        evidencerow = evidencerow.dropna().to_dict()\n",
    "        \n",
    "        try:\n",
    "            net.setEvidence(evidencerow)\n",
    "            \n",
    "            net.makeInference()\n",
    "\n",
    "            resultLNM = net.posterior(\"LNM\")\n",
    "            \n",
    "            resultsLNM.append(resultLNM)\n",
    "        except Exception as error:\n",
    "            print(\"Error at row regarding LNM\", j)\n",
    "            print(error)\n",
    "            \n",
    "            resultsLNM.append(resultLNM)\n",
    "\n",
    "    \n",
    "    for j in range(len(evidence_Surv)):\n",
    "        evidencerow = evidence_Surv.iloc[j]\n",
    "        evidencerow = evidencerow.dropna().to_dict()\n",
    "        \n",
    "        try:\n",
    "            net.setEvidence(evidencerow)\n",
    "            \n",
    "            net.makeInference()\n",
    "\n",
    "            resultSurvival = net.posterior(\"Survival5yr\")\n",
    "            \n",
    "            resultsSurvival.append(resultSurvival)\n",
    "        except Exception as error:\n",
    "            print(\"Error at row regarding Survival\", j)\n",
    "            print(error)\n",
    "            \n",
    "            resultsSurvival.append(resultSurvival)\n",
    "\n",
    "        \n",
    "    return resultsLNM, resultsSurvival\n"
   ],
   "metadata": {
    "collapsed": false
   },
   "id": "6c4416ea1ba1dedb"
  },
  {
   "cell_type": "code",
   "execution_count": null,
   "outputs": [],
   "source": [
    "def getProbResults(results, target):\n",
    "    res = []\n",
    "    \n",
    "    for i in range(len(results)):\n",
    "        res.append(results[i][target])\n",
    "    return pd.DataFrame(res)"
   ],
   "metadata": {
    "collapsed": false
   },
   "id": "633b195a36191de"
  },
  {
   "cell_type": "markdown",
   "source": [
    "Psuedocode:\n",
    "- Create a function that takes the results and the targets as input\n",
    "    - Check if the length of the results and the targets are the same\n",
    "    - Get the ROC AUC, Log Loss, Brier, N Predicted/N Observed, and the ratio of N Predicted/N Observed\n",
    "    - Return the results in a dataframe"
   ],
   "metadata": {
    "collapsed": false
   },
   "id": "6c1a37d42d1b8f10"
  },
  {
   "cell_type": "code",
   "execution_count": null,
   "outputs": [],
   "source": [
    "from sklearn.metrics import roc_curve, f1_score\n",
    "# Find the accuracy, roc auc, precision and recall for the results and the targets data\n",
    "from sklearn.metrics import accuracy_score, roc_auc_score, precision_score, recall_score, confusion_matrix, log_loss, brier_score_loss\n",
    "\n",
    "def getSlimMetrics(results, targets):\n",
    "    \n",
    "    if not len(results) == len(targets):\n",
    "        raise Exception('Results and targets are not the same length. Results:', len(results), ' Targets:', len(targets))\n",
    "    \n",
    "    # Get ROC AUC, Log Loss, Brier, and N Predicted/N Observed\n",
    "    curve = roc_curve(targets, results, pos_label=1)\n",
    "    ROC = round(roc_auc_score(targets, results), 4)\n",
    "    LL = round(log_loss(targets, results), 4)\n",
    "    Brier = round(brier_score_loss(targets, results), 4)\n",
    "    N_pred = results.sum()[0]\n",
    "    N_obs = int(targets.sum())\n",
    "    N_br = f\"{int(N_pred)}/{int(N_obs)}\"\n",
    "    Ratio = round(N_pred/N_obs, 4)\n",
    "    \n",
    "    x = pd.DataFrame([ROC, LL, Brier, N_br, Ratio], index=[\"ROC AUC\", \"Log Loss\", \"Brier\", \"N Predicted/N Observed\", \"Ratio\"])\n",
    "    return x"
   ],
   "metadata": {
    "collapsed": false
   },
   "id": "27cd4baf3af07d9e"
  },
  {
   "cell_type": "markdown",
   "source": [
    "# Define different groups of sets that I would like to test and create mean ROC curves for"
   ],
   "metadata": {
    "collapsed": false
   },
   "id": "86417c92871611c3"
  },
  {
   "cell_type": "code",
   "execution_count": null,
   "outputs": [],
   "source": [
    "# Make different evidence groups, per group, fill in the possible combinations of evidences and create average ROC curves and AUC scores with spreads/confidence\n",
    "# Different evidence groups:\n",
    "# 1. CA125, Platelets, MRI_MI, MSI, POLE, ER, PR, p53, L1CAM, PreoperativeGrade (all)\n",
    "# 2. [CA125 or Platelets](1 of these), [ER, PR, p53, L1CAM] (3 of these),  PreoperativeGrade\n",
    "# 3. [CA125 or Platelets](1 of these), [ER, PR, p53, L1CAM] (1 of these),  PreoperativeGrade, MSI, POLE\n",
    "# 4. [CA125 or Platelets](1 of these), [MSI, POLE] (1 of these),  PreoperativeGrade, MRI_MI\n",
    "# 5. PreoperativeGrade, ER, PR, p53, L1CAM\n",
    "# 6. CA125, Platelets, MRI_MI, MSI, POLE\n",
    "\n",
    "# Generate all possible combinations of evidence in these categories\n",
    "fullSet = [\"CA125\", \"Platelets\", \"MRI_MI\", \"MSI\", \"POLE\", \"ER\", \"PR\", \"p53\", \"L1CAM\", \"PreoperativeGrade\"]\n",
    "CAbaseSet = [[\"CA125\", \"ER\", \"PR\", \"p53\", \"PreoperativeGrade\"], \n",
    "           [\"CA125\", \"PR\", \"p53\", \"L1CAM\", \"PreoperativeGrade\"], \n",
    "           [\"CA125\", \"p53\", \"L1CAM\", \"ER\", \"PreoperativeGrade\"]]\n",
    "\n",
    "PlatBaseSet = [[\"Platelets\", \"ER\", \"PR\", \"p53\", \"PreoperativeGrade\"], \n",
    "               [\"Platelets\", \"PR\", \"p53\", \"L1CAM\", \"PreoperativeGrade\"],\n",
    "               [\"Platelets\", \"p53\", \"L1CAM\", \"ER\", \"PreoperativeGrade\"]]\n",
    "\n",
    "CAbaseSet_w_MSI_POLE = [[\"CA125\", \"ER\", \"PR\", \"p53\", \"PreoperativeGrade\", \"MSI\", \"POLE\"], \n",
    "                        [\"CA125\", \"PR\", \"p53\", \"L1CAM\", \"PreoperativeGrade\", \"MSI\", \"POLE\"], \n",
    "                        [\"CA125\", \"p53\", \"L1CAM\", \"ER\", \"PreoperativeGrade\", \"MSI\", \"POLE\"]] \n",
    "                      \n",
    "PlatBaseSet_w_MSI_POLE =  [[\"Platelets\", \"ER\", \"PR\", \"p53\", \"PreoperativeGrade\", \"MSI\", \"POLE\"], \n",
    "                            [\"Platelets\", \"PR\", \"p53\", \"L1CAM\", \"PreoperativeGrade\", \"MSI\", \"POLE\"], \n",
    "                            [\"Platelets\", \"p53\", \"L1CAM\", \"ER\", \"PreoperativeGrade\", \"MSI\", \"POLE\"]]\n",
    "\n",
    "CAbaseSet_w_MRI = [[\"CA125\", \"ER\", \"PR\", \"p53\", \"PreoperativeGrade\", \"MRI_MI\"],\n",
    "                [\"CA125\", \"PR\", \"p53\", \"L1CAM\", \"PreoperativeGrade\", \"MRI_MI\"], \n",
    "                [\"CA125\", \"p53\", \"L1CAM\", \"ER\", \"PreoperativeGrade\", \"MRI_MI\"]]\n",
    "                \n",
    "CA_one_IHC_MRI  = [[\"CA125\", \"ER\", \"PR\", \"p53\", \"PreoperativeGrade\", \"MRI_MI\"], \n",
    "                [\"CA125\", \"PR\", \"p53\", \"L1CAM\", \"PreoperativeGrade\", \"MRI_MI\"], \n",
    "                [\"CA125\", \"p53\", \"L1CAM\", \"ER\", \"PreoperativeGrade\", \"MRI_MI\"]]\n",
    "                \n",
    "CA_one_IHC_POLE_MSI  = [[\"CA125\", \"ER\", \"PR\", \"p53\", \"PreoperativeGrade\", \"MSI\", \"POLE\"], \n",
    "                [\"CA125\", \"PR\", \"p53\", \"L1CAM\", \"PreoperativeGrade\", \"MSI\", \"POLE\"], \n",
    "                [\"CA125\", \"p53\", \"L1CAM\", \"ER\", \"PreoperativeGrade\", \"MSI\", \"POLE\"]]\n",
    "\n",
    "CA_MSI_POLE_MRI = [[\"CA125\", \"MSI\", \"POLE\", \"PreoperativeGrade\", \"MRI_MI\"], \n",
    "                [\"CA125\", \"MSI\", \"POLE\", \"ER\", \"PreoperativeGrade\", \"MRI_MI\"], \n",
    "                [\"CA125\", \"MSI\", \"POLE\", \"PR\", \"PreoperativeGrade\", \"MRI_MI\"]]\n",
    "\n",
    "IHC_PreopGrade = [\"ER\", \"PR\", \"p53\", \"L1CAM\", \"PreoperativeGrade\"]\n",
    "CAPlatMRIPOLE = [\"CA125\", \"Platelets\", \"MRI_MI\", \"MSI\", \"POLE\"]"
   ],
   "metadata": {
    "collapsed": false
   },
   "id": "8664e349f62fbc62"
  },
  {
   "cell_type": "markdown",
   "source": [
    "Define a function that takes a model and a set of evidence as input and returns the results\n",
    "\n",
    "Pseudocode:\n",
    "- Create a function that takes a model and a set of evidence as input\n",
    "    - Create an empty list for the results\n",
    "    - Check if the evidence set is a list of lists, if not, make it a list of lists\n",
    "    - For each evidence set in the list\n",
    "        - Get the evidence for the row\n",
    "        - Set the evidence in the model\n",
    "        - Make the inference\n",
    "        - Get the posterior for LNM\n",
    "        - Append the result to the list\n",
    "    - Return the list"
   ],
   "metadata": {
    "collapsed": false
   },
   "id": "dd02f2f37c96f5e1"
  },
  {
   "cell_type": "code",
   "execution_count": null,
   "outputs": [],
   "source": [
    "# Function to get a set of evidences and return the results\n",
    "def evaluateSets(model, evidenceSet):\n",
    "    results = []\n",
    "    # Check if the evidence set is a list of lists, if not, make it a list of lists\n",
    "    if not isinstance(evidenceSet[0], list):\n",
    "        evidenceSet = [evidenceSet]\n",
    "        \n",
    "    for i in range(len(evidenceSet)):\n",
    "        print(evidenceSet[i])\n",
    "        evidence_LNM = df_brno_LNM[evidenceSet[i]]\n",
    "        evidenceSurv = df_brno_surv[evidenceSet[i]]\n",
    "        resultsLNM, resultsSurvival = getProbabilities(model, evidence_LNM, evidenceSurv)\n",
    "        results.append([getProbResults(resultsLNM, 1), getProbResults(resultsSurvival, 1)])\n",
    "    return results\n",
    "\n",
    "def getLNMResults(results):\n",
    "    res = []\n",
    "    for i in range(len(results)):\n",
    "        res.append(results[i][0])\n",
    "    return res\n",
    "\n",
    "def getSurvResults(results):\n",
    "    res = []\n",
    "    for i in range(len(results)):\n",
    "        res.append(results[i][1])\n",
    "    return res"
   ],
   "metadata": {
    "collapsed": false
   },
   "id": "af9d1c98bdca34a7"
  },
  {
   "cell_type": "code",
   "execution_count": null,
   "outputs": [],
   "source": [
    "# Get the results for the different evidence sets\n",
    "fullSetResults = evaluateSets(net, fullSet)\n",
    "CAbaseSetResults = evaluateSets(net, CAbaseSet)\n",
    "PlatBaseSetResults = evaluateSets(net, PlatBaseSet)\n",
    "CAbaseSet_w_MSI_POLE_Results = evaluateSets(net, CAbaseSet_w_MSI_POLE)\n",
    "PlatBaseSet_w_MSI_POLE_Results = evaluateSets(net, PlatBaseSet_w_MSI_POLE)\n",
    "CAbaseSet_w_MRI_Results = evaluateSets(net, CAbaseSet_w_MRI)\n",
    "CA_one_IHC_MRI_Results = evaluateSets(net, CA_one_IHC_MRI)\n",
    "CA_one_IHC_POLE_MSI_Results = evaluateSets(net, CA_one_IHC_POLE_MSI)\n",
    "CA_MSI_POLE_MRI_Results = evaluateSets(net, CA_MSI_POLE_MRI)\n",
    "IHC_PreopGrade_Results = evaluateSets(net, IHC_PreopGrade)\n",
    "CAPlatMRIPOLE_Results = evaluateSets(net, CAPlatMRIPOLE)\n"
   ],
   "metadata": {
    "collapsed": false
   },
   "id": "293a8382d495239f"
  },
  {
   "cell_type": "code",
   "execution_count": null,
   "outputs": [],
   "source": [
    "# Get the LNM results for the different evidence sets\n",
    "fullSetLNM = getLNMResults(fullSetResults)\n",
    "CAbaseSetLNM = getLNMResults(CAbaseSetResults)\n",
    "PlatBaseSetLNM = getLNMResults(PlatBaseSetResults)\n",
    "CAbaseSet_w_MSI_POLE_LNM = getLNMResults(CAbaseSet_w_MSI_POLE_Results)\n",
    "PlatBaseSet_w_MSI_POLE_LNM = getLNMResults(PlatBaseSet_w_MSI_POLE_Results)\n",
    "CAbaseSet_w_MRI_LNM = getLNMResults(CAbaseSet_w_MRI_Results)\n",
    "CA_one_IHC_MRI_LNM = getLNMResults(CA_one_IHC_MRI_Results)\n",
    "CA_one_IHC_POLE_MSI_LNM = getLNMResults(CA_one_IHC_POLE_MSI_Results)\n",
    "CA_MSI_POLE_MRI_LNM = getLNMResults(CA_MSI_POLE_MRI_Results)\n",
    "IHC_PreopGrade_LNM = getLNMResults(IHC_PreopGrade_Results)\n",
    "CAPlatMRIPOLE_LNM = getLNMResults(CAPlatMRIPOLE_Results)\n"
   ],
   "metadata": {
    "collapsed": false
   },
   "id": "e097e17c10ae68cd"
  },
  {
   "cell_type": "markdown",
   "source": [
    "Define a function that takes the results and the targets as input and returns the average ROC curve and AUC score\n",
    "\n",
    "Pseudocode:\n",
    "- Create a function that takes the results and the targets as input\n",
    "    - Set the style and figure settings\n",
    "    - Create a figure\n",
    "    - Calculate the ROC curve and AUC for each model, plot them\n",
    "    - Calculate the mean and std deviation of tpr\n",
    "    - Plot the average ROC curve\n",
    "    - Fill the area between the mean + std and mean - std\n",
    "    - Plot the chance line\n",
    "    - Set the limits and labels\n",
    "    - Show the plot"
   ],
   "metadata": {
    "collapsed": false
   },
   "id": "6e6da5a581fbdc66"
  },
  {
   "cell_type": "code",
   "execution_count": null,
   "outputs": [],
   "source": [
    "from matplotlib_inline.backend_inline import set_matplotlib_formats\n",
    "# Function to plot the average ROC curve and spread as an area around the average curve, AUC with interval in the title\n",
    "import matplotlib.pyplot as plt\n",
    "import seaborn as sns\n",
    "from sklearn.metrics import roc_curve, auc\n",
    "from itertools import cycle\n",
    "\n",
    "def PlotMeanROC(y_scores, y_true, title = \"Average ROC Curve\"):\n",
    "    # Set the style\n",
    "    sns.set_style(\"whitegrid\")\n",
    "    # Set the output as png\n",
    "    set_matplotlib_formats('png', 'pdf')\n",
    "    plt.rcParams['figure.dpi'] = 150\n",
    "    \n",
    "    plt.figure(figsize=(5, 5))\n",
    "\n",
    "    # Calculate ROC curve and AUC for each model\n",
    "    tprs = []\n",
    "    base_fpr = np.linspace(0, 1, 101)\n",
    "    roc_aucs = []\n",
    "    for i in range(len(y_scores)):\n",
    "        fpr, tpr, _ = roc_curve(y_true, y_scores[i])\n",
    "        roc_auc = auc(fpr, tpr)\n",
    "        roc_aucs.append(roc_auc)\n",
    "        plt.plot(fpr, tpr, 'b', alpha=0.15)  # Plot each ROC curve faintly\n",
    "        tpr = np.interp(base_fpr, fpr, tpr)\n",
    "        tpr[0] = 0.0\n",
    "        tprs.append(tpr)\n",
    "    \n",
    "    # Calculate mean and std deviation of tpr\n",
    "    mean_tprs = np.mean(tprs, axis=0)\n",
    "    std = np.std(tprs, axis=0)\n",
    "    tprs_upper = np.minimum(mean_tprs + std, 1)\n",
    "    tprs_lower = np.maximum(mean_tprs - std, 0)\n",
    "    mean_auc = np.mean(roc_aucs)\n",
    "    std_auc = np.std(roc_aucs)\n",
    "    \n",
    "    # if y_scores is not a list of lists change the label to ROC\n",
    "    if len(y_scores) == 1:\n",
    "        label = \"ROC (AUC = {:.2f})\".format(mean_auc)\n",
    "    else:\n",
    "        label = 'Mean ROC (AUC = {:.2f} $\\pm$ {:.2f})'.format(mean_auc, std_auc)\n",
    "    # Plot the average ROC curve\n",
    "    plt.plot(base_fpr, mean_tprs, 'k', label=label)\n",
    "    \n",
    "    # Fill the area between the mean + std and mean - std\n",
    "    plt.fill_between(base_fpr, tprs_lower, tprs_upper, color='grey', alpha=0.3)\n",
    "    \n",
    "    plt.plot([0, 1], [0, 1], 'r--')  # Plot the chance line\n",
    "    plt.xlim([0, 1])\n",
    "    plt.ylim([0, 1])\n",
    "    plt.xlabel('False Positive Rate')\n",
    "    plt.ylabel('True Positive Rate')\n",
    "    plt.title(title)\n",
    "    plt.legend(loc='lower right')\n",
    "    plt.show()"
   ],
   "metadata": {
    "collapsed": false
   },
   "id": "10607f9ca5caf765"
  },
  {
   "cell_type": "code",
   "execution_count": null,
   "outputs": [],
   "source": [
    "# Plot the average ROC curve for the different evidence sets\n",
    "PlotMeanROC(fullSetLNM, LNM_target_brno, \"Full Set \\n Average ROC Curve\")\n",
    "PlotMeanROC(CAbaseSetLNM, LNM_target_brno, \"CA125 - 3 IHC -  PreoperativeGrade \\n Average ROC Curve\")\n",
    "PlotMeanROC(PlatBaseSetLNM, LNM_target_brno, \"Platelets - 3 IHC -  PreoperativeGrade \\n Average ROC Curve\")\n",
    "PlotMeanROC(CAbaseSet_w_MSI_POLE_LNM, LNM_target_brno, \"CA125 - 3 IHC - MMRd - POLE \\n Average ROC Curve\")\n",
    "PlotMeanROC(PlatBaseSet_w_MSI_POLE_LNM, LNM_target_brno, \"Platelets - 3 IHC - MMRd - POLE \\n Average ROC Curve\")\n",
    "PlotMeanROC(CAbaseSet_w_MRI_LNM, LNM_target_brno, \"CA125 - 3 IHC - Image_MI \\n Average ROC Curve\")\n",
    "PlotMeanROC(CA_one_IHC_MRI_LNM, LNM_target_brno, \"CA125 - 1 IHC - Image_MI \\n Average ROC Curve\")\n",
    "PlotMeanROC(CA_one_IHC_POLE_MSI_LNM, LNM_target_brno, \"CA125 - 1 IHC - MMRd - POLE \\n Average ROC Curve\")\n",
    "PlotMeanROC(CA_MSI_POLE_MRI_LNM, LNM_target_brno, \"CA125 - 1IHC - MMRd - POLE - Image_MI \\n Average ROC Curve\")\n",
    "PlotMeanROC(IHC_PreopGrade_LNM, LNM_target_brno, \"IHC - PreoperativeGrade \\n Average ROC Curve\")\n",
    "PlotMeanROC(CAPlatMRIPOLE_LNM, LNM_target_brno, \"CA125 - Platelets - Image_MI - MMRd - POLE \\n Average ROC Curve\")\n"
   ],
   "metadata": {
    "collapsed": false
   },
   "id": "105dff61fd42162f"
  },
  {
   "cell_type": "markdown",
   "source": [
    "# Nog een paar losse bedenken"
   ],
   "metadata": {
    "collapsed": false
   },
   "id": "dc8f1aa2e6ec56e8"
  },
  {
   "cell_type": "code",
   "execution_count": null,
   "outputs": [],
   "source": [
    "# Geen Preopgraad bekend, wel MRI, MSI, POLE en base set\n",
    "# Base sets zonder preopgrade\n",
    "set1 = [[\"CA125\", \"ER\", \"p53\", \"L1CAM\"], \n",
    "        [\"CA125\", \"PR\", \"p53\", \"L1CAM\"],\n",
    "        [\"CA125\", \"p53\", \"L1CAM\", \"ER\"]]\n",
    "# met MSI en POLE en met MRI\n",
    "set2 = [[\"CA125\", \"ER\", \"p53\", \"L1CAM\", \"MRI_MI\", \"MSI\", \"POLE\"], \n",
    "        [\"CA125\", \"PR\", \"p53\", \"L1CAM\", \"MRI_MI\", \"MSI\", \"POLE\"],\n",
    "        [\"CA125\", \"p53\", \"L1CAM\", \"ER\", \"MRI_MI\", \"MSI\", \"POLE\"]]\n",
    "\n",
    "# Resultaten\n",
    "set1Results = evaluateSets(net, set1)\n",
    "set2Results = evaluateSets(net, set2)\n",
    "\n",
    "# LNM resultaten\n",
    "set1LNM = getLNMResults(set1Results)\n",
    "set2LNM = getLNMResults(set2Results)\n"
   ],
   "metadata": {
    "collapsed": false
   },
   "id": "b4c8d067a6e6ef7c"
  },
  {
   "cell_type": "code",
   "execution_count": null,
   "outputs": [],
   "source": [
    "# Plot de resultaten\n",
    "PlotMeanROC(set1LNM, LNM_target_brno, \"CA125 - 3 IHC \\n Average ROC Curve\")\n",
    "PlotMeanROC(set2LNM, LNM_target_brno, \"CA125 - 3 IHC - Image-MI - MMRd - POLE \\n Average ROC Curve\")"
   ],
   "metadata": {
    "collapsed": false
   },
   "id": "99143c456fedd45d"
  },
  {
   "cell_type": "code",
   "execution_count": null,
   "outputs": [],
   "source": [
    "# base sets but replace CA125 with MRI_MI\n",
    "set3 = [[\"MRI_MI\", \"ER\", \"p53\", \"L1CAM\", \"PreoperativeGrade\"], \n",
    "        [\"MRI_MI\", \"PR\", \"p53\", \"L1CAM\", \"PreoperativeGrade\"],\n",
    "        [\"MRI_MI\", \"p53\", \"L1CAM\", \"ER\", \"PreoperativeGrade\"]]\n",
    "\n",
    "set4 = [[\"MRI_MI\", \"ER\", \"p53\", \"L1CAM\", \"MSI\", \"POLE\", \"PreoperativeGrade\"], \n",
    "        [\"MRI_MI\", \"PR\", \"p53\", \"L1CAM\", \"MSI\", \"POLE\", \"PreoperativeGrade\"],\n",
    "        [\"MRI_MI\", \"p53\", \"L1CAM\", \"ER\", \"MSI\", \"POLE\", \"PreoperativeGrade\"]]\n",
    "\n",
    "set3Results = evaluateSets(net, set3)\n",
    "set4Results = evaluateSets(net, set4)\n",
    "\n",
    "set3LNM = getLNMResults(set3Results)\n",
    "set4LNM = getLNMResults(set4Results)\n",
    "\n",
    "\n"
   ],
   "metadata": {
    "collapsed": false
   },
   "id": "db16f32011ea4732"
  },
  {
   "cell_type": "code",
   "execution_count": null,
   "outputs": [],
   "source": [
    "# Plot de resultaten\n",
    "PlotMeanROC(set3LNM, LNM_target_brno, \"Imaging MI - 3 IHC \\n Average ROC Curve\")\n",
    "PlotMeanROC(set4LNM, LNM_target_brno, \"Imaging MI - 3 IHC - MMRd - POLE \\n Average ROC Curve\")   \n"
   ],
   "metadata": {
    "collapsed": false
   },
   "id": "cf8df36cb686b4af"
  },
  {
   "cell_type": "code",
   "execution_count": null,
   "outputs": [],
   "source": [
    "# only CA125, MRI_MI, MSI, POLE\n",
    "\n",
    "set5 = [\"CA125\", \"MRI_MI\", \"MSI\", \"POLE\"]\n",
    "\n",
    "set5Results = evaluateSets(net, set5)\n",
    "\n",
    "set5LNM = getLNMResults(set5Results)\n"
   ],
   "metadata": {
    "collapsed": false
   },
   "id": "c3def638b065540b"
  },
  {
   "cell_type": "code",
   "execution_count": null,
   "outputs": [],
   "source": [
    "# Plot de resultaten\n",
    "PlotMeanROC(set5LNM, LNM_target_brno, \"CA125 - Imaging MI - MMRd - POLE \\n ROC Curve\")"
   ],
   "metadata": {
    "collapsed": false
   },
   "id": "8cbf097ad13c67bb"
  },
  {
   "cell_type": "code",
   "execution_count": null,
   "outputs": [],
   "source": [
    "# CA 125 Platelets Imaging MI MSI POLE\n",
    "set6 = [\"CA125\", \"Platelets\", \"MRI_MI\", \"MSI\", \"POLE\"]\n",
    "\n",
    "set6Results = evaluateSets(net, set6)\n",
    "\n",
    "set6LNM = getLNMResults(set6Results)\n"
   ],
   "metadata": {
    "collapsed": false
   },
   "id": "cf28eeb04622a4de"
  },
  {
   "cell_type": "code",
   "execution_count": null,
   "outputs": [],
   "source": [
    "PlotMeanROC(set6LNM, LNM_target_brno, \"CA125 - Platelets - Imaging MI - MMRd - POLE \\n ROC Curve\")"
   ],
   "metadata": {
    "collapsed": false
   },
   "id": "518e8137e5dc59ef"
  }
 ],
 "metadata": {
  "kernelspec": {
   "display_name": "Python 3",
   "language": "python",
   "name": "python3"
  },
  "language_info": {
   "codemirror_mode": {
    "name": "ipython",
    "version": 2
   },
   "file_extension": ".py",
   "mimetype": "text/x-python",
   "name": "python",
   "nbconvert_exporter": "python",
   "pygments_lexer": "ipython2",
   "version": "2.7.6"
  }
 },
 "nbformat": 4,
 "nbformat_minor": 5
}
